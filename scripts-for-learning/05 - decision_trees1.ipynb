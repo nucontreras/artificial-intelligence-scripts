{
 "cells": [
  {
   "cell_type": "code",
   "execution_count": 1,
   "metadata": {},
   "outputs": [],
   "source": [
    "# definición del set de datos y los nombres de sus atributos (ejemplo visto en clases)\n",
    "headers = ['Outlook', 'Temperature', 'Humidity', 'Wind', 'Plays']\n",
    "data=[['Sunny','Hot','High','Weak','No'],\n",
    "      ['Sunny','Hot','High','Strong','No'],\n",
    "      ['Overcast','Hot','High','Weak','Yes'],\n",
    "      ['Rain','Mild','High','Weak','Yes'],\n",
    "      ['Rain','Cool','Normal','Weak','Yes'],\n",
    "      ['Rain','Cool','Normal','Strong','No'],\n",
    "      ['Overcast','Cool','Normal','Strong','Yes'],\n",
    "      ['Sunny','Mild','High','Weak','No'],\n",
    "      ['Sunny','Cool','Normal','Weak','Yes'],\n",
    "      ['Rain','Mild','Normal','Weak','Yes'],\n",
    "      ['Sunny','Mild','Normal','Strong','Yes'],\n",
    "      ['Overcast','Mild','High','Strong','Yes'],\n",
    "      ['Overcast','Hot','Normal','Weak','Yes'],\n",
    "      ['Rain','Mild','High','Strong','No']]"
   ]
  },
  {
   "cell_type": "code",
   "execution_count": 2,
   "metadata": {},
   "outputs": [],
   "source": [
    "# nodo de un árbol, contiene el test que realiza (col), y el valor del atributo que llevó a este nodo\n",
    "class decision_node:\n",
    "    def __init__(self,col=-1, value = '', branches=None, results=None):\n",
    "        self.col=col\n",
    "        self.value = value\n",
    "        self.results=results\n",
    "        self.branches = branches"
   ]
  },
  {
   "cell_type": "code",
   "execution_count": 3,
   "metadata": {},
   "outputs": [
    {
     "data": {
      "text/plain": [
       "{'Sunny': [['Sunny', 'Hot', 'High', 'Weak', 'No'],\n",
       "  ['Sunny', 'Hot', 'High', 'Strong', 'No'],\n",
       "  ['Sunny', 'Mild', 'High', 'Weak', 'No'],\n",
       "  ['Sunny', 'Cool', 'Normal', 'Weak', 'Yes'],\n",
       "  ['Sunny', 'Mild', 'Normal', 'Strong', 'Yes']],\n",
       " 'Overcast': [['Overcast', 'Hot', 'High', 'Weak', 'Yes'],\n",
       "  ['Overcast', 'Cool', 'Normal', 'Strong', 'Yes'],\n",
       "  ['Overcast', 'Mild', 'High', 'Strong', 'Yes'],\n",
       "  ['Overcast', 'Hot', 'Normal', 'Weak', 'Yes']],\n",
       " 'Rain': [['Rain', 'Mild', 'High', 'Weak', 'Yes'],\n",
       "  ['Rain', 'Cool', 'Normal', 'Weak', 'Yes'],\n",
       "  ['Rain', 'Cool', 'Normal', 'Strong', 'No'],\n",
       "  ['Rain', 'Mild', 'Normal', 'Weak', 'Yes'],\n",
       "  ['Rain', 'Mild', 'High', 'Strong', 'No']]}"
      ]
     },
     "execution_count": 3,
     "metadata": {},
     "output_type": "execute_result"
    }
   ],
   "source": [
    "# división del set de datos de acuerdo a los valores de un atributo\n",
    "def divide_set(rows,column):\n",
    "    sets = dict()\n",
    "    for row in rows:\n",
    "        if row[column] not in sets.keys():\n",
    "            sets[row[column]] = []\n",
    "        sets[row[column]].append(row)\n",
    "    return sets\n",
    "divide_set(data,0)"
   ]
  },
  {
   "cell_type": "code",
   "execution_count": 4,
   "metadata": {},
   "outputs": [
    {
     "data": {
      "text/plain": [
       "{'No': 5, 'Yes': 9}"
      ]
     },
     "execution_count": 4,
     "metadata": {},
     "output_type": "execute_result"
    }
   ],
   "source": [
    "# conteo de registros pertenecientes a cada clase\n",
    "def unique_counts(rows):\n",
    "    results={}\n",
    "    for row in rows:\n",
    "        r = row[-1]\n",
    "        if r not in results: \n",
    "            results[r]=0\n",
    "        results[r] += 1\n",
    "    return results\n",
    "unique_counts(data)"
   ]
  },
  {
   "cell_type": "code",
   "execution_count": 5,
   "metadata": {},
   "outputs": [
    {
     "data": {
      "text/plain": [
       "0.9402859586706311"
      ]
     },
     "execution_count": 5,
     "metadata": {},
     "output_type": "execute_result"
    }
   ],
   "source": [
    "def entropy(rows):\n",
    "    from math import log2\n",
    "    results=unique_counts(rows)\n",
    "    # Now calculate the entropy\n",
    "    ent=0.0\n",
    "    for r in results.keys():\n",
    "        p=float(results[r])/len(rows) \n",
    "        ent=ent-p*log2(p)\n",
    "    return ent\n",
    "entropy(data)"
   ]
  },
  {
   "cell_type": "code",
   "execution_count": 6,
   "metadata": {},
   "outputs": [],
   "source": [
    "# construcción del árbol usando ganancia de información \n",
    "def build_tree(rows, headers, value=''):\n",
    "    if len(rows) == 0: \n",
    "        return decision_node(value = value)\n",
    "    elif len(set([row[-1] for row in rows])) == 1:\n",
    "        return decision_node(value = value, results=unique_counts(rows))\n",
    "    current_score = entropy(rows)\n",
    "    best_gain = 0.0\n",
    "    best_criteria = None\n",
    "    best_sets = None\n",
    "    column_count = len(rows[0]) - 1\n",
    "    for col in range(0, column_count):\n",
    "        sets = divide_set(rows, col)\n",
    "        gain = current_score\n",
    "        for key in sets.keys():\n",
    "            p = float(len(sets[key])) / len(rows)\n",
    "            gain -= p*entropy(sets[key])\n",
    "        if gain > best_gain:\n",
    "            best_gain = gain\n",
    "            best_criteria = headers[col]\n",
    "            best_sets = sets\n",
    "    branches = []\n",
    "    for s in best_sets:\n",
    "        branches.append(build_tree(best_sets[s], headers, s))\n",
    "    return decision_node(col=best_criteria, value = value, branches=branches)"
   ]
  },
  {
   "cell_type": "code",
   "execution_count": 7,
   "metadata": {},
   "outputs": [],
   "source": [
    "def print_tree(tree, indent = ''):\n",
    "    if tree.results != None:\n",
    "        print(indent + str(tree.results))\n",
    "    else:\n",
    "        if tree.value == '':\n",
    "            print(indent + tree.col + \"?\")\n",
    "        for branch in tree.branches:\n",
    "            to_print = indent + '  ' + branch.value + \" -> \"\n",
    "            if branch.col != -1:\n",
    "                print(to_print + branch.col + \"?\")\n",
    "                print_tree(branch, ' '*len(to_print))\n",
    "            else:\n",
    "                print(to_print + str(branch.results))"
   ]
  },
  {
   "cell_type": "code",
   "execution_count": 8,
   "metadata": {},
   "outputs": [
    {
     "name": "stdout",
     "output_type": "stream",
     "text": [
      "Outlook?\n",
      "  Sunny -> Humidity?\n",
      "             High -> {'No': 3}\n",
      "             Normal -> {'Yes': 2}\n",
      "  Overcast -> {'Yes': 4}\n",
      "  Rain -> Wind?\n",
      "            Weak -> {'Yes': 3}\n",
      "            Strong -> {'No': 2}\n"
     ]
    }
   ],
   "source": [
    "print_tree(build_tree(data, headers))"
   ]
  },
  {
   "cell_type": "code",
   "execution_count": null,
   "metadata": {},
   "outputs": [],
   "source": []
  }
 ],
 "metadata": {
  "kernelspec": {
   "display_name": "Python 3 (ipykernel)",
   "language": "python",
   "name": "python3"
  },
  "language_info": {
   "codemirror_mode": {
    "name": "ipython",
    "version": 3
   },
   "file_extension": ".py",
   "mimetype": "text/x-python",
   "name": "python",
   "nbconvert_exporter": "python",
   "pygments_lexer": "ipython3",
   "version": "3.9.15"
  }
 },
 "nbformat": 4,
 "nbformat_minor": 4
}
