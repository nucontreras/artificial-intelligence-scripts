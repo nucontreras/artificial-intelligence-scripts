{
 "cells": [
  {
   "cell_type": "markdown",
   "metadata": {
    "colab_type": "text",
    "id": "Eojb1tqXLziI"
   },
   "source": [
    "### **Detección de Sarcasmo en Texto"
   ]
  },
  {
   "cell_type": "markdown",
   "metadata": {
    "colab_type": "text",
    "id": "r5j4o861ILee"
   },
   "source": [
    "Se ocupa el dataset de dominio público “News Headlines for Sarcasm Detection”"
   ]
  },
  {
   "cell_type": "markdown",
   "metadata": {
    "colab_type": "text",
    "id": "BHITZhmEN1g0"
   },
   "source": [
    "Se cargan los datos .json:"
   ]
  },
  {
   "cell_type": "code",
   "execution_count": 1,
   "metadata": {
    "colab": {},
    "colab_type": "code",
    "id": "lIzEh90iKRfz"
   },
   "outputs": [],
   "source": [
    "import json\n",
    "\n",
    "def parse_data(filename):\n",
    "  dic = dict()\n",
    "  items = []\n",
    "  with open(filename, 'r') as file:\n",
    "    for line in file:\n",
    "      data = json.loads(line.strip())\n",
    "      for dato, valor in data.items():\n",
    "        dic[dato] = valor\n",
    "      items.append(dic)\n",
    "      dic = dict()\n",
    "  return items\n",
    "\n",
    "data = parse_data('./dataset/Sarcasm_Headlines_Dataset_v2.json')"
   ]
  },
  {
   "cell_type": "markdown",
   "metadata": {
    "colab_type": "text",
    "id": "nv5QhRsKnf1z"
   },
   "source": [
    "Se separan los *headlines* de las noticias de *is_sarcastic*. Se eliminan símbolos como \":\", \";\", \".\"  que no forman parte de las palabras."
   ]
  },
  {
   "cell_type": "code",
   "execution_count": 2,
   "metadata": {
    "colab": {},
    "colab_type": "code",
    "id": "SF68CsX1OOQu"
   },
   "outputs": [],
   "source": [
    "x_in = [x['headline'].replace(\"'\",\"\").replace(\":\",\"\").replace(\",\",\"\").replace('\"','').replace(\";\",\"\").replace(\".\",\"\") for x in data]\n",
    "y = [x['is_sarcastic'] for x in data]"
   ]
  },
  {
   "cell_type": "markdown",
   "metadata": {
    "colab_type": "text",
    "id": "DbqmccYYn0X5"
   },
   "source": [
    "Probando los datos... (sacado de ayudantía)"
   ]
  },
  {
   "cell_type": "code",
   "execution_count": 3,
   "metadata": {
    "colab": {
     "base_uri": "https://localhost:8080/",
     "height": 399
    },
    "colab_type": "code",
    "executionInfo": {
     "elapsed": 1169,
     "status": "ok",
     "timestamp": 1592271864079,
     "user": {
      "displayName": "NICOLÁS CONTRERAS PÉREZ",
      "photoUrl": "https://lh3.googleusercontent.com/a-/AOh14GjJE96-nR4o5ndvXY99g0_Jmzb0NlcH-9Xb8Vzx=s64",
      "userId": "09973929232898584669"
     },
     "user_tz": 240
    },
    "id": "VopfiX7om3UJ",
    "outputId": "8e89d9ba-9a22-4d2f-d999-229ff0c66211"
   },
   "outputs": [
    {
     "name": "stdout",
     "output_type": "stream",
     "text": [
      "Muestra de algunos elementos del dataset:\n",
      "\n",
      "-(NOT SARCASTIC) dem rep totally nails why congress is falling short on gender racial equality\n",
      "-(NOT SARCASTIC) eat your veggies 9 deliciously different recipes\n",
      "-(NOT SARCASTIC) my white inheritance\n",
      "-(NOT SARCASTIC) 5 ways to file your taxes with less stress\n",
      "-(NOT SARCASTIC) lots of parents know this scenario\n",
      "-(NOT SARCASTIC) this lesbian is considered a father in indiana (and an amazing one at that)\n",
      "-(NOT SARCASTIC) amanda peet told her daughter sex is a special hug\n",
      "-(NOT SARCASTIC) what to know regarding current treatments for ebola\n",
      "-(NOT SARCASTIC) chris christie suggests hillary clinton was to blame for boko harams kidnapping of hundreds of schoolgirls\n",
      "-(NOT SARCASTIC) uber ceo travis kalanick stepping down from trump economic advisory council\n",
      "-(SARCASTIC)     thirtysomething scientists unveil doomsday clock of hair loss\n",
      "-(SARCASTIC)     inclement weather prevents liar from getting to work\n",
      "-(SARCASTIC)     mother comes pretty close to using word streaming correctly\n",
      "-(SARCASTIC)     richard bransons global-warming donation nearly as much as cost of failed balloon trips\n",
      "-(SARCASTIC)     shadow government getting too large to meet in marriott conference room b\n",
      "-(SARCASTIC)     ford develops new suv that runs purely on gasoline\n",
      "-(SARCASTIC)     area boy enters jumping-and-touching-tops-of-doorways phase\n",
      "-(SARCASTIC)     area man does most of his traveling by gurney\n",
      "-(SARCASTIC)     guard in video game under strict orders to repeatedly pace same stretch of hallway\n",
      "-(SARCASTIC)     secret service agent not so secret about being david alan grier fan\n"
     ]
    }
   ],
   "source": [
    "print('Muestra de algunos elementos del dataset:')\n",
    "sample = ['-(NOT SARCASTIC) '+x_in[i] for i in range(len(x_in)) if not y[i]][:10]\n",
    "sample = sample + ['-(SARCASTIC)     '+x_in[i] for i in range(len(x_in)) if y[i]][:10]\n",
    "print('\\n'+'\\n'.join(sample))"
   ]
  },
  {
   "cell_type": "code",
   "execution_count": 4,
   "metadata": {
    "colab": {
     "base_uri": "https://localhost:8080/",
     "height": 52
    },
    "colab_type": "code",
    "executionInfo": {
     "elapsed": 1312,
     "status": "ok",
     "timestamp": 1592271903692,
     "user": {
      "displayName": "NICOLÁS CONTRERAS PÉREZ",
      "photoUrl": "https://lh3.googleusercontent.com/a-/AOh14GjJE96-nR4o5ndvXY99g0_Jmzb0NlcH-9Xb8Vzx=s64",
      "userId": "09973929232898584669"
     },
     "user_tz": 240
    },
    "id": "04XjDet7m9Vt",
    "outputId": "b34a39ba-63a0-458a-f0ea-a86128e1ecae"
   },
   "outputs": [
    {
     "name": "stdout",
     "output_type": "stream",
     "text": [
      "total de registros no sarcasticos: 14985\n",
      "total de registros sarcasticos: 13634\n"
     ]
    }
   ],
   "source": [
    "# Total de muestras\n",
    "tot_registros = len(y)\n",
    "tot_sarcasticos = sum(y)\n",
    "tot_no_sarcasticos = tot_registros - tot_sarcasticos\n",
    "print('total de registros no sarcasticos: '+str(tot_no_sarcasticos))\n",
    "print('total de registros sarcasticos: '+str(tot_sarcasticos))"
   ]
  },
  {
   "cell_type": "markdown",
   "metadata": {
    "colab_type": "text",
    "id": "yZYm-FJko1e9"
   },
   "source": [
    "### **Separación del Dataset**"
   ]
  },
  {
   "cell_type": "markdown",
   "metadata": {
    "colab_type": "text",
    "id": "qCSDi00A8Lem"
   },
   "source": [
    "Como el comando **train_test_split** solo separa en *trainig* y *testing* el *dataset*, se ejecuta el comando dos veces; primero en 85% y 15%, y luego se separa del dataset de 85% de los datos el 17.5% de esos datos para quedar con grupos de datos de 70%, 15% y 15% para entrenamiento, validación y testeo, respectivamente."
   ]
  },
  {
   "cell_type": "code",
   "execution_count": 5,
   "metadata": {
    "colab": {},
    "colab_type": "code",
    "id": "3WI-EogLpPMC"
   },
   "outputs": [],
   "source": [
    " from sklearn.model_selection import train_test_split\n",
    "\n",
    " # Primero se separa en dos, un conjunto de entrenamiento y otro de testeo; 85% y 15% respectivamente.\n",
    " \n",
    " x_train, x_test, y_train, y_test = train_test_split(x_in, y, test_size=0.15, random_state=1)\n",
    "\n",
    "# Luego, se vuelve a separar el conjunto de entrenamiento para generar el conjunto de validación; \n",
    "\n",
    " x_train, x_val, y_train, y_val = train_test_split(x_train, y_train, test_size=0.175, random_state=1)  # x es el dato en sí e 'y' es la respuesta. "
   ]
  },
  {
   "cell_type": "code",
   "execution_count": 6,
   "metadata": {
    "colab": {
     "base_uri": "https://localhost:8080/",
     "height": 54
    },
    "colab_type": "code",
    "executionInfo": {
     "elapsed": 1690,
     "status": "ok",
     "timestamp": 1592273545418,
     "user": {
      "displayName": "NICOLÁS CONTRERAS PÉREZ",
      "photoUrl": "https://lh3.googleusercontent.com/a-/AOh14GjJE96-nR4o5ndvXY99g0_Jmzb0NlcH-9Xb8Vzx=s64",
      "userId": "09973929232898584669"
     },
     "user_tz": 240
    },
    "id": "Ww_t7Sc8zWwG",
    "outputId": "f41fdc55-9967-4eae-b7ff-ba48f0e666ab"
   },
   "outputs": [
    {
     "data": {
      "text/plain": [
       "['aziz ansari pissed about accepting british award in person  in la',\n",
       " 'machiavellian white house groundskeeper gaining influence among west wing staff',\n",
       " 'effective pr on a start-up budget',\n",
       " 'facebook user verifies truth of article by carefully checking it against own preconceived opinions',\n",
       " 'donald trump is honoring the outdoors with policies to ruin it',\n",
       " 'nabisco tentatively adds hummus to list of approved ritz toppings',\n",
       " 'on any given day we simply dont know what trump well be getting',\n",
       " '3 tips to ensure a peaceful thanksgiving',\n",
       " 'zoomed out an #alohahuffpost roundup',\n",
       " 'couple discovers shop that sells cakes']"
      ]
     },
     "execution_count": 6,
     "metadata": {},
     "output_type": "execute_result"
    }
   ],
   "source": [
    "x_val[:10]"
   ]
  },
  {
   "cell_type": "markdown",
   "metadata": {
    "colab_type": "text",
    "id": "l6yL351bny53"
   },
   "source": [
    "### **Transformación a Vector de Frecuencias**"
   ]
  },
  {
   "cell_type": "markdown",
   "metadata": {
    "colab_type": "text",
    "id": "ksmC-V-VoNaq"
   },
   "source": [
    "Se utiliza BoW"
   ]
  },
  {
   "cell_type": "code",
   "execution_count": 7,
   "metadata": {
    "colab": {},
    "colab_type": "code",
    "id": "9Fm77QaVnLTI"
   },
   "outputs": [],
   "source": [
    "from sklearn.feature_extraction.text import CountVectorizer\n",
    "import numpy as np\n",
    "\n",
    "# Set de entrenamiento \n",
    "\n",
    "vectorizer = CountVectorizer()\n",
    "features_train = vectorizer.fit_transform(x_train)\n",
    "# set de validación y testing\n",
    "\n",
    "features_val = vectorizer.transform(x_val)\n",
    "\n",
    "features_test = vectorizer.transform(x_test)"
   ]
  },
  {
   "cell_type": "code",
   "execution_count": 8,
   "metadata": {
    "colab": {
     "base_uri": "https://localhost:8080/",
     "height": 202
    },
    "colab_type": "code",
    "executionInfo": {
     "elapsed": 425,
     "status": "ok",
     "timestamp": 1575074675359,
     "user": {
      "displayName": "NICOLÁS CONTRERAS PÉREZ",
      "photoUrl": "https://lh3.googleusercontent.com/a-/AAuE7mANL93JriQg3fqcdsDQwME8Rsl3QLrcVI55zCja=s64",
      "userId": "09973929232898584669"
     },
     "user_tz": 180
    },
    "id": "R684Sl5zoV-0",
    "outputId": "0bbe5eca-ac9b-4cd9-8d01-c3fd5f9d6196"
   },
   "outputs": [
    {
     "name": "stdout",
     "output_type": "stream",
     "text": [
      "  (0, 19815)\t1\n",
      "  (0, 22631)\t1\n",
      "  (0, 23088)\t1\n",
      "  (0, 6308)\t1\n",
      "  (0, 1092)\t1\n",
      "  (0, 22469)\t1\n",
      "  (0, 3915)\t1\n",
      "  (0, 18145)\t1\n",
      "  (0, 3116)\t1\n",
      "  (0, 13576)\t1\n"
     ]
    }
   ],
   "source": [
    "print(features_train[0,:])"
   ]
  },
  {
   "cell_type": "code",
   "execution_count": 9,
   "metadata": {
    "colab": {
     "base_uri": "https://localhost:8080/",
     "height": 202
    },
    "colab_type": "code",
    "executionInfo": {
     "elapsed": 574,
     "status": "ok",
     "timestamp": 1575074677263,
     "user": {
      "displayName": "NICOLÁS CONTRERAS PÉREZ",
      "photoUrl": "https://lh3.googleusercontent.com/a-/AAuE7mANL93JriQg3fqcdsDQwME8Rsl3QLrcVI55zCja=s64",
      "userId": "09973929232898584669"
     },
     "user_tz": 180
    },
    "id": "Tyub3kxSoY0J",
    "outputId": "4b46fea9-f4e6-410c-e842-8e0eb6704bd3"
   },
   "outputs": [
    {
     "name": "stdout",
     "output_type": "stream",
     "text": [
      "  (0, 451)\t1\n",
      "  (0, 497)\t1\n",
      "  (0, 1164)\t1\n",
      "  (0, 1700)\t1\n",
      "  (0, 1738)\t1\n",
      "  (0, 2877)\t1\n",
      "  (0, 10383)\t2\n",
      "  (0, 11616)\t1\n",
      "  (0, 15233)\t1\n",
      "  (0, 15439)\t1\n"
     ]
    }
   ],
   "source": [
    "print(features_val[0,:])"
   ]
  },
  {
   "cell_type": "code",
   "execution_count": 10,
   "metadata": {
    "colab": {
     "base_uri": "https://localhost:8080/",
     "height": 257
    },
    "colab_type": "code",
    "executionInfo": {
     "elapsed": 608,
     "status": "ok",
     "timestamp": 1575074678715,
     "user": {
      "displayName": "NICOLÁS CONTRERAS PÉREZ",
      "photoUrl": "https://lh3.googleusercontent.com/a-/AAuE7mANL93JriQg3fqcdsDQwME8Rsl3QLrcVI55zCja=s64",
      "userId": "09973929232898584669"
     },
     "user_tz": 180
    },
    "id": "JwYIQYXQ9zbc",
    "outputId": "f191d6ac-4958-4eb1-fc52-c9a2802015ff"
   },
   "outputs": [
    {
     "name": "stdout",
     "output_type": "stream",
     "text": [
      "  (0, 2238)\t1\n",
      "  (0, 4999)\t1\n",
      "  (0, 6365)\t1\n",
      "  (0, 7691)\t1\n",
      "  (0, 7918)\t1\n",
      "  (0, 8186)\t1\n",
      "  (0, 8316)\t1\n",
      "  (0, 11743)\t1\n",
      "  (0, 14413)\t1\n",
      "  (0, 18283)\t1\n",
      "  (0, 19956)\t1\n",
      "  (0, 20733)\t1\n",
      "  (0, 23080)\t1\n"
     ]
    }
   ],
   "source": [
    "print(features_test[0,:])"
   ]
  },
  {
   "cell_type": "markdown",
   "metadata": {
    "colab_type": "text",
    "id": "xly3CbVWprSx"
   },
   "source": [
    "### **Actividad 1**"
   ]
  },
  {
   "cell_type": "markdown",
   "metadata": {
    "colab_type": "text",
    "id": "mLOoBctZ8xGp"
   },
   "source": [
    "Se determina la cantidad de apariciones de cada palabra y luego se filtran las 10 palabras que más aparecen."
   ]
  },
  {
   "cell_type": "code",
   "execution_count": 11,
   "metadata": {
    "colab": {},
    "colab_type": "code",
    "id": "CXzTJQJW8t9F"
   },
   "outputs": [],
   "source": [
    "# headlines en una lista\n",
    "x_in = [x['headline'].replace(\"'\",\"\").replace(\":\",\"\").replace(\",\",\"\").replace('\"','').replace(\";\",\"\").replace(\".\",\"\") for x in data]\n",
    "\n",
    "# Eliminacion Stop-Words\n",
    "from spacy.lang.en.stop_words import STOP_WORDS\n",
    "\n",
    "clean_words = list()\n",
    "for sentence in x_in:\n",
    "  clean_words.append(' '.join([word for word in sentence.split() if word.lower() not in STOP_WORDS]))\n",
    "# Aqui las palabras ya están limpias\n",
    "\n",
    "# Se cuentan las apariciones de las palabras\n",
    "\n",
    "dict_words = dict()\n",
    "for sentence in clean_words:\n",
    "  for word in sentence.strip().split(\" \"):\n",
    "    if word not in dict_words.keys():\n",
    "      dict_words[word] = 1\n",
    "    else:\n",
    "      dict_words[word] += 1\n",
    "\n",
    "# Ordenar palabras de mayor a menor\n",
    "\n",
    "words_list = list()\n",
    "for key, value in dict_words.items():\n",
    "    temp = tuple([key,value])\n",
    "    words_list.append(temp)\n",
    "\n",
    "words_list.sort(key=lambda x: x[1], reverse=True)"
   ]
  },
  {
   "cell_type": "markdown",
   "metadata": {
    "colab_type": "text",
    "id": "UgPqyrpn_OS5"
   },
   "source": [
    "Se grafican las 10 palabras con más repeticiones:"
   ]
  },
  {
   "cell_type": "code",
   "execution_count": 12,
   "metadata": {
    "colab": {
     "base_uri": "https://localhost:8080/",
     "height": 297
    },
    "colab_type": "code",
    "executionInfo": {
     "elapsed": 998,
     "status": "ok",
     "timestamp": 1575075818364,
     "user": {
      "displayName": "NICOLÁS CONTRERAS PÉREZ",
      "photoUrl": "https://lh3.googleusercontent.com/a-/AAuE7mANL93JriQg3fqcdsDQwME8Rsl3QLrcVI55zCja=s64",
      "userId": "09973929232898584669"
     },
     "user_tz": 180
    },
    "id": "A6Eb74j0flEI",
    "outputId": "2c8ee380-acce-42ce-bb19-17bb8e3929a7"
   },
   "outputs": [
    {
     "data": {
      "image/png": "[encoded data removed]",
      "text/plain": [
       "<Figure size 640x480 with 1 Axes>"
      ]
     },
     "metadata": {},
     "output_type": "display_data"
    }
   ],
   "source": [
    "import numpy as np\n",
    "import matplotlib.pyplot as plt\n",
    "\n",
    "# Names and Quatities\n",
    "name = list()\n",
    "quantities = list()\n",
    "for tupla in words_list[:10]:\n",
    "  name.append(tupla[0])\n",
    "  quantities.append(tupla[1])\n",
    "\n",
    "# Number of groups\n",
    "num_groups = 10  # Maybe it'll change\n",
    "# Create the figure\n",
    "fig, ax = plt.subplots()\n",
    "# Define the X axis\n",
    "indices = np.arange(num_groups)\n",
    "# Width and opacity of histogram bars\n",
    "bar_width = 0.5\n",
    "opacity = 0.6\n",
    "hist_names = plt.bar(indices, quantities, bar_width, \n",
    "                      alpha=opacity, color='g') \n",
    "plt.xlabel('Palabras')\n",
    "plt.ylabel('cantidad')\n",
    "plt.title('10 palabras con más apariciones')\n",
    "plt.xticks(indices, name)\n",
    "plt.tight_layout()\n",
    "plt.show()"
   ]
  },
  {
   "cell_type": "markdown",
   "metadata": {
    "colab_type": "text",
    "id": "4gj7j4ufDqEQ"
   },
   "source": [
    "Se realiza un gráfico con las 500 palabras con más apariciones para visualizar de mejor manera el comportamiento de la curva:"
   ]
  },
  {
   "cell_type": "code",
   "execution_count": 13,
   "metadata": {
    "colab": {
     "base_uri": "https://localhost:8080/",
     "height": 297
    },
    "colab_type": "code",
    "executionInfo": {
     "elapsed": 2093,
     "status": "ok",
     "timestamp": 1575074692711,
     "user": {
      "displayName": "NICOLÁS CONTRERAS PÉREZ",
      "photoUrl": "https://lh3.googleusercontent.com/a-/AAuE7mANL93JriQg3fqcdsDQwME8Rsl3QLrcVI55zCja=s64",
      "userId": "09973929232898584669"
     },
     "user_tz": 180
    },
    "id": "NMJ-J82SCjrW",
    "outputId": "55220470-072d-4f73-dab9-3450541c0c0e"
   },
   "outputs": [
    {
     "data": {
      "image/png": "[encoded data removed]",
      "text/plain": [
       "<Figure size 640x480 with 1 Axes>"
      ]
     },
     "metadata": {},
     "output_type": "display_data"
    }
   ],
   "source": [
    "# Names and Quatities\n",
    "name = list()\n",
    "quantities = list()\n",
    "for tupla in words_list[:500]:\n",
    "  name.append(tupla[0])\n",
    "  quantities.append(tupla[1])\n",
    "\n",
    "# Number of groups\n",
    "num_groups = 500  # Maybe it'll change\n",
    "# Create the figure\n",
    "fig, ax = plt.subplots()\n",
    "# Define the X axis\n",
    "indices = np.arange(num_groups)\n",
    "# Width and opacity of histogram bars\n",
    "bar_width = 0.5\n",
    "opacity = 0.6\n",
    "hist_names = plt.bar(indices, quantities, bar_width, \n",
    "                      alpha=opacity, color='g') \n",
    "plt.xlabel('Palabras')\n",
    "plt.ylabel('cantidad')\n",
    "plt.title('500 palabras con más apariciones')\n",
    "#plt.legend()\n",
    "plt.tight_layout()\n",
    "plt.show()"
   ]
  },
  {
   "cell_type": "markdown",
   "metadata": {
    "colab_type": "text",
    "id": "-HK1p1SaDFjl"
   },
   "source": [
    "De esta forma, es posible apreciar que son tres las palabras con cantidades sobre las 1000 apariciones ('new', 'trump' y 'man'). Las demás palabras poseen una cantidad de apariciones más similares con respecto a las palabras que se encuentran a su lado (estando ordenadas), es decir, con una menor desviación estándar tomándo en cuenta como conjunto todas las palabras excepto las tres con más apariciones. Debido a esto, la curva posee una forma semejante a la distribución exponencial por lo que es posible que dicha distribución represente el comportamiento de las palabras del archivo Sarcasm_Headlines_Dataset_v2.json."
   ]
  },
  {
   "cell_type": "markdown",
   "metadata": {
    "colab_type": "text",
    "id": "qgWBKcE1p5Gx"
   },
   "source": [
    "### **Actividad 2**"
   ]
  },
  {
   "cell_type": "markdown",
   "metadata": {
    "colab_type": "text",
    "id": "PU0zUdgBG8XA"
   },
   "source": [
    "Para preprocesar los datos se utilizó la estrategia **Bag of Words** (BoW), la cual extrae caracteríscticas del texto para aplicar a modelaciones. Esta representación entrega datos relacionados con la frecuencia de ocurrencia de las distintas palabras que aparecen en el texto que se desea codificar. Dichos datos pueden ser utilizados como set de entrenamiento para algoritmos de *Maching Learning*. Como los computadores no pueden trabajar directamente con texto sin procesar, especialmente cuando se está trabajando con aprendizaje de máquina, resulta conveniente convertir el texto en números, específicamente en vectores de números para describir la ocurrencia de palabras que es lo que esta estrategia. "
   ]
  },
  {
   "cell_type": "markdown",
   "metadata": {
    "colab_type": "text",
    "id": "eL-KwskPp6vc"
   },
   "source": [
    "### **Actividad 3**"
   ]
  },
  {
   "cell_type": "code",
   "execution_count": 14,
   "metadata": {
    "colab": {},
    "colab_type": "code",
    "id": "wussXWgwny16"
   },
   "outputs": [],
   "source": [
    "from sklearn.svm import SVC"
   ]
  },
  {
   "cell_type": "markdown",
   "metadata": {
    "colab_type": "text",
    "id": "pObxTBDWCBMR"
   },
   "source": [
    "Luego de realizar múltiples iteraciones haciendo variaciones de **C** y del respectivo kernel, los resultados más óptimos para el rendimiento son los siguientes:"
   ]
  },
  {
   "cell_type": "markdown",
   "metadata": {
    "colab_type": "text",
    "id": "9rwS6FsiO4vx"
   },
   "source": [
    "*   C = 1.0 y Kernel = lineal  "
   ]
  },
  {
   "cell_type": "code",
   "execution_count": 15,
   "metadata": {
    "colab": {
     "base_uri": "https://localhost:8080/",
     "height": 91
    },
    "colab_type": "code",
    "executionInfo": {
     "elapsed": 146762,
     "status": "ok",
     "timestamp": 1575074853682,
     "user": {
      "displayName": "NICOLÁS CONTRERAS PÉREZ",
      "photoUrl": "https://lh3.googleusercontent.com/a-/AAuE7mANL93JriQg3fqcdsDQwME8Rsl3QLrcVI55zCja=s64",
      "userId": "09973929232898584669"
     },
     "user_tz": 180
    },
    "id": "1AFGDarRp8AE",
    "outputId": "4d87c176-c5f4-496b-fe1b-2416a339b2c5"
   },
   "outputs": [
    {
     "data": {
      "text/html": [
       "<style>#sk-container-id-1 {color: black;background-color: white;}#sk-container-id-1 pre{padding: 0;}#sk-container-id-1 div.sk-toggleable {background-color: white;}#sk-container-id-1 label.sk-toggleable__label {cursor: pointer;display: block;width: 100%;margin-bottom: 0;padding: 0.3em;box-sizing: border-box;text-align: center;}#sk-container-id-1 label.sk-toggleable__label-arrow:before {content: \"▸\";float: left;margin-right: 0.25em;color: #696969;}#sk-container-id-1 label.sk-toggleable__label-arrow:hover:before {color: black;}#sk-container-id-1 div.sk-estimator:hover label.sk-toggleable__label-arrow:before {color: black;}#sk-container-id-1 div.sk-toggleable__content {max-height: 0;max-width: 0;overflow: hidden;text-align: left;background-color: #f0f8ff;}#sk-container-id-1 div.sk-toggleable__content pre {margin: 0.2em;color: black;border-radius: 0.25em;background-color: #f0f8ff;}#sk-container-id-1 input.sk-toggleable__control:checked~div.sk-toggleable__content {max-height: 200px;max-width: 100%;overflow: auto;}#sk-container-id-1 input.sk-toggleable__control:checked~label.sk-toggleable__label-arrow:before {content: \"▾\";}#sk-container-id-1 div.sk-estimator input.sk-toggleable__control:checked~label.sk-toggleable__label {background-color: #d4ebff;}#sk-container-id-1 div.sk-label input.sk-toggleable__control:checked~label.sk-toggleable__label {background-color: #d4ebff;}#sk-container-id-1 input.sk-hidden--visually {border: 0;clip: rect(1px 1px 1px 1px);clip: rect(1px, 1px, 1px, 1px);height: 1px;margin: -1px;overflow: hidden;padding: 0;position: absolute;width: 1px;}#sk-container-id-1 div.sk-estimator {font-family: monospace;background-color: #f0f8ff;border: 1px dotted black;border-radius: 0.25em;box-sizing: border-box;margin-bottom: 0.5em;}#sk-container-id-1 div.sk-estimator:hover {background-color: #d4ebff;}#sk-container-id-1 div.sk-parallel-item::after {content: \"\";width: 100%;border-bottom: 1px solid gray;flex-grow: 1;}#sk-container-id-1 div.sk-label:hover label.sk-toggleable__label {background-color: #d4ebff;}#sk-container-id-1 div.sk-serial::before {content: \"\";position: absolute;border-left: 1px solid gray;box-sizing: border-box;top: 0;bottom: 0;left: 50%;z-index: 0;}#sk-container-id-1 div.sk-serial {display: flex;flex-direction: column;align-items: center;background-color: white;padding-right: 0.2em;padding-left: 0.2em;position: relative;}#sk-container-id-1 div.sk-item {position: relative;z-index: 1;}#sk-container-id-1 div.sk-parallel {display: flex;align-items: stretch;justify-content: center;background-color: white;position: relative;}#sk-container-id-1 div.sk-item::before, #sk-container-id-1 div.sk-parallel-item::before {content: \"\";position: absolute;border-left: 1px solid gray;box-sizing: border-box;top: 0;bottom: 0;left: 50%;z-index: -1;}#sk-container-id-1 div.sk-parallel-item {display: flex;flex-direction: column;z-index: 1;position: relative;background-color: white;}#sk-container-id-1 div.sk-parallel-item:first-child::after {align-self: flex-end;width: 50%;}#sk-container-id-1 div.sk-parallel-item:last-child::after {align-self: flex-start;width: 50%;}#sk-container-id-1 div.sk-parallel-item:only-child::after {width: 0;}#sk-container-id-1 div.sk-dashed-wrapped {border: 1px dashed gray;margin: 0 0.4em 0.5em 0.4em;box-sizing: border-box;padding-bottom: 0.4em;background-color: white;}#sk-container-id-1 div.sk-label label {font-family: monospace;font-weight: bold;display: inline-block;line-height: 1.2em;}#sk-container-id-1 div.sk-label-container {text-align: center;}#sk-container-id-1 div.sk-container {/* jupyter's `normalize.less` sets `[hidden] { display: none; }` but bootstrap.min.css set `[hidden] { display: none !important; }` so we also need the `!important` here to be able to override the default hidden behavior on the sphinx rendered scikit-learn.org. See: https://github.com/scikit-learn/scikit-learn/issues/21755 */display: inline-block !important;position: relative;}#sk-container-id-1 div.sk-text-repr-fallback {display: none;}</style><div id=\"sk-container-id-1\" class=\"sk-top-container\"><div class=\"sk-text-repr-fallback\"><pre>SVC(kernel=&#x27;linear&#x27;)</pre><b>In a Jupyter environment, please rerun this cell to show the HTML representation or trust the notebook. <br />On GitHub, the HTML representation is unable to render, please try loading this page with nbviewer.org.</b></div><div class=\"sk-container\" hidden><div class=\"sk-item\"><div class=\"sk-estimator sk-toggleable\"><input class=\"sk-toggleable__control sk-hidden--visually\" id=\"sk-estimator-id-1\" type=\"checkbox\" checked><label for=\"sk-estimator-id-1\" class=\"sk-toggleable__label sk-toggleable__label-arrow\">SVC</label><div class=\"sk-toggleable__content\"><pre>SVC(kernel=&#x27;linear&#x27;)</pre></div></div></div></div></div>"
      ],
      "text/plain": [
       "SVC(kernel='linear')"
      ]
     },
     "execution_count": 15,
     "metadata": {},
     "output_type": "execute_result"
    }
   ],
   "source": [
    "params = {'C': 1.0, 'kernel': 'linear', 'gamma': 'scale'}\n",
    "classifier_linear_1 = SVC(**params)\n",
    "# Se entrena\n",
    "classifier_linear_1.fit(features_train, y_train)"
   ]
  },
  {
   "cell_type": "code",
   "execution_count": 16,
   "metadata": {
    "colab": {},
    "colab_type": "code",
    "id": "xg4AO4nZph7L"
   },
   "outputs": [],
   "source": [
    "y_val_pred_linear_1 = classifier_linear_1.predict(features_val)"
   ]
  },
  {
   "cell_type": "markdown",
   "metadata": {
    "colab_type": "text",
    "id": "zFikSwut48Zy"
   },
   "source": [
    "Se determina el rendimiento con el set de validación para cada configuración de clasificador. El rendimiento para el set de entrenamiento es agregado a la tabla de rendimiento general y comentado al final de esta actividad."
   ]
  },
  {
   "cell_type": "code",
   "execution_count": 17,
   "metadata": {
    "colab": {
     "base_uri": "https://localhost:8080/",
     "height": 35
    },
    "colab_type": "code",
    "executionInfo": {
     "elapsed": 586,
     "status": "ok",
     "timestamp": 1575074861603,
     "user": {
      "displayName": "NICOLÁS CONTRERAS PÉREZ",
      "photoUrl": "https://lh3.googleusercontent.com/a-/AAuE7mANL93JriQg3fqcdsDQwME8Rsl3QLrcVI55zCja=s64",
      "userId": "09973929232898584669"
     },
     "user_tz": 180
    },
    "id": "9w_51CfitxHK",
    "outputId": "4f528501-389c-47f6-f54d-1064952b0e8c"
   },
   "outputs": [
    {
     "data": {
      "text/plain": [
       "0.8205730389854392"
      ]
     },
     "execution_count": 17,
     "metadata": {},
     "output_type": "execute_result"
    }
   ],
   "source": [
    "from sklearn.metrics import accuracy_score\n",
    "accuracy_score(y_val, y_val_pred_linear_1)"
   ]
  },
  {
   "cell_type": "markdown",
   "metadata": {
    "colab_type": "text",
    "id": "famhj9YuIOn8"
   },
   "source": [
    "*   C = 10 y Kernel = linear"
   ]
  },
  {
   "cell_type": "code",
   "execution_count": 18,
   "metadata": {
    "colab": {
     "base_uri": "https://localhost:8080/",
     "height": 91
    },
    "colab_type": "code",
    "executionInfo": {
     "elapsed": 190600,
     "status": "ok",
     "timestamp": 1575075055057,
     "user": {
      "displayName": "NICOLÁS CONTRERAS PÉREZ",
      "photoUrl": "https://lh3.googleusercontent.com/a-/AAuE7mANL93JriQg3fqcdsDQwME8Rsl3QLrcVI55zCja=s64",
      "userId": "09973929232898584669"
     },
     "user_tz": 180
    },
    "id": "F8zDOmR7IPyk",
    "outputId": "3b6214f0-7585-4d61-82ec-1f2746e814b8"
   },
   "outputs": [
    {
     "data": {
      "text/html": [
       "<style>#sk-container-id-2 {color: black;background-color: white;}#sk-container-id-2 pre{padding: 0;}#sk-container-id-2 div.sk-toggleable {background-color: white;}#sk-container-id-2 label.sk-toggleable__label {cursor: pointer;display: block;width: 100%;margin-bottom: 0;padding: 0.3em;box-sizing: border-box;text-align: center;}#sk-container-id-2 label.sk-toggleable__label-arrow:before {content: \"▸\";float: left;margin-right: 0.25em;color: #696969;}#sk-container-id-2 label.sk-toggleable__label-arrow:hover:before {color: black;}#sk-container-id-2 div.sk-estimator:hover label.sk-toggleable__label-arrow:before {color: black;}#sk-container-id-2 div.sk-toggleable__content {max-height: 0;max-width: 0;overflow: hidden;text-align: left;background-color: #f0f8ff;}#sk-container-id-2 div.sk-toggleable__content pre {margin: 0.2em;color: black;border-radius: 0.25em;background-color: #f0f8ff;}#sk-container-id-2 input.sk-toggleable__control:checked~div.sk-toggleable__content {max-height: 200px;max-width: 100%;overflow: auto;}#sk-container-id-2 input.sk-toggleable__control:checked~label.sk-toggleable__label-arrow:before {content: \"▾\";}#sk-container-id-2 div.sk-estimator input.sk-toggleable__control:checked~label.sk-toggleable__label {background-color: #d4ebff;}#sk-container-id-2 div.sk-label input.sk-toggleable__control:checked~label.sk-toggleable__label {background-color: #d4ebff;}#sk-container-id-2 input.sk-hidden--visually {border: 0;clip: rect(1px 1px 1px 1px);clip: rect(1px, 1px, 1px, 1px);height: 1px;margin: -1px;overflow: hidden;padding: 0;position: absolute;width: 1px;}#sk-container-id-2 div.sk-estimator {font-family: monospace;background-color: #f0f8ff;border: 1px dotted black;border-radius: 0.25em;box-sizing: border-box;margin-bottom: 0.5em;}#sk-container-id-2 div.sk-estimator:hover {background-color: #d4ebff;}#sk-container-id-2 div.sk-parallel-item::after {content: \"\";width: 100%;border-bottom: 1px solid gray;flex-grow: 1;}#sk-container-id-2 div.sk-label:hover label.sk-toggleable__label {background-color: #d4ebff;}#sk-container-id-2 div.sk-serial::before {content: \"\";position: absolute;border-left: 1px solid gray;box-sizing: border-box;top: 0;bottom: 0;left: 50%;z-index: 0;}#sk-container-id-2 div.sk-serial {display: flex;flex-direction: column;align-items: center;background-color: white;padding-right: 0.2em;padding-left: 0.2em;position: relative;}#sk-container-id-2 div.sk-item {position: relative;z-index: 1;}#sk-container-id-2 div.sk-parallel {display: flex;align-items: stretch;justify-content: center;background-color: white;position: relative;}#sk-container-id-2 div.sk-item::before, #sk-container-id-2 div.sk-parallel-item::before {content: \"\";position: absolute;border-left: 1px solid gray;box-sizing: border-box;top: 0;bottom: 0;left: 50%;z-index: -1;}#sk-container-id-2 div.sk-parallel-item {display: flex;flex-direction: column;z-index: 1;position: relative;background-color: white;}#sk-container-id-2 div.sk-parallel-item:first-child::after {align-self: flex-end;width: 50%;}#sk-container-id-2 div.sk-parallel-item:last-child::after {align-self: flex-start;width: 50%;}#sk-container-id-2 div.sk-parallel-item:only-child::after {width: 0;}#sk-container-id-2 div.sk-dashed-wrapped {border: 1px dashed gray;margin: 0 0.4em 0.5em 0.4em;box-sizing: border-box;padding-bottom: 0.4em;background-color: white;}#sk-container-id-2 div.sk-label label {font-family: monospace;font-weight: bold;display: inline-block;line-height: 1.2em;}#sk-container-id-2 div.sk-label-container {text-align: center;}#sk-container-id-2 div.sk-container {/* jupyter's `normalize.less` sets `[hidden] { display: none; }` but bootstrap.min.css set `[hidden] { display: none !important; }` so we also need the `!important` here to be able to override the default hidden behavior on the sphinx rendered scikit-learn.org. See: https://github.com/scikit-learn/scikit-learn/issues/21755 */display: inline-block !important;position: relative;}#sk-container-id-2 div.sk-text-repr-fallback {display: none;}</style><div id=\"sk-container-id-2\" class=\"sk-top-container\"><div class=\"sk-text-repr-fallback\"><pre>SVC(C=10, kernel=&#x27;linear&#x27;)</pre><b>In a Jupyter environment, please rerun this cell to show the HTML representation or trust the notebook. <br />On GitHub, the HTML representation is unable to render, please try loading this page with nbviewer.org.</b></div><div class=\"sk-container\" hidden><div class=\"sk-item\"><div class=\"sk-estimator sk-toggleable\"><input class=\"sk-toggleable__control sk-hidden--visually\" id=\"sk-estimator-id-2\" type=\"checkbox\" checked><label for=\"sk-estimator-id-2\" class=\"sk-toggleable__label sk-toggleable__label-arrow\">SVC</label><div class=\"sk-toggleable__content\"><pre>SVC(C=10, kernel=&#x27;linear&#x27;)</pre></div></div></div></div></div>"
      ],
      "text/plain": [
       "SVC(C=10, kernel='linear')"
      ]
     },
     "execution_count": 18,
     "metadata": {},
     "output_type": "execute_result"
    }
   ],
   "source": [
    "params = {'C': 10, 'kernel': 'linear', 'gamma': 'scale'}\n",
    "classifier_linear_10 = SVC(**params)\n",
    "# Se entrena\n",
    "classifier_linear_10.fit(features_train, y_train)"
   ]
  },
  {
   "cell_type": "code",
   "execution_count": 19,
   "metadata": {
    "colab": {},
    "colab_type": "code",
    "id": "knlIXIWbIfGH"
   },
   "outputs": [],
   "source": [
    "y_val_pred_linear_10 = classifier_linear_10.predict(features_val)"
   ]
  },
  {
   "cell_type": "code",
   "execution_count": 20,
   "metadata": {
    "colab": {
     "base_uri": "https://localhost:8080/",
     "height": 35
    },
    "colab_type": "code",
    "executionInfo": {
     "elapsed": 458,
     "status": "ok",
     "timestamp": 1575075144820,
     "user": {
      "displayName": "NICOLÁS CONTRERAS PÉREZ",
      "photoUrl": "https://lh3.googleusercontent.com/a-/AAuE7mANL93JriQg3fqcdsDQwME8Rsl3QLrcVI55zCja=s64",
      "userId": "09973929232898584669"
     },
     "user_tz": 180
    },
    "id": "44YmgKcwImU3",
    "outputId": "5236c696-a466-48f8-aa9e-bff092d67356"
   },
   "outputs": [
    {
     "data": {
      "text/plain": [
       "0.7980272428370127"
      ]
     },
     "execution_count": 20,
     "metadata": {},
     "output_type": "execute_result"
    }
   ],
   "source": [
    "from sklearn.metrics import accuracy_score\n",
    "accuracy_score(y_val, y_val_pred_linear_10)"
   ]
  },
  {
   "cell_type": "markdown",
   "metadata": {
    "colab_type": "text",
    "id": "UDI5IoSK7FSl"
   },
   "source": [
    "*   C = 1 y Kernel = rbf"
   ]
  },
  {
   "cell_type": "code",
   "execution_count": 21,
   "metadata": {
    "colab": {
     "base_uri": "https://localhost:8080/",
     "height": 91
    },
    "colab_type": "code",
    "executionInfo": {
     "elapsed": 117062,
     "status": "ok",
     "timestamp": 1575075263918,
     "user": {
      "displayName": "NICOLÁS CONTRERAS PÉREZ",
      "photoUrl": "https://lh3.googleusercontent.com/a-/AAuE7mANL93JriQg3fqcdsDQwME8Rsl3QLrcVI55zCja=s64",
      "userId": "09973929232898584669"
     },
     "user_tz": 180
    },
    "id": "nkfSbIZmnDqI",
    "outputId": "aee72c5d-a6e1-4543-ed37-71a75157af99"
   },
   "outputs": [
    {
     "data": {
      "text/html": [
       "<style>#sk-container-id-3 {color: black;background-color: white;}#sk-container-id-3 pre{padding: 0;}#sk-container-id-3 div.sk-toggleable {background-color: white;}#sk-container-id-3 label.sk-toggleable__label {cursor: pointer;display: block;width: 100%;margin-bottom: 0;padding: 0.3em;box-sizing: border-box;text-align: center;}#sk-container-id-3 label.sk-toggleable__label-arrow:before {content: \"▸\";float: left;margin-right: 0.25em;color: #696969;}#sk-container-id-3 label.sk-toggleable__label-arrow:hover:before {color: black;}#sk-container-id-3 div.sk-estimator:hover label.sk-toggleable__label-arrow:before {color: black;}#sk-container-id-3 div.sk-toggleable__content {max-height: 0;max-width: 0;overflow: hidden;text-align: left;background-color: #f0f8ff;}#sk-container-id-3 div.sk-toggleable__content pre {margin: 0.2em;color: black;border-radius: 0.25em;background-color: #f0f8ff;}#sk-container-id-3 input.sk-toggleable__control:checked~div.sk-toggleable__content {max-height: 200px;max-width: 100%;overflow: auto;}#sk-container-id-3 input.sk-toggleable__control:checked~label.sk-toggleable__label-arrow:before {content: \"▾\";}#sk-container-id-3 div.sk-estimator input.sk-toggleable__control:checked~label.sk-toggleable__label {background-color: #d4ebff;}#sk-container-id-3 div.sk-label input.sk-toggleable__control:checked~label.sk-toggleable__label {background-color: #d4ebff;}#sk-container-id-3 input.sk-hidden--visually {border: 0;clip: rect(1px 1px 1px 1px);clip: rect(1px, 1px, 1px, 1px);height: 1px;margin: -1px;overflow: hidden;padding: 0;position: absolute;width: 1px;}#sk-container-id-3 div.sk-estimator {font-family: monospace;background-color: #f0f8ff;border: 1px dotted black;border-radius: 0.25em;box-sizing: border-box;margin-bottom: 0.5em;}#sk-container-id-3 div.sk-estimator:hover {background-color: #d4ebff;}#sk-container-id-3 div.sk-parallel-item::after {content: \"\";width: 100%;border-bottom: 1px solid gray;flex-grow: 1;}#sk-container-id-3 div.sk-label:hover label.sk-toggleable__label {background-color: #d4ebff;}#sk-container-id-3 div.sk-serial::before {content: \"\";position: absolute;border-left: 1px solid gray;box-sizing: border-box;top: 0;bottom: 0;left: 50%;z-index: 0;}#sk-container-id-3 div.sk-serial {display: flex;flex-direction: column;align-items: center;background-color: white;padding-right: 0.2em;padding-left: 0.2em;position: relative;}#sk-container-id-3 div.sk-item {position: relative;z-index: 1;}#sk-container-id-3 div.sk-parallel {display: flex;align-items: stretch;justify-content: center;background-color: white;position: relative;}#sk-container-id-3 div.sk-item::before, #sk-container-id-3 div.sk-parallel-item::before {content: \"\";position: absolute;border-left: 1px solid gray;box-sizing: border-box;top: 0;bottom: 0;left: 50%;z-index: -1;}#sk-container-id-3 div.sk-parallel-item {display: flex;flex-direction: column;z-index: 1;position: relative;background-color: white;}#sk-container-id-3 div.sk-parallel-item:first-child::after {align-self: flex-end;width: 50%;}#sk-container-id-3 div.sk-parallel-item:last-child::after {align-self: flex-start;width: 50%;}#sk-container-id-3 div.sk-parallel-item:only-child::after {width: 0;}#sk-container-id-3 div.sk-dashed-wrapped {border: 1px dashed gray;margin: 0 0.4em 0.5em 0.4em;box-sizing: border-box;padding-bottom: 0.4em;background-color: white;}#sk-container-id-3 div.sk-label label {font-family: monospace;font-weight: bold;display: inline-block;line-height: 1.2em;}#sk-container-id-3 div.sk-label-container {text-align: center;}#sk-container-id-3 div.sk-container {/* jupyter's `normalize.less` sets `[hidden] { display: none; }` but bootstrap.min.css set `[hidden] { display: none !important; }` so we also need the `!important` here to be able to override the default hidden behavior on the sphinx rendered scikit-learn.org. See: https://github.com/scikit-learn/scikit-learn/issues/21755 */display: inline-block !important;position: relative;}#sk-container-id-3 div.sk-text-repr-fallback {display: none;}</style><div id=\"sk-container-id-3\" class=\"sk-top-container\"><div class=\"sk-text-repr-fallback\"><pre>SVC()</pre><b>In a Jupyter environment, please rerun this cell to show the HTML representation or trust the notebook. <br />On GitHub, the HTML representation is unable to render, please try loading this page with nbviewer.org.</b></div><div class=\"sk-container\" hidden><div class=\"sk-item\"><div class=\"sk-estimator sk-toggleable\"><input class=\"sk-toggleable__control sk-hidden--visually\" id=\"sk-estimator-id-3\" type=\"checkbox\" checked><label for=\"sk-estimator-id-3\" class=\"sk-toggleable__label sk-toggleable__label-arrow\">SVC</label><div class=\"sk-toggleable__content\"><pre>SVC()</pre></div></div></div></div></div>"
      ],
      "text/plain": [
       "SVC()"
      ]
     },
     "execution_count": 21,
     "metadata": {},
     "output_type": "execute_result"
    }
   ],
   "source": [
    "params = {'C': 1.0, 'kernel': 'rbf', 'gamma': 'scale'}\n",
    "classifier_rbf_1 = SVC(**params)\n",
    "# Se entrena\n",
    "classifier_rbf_1.fit(features_train, y_train)"
   ]
  },
  {
   "cell_type": "code",
   "execution_count": 22,
   "metadata": {
    "colab": {},
    "colab_type": "code",
    "id": "if0ihOKpUZzD"
   },
   "outputs": [],
   "source": [
    "y_val_pred_rbf_1 = classifier_rbf_1.predict(features_val)"
   ]
  },
  {
   "cell_type": "code",
   "execution_count": 23,
   "metadata": {
    "colab": {
     "base_uri": "https://localhost:8080/",
     "height": 35
    },
    "colab_type": "code",
    "executionInfo": {
     "elapsed": 553,
     "status": "ok",
     "timestamp": 1575075301347,
     "user": {
      "displayName": "NICOLÁS CONTRERAS PÉREZ",
      "photoUrl": "https://lh3.googleusercontent.com/a-/AAuE7mANL93JriQg3fqcdsDQwME8Rsl3QLrcVI55zCja=s64",
      "userId": "09973929232898584669"
     },
     "user_tz": 180
    },
    "id": "6opKUSH7UtT8",
    "outputId": "fc25c9b1-417e-4bb0-e0da-93890d52b193"
   },
   "outputs": [
    {
     "data": {
      "text/plain": [
       "0.8351338656646313"
      ]
     },
     "execution_count": 23,
     "metadata": {},
     "output_type": "execute_result"
    }
   ],
   "source": [
    "accuracy_score(y_val, y_val_pred_rbf_1)"
   ]
  },
  {
   "cell_type": "markdown",
   "metadata": {
    "colab_type": "text",
    "id": "dB0c1aA4JF-s"
   },
   "source": [
    "*   C = 10 y Kernel = rbf"
   ]
  },
  {
   "cell_type": "code",
   "execution_count": 24,
   "metadata": {
    "colab": {
     "base_uri": "https://localhost:8080/",
     "height": 91
    },
    "colab_type": "code",
    "executionInfo": {
     "elapsed": 178631,
     "status": "ok",
     "timestamp": 1575075482428,
     "user": {
      "displayName": "NICOLÁS CONTRERAS PÉREZ",
      "photoUrl": "https://lh3.googleusercontent.com/a-/AAuE7mANL93JriQg3fqcdsDQwME8Rsl3QLrcVI55zCja=s64",
      "userId": "09973929232898584669"
     },
     "user_tz": 180
    },
    "id": "kOudKIG2JNs0",
    "outputId": "a558b498-ab3d-45db-f0eb-47a692a46b35"
   },
   "outputs": [
    {
     "data": {
      "text/html": [
       "<style>#sk-container-id-4 {color: black;background-color: white;}#sk-container-id-4 pre{padding: 0;}#sk-container-id-4 div.sk-toggleable {background-color: white;}#sk-container-id-4 label.sk-toggleable__label {cursor: pointer;display: block;width: 100%;margin-bottom: 0;padding: 0.3em;box-sizing: border-box;text-align: center;}#sk-container-id-4 label.sk-toggleable__label-arrow:before {content: \"▸\";float: left;margin-right: 0.25em;color: #696969;}#sk-container-id-4 label.sk-toggleable__label-arrow:hover:before {color: black;}#sk-container-id-4 div.sk-estimator:hover label.sk-toggleable__label-arrow:before {color: black;}#sk-container-id-4 div.sk-toggleable__content {max-height: 0;max-width: 0;overflow: hidden;text-align: left;background-color: #f0f8ff;}#sk-container-id-4 div.sk-toggleable__content pre {margin: 0.2em;color: black;border-radius: 0.25em;background-color: #f0f8ff;}#sk-container-id-4 input.sk-toggleable__control:checked~div.sk-toggleable__content {max-height: 200px;max-width: 100%;overflow: auto;}#sk-container-id-4 input.sk-toggleable__control:checked~label.sk-toggleable__label-arrow:before {content: \"▾\";}#sk-container-id-4 div.sk-estimator input.sk-toggleable__control:checked~label.sk-toggleable__label {background-color: #d4ebff;}#sk-container-id-4 div.sk-label input.sk-toggleable__control:checked~label.sk-toggleable__label {background-color: #d4ebff;}#sk-container-id-4 input.sk-hidden--visually {border: 0;clip: rect(1px 1px 1px 1px);clip: rect(1px, 1px, 1px, 1px);height: 1px;margin: -1px;overflow: hidden;padding: 0;position: absolute;width: 1px;}#sk-container-id-4 div.sk-estimator {font-family: monospace;background-color: #f0f8ff;border: 1px dotted black;border-radius: 0.25em;box-sizing: border-box;margin-bottom: 0.5em;}#sk-container-id-4 div.sk-estimator:hover {background-color: #d4ebff;}#sk-container-id-4 div.sk-parallel-item::after {content: \"\";width: 100%;border-bottom: 1px solid gray;flex-grow: 1;}#sk-container-id-4 div.sk-label:hover label.sk-toggleable__label {background-color: #d4ebff;}#sk-container-id-4 div.sk-serial::before {content: \"\";position: absolute;border-left: 1px solid gray;box-sizing: border-box;top: 0;bottom: 0;left: 50%;z-index: 0;}#sk-container-id-4 div.sk-serial {display: flex;flex-direction: column;align-items: center;background-color: white;padding-right: 0.2em;padding-left: 0.2em;position: relative;}#sk-container-id-4 div.sk-item {position: relative;z-index: 1;}#sk-container-id-4 div.sk-parallel {display: flex;align-items: stretch;justify-content: center;background-color: white;position: relative;}#sk-container-id-4 div.sk-item::before, #sk-container-id-4 div.sk-parallel-item::before {content: \"\";position: absolute;border-left: 1px solid gray;box-sizing: border-box;top: 0;bottom: 0;left: 50%;z-index: -1;}#sk-container-id-4 div.sk-parallel-item {display: flex;flex-direction: column;z-index: 1;position: relative;background-color: white;}#sk-container-id-4 div.sk-parallel-item:first-child::after {align-self: flex-end;width: 50%;}#sk-container-id-4 div.sk-parallel-item:last-child::after {align-self: flex-start;width: 50%;}#sk-container-id-4 div.sk-parallel-item:only-child::after {width: 0;}#sk-container-id-4 div.sk-dashed-wrapped {border: 1px dashed gray;margin: 0 0.4em 0.5em 0.4em;box-sizing: border-box;padding-bottom: 0.4em;background-color: white;}#sk-container-id-4 div.sk-label label {font-family: monospace;font-weight: bold;display: inline-block;line-height: 1.2em;}#sk-container-id-4 div.sk-label-container {text-align: center;}#sk-container-id-4 div.sk-container {/* jupyter's `normalize.less` sets `[hidden] { display: none; }` but bootstrap.min.css set `[hidden] { display: none !important; }` so we also need the `!important` here to be able to override the default hidden behavior on the sphinx rendered scikit-learn.org. See: https://github.com/scikit-learn/scikit-learn/issues/21755 */display: inline-block !important;position: relative;}#sk-container-id-4 div.sk-text-repr-fallback {display: none;}</style><div id=\"sk-container-id-4\" class=\"sk-top-container\"><div class=\"sk-text-repr-fallback\"><pre>SVC(C=10)</pre><b>In a Jupyter environment, please rerun this cell to show the HTML representation or trust the notebook. <br />On GitHub, the HTML representation is unable to render, please try loading this page with nbviewer.org.</b></div><div class=\"sk-container\" hidden><div class=\"sk-item\"><div class=\"sk-estimator sk-toggleable\"><input class=\"sk-toggleable__control sk-hidden--visually\" id=\"sk-estimator-id-4\" type=\"checkbox\" checked><label for=\"sk-estimator-id-4\" class=\"sk-toggleable__label sk-toggleable__label-arrow\">SVC</label><div class=\"sk-toggleable__content\"><pre>SVC(C=10)</pre></div></div></div></div></div>"
      ],
      "text/plain": [
       "SVC(C=10)"
      ]
     },
     "execution_count": 24,
     "metadata": {},
     "output_type": "execute_result"
    }
   ],
   "source": [
    "params = {'C': 10, 'kernel': 'rbf', 'gamma': 'scale'}\n",
    "classifier_rbf_10 = SVC(**params)\n",
    "# Se entrena\n",
    "classifier_rbf_10.fit(features_train, y_train)"
   ]
  },
  {
   "cell_type": "code",
   "execution_count": 25,
   "metadata": {
    "colab": {},
    "colab_type": "code",
    "id": "-5Er6gAJJjkc"
   },
   "outputs": [],
   "source": [
    "y_val_pred_rbf_10 = classifier_rbf_10.predict(features_val)"
   ]
  },
  {
   "cell_type": "code",
   "execution_count": 26,
   "metadata": {
    "colab": {
     "base_uri": "https://localhost:8080/",
     "height": 35
    },
    "colab_type": "code",
    "executionInfo": {
     "elapsed": 457,
     "status": "ok",
     "timestamp": 1575075494506,
     "user": {
      "displayName": "NICOLÁS CONTRERAS PÉREZ",
      "photoUrl": "https://lh3.googleusercontent.com/a-/AAuE7mANL93JriQg3fqcdsDQwME8Rsl3QLrcVI55zCja=s64",
      "userId": "09973929232898584669"
     },
     "user_tz": 180
    },
    "id": "Zfqgoa61JttM",
    "outputId": "33277795-f9e2-4e80-d4f8-cdf8a5a29b64"
   },
   "outputs": [
    {
     "data": {
      "text/plain": [
       "0.8464067637388445"
      ]
     },
     "execution_count": 26,
     "metadata": {},
     "output_type": "execute_result"
    }
   ],
   "source": [
    "accuracy_score(y_val, y_val_pred_rbf_10)"
   ]
  },
  {
   "cell_type": "markdown",
   "metadata": {
    "colab_type": "text",
    "id": "T8oedirmT_SS"
   },
   "source": [
    "*   C = 1 y Kernel = poly"
   ]
  },
  {
   "cell_type": "code",
   "execution_count": 27,
   "metadata": {
    "colab": {
     "base_uri": "https://localhost:8080/",
     "height": 91
    },
    "colab_type": "code",
    "executionInfo": {
     "elapsed": 142819,
     "status": "ok",
     "timestamp": 1575075639429,
     "user": {
      "displayName": "NICOLÁS CONTRERAS PÉREZ",
      "photoUrl": "https://lh3.googleusercontent.com/a-/AAuE7mANL93JriQg3fqcdsDQwME8Rsl3QLrcVI55zCja=s64",
      "userId": "09973929232898584669"
     },
     "user_tz": 180
    },
    "id": "EJSYRyQ5nD0g",
    "outputId": "6d01425f-1dd1-48a9-b14d-dd253542afa8"
   },
   "outputs": [
    {
     "data": {
      "text/html": [
       "<style>#sk-container-id-5 {color: black;background-color: white;}#sk-container-id-5 pre{padding: 0;}#sk-container-id-5 div.sk-toggleable {background-color: white;}#sk-container-id-5 label.sk-toggleable__label {cursor: pointer;display: block;width: 100%;margin-bottom: 0;padding: 0.3em;box-sizing: border-box;text-align: center;}#sk-container-id-5 label.sk-toggleable__label-arrow:before {content: \"▸\";float: left;margin-right: 0.25em;color: #696969;}#sk-container-id-5 label.sk-toggleable__label-arrow:hover:before {color: black;}#sk-container-id-5 div.sk-estimator:hover label.sk-toggleable__label-arrow:before {color: black;}#sk-container-id-5 div.sk-toggleable__content {max-height: 0;max-width: 0;overflow: hidden;text-align: left;background-color: #f0f8ff;}#sk-container-id-5 div.sk-toggleable__content pre {margin: 0.2em;color: black;border-radius: 0.25em;background-color: #f0f8ff;}#sk-container-id-5 input.sk-toggleable__control:checked~div.sk-toggleable__content {max-height: 200px;max-width: 100%;overflow: auto;}#sk-container-id-5 input.sk-toggleable__control:checked~label.sk-toggleable__label-arrow:before {content: \"▾\";}#sk-container-id-5 div.sk-estimator input.sk-toggleable__control:checked~label.sk-toggleable__label {background-color: #d4ebff;}#sk-container-id-5 div.sk-label input.sk-toggleable__control:checked~label.sk-toggleable__label {background-color: #d4ebff;}#sk-container-id-5 input.sk-hidden--visually {border: 0;clip: rect(1px 1px 1px 1px);clip: rect(1px, 1px, 1px, 1px);height: 1px;margin: -1px;overflow: hidden;padding: 0;position: absolute;width: 1px;}#sk-container-id-5 div.sk-estimator {font-family: monospace;background-color: #f0f8ff;border: 1px dotted black;border-radius: 0.25em;box-sizing: border-box;margin-bottom: 0.5em;}#sk-container-id-5 div.sk-estimator:hover {background-color: #d4ebff;}#sk-container-id-5 div.sk-parallel-item::after {content: \"\";width: 100%;border-bottom: 1px solid gray;flex-grow: 1;}#sk-container-id-5 div.sk-label:hover label.sk-toggleable__label {background-color: #d4ebff;}#sk-container-id-5 div.sk-serial::before {content: \"\";position: absolute;border-left: 1px solid gray;box-sizing: border-box;top: 0;bottom: 0;left: 50%;z-index: 0;}#sk-container-id-5 div.sk-serial {display: flex;flex-direction: column;align-items: center;background-color: white;padding-right: 0.2em;padding-left: 0.2em;position: relative;}#sk-container-id-5 div.sk-item {position: relative;z-index: 1;}#sk-container-id-5 div.sk-parallel {display: flex;align-items: stretch;justify-content: center;background-color: white;position: relative;}#sk-container-id-5 div.sk-item::before, #sk-container-id-5 div.sk-parallel-item::before {content: \"\";position: absolute;border-left: 1px solid gray;box-sizing: border-box;top: 0;bottom: 0;left: 50%;z-index: -1;}#sk-container-id-5 div.sk-parallel-item {display: flex;flex-direction: column;z-index: 1;position: relative;background-color: white;}#sk-container-id-5 div.sk-parallel-item:first-child::after {align-self: flex-end;width: 50%;}#sk-container-id-5 div.sk-parallel-item:last-child::after {align-self: flex-start;width: 50%;}#sk-container-id-5 div.sk-parallel-item:only-child::after {width: 0;}#sk-container-id-5 div.sk-dashed-wrapped {border: 1px dashed gray;margin: 0 0.4em 0.5em 0.4em;box-sizing: border-box;padding-bottom: 0.4em;background-color: white;}#sk-container-id-5 div.sk-label label {font-family: monospace;font-weight: bold;display: inline-block;line-height: 1.2em;}#sk-container-id-5 div.sk-label-container {text-align: center;}#sk-container-id-5 div.sk-container {/* jupyter's `normalize.less` sets `[hidden] { display: none; }` but bootstrap.min.css set `[hidden] { display: none !important; }` so we also need the `!important` here to be able to override the default hidden behavior on the sphinx rendered scikit-learn.org. See: https://github.com/scikit-learn/scikit-learn/issues/21755 */display: inline-block !important;position: relative;}#sk-container-id-5 div.sk-text-repr-fallback {display: none;}</style><div id=\"sk-container-id-5\" class=\"sk-top-container\"><div class=\"sk-text-repr-fallback\"><pre>SVC(kernel=&#x27;poly&#x27;)</pre><b>In a Jupyter environment, please rerun this cell to show the HTML representation or trust the notebook. <br />On GitHub, the HTML representation is unable to render, please try loading this page with nbviewer.org.</b></div><div class=\"sk-container\" hidden><div class=\"sk-item\"><div class=\"sk-estimator sk-toggleable\"><input class=\"sk-toggleable__control sk-hidden--visually\" id=\"sk-estimator-id-5\" type=\"checkbox\" checked><label for=\"sk-estimator-id-5\" class=\"sk-toggleable__label sk-toggleable__label-arrow\">SVC</label><div class=\"sk-toggleable__content\"><pre>SVC(kernel=&#x27;poly&#x27;)</pre></div></div></div></div></div>"
      ],
      "text/plain": [
       "SVC(kernel='poly')"
      ]
     },
     "execution_count": 27,
     "metadata": {},
     "output_type": "execute_result"
    }
   ],
   "source": [
    "params = {'C': 1.0,'kernel': 'poly', 'gamma': 'scale'}\n",
    "classifier_poly_1 = SVC(**params)\n",
    "# Se entrena\n",
    "classifier_poly_1.fit(features_train, y_train)"
   ]
  },
  {
   "cell_type": "code",
   "execution_count": 28,
   "metadata": {
    "colab": {},
    "colab_type": "code",
    "id": "pSB8JwkdnD9x"
   },
   "outputs": [],
   "source": [
    "y_val_pred_poly_1 = classifier_poly_1.predict(features_val)"
   ]
  },
  {
   "cell_type": "code",
   "execution_count": 29,
   "metadata": {
    "colab": {
     "base_uri": "https://localhost:8080/",
     "height": 35
    },
    "colab_type": "code",
    "executionInfo": {
     "elapsed": 578,
     "status": "ok",
     "timestamp": 1575075661080,
     "user": {
      "displayName": "NICOLÁS CONTRERAS PÉREZ",
      "photoUrl": "https://lh3.googleusercontent.com/a-/AAuE7mANL93JriQg3fqcdsDQwME8Rsl3QLrcVI55zCja=s64",
      "userId": "09973929232898584669"
     },
     "user_tz": 180
    },
    "id": "hq982IEOVEKG",
    "outputId": "b25cced1-c6e7-4c90-f58f-777bf2abe50b"
   },
   "outputs": [
    {
     "data": {
      "text/plain": [
       "0.7444809769844998"
      ]
     },
     "execution_count": 29,
     "metadata": {},
     "output_type": "execute_result"
    }
   ],
   "source": [
    "accuracy_score(y_val, y_val_pred_poly_1)"
   ]
  },
  {
   "cell_type": "markdown",
   "metadata": {
    "colab_type": "text",
    "id": "KiJJlSchJ4bE"
   },
   "source": [
    "\n",
    "*   C = 10 y Kernel = poly\n",
    "\n"
   ]
  },
  {
   "cell_type": "code",
   "execution_count": 30,
   "metadata": {
    "colab": {
     "base_uri": "https://localhost:8080/",
     "height": 91
    },
    "colab_type": "code",
    "executionInfo": {
     "elapsed": 142664,
     "status": "ok",
     "timestamp": 1575075805784,
     "user": {
      "displayName": "NICOLÁS CONTRERAS PÉREZ",
      "photoUrl": "https://lh3.googleusercontent.com/a-/AAuE7mANL93JriQg3fqcdsDQwME8Rsl3QLrcVI55zCja=s64",
      "userId": "09973929232898584669"
     },
     "user_tz": 180
    },
    "id": "V1jGDGqnJ4lV",
    "outputId": "eb10199b-01ea-4fed-a121-4a4ec8d30b31"
   },
   "outputs": [
    {
     "data": {
      "text/html": [
       "<style>#sk-container-id-6 {color: black;background-color: white;}#sk-container-id-6 pre{padding: 0;}#sk-container-id-6 div.sk-toggleable {background-color: white;}#sk-container-id-6 label.sk-toggleable__label {cursor: pointer;display: block;width: 100%;margin-bottom: 0;padding: 0.3em;box-sizing: border-box;text-align: center;}#sk-container-id-6 label.sk-toggleable__label-arrow:before {content: \"▸\";float: left;margin-right: 0.25em;color: #696969;}#sk-container-id-6 label.sk-toggleable__label-arrow:hover:before {color: black;}#sk-container-id-6 div.sk-estimator:hover label.sk-toggleable__label-arrow:before {color: black;}#sk-container-id-6 div.sk-toggleable__content {max-height: 0;max-width: 0;overflow: hidden;text-align: left;background-color: #f0f8ff;}#sk-container-id-6 div.sk-toggleable__content pre {margin: 0.2em;color: black;border-radius: 0.25em;background-color: #f0f8ff;}#sk-container-id-6 input.sk-toggleable__control:checked~div.sk-toggleable__content {max-height: 200px;max-width: 100%;overflow: auto;}#sk-container-id-6 input.sk-toggleable__control:checked~label.sk-toggleable__label-arrow:before {content: \"▾\";}#sk-container-id-6 div.sk-estimator input.sk-toggleable__control:checked~label.sk-toggleable__label {background-color: #d4ebff;}#sk-container-id-6 div.sk-label input.sk-toggleable__control:checked~label.sk-toggleable__label {background-color: #d4ebff;}#sk-container-id-6 input.sk-hidden--visually {border: 0;clip: rect(1px 1px 1px 1px);clip: rect(1px, 1px, 1px, 1px);height: 1px;margin: -1px;overflow: hidden;padding: 0;position: absolute;width: 1px;}#sk-container-id-6 div.sk-estimator {font-family: monospace;background-color: #f0f8ff;border: 1px dotted black;border-radius: 0.25em;box-sizing: border-box;margin-bottom: 0.5em;}#sk-container-id-6 div.sk-estimator:hover {background-color: #d4ebff;}#sk-container-id-6 div.sk-parallel-item::after {content: \"\";width: 100%;border-bottom: 1px solid gray;flex-grow: 1;}#sk-container-id-6 div.sk-label:hover label.sk-toggleable__label {background-color: #d4ebff;}#sk-container-id-6 div.sk-serial::before {content: \"\";position: absolute;border-left: 1px solid gray;box-sizing: border-box;top: 0;bottom: 0;left: 50%;z-index: 0;}#sk-container-id-6 div.sk-serial {display: flex;flex-direction: column;align-items: center;background-color: white;padding-right: 0.2em;padding-left: 0.2em;position: relative;}#sk-container-id-6 div.sk-item {position: relative;z-index: 1;}#sk-container-id-6 div.sk-parallel {display: flex;align-items: stretch;justify-content: center;background-color: white;position: relative;}#sk-container-id-6 div.sk-item::before, #sk-container-id-6 div.sk-parallel-item::before {content: \"\";position: absolute;border-left: 1px solid gray;box-sizing: border-box;top: 0;bottom: 0;left: 50%;z-index: -1;}#sk-container-id-6 div.sk-parallel-item {display: flex;flex-direction: column;z-index: 1;position: relative;background-color: white;}#sk-container-id-6 div.sk-parallel-item:first-child::after {align-self: flex-end;width: 50%;}#sk-container-id-6 div.sk-parallel-item:last-child::after {align-self: flex-start;width: 50%;}#sk-container-id-6 div.sk-parallel-item:only-child::after {width: 0;}#sk-container-id-6 div.sk-dashed-wrapped {border: 1px dashed gray;margin: 0 0.4em 0.5em 0.4em;box-sizing: border-box;padding-bottom: 0.4em;background-color: white;}#sk-container-id-6 div.sk-label label {font-family: monospace;font-weight: bold;display: inline-block;line-height: 1.2em;}#sk-container-id-6 div.sk-label-container {text-align: center;}#sk-container-id-6 div.sk-container {/* jupyter's `normalize.less` sets `[hidden] { display: none; }` but bootstrap.min.css set `[hidden] { display: none !important; }` so we also need the `!important` here to be able to override the default hidden behavior on the sphinx rendered scikit-learn.org. See: https://github.com/scikit-learn/scikit-learn/issues/21755 */display: inline-block !important;position: relative;}#sk-container-id-6 div.sk-text-repr-fallback {display: none;}</style><div id=\"sk-container-id-6\" class=\"sk-top-container\"><div class=\"sk-text-repr-fallback\"><pre>SVC(kernel=&#x27;poly&#x27;)</pre><b>In a Jupyter environment, please rerun this cell to show the HTML representation or trust the notebook. <br />On GitHub, the HTML representation is unable to render, please try loading this page with nbviewer.org.</b></div><div class=\"sk-container\" hidden><div class=\"sk-item\"><div class=\"sk-estimator sk-toggleable\"><input class=\"sk-toggleable__control sk-hidden--visually\" id=\"sk-estimator-id-6\" type=\"checkbox\" checked><label for=\"sk-estimator-id-6\" class=\"sk-toggleable__label sk-toggleable__label-arrow\">SVC</label><div class=\"sk-toggleable__content\"><pre>SVC(kernel=&#x27;poly&#x27;)</pre></div></div></div></div></div>"
      ],
      "text/plain": [
       "SVC(kernel='poly')"
      ]
     },
     "execution_count": 30,
     "metadata": {},
     "output_type": "execute_result"
    }
   ],
   "source": [
    "params = {'C': 1.0,'kernel': 'poly', 'gamma': 'scale'}\n",
    "classifier_poly_10 = SVC(**params)\n",
    "# Se entrena\n",
    "classifier_poly_10.fit(features_train, y_train)"
   ]
  },
  {
   "cell_type": "code",
   "execution_count": 31,
   "metadata": {
    "colab": {},
    "colab_type": "code",
    "id": "8BWX7kC3J4u1"
   },
   "outputs": [],
   "source": [
    "y_val_pred_poly_10 = classifier_poly_10.predict(features_val)"
   ]
  },
  {
   "cell_type": "code",
   "execution_count": 32,
   "metadata": {
    "colab": {
     "base_uri": "https://localhost:8080/",
     "height": 35
    },
    "colab_type": "code",
    "executionInfo": {
     "elapsed": 522,
     "status": "ok",
     "timestamp": 1575075840396,
     "user": {
      "displayName": "NICOLÁS CONTRERAS PÉREZ",
      "photoUrl": "https://lh3.googleusercontent.com/a-/AAuE7mANL93JriQg3fqcdsDQwME8Rsl3QLrcVI55zCja=s64",
      "userId": "09973929232898584669"
     },
     "user_tz": 180
    },
    "id": "KHes6afoJ43K",
    "outputId": "15e78a5e-94a7-4947-ba25-a73a94790a64"
   },
   "outputs": [
    {
     "data": {
      "text/plain": [
       "0.7444809769844998"
      ]
     },
     "execution_count": 32,
     "metadata": {},
     "output_type": "execute_result"
    }
   ],
   "source": [
    "accuracy_score(y_val, y_val_pred_poly_10)"
   ]
  },
  {
   "cell_type": "markdown",
   "metadata": {
    "colab_type": "text",
    "id": "cqcBp1BdJ5i4"
   },
   "source": [
    "Rendimiento final de todos los modelos"
   ]
  },
  {
   "cell_type": "code",
   "execution_count": 33,
   "metadata": {
    "colab": {
     "base_uri": "https://localhost:8080/",
     "height": 1000
    },
    "colab_type": "code",
    "executionInfo": {
     "elapsed": 166662,
     "status": "ok",
     "timestamp": 1575076015540,
     "user": {
      "displayName": "NICOLÁS CONTRERAS PÉREZ",
      "photoUrl": "https://lh3.googleusercontent.com/a-/AAuE7mANL93JriQg3fqcdsDQwME8Rsl3QLrcVI55zCja=s64",
      "userId": "09973929232898584669"
     },
     "user_tz": 180
    },
    "id": "83m-m_rTLScs",
    "outputId": "5836fbf1-8502-4b3a-9afe-a27814a9a895"
   },
   "outputs": [
    {
     "name": "stdout",
     "output_type": "stream",
     "text": [
      "##############################\n",
      "\n",
      "Rendimiento final de todos los modelos en training\n",
      "\n",
      "                      precision    recall  f1-score   support\n",
      "\n",
      "    c_1_linear_train       0.99      0.99      0.99     10502\n",
      "c_1_linear_train_sol       0.99      0.99      0.99      9566\n",
      "\n",
      "            accuracy                           0.99     20068\n",
      "           macro avg       0.99      0.99      0.99     20068\n",
      "        weighted avg       0.99      0.99      0.99     20068\n",
      "\n",
      "                       precision    recall  f1-score   support\n",
      "\n",
      "    c_10_linear_train       1.00      1.00      1.00     10502\n",
      "c_10_linear_train_sol       1.00      1.00      1.00      9566\n",
      "\n",
      "             accuracy                           1.00     20068\n",
      "            macro avg       1.00      1.00      1.00     20068\n",
      "         weighted avg       1.00      1.00      1.00     20068\n",
      "\n",
      "                   precision    recall  f1-score   support\n",
      "\n",
      "    c_1_rbf_train       0.98      0.98      0.98     10502\n",
      "c_1_rbf_train_sol       0.98      0.97      0.98      9566\n",
      "\n",
      "         accuracy                           0.98     20068\n",
      "        macro avg       0.98      0.98      0.98     20068\n",
      "     weighted avg       0.98      0.98      0.98     20068\n",
      "\n",
      "                    precision    recall  f1-score   support\n",
      "\n",
      "    c_10_rbf_train       1.00      1.00      1.00     10502\n",
      "c_10_rbf_train_sol       1.00      1.00      1.00      9566\n",
      "\n",
      "          accuracy                           1.00     20068\n",
      "         macro avg       1.00      1.00      1.00     20068\n",
      "      weighted avg       1.00      1.00      1.00     20068\n",
      "\n",
      "                    precision    recall  f1-score   support\n",
      "\n",
      "    c_1_poly_train       0.96      1.00      0.98     10502\n",
      "c_1_poly_train_sol       1.00      0.95      0.97      9566\n",
      "\n",
      "          accuracy                           0.98     20068\n",
      "         macro avg       0.98      0.98      0.98     20068\n",
      "      weighted avg       0.98      0.98      0.98     20068\n",
      "\n",
      "                     precision    recall  f1-score   support\n",
      "\n",
      "    c_10_poly_train       0.96      1.00      0.98     10502\n",
      "c_10_poly_train_sol       1.00      0.95      0.97      9566\n",
      "\n",
      "           accuracy                           0.98     20068\n",
      "          macro avg       0.98      0.98      0.98     20068\n",
      "       weighted avg       0.98      0.98      0.98     20068\n",
      "\n",
      "\n",
      "Rendimiento final de todos los modelos en validación\n",
      "\n",
      "                    precision    recall  f1-score   support\n",
      "\n",
      "    c_1_linear_val       0.82      0.84      0.83      2237\n",
      "c_1_linear_val_sol       0.82      0.80      0.81      2021\n",
      "\n",
      "          accuracy                           0.82      4258\n",
      "         macro avg       0.82      0.82      0.82      4258\n",
      "      weighted avg       0.82      0.82      0.82      4258\n",
      "\n",
      "                     precision    recall  f1-score   support\n",
      "\n",
      "    c_10_linear_val       0.80      0.82      0.81      2237\n",
      "c_10_linear_val_sol       0.79      0.77      0.78      2021\n",
      "\n",
      "           accuracy                           0.80      4258\n",
      "          macro avg       0.80      0.80      0.80      4258\n",
      "       weighted avg       0.80      0.80      0.80      4258\n",
      "\n",
      "                 precision    recall  f1-score   support\n",
      "\n",
      "    c_1_rbf_val       0.85      0.83      0.84      2237\n",
      "c_1_rbf_val_sol       0.82      0.84      0.83      2021\n",
      "\n",
      "       accuracy                           0.84      4258\n",
      "      macro avg       0.83      0.84      0.83      4258\n",
      "   weighted avg       0.84      0.84      0.84      4258\n",
      "\n",
      "                  precision    recall  f1-score   support\n",
      "\n",
      "    c_10_rbf_val       0.86      0.85      0.85      2237\n",
      "c_10_rbf_val_sol       0.84      0.84      0.84      2021\n",
      "\n",
      "        accuracy                           0.85      4258\n",
      "       macro avg       0.85      0.85      0.85      4258\n",
      "    weighted avg       0.85      0.85      0.85      4258\n",
      "\n",
      "                  precision    recall  f1-score   support\n",
      "\n",
      "    c_1_poly_val       0.70      0.90      0.79      2237\n",
      "c_1_poly_val_sol       0.84      0.57      0.68      2021\n",
      "\n",
      "        accuracy                           0.74      4258\n",
      "       macro avg       0.77      0.74      0.73      4258\n",
      "    weighted avg       0.76      0.74      0.74      4258\n",
      "\n",
      "                   precision    recall  f1-score   support\n",
      "\n",
      "    c_10_poly_val       0.70      0.90      0.79      2237\n",
      "c_10_poly_val_sol       0.84      0.57      0.68      2021\n",
      "\n",
      "         accuracy                           0.74      4258\n",
      "        macro avg       0.77      0.74      0.73      4258\n",
      "     weighted avg       0.76      0.74      0.74      4258\n",
      "\n",
      "##############################\n",
      "\n"
     ]
    }
   ],
   "source": [
    "from sklearn.metrics import classification_report\n",
    "print(\"#\" * 30)\n",
    "print(\"\\nRendimiento final de todos los modelos en training\\n\")\n",
    "\n",
    "\n",
    "print(classification_report(y_train, classifier_linear_1.predict(features_train), target_names=['c_1_linear_train', 'c_1_linear_train_sol']))\n",
    "print(classification_report(y_train, classifier_linear_10.predict(features_train), target_names=['c_10_linear_train', 'c_10_linear_train_sol']))\n",
    "print(classification_report(y_train, classifier_rbf_1.predict(features_train), target_names=['c_1_rbf_train', 'c_1_rbf_train_sol']))\n",
    "print(classification_report(y_train, classifier_rbf_10.predict(features_train), target_names=['c_10_rbf_train', 'c_10_rbf_train_sol']))\n",
    "print(classification_report(y_train, classifier_poly_1.predict(features_train), target_names=['c_1_poly_train', 'c_1_poly_train_sol']))\n",
    "print(classification_report(y_train, classifier_poly_10.predict(features_train), target_names=['c_10_poly_train', 'c_10_poly_train_sol']))\n",
    "\n",
    "print(\"\\nRendimiento final de todos los modelos en validación\\n\")\n",
    "\n",
    "print(classification_report(y_val, y_val_pred_linear_1, target_names=['c_1_linear_val', 'c_1_linear_val_sol']))\n",
    "print(classification_report(y_val, y_val_pred_linear_10, target_names=['c_10_linear_val', 'c_10_linear_val_sol']))\n",
    "print(classification_report(y_val, y_val_pred_rbf_1, target_names=['c_1_rbf_val', 'c_1_rbf_val_sol']))\n",
    "print(classification_report(y_val, y_val_pred_rbf_10, target_names=['c_10_rbf_val', 'c_10_rbf_val_sol']))\n",
    "print(classification_report(y_val, y_val_pred_poly_1, target_names=['c_1_poly_val', 'c_1_poly_val_sol']))\n",
    "print(classification_report(y_val, y_val_pred_poly_10, target_names=['c_10_poly_val', 'c_10_poly_val_sol']))\n",
    "print(\"#\" * 30 + \"\\n\")"
   ]
  },
  {
   "cell_type": "markdown",
   "metadata": {
    "colab_type": "text",
    "id": "BYI7rjUAkLwb"
   },
   "source": [
    "Los cambios de **C** y **kernel** no son tan preponderantes en training ya que como esta es la etapa de entrenamiento, con todas las configuraciones posibles siempre se obtendrán buenos resultados. Los cambios y diferencias más significativas se visualizan en la etapa de validación. Como se utilizan conjuntos de datos aleatorios en cada iteración de configuraciones, para cada iteración el rendimiento del clasificador es diferente lo que permite asegurar que un clasificador es mejor o con mejor rendimiento que otro. \n",
    "Para un kernel de tipo lineal, se obtuvo que ha medida que se aumentaba el valor de c el rendimiento se deterioraba. Para rbf al aumentar hasta 10 el valor de c, el rendmiento mejora. Por último, para kernel tipo poly al aumentar c el rendimiento se mantiene."
   ]
  },
  {
   "cell_type": "markdown",
   "metadata": {
    "colab_type": "text",
    "id": "8IfkqiCap80s"
   },
   "source": [
    "### **Actividad 4**"
   ]
  },
  {
   "cell_type": "markdown",
   "metadata": {
    "colab_type": "text",
    "id": "8uawjeArvZ6u"
   },
   "source": [
    "El mejor clasificador SVM según el análisis de la actividad anterior se forma utilizando kernel = rbf y C = 10. El criterio utilizado para hacer la  selección es tomar en cuenta el rendimiento del clasificador con el comando ***accuracy_score(y_val, y_val_pred)***, escogiendo el con mejor resultado. "
   ]
  },
  {
   "cell_type": "markdown",
   "metadata": {
    "colab_type": "text",
    "id": "IBedSryi3YYQ"
   },
   "source": [
    "Se instancia el modelo escogido:"
   ]
  },
  {
   "cell_type": "code",
   "execution_count": 34,
   "metadata": {
    "colab": {
     "base_uri": "https://localhost:8080/",
     "height": 91
    },
    "colab_type": "code",
    "executionInfo": {
     "elapsed": 157400,
     "status": "ok",
     "timestamp": 1575076184715,
     "user": {
      "displayName": "NICOLÁS CONTRERAS PÉREZ",
      "photoUrl": "https://lh3.googleusercontent.com/a-/AAuE7mANL93JriQg3fqcdsDQwME8Rsl3QLrcVI55zCja=s64",
      "userId": "09973929232898584669"
     },
     "user_tz": 180
    },
    "id": "Ay0TufJ93RQH",
    "outputId": "15f96c69-66b0-4c1e-872c-d7bf3e7d1bc5"
   },
   "outputs": [
    {
     "data": {
      "text/html": [
       "<style>#sk-container-id-7 {color: black;background-color: white;}#sk-container-id-7 pre{padding: 0;}#sk-container-id-7 div.sk-toggleable {background-color: white;}#sk-container-id-7 label.sk-toggleable__label {cursor: pointer;display: block;width: 100%;margin-bottom: 0;padding: 0.3em;box-sizing: border-box;text-align: center;}#sk-container-id-7 label.sk-toggleable__label-arrow:before {content: \"▸\";float: left;margin-right: 0.25em;color: #696969;}#sk-container-id-7 label.sk-toggleable__label-arrow:hover:before {color: black;}#sk-container-id-7 div.sk-estimator:hover label.sk-toggleable__label-arrow:before {color: black;}#sk-container-id-7 div.sk-toggleable__content {max-height: 0;max-width: 0;overflow: hidden;text-align: left;background-color: #f0f8ff;}#sk-container-id-7 div.sk-toggleable__content pre {margin: 0.2em;color: black;border-radius: 0.25em;background-color: #f0f8ff;}#sk-container-id-7 input.sk-toggleable__control:checked~div.sk-toggleable__content {max-height: 200px;max-width: 100%;overflow: auto;}#sk-container-id-7 input.sk-toggleable__control:checked~label.sk-toggleable__label-arrow:before {content: \"▾\";}#sk-container-id-7 div.sk-estimator input.sk-toggleable__control:checked~label.sk-toggleable__label {background-color: #d4ebff;}#sk-container-id-7 div.sk-label input.sk-toggleable__control:checked~label.sk-toggleable__label {background-color: #d4ebff;}#sk-container-id-7 input.sk-hidden--visually {border: 0;clip: rect(1px 1px 1px 1px);clip: rect(1px, 1px, 1px, 1px);height: 1px;margin: -1px;overflow: hidden;padding: 0;position: absolute;width: 1px;}#sk-container-id-7 div.sk-estimator {font-family: monospace;background-color: #f0f8ff;border: 1px dotted black;border-radius: 0.25em;box-sizing: border-box;margin-bottom: 0.5em;}#sk-container-id-7 div.sk-estimator:hover {background-color: #d4ebff;}#sk-container-id-7 div.sk-parallel-item::after {content: \"\";width: 100%;border-bottom: 1px solid gray;flex-grow: 1;}#sk-container-id-7 div.sk-label:hover label.sk-toggleable__label {background-color: #d4ebff;}#sk-container-id-7 div.sk-serial::before {content: \"\";position: absolute;border-left: 1px solid gray;box-sizing: border-box;top: 0;bottom: 0;left: 50%;z-index: 0;}#sk-container-id-7 div.sk-serial {display: flex;flex-direction: column;align-items: center;background-color: white;padding-right: 0.2em;padding-left: 0.2em;position: relative;}#sk-container-id-7 div.sk-item {position: relative;z-index: 1;}#sk-container-id-7 div.sk-parallel {display: flex;align-items: stretch;justify-content: center;background-color: white;position: relative;}#sk-container-id-7 div.sk-item::before, #sk-container-id-7 div.sk-parallel-item::before {content: \"\";position: absolute;border-left: 1px solid gray;box-sizing: border-box;top: 0;bottom: 0;left: 50%;z-index: -1;}#sk-container-id-7 div.sk-parallel-item {display: flex;flex-direction: column;z-index: 1;position: relative;background-color: white;}#sk-container-id-7 div.sk-parallel-item:first-child::after {align-self: flex-end;width: 50%;}#sk-container-id-7 div.sk-parallel-item:last-child::after {align-self: flex-start;width: 50%;}#sk-container-id-7 div.sk-parallel-item:only-child::after {width: 0;}#sk-container-id-7 div.sk-dashed-wrapped {border: 1px dashed gray;margin: 0 0.4em 0.5em 0.4em;box-sizing: border-box;padding-bottom: 0.4em;background-color: white;}#sk-container-id-7 div.sk-label label {font-family: monospace;font-weight: bold;display: inline-block;line-height: 1.2em;}#sk-container-id-7 div.sk-label-container {text-align: center;}#sk-container-id-7 div.sk-container {/* jupyter's `normalize.less` sets `[hidden] { display: none; }` but bootstrap.min.css set `[hidden] { display: none !important; }` so we also need the `!important` here to be able to override the default hidden behavior on the sphinx rendered scikit-learn.org. See: https://github.com/scikit-learn/scikit-learn/issues/21755 */display: inline-block !important;position: relative;}#sk-container-id-7 div.sk-text-repr-fallback {display: none;}</style><div id=\"sk-container-id-7\" class=\"sk-top-container\"><div class=\"sk-text-repr-fallback\"><pre>SVC(C=10)</pre><b>In a Jupyter environment, please rerun this cell to show the HTML representation or trust the notebook. <br />On GitHub, the HTML representation is unable to render, please try loading this page with nbviewer.org.</b></div><div class=\"sk-container\" hidden><div class=\"sk-item\"><div class=\"sk-estimator sk-toggleable\"><input class=\"sk-toggleable__control sk-hidden--visually\" id=\"sk-estimator-id-7\" type=\"checkbox\" checked><label for=\"sk-estimator-id-7\" class=\"sk-toggleable__label sk-toggleable__label-arrow\">SVC</label><div class=\"sk-toggleable__content\"><pre>SVC(C=10)</pre></div></div></div></div></div>"
      ],
      "text/plain": [
       "SVC(C=10)"
      ]
     },
     "execution_count": 34,
     "metadata": {},
     "output_type": "execute_result"
    }
   ],
   "source": [
    "params = {'C': 10, 'kernel': 'rbf', 'gamma': 'scale'}\n",
    "classifier_rbf_10 = SVC(**params)\n",
    "# Se entrena\n",
    "classifier_rbf_10.fit(features_train, y_train)"
   ]
  },
  {
   "cell_type": "code",
   "execution_count": 35,
   "metadata": {
    "colab": {},
    "colab_type": "code",
    "id": "pG-qK4by6XbE"
   },
   "outputs": [],
   "source": [
    "y_val_pred_rbf_10 = classifier_rbf_10.predict(features_val)"
   ]
  },
  {
   "cell_type": "markdown",
   "metadata": {
    "colab_type": "text",
    "id": "sslfVNIl6hqC"
   },
   "source": [
    "El modelo posee un rendimiento de 0.846 aproximadamente."
   ]
  },
  {
   "cell_type": "code",
   "execution_count": 36,
   "metadata": {
    "colab": {
     "base_uri": "https://localhost:8080/",
     "height": 35
    },
    "colab_type": "code",
    "executionInfo": {
     "elapsed": 1387,
     "status": "ok",
     "timestamp": 1575076192127,
     "user": {
      "displayName": "NICOLÁS CONTRERAS PÉREZ",
      "photoUrl": "https://lh3.googleusercontent.com/a-/AAuE7mANL93JriQg3fqcdsDQwME8Rsl3QLrcVI55zCja=s64",
      "userId": "09973929232898584669"
     },
     "user_tz": 180
    },
    "id": "uy8IUA4s6XqZ",
    "outputId": "4ee9678c-7399-4ec5-dcc2-15d226a3d7a3"
   },
   "outputs": [
    {
     "data": {
      "text/plain": [
       "0.8464067637388445"
      ]
     },
     "execution_count": 36,
     "metadata": {},
     "output_type": "execute_result"
    }
   ],
   "source": [
    "accuracy_score(y_val, y_val_pred_rbf_10)"
   ]
  },
  {
   "cell_type": "markdown",
   "metadata": {
    "colab_type": "text",
    "id": "a-sKwX2T7F0k"
   },
   "source": [
    "Se evalúa el modelo en el conjunto de test:"
   ]
  },
  {
   "cell_type": "code",
   "execution_count": 37,
   "metadata": {
    "colab": {},
    "colab_type": "code",
    "id": "5J6kgzA6p_H9"
   },
   "outputs": [],
   "source": [
    "y_test_pred_linear = classifier_rbf_10.predict(features_test)  \n"
   ]
  },
  {
   "cell_type": "markdown",
   "metadata": {
    "colab_type": "text",
    "id": "5jLjQQ4TxlBS"
   },
   "source": [
    "Rendimiento del test:"
   ]
  },
  {
   "cell_type": "code",
   "execution_count": 38,
   "metadata": {
    "colab": {
     "base_uri": "https://localhost:8080/",
     "height": 35
    },
    "colab_type": "code",
    "executionInfo": {
     "elapsed": 6087,
     "status": "ok",
     "timestamp": 1575076204995,
     "user": {
      "displayName": "NICOLÁS CONTRERAS PÉREZ",
      "photoUrl": "https://lh3.googleusercontent.com/a-/AAuE7mANL93JriQg3fqcdsDQwME8Rsl3QLrcVI55zCja=s64",
      "userId": "09973929232898584669"
     },
     "user_tz": 180
    },
    "id": "_ceCkj1pVZxk",
    "outputId": "8bfdac02-6d06-4d83-ed46-115313e060e0"
   },
   "outputs": [
    {
     "data": {
      "text/plain": [
       "0.8455625436757512"
      ]
     },
     "execution_count": 38,
     "metadata": {},
     "output_type": "execute_result"
    }
   ],
   "source": [
    "accuracy_score(y_test, y_test_pred_linear)"
   ]
  },
  {
   "cell_type": "markdown",
   "metadata": {
    "colab_type": "text",
    "id": "UKXTORedykP-"
   },
   "source": [
    "Ejemplos\n",
    "Tomándolos como valores 1s o 0s para visualizar de mejor manera las predicciones, junto con el texto que el programa sometio a prueba los valores obtenidos son:"
   ]
  },
  {
   "cell_type": "code",
   "execution_count": 39,
   "metadata": {
    "colab": {
     "base_uri": "https://localhost:8080/",
     "height": 405
    },
    "colab_type": "code",
    "executionInfo": {
     "elapsed": 1835,
     "status": "ok",
     "timestamp": 1575076204998,
     "user": {
      "displayName": "NICOLÁS CONTRERAS PÉREZ",
      "photoUrl": "https://lh3.googleusercontent.com/a-/AAuE7mANL93JriQg3fqcdsDQwME8Rsl3QLrcVI55zCja=s64",
      "userId": "09973929232898584669"
     },
     "user_tz": 180
    },
    "id": "vHFAeeAeyl8x",
    "outputId": "5f046f7c-f33b-4148-fa6a-9a74ffff87c9"
   },
   "outputs": [
    {
     "name": "stdout",
     "output_type": "stream",
     "text": [
      "predicción solución texto\n",
      "1           1       frantic last-second study finds old-fashioned donut better for you than bavarian cream\n",
      "0           0       the 3 (unlikely) artists im obsessing over this year\n",
      "1           1       madcap romp escalates into zany hijinks\n",
      "0           0       the 7 stages of potty training\n",
      "0           1       hubris rewarded\n",
      "0           0       gop prays for ossoff lossoff\n",
      "1           1       dad hands phone off to mom immediately after being wished happy fathers day\n",
      "0           0       danielle laportes white hot truth soothes self-help fatigue\n",
      "1           0       nikki lost 89 pounds any mom will tell you scheduling time to exercise can be very hard\n",
      "1           1       redbox debuts new touchscreen in back of kiosk for pornographic features\n",
      "0           0       a viewers guide to tonights democratic debate\n",
      "1           1       boyfriend vows to try harder\n",
      "0           1       charlie rose presses self about sexual harassment allegations in tense charlie rose interview\n",
      "0           0       this was the xfl examining televisions greatest sports flop ever\n",
      "0           0       behold the most magical (and massive) picnic of all time\n",
      "0           0       empowering women and girls to own their worth\n",
      "1           1       zika virus joins lack of paid leave unaffordable child care as reasons woman afraid of getting pregnant\n",
      "1           1       seaworld café introduces new 5-pound orca burger–eating challenge\n",
      "0           0       lesson for urban cities how chicagoans stand up for quality schools\n",
      "0           0       california has become a nationwide leader in better school discipline practices\n"
     ]
    }
   ],
   "source": [
    "# 20 primeras predicciones:\n",
    "\n",
    "prediccion = y_test_pred_linear[:20]\n",
    "testing = y_test[:20]\n",
    "features = x_test[:20]\n",
    "\n",
    "print(\"predicción solución texto\")\n",
    "for pred, sol, text in zip(prediccion, testing, features):\n",
    "  print(pred, \"         \", sol, \"     \", text)"
   ]
  },
  {
   "cell_type": "markdown",
   "metadata": {
    "colab_type": "text",
    "id": "XgHJXrdE1ZAH"
   },
   "source": [
    "Comentarios\n",
    "\n",
    "Se puede visualizar que la mayoría de los errores que cometió el clasificador se produjeron en oraciones que poseen palabras poco conocidas o 'inventadas'. Esto no quita que haya acertado su predicción con palabras de este tipo, pero generalmente si hay una equivocación hay una o más palabras poco conocidas. No existe una relación entre el tamaño de la oración y la predicción; el algoritmo predijo correcta y equivocadamente oraciones de todo tipo de largo."
   ]
  },
  {
   "cell_type": "markdown",
   "metadata": {
    "colab_type": "text",
    "id": "WLT4QL09p_xk"
   },
   "source": [
    "### **Actividad 5**"
   ]
  },
  {
   "cell_type": "markdown",
   "metadata": {
    "colab_type": "text",
    "id": "kQsZn2N9-DLm"
   },
   "source": [
    "Redes Neuronales"
   ]
  },
  {
   "cell_type": "code",
   "execution_count": 40,
   "metadata": {
    "colab": {},
    "colab_type": "code",
    "id": "n0CHTtwfqBWv"
   },
   "outputs": [],
   "source": [
    "from sklearn.neural_network import MLPClassifier"
   ]
  },
  {
   "cell_type": "markdown",
   "metadata": {
    "colab_type": "text",
    "id": "gLiFxg-x-FiF"
   },
   "source": [
    "Se realizan diferentes iteraciones con configuraciones de redes neuronales cambiando la cantidad de capas y el tamaño de estas. Los resultados o redes neuronales más interesantes son:"
   ]
  },
  {
   "cell_type": "markdown",
   "metadata": {
    "colab_type": "text",
    "id": "kL4DdTwNBVYk"
   },
   "source": [
    "\n",
    "\n",
    "*   3 Capas de tamaño 30\n",
    "\n"
   ]
  },
  {
   "cell_type": "code",
   "execution_count": 41,
   "metadata": {
    "colab": {},
    "colab_type": "code",
    "id": "_DIofC3L3Ob3"
   },
   "outputs": [],
   "source": [
    "clf_3_30 = MLPClassifier(solver='adam', random_state=1, max_iter=30, hidden_layer_sizes=(30, 30, 30))"
   ]
  },
  {
   "cell_type": "code",
   "execution_count": 42,
   "metadata": {
    "colab": {
     "base_uri": "https://localhost:8080/",
     "height": 146
    },
    "colab_type": "code",
    "executionInfo": {
     "elapsed": 62238,
     "status": "ok",
     "timestamp": 1575076286470,
     "user": {
      "displayName": "NICOLÁS CONTRERAS PÉREZ",
      "photoUrl": "https://lh3.googleusercontent.com/a-/AAuE7mANL93JriQg3fqcdsDQwME8Rsl3QLrcVI55zCja=s64",
      "userId": "09973929232898584669"
     },
     "user_tz": 180
    },
    "id": "zsltJTMw3Op_",
    "outputId": "4baf72bb-898b-4d3b-cc58-7d184f612759"
   },
   "outputs": [
    {
     "data": {
      "text/html": [
       "<style>#sk-container-id-8 {color: black;background-color: white;}#sk-container-id-8 pre{padding: 0;}#sk-container-id-8 div.sk-toggleable {background-color: white;}#sk-container-id-8 label.sk-toggleable__label {cursor: pointer;display: block;width: 100%;margin-bottom: 0;padding: 0.3em;box-sizing: border-box;text-align: center;}#sk-container-id-8 label.sk-toggleable__label-arrow:before {content: \"▸\";float: left;margin-right: 0.25em;color: #696969;}#sk-container-id-8 label.sk-toggleable__label-arrow:hover:before {color: black;}#sk-container-id-8 div.sk-estimator:hover label.sk-toggleable__label-arrow:before {color: black;}#sk-container-id-8 div.sk-toggleable__content {max-height: 0;max-width: 0;overflow: hidden;text-align: left;background-color: #f0f8ff;}#sk-container-id-8 div.sk-toggleable__content pre {margin: 0.2em;color: black;border-radius: 0.25em;background-color: #f0f8ff;}#sk-container-id-8 input.sk-toggleable__control:checked~div.sk-toggleable__content {max-height: 200px;max-width: 100%;overflow: auto;}#sk-container-id-8 input.sk-toggleable__control:checked~label.sk-toggleable__label-arrow:before {content: \"▾\";}#sk-container-id-8 div.sk-estimator input.sk-toggleable__control:checked~label.sk-toggleable__label {background-color: #d4ebff;}#sk-container-id-8 div.sk-label input.sk-toggleable__control:checked~label.sk-toggleable__label {background-color: #d4ebff;}#sk-container-id-8 input.sk-hidden--visually {border: 0;clip: rect(1px 1px 1px 1px);clip: rect(1px, 1px, 1px, 1px);height: 1px;margin: -1px;overflow: hidden;padding: 0;position: absolute;width: 1px;}#sk-container-id-8 div.sk-estimator {font-family: monospace;background-color: #f0f8ff;border: 1px dotted black;border-radius: 0.25em;box-sizing: border-box;margin-bottom: 0.5em;}#sk-container-id-8 div.sk-estimator:hover {background-color: #d4ebff;}#sk-container-id-8 div.sk-parallel-item::after {content: \"\";width: 100%;border-bottom: 1px solid gray;flex-grow: 1;}#sk-container-id-8 div.sk-label:hover label.sk-toggleable__label {background-color: #d4ebff;}#sk-container-id-8 div.sk-serial::before {content: \"\";position: absolute;border-left: 1px solid gray;box-sizing: border-box;top: 0;bottom: 0;left: 50%;z-index: 0;}#sk-container-id-8 div.sk-serial {display: flex;flex-direction: column;align-items: center;background-color: white;padding-right: 0.2em;padding-left: 0.2em;position: relative;}#sk-container-id-8 div.sk-item {position: relative;z-index: 1;}#sk-container-id-8 div.sk-parallel {display: flex;align-items: stretch;justify-content: center;background-color: white;position: relative;}#sk-container-id-8 div.sk-item::before, #sk-container-id-8 div.sk-parallel-item::before {content: \"\";position: absolute;border-left: 1px solid gray;box-sizing: border-box;top: 0;bottom: 0;left: 50%;z-index: -1;}#sk-container-id-8 div.sk-parallel-item {display: flex;flex-direction: column;z-index: 1;position: relative;background-color: white;}#sk-container-id-8 div.sk-parallel-item:first-child::after {align-self: flex-end;width: 50%;}#sk-container-id-8 div.sk-parallel-item:last-child::after {align-self: flex-start;width: 50%;}#sk-container-id-8 div.sk-parallel-item:only-child::after {width: 0;}#sk-container-id-8 div.sk-dashed-wrapped {border: 1px dashed gray;margin: 0 0.4em 0.5em 0.4em;box-sizing: border-box;padding-bottom: 0.4em;background-color: white;}#sk-container-id-8 div.sk-label label {font-family: monospace;font-weight: bold;display: inline-block;line-height: 1.2em;}#sk-container-id-8 div.sk-label-container {text-align: center;}#sk-container-id-8 div.sk-container {/* jupyter's `normalize.less` sets `[hidden] { display: none; }` but bootstrap.min.css set `[hidden] { display: none !important; }` so we also need the `!important` here to be able to override the default hidden behavior on the sphinx rendered scikit-learn.org. See: https://github.com/scikit-learn/scikit-learn/issues/21755 */display: inline-block !important;position: relative;}#sk-container-id-8 div.sk-text-repr-fallback {display: none;}</style><div id=\"sk-container-id-8\" class=\"sk-top-container\"><div class=\"sk-text-repr-fallback\"><pre>MLPClassifier(hidden_layer_sizes=(30, 30, 30), max_iter=30, random_state=1)</pre><b>In a Jupyter environment, please rerun this cell to show the HTML representation or trust the notebook. <br />On GitHub, the HTML representation is unable to render, please try loading this page with nbviewer.org.</b></div><div class=\"sk-container\" hidden><div class=\"sk-item\"><div class=\"sk-estimator sk-toggleable\"><input class=\"sk-toggleable__control sk-hidden--visually\" id=\"sk-estimator-id-8\" type=\"checkbox\" checked><label for=\"sk-estimator-id-8\" class=\"sk-toggleable__label sk-toggleable__label-arrow\">MLPClassifier</label><div class=\"sk-toggleable__content\"><pre>MLPClassifier(hidden_layer_sizes=(30, 30, 30), max_iter=30, random_state=1)</pre></div></div></div></div></div>"
      ],
      "text/plain": [
       "MLPClassifier(hidden_layer_sizes=(30, 30, 30), max_iter=30, random_state=1)"
      ]
     },
     "execution_count": 42,
     "metadata": {},
     "output_type": "execute_result"
    }
   ],
   "source": [
    "clf_3_30.fit(features_train, y_train)"
   ]
  },
  {
   "cell_type": "code",
   "execution_count": 43,
   "metadata": {
    "colab": {},
    "colab_type": "code",
    "id": "pnrXFZyZ3PE6"
   },
   "outputs": [],
   "source": [
    "y_pred_3_30 = clf_3_30.predict(features_val) "
   ]
  },
  {
   "cell_type": "code",
   "execution_count": 44,
   "metadata": {
    "colab": {
     "base_uri": "https://localhost:8080/",
     "height": 35
    },
    "colab_type": "code",
    "executionInfo": {
     "elapsed": 56056,
     "status": "ok",
     "timestamp": 1575076286482,
     "user": {
      "displayName": "NICOLÁS CONTRERAS PÉREZ",
      "photoUrl": "https://lh3.googleusercontent.com/a-/AAuE7mANL93JriQg3fqcdsDQwME8Rsl3QLrcVI55zCja=s64",
      "userId": "09973929232898584669"
     },
     "user_tz": 180
    },
    "id": "mt8mt5ZYEBgd",
    "outputId": "86bc873a-1cd4-4031-bdb2-44ebf2b0cd00"
   },
   "outputs": [
    {
     "name": "stdout",
     "output_type": "stream",
     "text": [
      "0.8142320338186942\n"
     ]
    }
   ],
   "source": [
    "cap1 = accuracy_score(y_val, y_pred_3_30)\n",
    "print(cap1)"
   ]
  },
  {
   "cell_type": "markdown",
   "metadata": {
    "colab_type": "text",
    "id": "tKWIaWsARpDB"
   },
   "source": [
    "\n",
    "\n",
    "*   1 Capa de tamaño 200\n",
    "\n"
   ]
  },
  {
   "cell_type": "code",
   "execution_count": 45,
   "metadata": {
    "colab": {},
    "colab_type": "code",
    "id": "Ab57TKt2Rrit"
   },
   "outputs": [],
   "source": [
    "clf_1_200 = MLPClassifier(solver='adam', random_state=1, max_iter=30, hidden_layer_sizes=(200,))"
   ]
  },
  {
   "cell_type": "code",
   "execution_count": 46,
   "metadata": {
    "colab": {
     "base_uri": "https://localhost:8080/",
     "height": 203
    },
    "colab_type": "code",
    "executionInfo": {
     "elapsed": 540265,
     "status": "ok",
     "timestamp": 1575076778494,
     "user": {
      "displayName": "NICOLÁS CONTRERAS PÉREZ",
      "photoUrl": "https://lh3.googleusercontent.com/a-/AAuE7mANL93JriQg3fqcdsDQwME8Rsl3QLrcVI55zCja=s64",
      "userId": "09973929232898584669"
     },
     "user_tz": 180
    },
    "id": "d2aLgUxXR63I",
    "outputId": "019e6de6-a258-4eda-f217-d1b6c48b6580"
   },
   "outputs": [
    {
     "name": "stderr",
     "output_type": "stream",
     "text": [
      "C:\\Users\\nicol\\anaconda3\\envs\\stasc\\lib\\site-packages\\sklearn\\neural_network\\_multilayer_perceptron.py:702: ConvergenceWarning: Stochastic Optimizer: Maximum iterations (30) reached and the optimization hasn't converged yet.\n",
      "  warnings.warn(\n"
     ]
    },
    {
     "data": {
      "text/html": [
       "<style>#sk-container-id-9 {color: black;background-color: white;}#sk-container-id-9 pre{padding: 0;}#sk-container-id-9 div.sk-toggleable {background-color: white;}#sk-container-id-9 label.sk-toggleable__label {cursor: pointer;display: block;width: 100%;margin-bottom: 0;padding: 0.3em;box-sizing: border-box;text-align: center;}#sk-container-id-9 label.sk-toggleable__label-arrow:before {content: \"▸\";float: left;margin-right: 0.25em;color: #696969;}#sk-container-id-9 label.sk-toggleable__label-arrow:hover:before {color: black;}#sk-container-id-9 div.sk-estimator:hover label.sk-toggleable__label-arrow:before {color: black;}#sk-container-id-9 div.sk-toggleable__content {max-height: 0;max-width: 0;overflow: hidden;text-align: left;background-color: #f0f8ff;}#sk-container-id-9 div.sk-toggleable__content pre {margin: 0.2em;color: black;border-radius: 0.25em;background-color: #f0f8ff;}#sk-container-id-9 input.sk-toggleable__control:checked~div.sk-toggleable__content {max-height: 200px;max-width: 100%;overflow: auto;}#sk-container-id-9 input.sk-toggleable__control:checked~label.sk-toggleable__label-arrow:before {content: \"▾\";}#sk-container-id-9 div.sk-estimator input.sk-toggleable__control:checked~label.sk-toggleable__label {background-color: #d4ebff;}#sk-container-id-9 div.sk-label input.sk-toggleable__control:checked~label.sk-toggleable__label {background-color: #d4ebff;}#sk-container-id-9 input.sk-hidden--visually {border: 0;clip: rect(1px 1px 1px 1px);clip: rect(1px, 1px, 1px, 1px);height: 1px;margin: -1px;overflow: hidden;padding: 0;position: absolute;width: 1px;}#sk-container-id-9 div.sk-estimator {font-family: monospace;background-color: #f0f8ff;border: 1px dotted black;border-radius: 0.25em;box-sizing: border-box;margin-bottom: 0.5em;}#sk-container-id-9 div.sk-estimator:hover {background-color: #d4ebff;}#sk-container-id-9 div.sk-parallel-item::after {content: \"\";width: 100%;border-bottom: 1px solid gray;flex-grow: 1;}#sk-container-id-9 div.sk-label:hover label.sk-toggleable__label {background-color: #d4ebff;}#sk-container-id-9 div.sk-serial::before {content: \"\";position: absolute;border-left: 1px solid gray;box-sizing: border-box;top: 0;bottom: 0;left: 50%;z-index: 0;}#sk-container-id-9 div.sk-serial {display: flex;flex-direction: column;align-items: center;background-color: white;padding-right: 0.2em;padding-left: 0.2em;position: relative;}#sk-container-id-9 div.sk-item {position: relative;z-index: 1;}#sk-container-id-9 div.sk-parallel {display: flex;align-items: stretch;justify-content: center;background-color: white;position: relative;}#sk-container-id-9 div.sk-item::before, #sk-container-id-9 div.sk-parallel-item::before {content: \"\";position: absolute;border-left: 1px solid gray;box-sizing: border-box;top: 0;bottom: 0;left: 50%;z-index: -1;}#sk-container-id-9 div.sk-parallel-item {display: flex;flex-direction: column;z-index: 1;position: relative;background-color: white;}#sk-container-id-9 div.sk-parallel-item:first-child::after {align-self: flex-end;width: 50%;}#sk-container-id-9 div.sk-parallel-item:last-child::after {align-self: flex-start;width: 50%;}#sk-container-id-9 div.sk-parallel-item:only-child::after {width: 0;}#sk-container-id-9 div.sk-dashed-wrapped {border: 1px dashed gray;margin: 0 0.4em 0.5em 0.4em;box-sizing: border-box;padding-bottom: 0.4em;background-color: white;}#sk-container-id-9 div.sk-label label {font-family: monospace;font-weight: bold;display: inline-block;line-height: 1.2em;}#sk-container-id-9 div.sk-label-container {text-align: center;}#sk-container-id-9 div.sk-container {/* jupyter's `normalize.less` sets `[hidden] { display: none; }` but bootstrap.min.css set `[hidden] { display: none !important; }` so we also need the `!important` here to be able to override the default hidden behavior on the sphinx rendered scikit-learn.org. See: https://github.com/scikit-learn/scikit-learn/issues/21755 */display: inline-block !important;position: relative;}#sk-container-id-9 div.sk-text-repr-fallback {display: none;}</style><div id=\"sk-container-id-9\" class=\"sk-top-container\"><div class=\"sk-text-repr-fallback\"><pre>MLPClassifier(hidden_layer_sizes=(200,), max_iter=30, random_state=1)</pre><b>In a Jupyter environment, please rerun this cell to show the HTML representation or trust the notebook. <br />On GitHub, the HTML representation is unable to render, please try loading this page with nbviewer.org.</b></div><div class=\"sk-container\" hidden><div class=\"sk-item\"><div class=\"sk-estimator sk-toggleable\"><input class=\"sk-toggleable__control sk-hidden--visually\" id=\"sk-estimator-id-9\" type=\"checkbox\" checked><label for=\"sk-estimator-id-9\" class=\"sk-toggleable__label sk-toggleable__label-arrow\">MLPClassifier</label><div class=\"sk-toggleable__content\"><pre>MLPClassifier(hidden_layer_sizes=(200,), max_iter=30, random_state=1)</pre></div></div></div></div></div>"
      ],
      "text/plain": [
       "MLPClassifier(hidden_layer_sizes=(200,), max_iter=30, random_state=1)"
      ]
     },
     "execution_count": 46,
     "metadata": {},
     "output_type": "execute_result"
    }
   ],
   "source": [
    "clf_1_200.fit(features_train, y_train)"
   ]
  },
  {
   "cell_type": "code",
   "execution_count": 47,
   "metadata": {
    "colab": {},
    "colab_type": "code",
    "id": "L6jKTYnLSCgv"
   },
   "outputs": [],
   "source": [
    "y_pred_1_200 = clf_1_200.predict(features_val) "
   ]
  },
  {
   "cell_type": "code",
   "execution_count": 48,
   "metadata": {
    "colab": {
     "base_uri": "https://localhost:8080/",
     "height": 35
    },
    "colab_type": "code",
    "executionInfo": {
     "elapsed": 532030,
     "status": "ok",
     "timestamp": 1575076778502,
     "user": {
      "displayName": "NICOLÁS CONTRERAS PÉREZ",
      "photoUrl": "https://lh3.googleusercontent.com/a-/AAuE7mANL93JriQg3fqcdsDQwME8Rsl3QLrcVI55zCja=s64",
      "userId": "09973929232898584669"
     },
     "user_tz": 180
    },
    "id": "SRWZBPIySQkR",
    "outputId": "ef76beff-8cc1-446d-f248-1ce2c7aed2e5"
   },
   "outputs": [
    {
     "name": "stdout",
     "output_type": "stream",
     "text": [
      "0.8132926256458431\n"
     ]
    }
   ],
   "source": [
    "cap2 = accuracy_score(y_val, y_pred_1_200)\n",
    "print(cap2)"
   ]
  },
  {
   "cell_type": "markdown",
   "metadata": {
    "colab_type": "text",
    "id": "-R76Mp7JSUO3"
   },
   "source": [
    "\n",
    "\n",
    "*   3 Capas de tamaño 200\n",
    "\n"
   ]
  },
  {
   "cell_type": "code",
   "execution_count": 49,
   "metadata": {
    "colab": {},
    "colab_type": "code",
    "id": "hY5R4u7ySbkS"
   },
   "outputs": [],
   "source": [
    "clf_3_200 = MLPClassifier(solver='adam', random_state=1, max_iter=30, hidden_layer_sizes=(200, 200, 200)) "
   ]
  },
  {
   "cell_type": "code",
   "execution_count": 50,
   "metadata": {
    "colab": {
     "base_uri": "https://localhost:8080/",
     "height": 146
    },
    "colab_type": "code",
    "executionInfo": {
     "elapsed": 541515,
     "status": "ok",
     "timestamp": 1575077069790,
     "user": {
      "displayName": "NICOLÁS CONTRERAS PÉREZ",
      "photoUrl": "https://lh3.googleusercontent.com/a-/AAuE7mANL93JriQg3fqcdsDQwME8Rsl3QLrcVI55zCja=s64",
      "userId": "09973929232898584669"
     },
     "user_tz": 180
    },
    "id": "szZwDxtNUG5J",
    "outputId": "e2bea14d-d5e3-44ef-b20c-0c3319375afb"
   },
   "outputs": [
    {
     "data": {
      "text/html": [
       "<style>#sk-container-id-10 {color: black;background-color: white;}#sk-container-id-10 pre{padding: 0;}#sk-container-id-10 div.sk-toggleable {background-color: white;}#sk-container-id-10 label.sk-toggleable__label {cursor: pointer;display: block;width: 100%;margin-bottom: 0;padding: 0.3em;box-sizing: border-box;text-align: center;}#sk-container-id-10 label.sk-toggleable__label-arrow:before {content: \"▸\";float: left;margin-right: 0.25em;color: #696969;}#sk-container-id-10 label.sk-toggleable__label-arrow:hover:before {color: black;}#sk-container-id-10 div.sk-estimator:hover label.sk-toggleable__label-arrow:before {color: black;}#sk-container-id-10 div.sk-toggleable__content {max-height: 0;max-width: 0;overflow: hidden;text-align: left;background-color: #f0f8ff;}#sk-container-id-10 div.sk-toggleable__content pre {margin: 0.2em;color: black;border-radius: 0.25em;background-color: #f0f8ff;}#sk-container-id-10 input.sk-toggleable__control:checked~div.sk-toggleable__content {max-height: 200px;max-width: 100%;overflow: auto;}#sk-container-id-10 input.sk-toggleable__control:checked~label.sk-toggleable__label-arrow:before {content: \"▾\";}#sk-container-id-10 div.sk-estimator input.sk-toggleable__control:checked~label.sk-toggleable__label {background-color: #d4ebff;}#sk-container-id-10 div.sk-label input.sk-toggleable__control:checked~label.sk-toggleable__label {background-color: #d4ebff;}#sk-container-id-10 input.sk-hidden--visually {border: 0;clip: rect(1px 1px 1px 1px);clip: rect(1px, 1px, 1px, 1px);height: 1px;margin: -1px;overflow: hidden;padding: 0;position: absolute;width: 1px;}#sk-container-id-10 div.sk-estimator {font-family: monospace;background-color: #f0f8ff;border: 1px dotted black;border-radius: 0.25em;box-sizing: border-box;margin-bottom: 0.5em;}#sk-container-id-10 div.sk-estimator:hover {background-color: #d4ebff;}#sk-container-id-10 div.sk-parallel-item::after {content: \"\";width: 100%;border-bottom: 1px solid gray;flex-grow: 1;}#sk-container-id-10 div.sk-label:hover label.sk-toggleable__label {background-color: #d4ebff;}#sk-container-id-10 div.sk-serial::before {content: \"\";position: absolute;border-left: 1px solid gray;box-sizing: border-box;top: 0;bottom: 0;left: 50%;z-index: 0;}#sk-container-id-10 div.sk-serial {display: flex;flex-direction: column;align-items: center;background-color: white;padding-right: 0.2em;padding-left: 0.2em;position: relative;}#sk-container-id-10 div.sk-item {position: relative;z-index: 1;}#sk-container-id-10 div.sk-parallel {display: flex;align-items: stretch;justify-content: center;background-color: white;position: relative;}#sk-container-id-10 div.sk-item::before, #sk-container-id-10 div.sk-parallel-item::before {content: \"\";position: absolute;border-left: 1px solid gray;box-sizing: border-box;top: 0;bottom: 0;left: 50%;z-index: -1;}#sk-container-id-10 div.sk-parallel-item {display: flex;flex-direction: column;z-index: 1;position: relative;background-color: white;}#sk-container-id-10 div.sk-parallel-item:first-child::after {align-self: flex-end;width: 50%;}#sk-container-id-10 div.sk-parallel-item:last-child::after {align-self: flex-start;width: 50%;}#sk-container-id-10 div.sk-parallel-item:only-child::after {width: 0;}#sk-container-id-10 div.sk-dashed-wrapped {border: 1px dashed gray;margin: 0 0.4em 0.5em 0.4em;box-sizing: border-box;padding-bottom: 0.4em;background-color: white;}#sk-container-id-10 div.sk-label label {font-family: monospace;font-weight: bold;display: inline-block;line-height: 1.2em;}#sk-container-id-10 div.sk-label-container {text-align: center;}#sk-container-id-10 div.sk-container {/* jupyter's `normalize.less` sets `[hidden] { display: none; }` but bootstrap.min.css set `[hidden] { display: none !important; }` so we also need the `!important` here to be able to override the default hidden behavior on the sphinx rendered scikit-learn.org. See: https://github.com/scikit-learn/scikit-learn/issues/21755 */display: inline-block !important;position: relative;}#sk-container-id-10 div.sk-text-repr-fallback {display: none;}</style><div id=\"sk-container-id-10\" class=\"sk-top-container\"><div class=\"sk-text-repr-fallback\"><pre>MLPClassifier(hidden_layer_sizes=(200, 200, 200), max_iter=30, random_state=1)</pre><b>In a Jupyter environment, please rerun this cell to show the HTML representation or trust the notebook. <br />On GitHub, the HTML representation is unable to render, please try loading this page with nbviewer.org.</b></div><div class=\"sk-container\" hidden><div class=\"sk-item\"><div class=\"sk-estimator sk-toggleable\"><input class=\"sk-toggleable__control sk-hidden--visually\" id=\"sk-estimator-id-10\" type=\"checkbox\" checked><label for=\"sk-estimator-id-10\" class=\"sk-toggleable__label sk-toggleable__label-arrow\">MLPClassifier</label><div class=\"sk-toggleable__content\"><pre>MLPClassifier(hidden_layer_sizes=(200, 200, 200), max_iter=30, random_state=1)</pre></div></div></div></div></div>"
      ],
      "text/plain": [
       "MLPClassifier(hidden_layer_sizes=(200, 200, 200), max_iter=30, random_state=1)"
      ]
     },
     "execution_count": 50,
     "metadata": {},
     "output_type": "execute_result"
    }
   ],
   "source": [
    "clf_3_200.fit(features_train, y_train)"
   ]
  },
  {
   "cell_type": "code",
   "execution_count": 51,
   "metadata": {
    "colab": {},
    "colab_type": "code",
    "id": "XqAj8IXJUPeb"
   },
   "outputs": [],
   "source": [
    "y_pred_3_200 = clf_3_200.predict(features_val) "
   ]
  },
  {
   "cell_type": "code",
   "execution_count": 52,
   "metadata": {
    "colab": {
     "base_uri": "https://localhost:8080/",
     "height": 35
    },
    "colab_type": "code",
    "executionInfo": {
     "elapsed": 538539,
     "status": "ok",
     "timestamp": 1575077069796,
     "user": {
      "displayName": "NICOLÁS CONTRERAS PÉREZ",
      "photoUrl": "https://lh3.googleusercontent.com/a-/AAuE7mANL93JriQg3fqcdsDQwME8Rsl3QLrcVI55zCja=s64",
      "userId": "09973929232898584669"
     },
     "user_tz": 180
    },
    "id": "Tm5o0dnnUPbJ",
    "outputId": "51be7a89-5640-4f19-f3f0-77cb8b7e0b90"
   },
   "outputs": [
    {
     "name": "stdout",
     "output_type": "stream",
     "text": [
      "0.8294974166275246\n"
     ]
    }
   ],
   "source": [
    "cap3 = accuracy_score(y_val, y_pred_3_200)\n",
    "print(cap3)"
   ]
  },
  {
   "cell_type": "markdown",
   "metadata": {
    "colab_type": "text",
    "id": "FaHhd2LNB7_O"
   },
   "source": [
    "\n",
    "\n",
    "*   3 Capas de tamaño 50, 100 y 150 respectivamente\n",
    "\n"
   ]
  },
  {
   "cell_type": "code",
   "execution_count": 53,
   "metadata": {
    "colab": {},
    "colab_type": "code",
    "id": "BFRM9tzvGGOd"
   },
   "outputs": [],
   "source": [
    "clf_3_50100150 = MLPClassifier(solver='adam', random_state=1, max_iter=30, hidden_layer_sizes=(50, 100, 150)) "
   ]
  },
  {
   "cell_type": "code",
   "execution_count": 54,
   "metadata": {
    "colab": {
     "base_uri": "https://localhost:8080/",
     "height": 146
    },
    "colab_type": "code",
    "executionInfo": {
     "elapsed": 85393,
     "status": "ok",
     "timestamp": 1575077155230,
     "user": {
      "displayName": "NICOLÁS CONTRERAS PÉREZ",
      "photoUrl": "https://lh3.googleusercontent.com/a-/AAuE7mANL93JriQg3fqcdsDQwME8Rsl3QLrcVI55zCja=s64",
      "userId": "09973929232898584669"
     },
     "user_tz": 180
    },
    "id": "tew692nOGGeL",
    "outputId": "6e5d89b9-5e03-4bda-d1a0-6bd37ffe620b"
   },
   "outputs": [
    {
     "data": {
      "text/html": [
       "<style>#sk-container-id-11 {color: black;background-color: white;}#sk-container-id-11 pre{padding: 0;}#sk-container-id-11 div.sk-toggleable {background-color: white;}#sk-container-id-11 label.sk-toggleable__label {cursor: pointer;display: block;width: 100%;margin-bottom: 0;padding: 0.3em;box-sizing: border-box;text-align: center;}#sk-container-id-11 label.sk-toggleable__label-arrow:before {content: \"▸\";float: left;margin-right: 0.25em;color: #696969;}#sk-container-id-11 label.sk-toggleable__label-arrow:hover:before {color: black;}#sk-container-id-11 div.sk-estimator:hover label.sk-toggleable__label-arrow:before {color: black;}#sk-container-id-11 div.sk-toggleable__content {max-height: 0;max-width: 0;overflow: hidden;text-align: left;background-color: #f0f8ff;}#sk-container-id-11 div.sk-toggleable__content pre {margin: 0.2em;color: black;border-radius: 0.25em;background-color: #f0f8ff;}#sk-container-id-11 input.sk-toggleable__control:checked~div.sk-toggleable__content {max-height: 200px;max-width: 100%;overflow: auto;}#sk-container-id-11 input.sk-toggleable__control:checked~label.sk-toggleable__label-arrow:before {content: \"▾\";}#sk-container-id-11 div.sk-estimator input.sk-toggleable__control:checked~label.sk-toggleable__label {background-color: #d4ebff;}#sk-container-id-11 div.sk-label input.sk-toggleable__control:checked~label.sk-toggleable__label {background-color: #d4ebff;}#sk-container-id-11 input.sk-hidden--visually {border: 0;clip: rect(1px 1px 1px 1px);clip: rect(1px, 1px, 1px, 1px);height: 1px;margin: -1px;overflow: hidden;padding: 0;position: absolute;width: 1px;}#sk-container-id-11 div.sk-estimator {font-family: monospace;background-color: #f0f8ff;border: 1px dotted black;border-radius: 0.25em;box-sizing: border-box;margin-bottom: 0.5em;}#sk-container-id-11 div.sk-estimator:hover {background-color: #d4ebff;}#sk-container-id-11 div.sk-parallel-item::after {content: \"\";width: 100%;border-bottom: 1px solid gray;flex-grow: 1;}#sk-container-id-11 div.sk-label:hover label.sk-toggleable__label {background-color: #d4ebff;}#sk-container-id-11 div.sk-serial::before {content: \"\";position: absolute;border-left: 1px solid gray;box-sizing: border-box;top: 0;bottom: 0;left: 50%;z-index: 0;}#sk-container-id-11 div.sk-serial {display: flex;flex-direction: column;align-items: center;background-color: white;padding-right: 0.2em;padding-left: 0.2em;position: relative;}#sk-container-id-11 div.sk-item {position: relative;z-index: 1;}#sk-container-id-11 div.sk-parallel {display: flex;align-items: stretch;justify-content: center;background-color: white;position: relative;}#sk-container-id-11 div.sk-item::before, #sk-container-id-11 div.sk-parallel-item::before {content: \"\";position: absolute;border-left: 1px solid gray;box-sizing: border-box;top: 0;bottom: 0;left: 50%;z-index: -1;}#sk-container-id-11 div.sk-parallel-item {display: flex;flex-direction: column;z-index: 1;position: relative;background-color: white;}#sk-container-id-11 div.sk-parallel-item:first-child::after {align-self: flex-end;width: 50%;}#sk-container-id-11 div.sk-parallel-item:last-child::after {align-self: flex-start;width: 50%;}#sk-container-id-11 div.sk-parallel-item:only-child::after {width: 0;}#sk-container-id-11 div.sk-dashed-wrapped {border: 1px dashed gray;margin: 0 0.4em 0.5em 0.4em;box-sizing: border-box;padding-bottom: 0.4em;background-color: white;}#sk-container-id-11 div.sk-label label {font-family: monospace;font-weight: bold;display: inline-block;line-height: 1.2em;}#sk-container-id-11 div.sk-label-container {text-align: center;}#sk-container-id-11 div.sk-container {/* jupyter's `normalize.less` sets `[hidden] { display: none; }` but bootstrap.min.css set `[hidden] { display: none !important; }` so we also need the `!important` here to be able to override the default hidden behavior on the sphinx rendered scikit-learn.org. See: https://github.com/scikit-learn/scikit-learn/issues/21755 */display: inline-block !important;position: relative;}#sk-container-id-11 div.sk-text-repr-fallback {display: none;}</style><div id=\"sk-container-id-11\" class=\"sk-top-container\"><div class=\"sk-text-repr-fallback\"><pre>MLPClassifier(hidden_layer_sizes=(50, 100, 150), max_iter=30, random_state=1)</pre><b>In a Jupyter environment, please rerun this cell to show the HTML representation or trust the notebook. <br />On GitHub, the HTML representation is unable to render, please try loading this page with nbviewer.org.</b></div><div class=\"sk-container\" hidden><div class=\"sk-item\"><div class=\"sk-estimator sk-toggleable\"><input class=\"sk-toggleable__control sk-hidden--visually\" id=\"sk-estimator-id-11\" type=\"checkbox\" checked><label for=\"sk-estimator-id-11\" class=\"sk-toggleable__label sk-toggleable__label-arrow\">MLPClassifier</label><div class=\"sk-toggleable__content\"><pre>MLPClassifier(hidden_layer_sizes=(50, 100, 150), max_iter=30, random_state=1)</pre></div></div></div></div></div>"
      ],
      "text/plain": [
       "MLPClassifier(hidden_layer_sizes=(50, 100, 150), max_iter=30, random_state=1)"
      ]
     },
     "execution_count": 54,
     "metadata": {},
     "output_type": "execute_result"
    }
   ],
   "source": [
    "clf_3_50100150.fit(features_train, y_train)"
   ]
  },
  {
   "cell_type": "code",
   "execution_count": 55,
   "metadata": {
    "colab": {},
    "colab_type": "code",
    "id": "QJpwy2UvGGnp"
   },
   "outputs": [],
   "source": [
    "y_pred_3_50100150 = clf_3_50100150.predict(features_val) "
   ]
  },
  {
   "cell_type": "code",
   "execution_count": 56,
   "metadata": {
    "colab": {
     "base_uri": "https://localhost:8080/",
     "height": 35
    },
    "colab_type": "code",
    "executionInfo": {
     "elapsed": 85367,
     "status": "ok",
     "timestamp": 1575077155241,
     "user": {
      "displayName": "NICOLÁS CONTRERAS PÉREZ",
      "photoUrl": "https://lh3.googleusercontent.com/a-/AAuE7mANL93JriQg3fqcdsDQwME8Rsl3QLrcVI55zCja=s64",
      "userId": "09973929232898584669"
     },
     "user_tz": 180
    },
    "id": "EbUATMzbGVkK",
    "outputId": "364bf8b8-0f0d-4605-86fa-f7223b6fbf54"
   },
   "outputs": [
    {
     "name": "stdout",
     "output_type": "stream",
     "text": [
      "0.823860967590418\n"
     ]
    }
   ],
   "source": [
    "cap4 = accuracy_score(y_val, y_pred_3_50100150)\n",
    "print(cap4)"
   ]
  },
  {
   "cell_type": "markdown",
   "metadata": {
    "colab_type": "text",
    "id": "6a5dBq8iCGKx"
   },
   "source": [
    "\n",
    "\n",
    "*   5 Capas de tamaño 50, 100, 150, 200 y 250 respectivamente.\n",
    "\n"
   ]
  },
  {
   "cell_type": "code",
   "execution_count": 57,
   "metadata": {
    "colab": {},
    "colab_type": "code",
    "id": "ZH6eNfeJG8nb"
   },
   "outputs": [],
   "source": [
    "clf_5_50100150200250 = MLPClassifier(solver='adam', random_state=1, max_iter=30, hidden_layer_sizes=(50, 100, 150, 200, 250))"
   ]
  },
  {
   "cell_type": "code",
   "execution_count": 58,
   "metadata": {
    "colab": {
     "base_uri": "https://localhost:8080/",
     "height": 165
    },
    "colab_type": "code",
    "executionInfo": {
     "elapsed": 180787,
     "status": "ok",
     "timestamp": 1575077250696,
     "user": {
      "displayName": "NICOLÁS CONTRERAS PÉREZ",
      "photoUrl": "https://lh3.googleusercontent.com/a-/AAuE7mANL93JriQg3fqcdsDQwME8Rsl3QLrcVI55zCja=s64",
      "userId": "09973929232898584669"
     },
     "user_tz": 180
    },
    "id": "8jYP2ZYoG8u2",
    "outputId": "1f493cfd-249c-45de-f80a-8a1bee844ade"
   },
   "outputs": [
    {
     "data": {
      "text/html": [
       "<style>#sk-container-id-12 {color: black;background-color: white;}#sk-container-id-12 pre{padding: 0;}#sk-container-id-12 div.sk-toggleable {background-color: white;}#sk-container-id-12 label.sk-toggleable__label {cursor: pointer;display: block;width: 100%;margin-bottom: 0;padding: 0.3em;box-sizing: border-box;text-align: center;}#sk-container-id-12 label.sk-toggleable__label-arrow:before {content: \"▸\";float: left;margin-right: 0.25em;color: #696969;}#sk-container-id-12 label.sk-toggleable__label-arrow:hover:before {color: black;}#sk-container-id-12 div.sk-estimator:hover label.sk-toggleable__label-arrow:before {color: black;}#sk-container-id-12 div.sk-toggleable__content {max-height: 0;max-width: 0;overflow: hidden;text-align: left;background-color: #f0f8ff;}#sk-container-id-12 div.sk-toggleable__content pre {margin: 0.2em;color: black;border-radius: 0.25em;background-color: #f0f8ff;}#sk-container-id-12 input.sk-toggleable__control:checked~div.sk-toggleable__content {max-height: 200px;max-width: 100%;overflow: auto;}#sk-container-id-12 input.sk-toggleable__control:checked~label.sk-toggleable__label-arrow:before {content: \"▾\";}#sk-container-id-12 div.sk-estimator input.sk-toggleable__control:checked~label.sk-toggleable__label {background-color: #d4ebff;}#sk-container-id-12 div.sk-label input.sk-toggleable__control:checked~label.sk-toggleable__label {background-color: #d4ebff;}#sk-container-id-12 input.sk-hidden--visually {border: 0;clip: rect(1px 1px 1px 1px);clip: rect(1px, 1px, 1px, 1px);height: 1px;margin: -1px;overflow: hidden;padding: 0;position: absolute;width: 1px;}#sk-container-id-12 div.sk-estimator {font-family: monospace;background-color: #f0f8ff;border: 1px dotted black;border-radius: 0.25em;box-sizing: border-box;margin-bottom: 0.5em;}#sk-container-id-12 div.sk-estimator:hover {background-color: #d4ebff;}#sk-container-id-12 div.sk-parallel-item::after {content: \"\";width: 100%;border-bottom: 1px solid gray;flex-grow: 1;}#sk-container-id-12 div.sk-label:hover label.sk-toggleable__label {background-color: #d4ebff;}#sk-container-id-12 div.sk-serial::before {content: \"\";position: absolute;border-left: 1px solid gray;box-sizing: border-box;top: 0;bottom: 0;left: 50%;z-index: 0;}#sk-container-id-12 div.sk-serial {display: flex;flex-direction: column;align-items: center;background-color: white;padding-right: 0.2em;padding-left: 0.2em;position: relative;}#sk-container-id-12 div.sk-item {position: relative;z-index: 1;}#sk-container-id-12 div.sk-parallel {display: flex;align-items: stretch;justify-content: center;background-color: white;position: relative;}#sk-container-id-12 div.sk-item::before, #sk-container-id-12 div.sk-parallel-item::before {content: \"\";position: absolute;border-left: 1px solid gray;box-sizing: border-box;top: 0;bottom: 0;left: 50%;z-index: -1;}#sk-container-id-12 div.sk-parallel-item {display: flex;flex-direction: column;z-index: 1;position: relative;background-color: white;}#sk-container-id-12 div.sk-parallel-item:first-child::after {align-self: flex-end;width: 50%;}#sk-container-id-12 div.sk-parallel-item:last-child::after {align-self: flex-start;width: 50%;}#sk-container-id-12 div.sk-parallel-item:only-child::after {width: 0;}#sk-container-id-12 div.sk-dashed-wrapped {border: 1px dashed gray;margin: 0 0.4em 0.5em 0.4em;box-sizing: border-box;padding-bottom: 0.4em;background-color: white;}#sk-container-id-12 div.sk-label label {font-family: monospace;font-weight: bold;display: inline-block;line-height: 1.2em;}#sk-container-id-12 div.sk-label-container {text-align: center;}#sk-container-id-12 div.sk-container {/* jupyter's `normalize.less` sets `[hidden] { display: none; }` but bootstrap.min.css set `[hidden] { display: none !important; }` so we also need the `!important` here to be able to override the default hidden behavior on the sphinx rendered scikit-learn.org. See: https://github.com/scikit-learn/scikit-learn/issues/21755 */display: inline-block !important;position: relative;}#sk-container-id-12 div.sk-text-repr-fallback {display: none;}</style><div id=\"sk-container-id-12\" class=\"sk-top-container\"><div class=\"sk-text-repr-fallback\"><pre>MLPClassifier(hidden_layer_sizes=(50, 100, 150, 200, 250), max_iter=30,\n",
       "              random_state=1)</pre><b>In a Jupyter environment, please rerun this cell to show the HTML representation or trust the notebook. <br />On GitHub, the HTML representation is unable to render, please try loading this page with nbviewer.org.</b></div><div class=\"sk-container\" hidden><div class=\"sk-item\"><div class=\"sk-estimator sk-toggleable\"><input class=\"sk-toggleable__control sk-hidden--visually\" id=\"sk-estimator-id-12\" type=\"checkbox\" checked><label for=\"sk-estimator-id-12\" class=\"sk-toggleable__label sk-toggleable__label-arrow\">MLPClassifier</label><div class=\"sk-toggleable__content\"><pre>MLPClassifier(hidden_layer_sizes=(50, 100, 150, 200, 250), max_iter=30,\n",
       "              random_state=1)</pre></div></div></div></div></div>"
      ],
      "text/plain": [
       "MLPClassifier(hidden_layer_sizes=(50, 100, 150, 200, 250), max_iter=30,\n",
       "              random_state=1)"
      ]
     },
     "execution_count": 58,
     "metadata": {},
     "output_type": "execute_result"
    }
   ],
   "source": [
    "clf_5_50100150200250.fit(features_train, y_train)"
   ]
  },
  {
   "cell_type": "code",
   "execution_count": 59,
   "metadata": {
    "colab": {},
    "colab_type": "code",
    "id": "pGO1c3KfG83_"
   },
   "outputs": [],
   "source": [
    "y_pred_5_50100150200250 = clf_5_50100150200250.predict(features_val) "
   ]
  },
  {
   "cell_type": "code",
   "execution_count": 60,
   "metadata": {
    "colab": {
     "base_uri": "https://localhost:8080/",
     "height": 35
    },
    "colab_type": "code",
    "executionInfo": {
     "elapsed": 180757,
     "status": "ok",
     "timestamp": 1575077250702,
     "user": {
      "displayName": "NICOLÁS CONTRERAS PÉREZ",
      "photoUrl": "https://lh3.googleusercontent.com/a-/AAuE7mANL93JriQg3fqcdsDQwME8Rsl3QLrcVI55zCja=s64",
      "userId": "09973929232898584669"
     },
     "user_tz": 180
    },
    "id": "ETIr8YfeG8sC",
    "outputId": "a2a149a3-22e5-4818-e0f5-a4e472b8c1d4"
   },
   "outputs": [
    {
     "name": "stdout",
     "output_type": "stream",
     "text": [
      "0.8287928604978864\n"
     ]
    }
   ],
   "source": [
    "cap5 = accuracy_score(y_val, y_pred_5_50100150200250)\n",
    "print(cap5)"
   ]
  },
  {
   "cell_type": "markdown",
   "metadata": {
    "colab_type": "text",
    "id": "XsxHXugrH_Z_"
   },
   "source": [
    "Grafico pérdida del conjunto de entrenamiento"
   ]
  },
  {
   "cell_type": "code",
   "execution_count": 61,
   "metadata": {
    "colab": {},
    "colab_type": "code",
    "id": "yiSFk8XlsOsR"
   },
   "outputs": [],
   "source": [
    "loss_values_1 = clf_3_30.loss_curve_\n",
    "loss_values_2 = clf_1_200.loss_curve_\n",
    "loss_values_3 = clf_3_200.loss_curve_\n",
    "loss_values_4 = clf_3_50100150.loss_curve_\n",
    "loss_values_5 = clf_5_50100150200250.loss_curve_\n"
   ]
  },
  {
   "cell_type": "code",
   "execution_count": 62,
   "metadata": {
    "colab": {
     "base_uri": "https://localhost:8080/",
     "height": 281
    },
    "colab_type": "code",
    "executionInfo": {
     "elapsed": 795,
     "status": "ok",
     "timestamp": 1575077288272,
     "user": {
      "displayName": "NICOLÁS CONTRERAS PÉREZ",
      "photoUrl": "https://lh3.googleusercontent.com/a-/AAuE7mANL93JriQg3fqcdsDQwME8Rsl3QLrcVI55zCja=s64",
      "userId": "09973929232898584669"
     },
     "user_tz": 180
    },
    "id": "02Wl3psjmjCO",
    "outputId": "2fb44909-b8be-453f-8438-7c802a7d9c93"
   },
   "outputs": [
    {
     "data": {
      "image/png": "[encoded data removed]",
      "text/plain": [
       "<Figure size 640x480 with 1 Axes>"
      ]
     },
     "metadata": {},
     "output_type": "display_data"
    }
   ],
   "source": [
    "import matplotlib.pyplot as plt\n",
    "import numpy as np\n",
    "\n",
    "plt.figure()\n",
    "plt.plot(loss_values_1, color='black', label=\"3 capas de 30\")\n",
    "plt.plot(loss_values_2, color='r', label=\"1 capa de 200\")\n",
    "plt.plot(loss_values_3, color='blue', label=\"3 capas de 200\")\n",
    "plt.plot(loss_values_4, color='green', label=\"3 capas de 50, 100 y 150\")\n",
    "plt.plot(loss_values_5, color='yellow', label=\"5 Capas de 50, 100, 150, 200 y 250\")\n",
    "plt.title('Pérdida del conjunto de entrenamiento')\n",
    "plt.show()"
   ]
  },
  {
   "cell_type": "markdown",
   "metadata": {
    "colab_type": "text",
    "id": "B5KiRJhQILj9"
   },
   "source": [
    "Gráfico exactitud en el conjunto de validación"
   ]
  },
  {
   "cell_type": "code",
   "execution_count": 63,
   "metadata": {
    "colab": {},
    "colab_type": "code",
    "id": "vFJJMwtY7RX0"
   },
   "outputs": [],
   "source": [
    "quantities_1 = [cap1, cap2, cap3, cap4, cap5]\n",
    "name_1 = [\"cap 1\", \"cap 2\", \"cap 3\", \"cap 4\", \"cap 5\"]"
   ]
  },
  {
   "cell_type": "code",
   "execution_count": 64,
   "metadata": {
    "colab": {
     "base_uri": "https://localhost:8080/",
     "height": 297
    },
    "colab_type": "code",
    "executionInfo": {
     "elapsed": 732,
     "status": "ok",
     "timestamp": 1575077718832,
     "user": {
      "displayName": "NICOLÁS CONTRERAS PÉREZ",
      "photoUrl": "https://lh3.googleusercontent.com/a-/AAuE7mANL93JriQg3fqcdsDQwME8Rsl3QLrcVI55zCja=s64",
      "userId": "09973929232898584669"
     },
     "user_tz": 180
    },
    "id": "wJPaYz39gQ2m",
    "outputId": "90b8d9ae-1bc7-4811-e231-65398dbd7f8a"
   },
   "outputs": [
    {
     "data": {
      "image/png": "[encoded data removed]",
      "text/plain": [
       "<Figure size 640x480 with 1 Axes>"
      ]
     },
     "metadata": {},
     "output_type": "display_data"
    }
   ],
   "source": [
    "# Number of groups\n",
    "num_groups = 5  # Maybe it'll change\n",
    "# Create the figure\n",
    "fig, ax = plt.subplots()\n",
    "# Define the X axis\n",
    "indices = np.arange(num_groups)\n",
    "# Width and opacity of histogram bars\n",
    "bar_width = 0.5\n",
    "opacity = 0.6\n",
    "hist_names = plt.bar(indices, quantities_1, bar_width, \n",
    "                      alpha=opacity, color='b') \n",
    "axes = plt.gca()\n",
    "axes.set_ylim([0.75, 0.85])\n",
    "\n",
    "plt.xlabel('Exactitud en el conjunto de validación')\n",
    "plt.xticks(indices, name_1)\n",
    "plt.tight_layout()\n",
    "plt.show()"
   ]
  },
  {
   "cell_type": "markdown",
   "metadata": {
    "colab_type": "text",
    "id": "i-cnumtE8skT"
   },
   "source": [
    "Tal que \n",
    "\n",
    "\n",
    "*   cap1: 3 Capas de tamaño 30.\n",
    "*   cap2: 1 Capa de tamaño 200.\n",
    "*   cap3: 3 Capas de tamaño 200.\n",
    "*   cap4: 3 Capas de tamaños 50, 100 y 150.\n",
    "*   cap5: 5 Capas de tamaños 50, 100, 150, 200 y 250.\n",
    "\n",
    "\n",
    "\n"
   ]
  },
  {
   "cell_type": "markdown",
   "metadata": {
    "colab_type": "text",
    "id": "Zo6ap7RKqB7m"
   },
   "source": [
    "### **Actividad 6**"
   ]
  },
  {
   "cell_type": "markdown",
   "metadata": {
    "colab_type": "text",
    "id": "7lhXq-5FUi-l"
   },
   "source": [
    "La  mejor  red  neuronal  en  base  al  conjunto  de  validación es la con 3 capas con un tamaño de 200 cada una. Se define la estructura:"
   ]
  },
  {
   "cell_type": "code",
   "execution_count": 65,
   "metadata": {
    "colab": {},
    "colab_type": "code",
    "id": "wjErJkvsNgUF"
   },
   "outputs": [],
   "source": [
    "clf_3_200 = MLPClassifier(solver='adam', random_state=1, max_iter=30, hidden_layer_sizes=(200, 200, 200)) "
   ]
  },
  {
   "cell_type": "code",
   "execution_count": 66,
   "metadata": {
    "colab": {
     "base_uri": "https://localhost:8080/",
     "height": 146
    },
    "colab_type": "code",
    "executionInfo": {
     "elapsed": 299579,
     "status": "ok",
     "timestamp": 1575077691065,
     "user": {
      "displayName": "NICOLÁS CONTRERAS PÉREZ",
      "photoUrl": "https://lh3.googleusercontent.com/a-/AAuE7mANL93JriQg3fqcdsDQwME8Rsl3QLrcVI55zCja=s64",
      "userId": "09973929232898584669"
     },
     "user_tz": 180
    },
    "id": "drDcGXGjNgYS",
    "outputId": "29bd77c3-9511-4c91-ae09-e6817fb1a78c"
   },
   "outputs": [
    {
     "data": {
      "text/html": [
       "<style>#sk-container-id-13 {color: black;background-color: white;}#sk-container-id-13 pre{padding: 0;}#sk-container-id-13 div.sk-toggleable {background-color: white;}#sk-container-id-13 label.sk-toggleable__label {cursor: pointer;display: block;width: 100%;margin-bottom: 0;padding: 0.3em;box-sizing: border-box;text-align: center;}#sk-container-id-13 label.sk-toggleable__label-arrow:before {content: \"▸\";float: left;margin-right: 0.25em;color: #696969;}#sk-container-id-13 label.sk-toggleable__label-arrow:hover:before {color: black;}#sk-container-id-13 div.sk-estimator:hover label.sk-toggleable__label-arrow:before {color: black;}#sk-container-id-13 div.sk-toggleable__content {max-height: 0;max-width: 0;overflow: hidden;text-align: left;background-color: #f0f8ff;}#sk-container-id-13 div.sk-toggleable__content pre {margin: 0.2em;color: black;border-radius: 0.25em;background-color: #f0f8ff;}#sk-container-id-13 input.sk-toggleable__control:checked~div.sk-toggleable__content {max-height: 200px;max-width: 100%;overflow: auto;}#sk-container-id-13 input.sk-toggleable__control:checked~label.sk-toggleable__label-arrow:before {content: \"▾\";}#sk-container-id-13 div.sk-estimator input.sk-toggleable__control:checked~label.sk-toggleable__label {background-color: #d4ebff;}#sk-container-id-13 div.sk-label input.sk-toggleable__control:checked~label.sk-toggleable__label {background-color: #d4ebff;}#sk-container-id-13 input.sk-hidden--visually {border: 0;clip: rect(1px 1px 1px 1px);clip: rect(1px, 1px, 1px, 1px);height: 1px;margin: -1px;overflow: hidden;padding: 0;position: absolute;width: 1px;}#sk-container-id-13 div.sk-estimator {font-family: monospace;background-color: #f0f8ff;border: 1px dotted black;border-radius: 0.25em;box-sizing: border-box;margin-bottom: 0.5em;}#sk-container-id-13 div.sk-estimator:hover {background-color: #d4ebff;}#sk-container-id-13 div.sk-parallel-item::after {content: \"\";width: 100%;border-bottom: 1px solid gray;flex-grow: 1;}#sk-container-id-13 div.sk-label:hover label.sk-toggleable__label {background-color: #d4ebff;}#sk-container-id-13 div.sk-serial::before {content: \"\";position: absolute;border-left: 1px solid gray;box-sizing: border-box;top: 0;bottom: 0;left: 50%;z-index: 0;}#sk-container-id-13 div.sk-serial {display: flex;flex-direction: column;align-items: center;background-color: white;padding-right: 0.2em;padding-left: 0.2em;position: relative;}#sk-container-id-13 div.sk-item {position: relative;z-index: 1;}#sk-container-id-13 div.sk-parallel {display: flex;align-items: stretch;justify-content: center;background-color: white;position: relative;}#sk-container-id-13 div.sk-item::before, #sk-container-id-13 div.sk-parallel-item::before {content: \"\";position: absolute;border-left: 1px solid gray;box-sizing: border-box;top: 0;bottom: 0;left: 50%;z-index: -1;}#sk-container-id-13 div.sk-parallel-item {display: flex;flex-direction: column;z-index: 1;position: relative;background-color: white;}#sk-container-id-13 div.sk-parallel-item:first-child::after {align-self: flex-end;width: 50%;}#sk-container-id-13 div.sk-parallel-item:last-child::after {align-self: flex-start;width: 50%;}#sk-container-id-13 div.sk-parallel-item:only-child::after {width: 0;}#sk-container-id-13 div.sk-dashed-wrapped {border: 1px dashed gray;margin: 0 0.4em 0.5em 0.4em;box-sizing: border-box;padding-bottom: 0.4em;background-color: white;}#sk-container-id-13 div.sk-label label {font-family: monospace;font-weight: bold;display: inline-block;line-height: 1.2em;}#sk-container-id-13 div.sk-label-container {text-align: center;}#sk-container-id-13 div.sk-container {/* jupyter's `normalize.less` sets `[hidden] { display: none; }` but bootstrap.min.css set `[hidden] { display: none !important; }` so we also need the `!important` here to be able to override the default hidden behavior on the sphinx rendered scikit-learn.org. See: https://github.com/scikit-learn/scikit-learn/issues/21755 */display: inline-block !important;position: relative;}#sk-container-id-13 div.sk-text-repr-fallback {display: none;}</style><div id=\"sk-container-id-13\" class=\"sk-top-container\"><div class=\"sk-text-repr-fallback\"><pre>MLPClassifier(hidden_layer_sizes=(200, 200, 200), max_iter=30, random_state=1)</pre><b>In a Jupyter environment, please rerun this cell to show the HTML representation or trust the notebook. <br />On GitHub, the HTML representation is unable to render, please try loading this page with nbviewer.org.</b></div><div class=\"sk-container\" hidden><div class=\"sk-item\"><div class=\"sk-estimator sk-toggleable\"><input class=\"sk-toggleable__control sk-hidden--visually\" id=\"sk-estimator-id-13\" type=\"checkbox\" checked><label for=\"sk-estimator-id-13\" class=\"sk-toggleable__label sk-toggleable__label-arrow\">MLPClassifier</label><div class=\"sk-toggleable__content\"><pre>MLPClassifier(hidden_layer_sizes=(200, 200, 200), max_iter=30, random_state=1)</pre></div></div></div></div></div>"
      ],
      "text/plain": [
       "MLPClassifier(hidden_layer_sizes=(200, 200, 200), max_iter=30, random_state=1)"
      ]
     },
     "execution_count": 66,
     "metadata": {},
     "output_type": "execute_result"
    }
   ],
   "source": [
    "clf_3_200.fit(features_train, y_train)"
   ]
  },
  {
   "cell_type": "code",
   "execution_count": 67,
   "metadata": {
    "colab": {},
    "colab_type": "code",
    "id": "lLtALr46Ngcn"
   },
   "outputs": [],
   "source": [
    "y_pred_3_200 = clf_3_200.predict(features_val) "
   ]
  },
  {
   "cell_type": "code",
   "execution_count": 68,
   "metadata": {
    "colab": {
     "base_uri": "https://localhost:8080/",
     "height": 35
    },
    "colab_type": "code",
    "executionInfo": {
     "elapsed": 297784,
     "status": "ok",
     "timestamp": 1575077691080,
     "user": {
      "displayName": "NICOLÁS CONTRERAS PÉREZ",
      "photoUrl": "https://lh3.googleusercontent.com/a-/AAuE7mANL93JriQg3fqcdsDQwME8Rsl3QLrcVI55zCja=s64",
      "userId": "09973929232898584669"
     },
     "user_tz": 180
    },
    "id": "FR5W0AGTPJf9",
    "outputId": "e2813e65-4db7-4d1b-f95f-4b51a5007bb9"
   },
   "outputs": [
    {
     "data": {
      "text/plain": [
       "0.8294974166275246"
      ]
     },
     "execution_count": 68,
     "metadata": {},
     "output_type": "execute_result"
    }
   ],
   "source": [
    "accuracy_score(y_val, y_pred_3_200)"
   ]
  },
  {
   "cell_type": "markdown",
   "metadata": {
    "colab_type": "text",
    "id": "n1BqJ4tCQQgx"
   },
   "source": [
    "Se reporta la exactitud en el set de test:"
   ]
  },
  {
   "cell_type": "code",
   "execution_count": 69,
   "metadata": {
    "colab": {},
    "colab_type": "code",
    "id": "9IH8Yo75UD_m"
   },
   "outputs": [],
   "source": [
    "y_pred_neurn = clf_3_200.predict(features_test) "
   ]
  },
  {
   "cell_type": "code",
   "execution_count": 70,
   "metadata": {
    "colab": {
     "base_uri": "https://localhost:8080/",
     "height": 35
    },
    "colab_type": "code",
    "executionInfo": {
     "elapsed": 291822,
     "status": "ok",
     "timestamp": 1575077691086,
     "user": {
      "displayName": "NICOLÁS CONTRERAS PÉREZ",
      "photoUrl": "https://lh3.googleusercontent.com/a-/AAuE7mANL93JriQg3fqcdsDQwME8Rsl3QLrcVI55zCja=s64",
      "userId": "09973929232898584669"
     },
     "user_tz": 180
    },
    "id": "P4VYm3u0RqLQ",
    "outputId": "8ed99e2d-9b55-4703-c64b-49cea6cd00dd"
   },
   "outputs": [
    {
     "data": {
      "text/plain": [
       "0.8397391101793618"
      ]
     },
     "execution_count": 70,
     "metadata": {},
     "output_type": "execute_result"
    }
   ],
   "source": [
    "accuracy_score(y_test, y_pred_neurn)"
   ]
  },
  {
   "cell_type": "code",
   "execution_count": 71,
   "metadata": {
    "colab": {
     "base_uri": "https://localhost:8080/",
     "height": 294
    },
    "colab_type": "code",
    "executionInfo": {
     "elapsed": 289870,
     "status": "ok",
     "timestamp": 1575077691350,
     "user": {
      "displayName": "NICOLÁS CONTRERAS PÉREZ",
      "photoUrl": "https://lh3.googleusercontent.com/a-/AAuE7mANL93JriQg3fqcdsDQwME8Rsl3QLrcVI55zCja=s64",
      "userId": "09973929232898584669"
     },
     "user_tz": 180
    },
    "id": "s9imSD6KV-qN",
    "outputId": "a67feae1-8ed2-4cc8-ed02-f4ead921275d"
   },
   "outputs": [
    {
     "name": "stdout",
     "output_type": "stream",
     "text": [
      "##############################\n",
      "\n",
      "Classification report on test dataset\n",
      "\n",
      "              precision    recall  f1-score   support\n",
      "\n",
      "     Class 0       0.83      0.88      0.85      2246\n",
      "     Class 1       0.85      0.80      0.83      2047\n",
      "\n",
      "    accuracy                           0.84      4293\n",
      "   macro avg       0.84      0.84      0.84      4293\n",
      "weighted avg       0.84      0.84      0.84      4293\n",
      "\n",
      "##############################\n",
      "\n"
     ]
    }
   ],
   "source": [
    "print(\"#\" * 30)\n",
    "print(\"\\nClassification report on test dataset\\n\")\n",
    "print(classification_report(y_test, y_pred_neurn, target_names=['Class 0', 'Class 1']))\n",
    "print(\"#\" * 30 + \"\\n\")"
   ]
  },
  {
   "cell_type": "markdown",
   "metadata": {
    "colab_type": "text",
    "id": "Lcn18xYlQYYk"
   },
   "source": [
    "Comentarios\n",
    "\n",
    "Es posible visualizar que la red neuronal tuvo mejores resultados en el set de test que en el de validación, con valores de 0.839 y 0.829 respectivamente. Esto se debe a que la red neuronal continúa 'aprendiendo' o guardando información durante la validación, información que es utilizada para relizar las predicciones en la etapa de testing. "
   ]
  },
  {
   "cell_type": "markdown",
   "metadata": {
    "colab_type": "text",
    "id": "VtIqNmecqD-h"
   },
   "source": [
    "### **Actividad 7**"
   ]
  },
  {
   "cell_type": "markdown",
   "metadata": {
    "colab_type": "text",
    "id": "sOt8AL7gYA8X"
   },
   "source": [
    "Ocupando los resutlados del testing, se retornan valores 1s o 0s para visualizar de mejor manera las predicciones, los valores obtenidos son:"
   ]
  },
  {
   "cell_type": "code",
   "execution_count": 72,
   "metadata": {
    "colab": {
     "base_uri": "https://localhost:8080/",
     "height": 405
    },
    "colab_type": "code",
    "executionInfo": {
     "elapsed": 638,
     "status": "ok",
     "timestamp": 1575077692023,
     "user": {
      "displayName": "NICOLÁS CONTRERAS PÉREZ",
      "photoUrl": "https://lh3.googleusercontent.com/a-/AAuE7mANL93JriQg3fqcdsDQwME8Rsl3QLrcVI55zCja=s64",
      "userId": "09973929232898584669"
     },
     "user_tz": 180
    },
    "id": "86E1Seqb11kK",
    "outputId": "dbca8b20-d3de-4bff-e904-9ee345a5b971"
   },
   "outputs": [
    {
     "name": "stdout",
     "output_type": "stream",
     "text": [
      "predicción solución oración\n",
      "1            1      frantic last-second study finds old-fashioned donut better for you than bavarian cream\n",
      "0            0      the 3 (unlikely) artists im obsessing over this year\n",
      "0            1      madcap romp escalates into zany hijinks\n",
      "0            0      the 7 stages of potty training\n",
      "0            1      hubris rewarded\n",
      "0            0      gop prays for ossoff lossoff\n",
      "1            1      dad hands phone off to mom immediately after being wished happy fathers day\n",
      "0            0      danielle laportes white hot truth soothes self-help fatigue\n",
      "1            0      nikki lost 89 pounds any mom will tell you scheduling time to exercise can be very hard\n",
      "1            1      redbox debuts new touchscreen in back of kiosk for pornographic features\n",
      "0            0      a viewers guide to tonights democratic debate\n",
      "1            1      boyfriend vows to try harder\n",
      "0            1      charlie rose presses self about sexual harassment allegations in tense charlie rose interview\n",
      "0            0      this was the xfl examining televisions greatest sports flop ever\n",
      "0            0      behold the most magical (and massive) picnic of all time\n",
      "0            0      empowering women and girls to own their worth\n",
      "0            1      zika virus joins lack of paid leave unaffordable child care as reasons woman afraid of getting pregnant\n",
      "1            1      seaworld café introduces new 5-pound orca burger–eating challenge\n",
      "0            0      lesson for urban cities how chicagoans stand up for quality schools\n",
      "0            0      california has become a nationwide leader in better school discipline practices\n"
     ]
    }
   ],
   "source": [
    "prediccion_neur = y_pred_neurn[:20]\n",
    "testing = y_test[:20]\n",
    "phrases = x_test[:20]\n",
    "\n",
    "print(\"predicción solución oración\")\n",
    "for pred, sol, text in zip(prediccion_neur, testing, phrases):\n",
    "  print(pred, \"          \", sol, \"    \", text)"
   ]
  },
  {
   "cell_type": "markdown",
   "metadata": {
    "colab_type": "text",
    "id": "joEBSUJ0Yt0T"
   },
   "source": [
    "Comparación con los resultados del clasificador SVM\n",
    "\n",
    "Ocupando el segmento de ejemplos retornado, es posible verificar que todas las oraciones en las que SVM entregó una predicción errónea, también lo hizo la red neuronal. No es suficiente para afirmar que la red neuronal incluirá siempre los errores del clasificador SVM, pero es importante señalar que se produjo dicha relación. Esto puede ser debido por la naturaleza de las palabras; algunas poseen muy pocas apariciones en las oraciones, mientras que otras son palabras 'inventadas'. De todas formas, en las acctividades la red neuronal escogida posee una menor precisión señalada en el set de testing, en comparación con el clasificador SVM escogido, por lo que también es posible visualizar que el segmento de ejemplos de la red neuronal posee más errores que el clasificador SVM."
   ]
  },
  {
   "cell_type": "markdown",
   "metadata": {
    "colab_type": "text",
    "id": "hYWILgz26ofn"
   },
   "source": [
    "## **Referencias**\n",
    "\n",
    "[1] Python Machine Learning Cookbook"
   ]
  }
 ],
 "metadata": {
  "colab": {
   "collapsed_sections": [
    "l6yL351bny53",
    "xly3CbVWprSx",
    "qgWBKcE1p5Gx",
    "WLT4QL09p_xk",
    "Zo6ap7RKqB7m",
    "VtIqNmecqD-h"
   ],
   "name": "tarea3_17642647.ipynb",
   "provenance": [
    {
     "file_id": "1hYSui1c67fGypogEjoD7VKHTaEBWZ1Fm",
     "timestamp": 1575077882976
    }
   ]
  },
  "kernelspec": {
   "display_name": "Python 3 (ipykernel)",
   "language": "python",
   "name": "python3"
  },
  "language_info": {
   "codemirror_mode": {
    "name": "ipython",
    "version": 3
   },
   "file_extension": ".py",
   "mimetype": "text/x-python",
   "name": "python",
   "nbconvert_exporter": "python",
   "pygments_lexer": "ipython3",
   "version": "3.9.15"
  }
 },
 "nbformat": 4,
 "nbformat_minor": 4
}
