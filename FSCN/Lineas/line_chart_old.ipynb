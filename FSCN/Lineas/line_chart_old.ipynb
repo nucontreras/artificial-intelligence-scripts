{
  "nbformat": 4,
  "nbformat_minor": 0,
  "metadata": {
    "colab": {
      "provenance": [],
      "authorship_tag": "ABX9TyNV8G/Q54eGWW6WcowrpGRM",
      "include_colab_link": true
    },
    "kernelspec": {
      "name": "python3",
      "display_name": "Python 3"
    },
    "language_info": {
      "name": "python"
    }
  },
  "cells": [
    {
      "cell_type": "markdown",
      "metadata": {
        "id": "view-in-github",
        "colab_type": "text"
      },
      "source": [
        "<a href=\"https://colab.research.google.com/github/nucontreras/artificial-intelligence-scripts/blob/main/FSCN/Lineas/line_chart_old.ipynb\" target=\"_parent\"><img src=\"https://colab.research.google.com/assets/colab-badge.svg\" alt=\"Open In Colab\"/></a>"
      ]
    },
    {
      "cell_type": "markdown",
      "source": [
        "<b><FONT size=\"8\" color='264653'>Audiographics Project: sonification for the accessibility of quantitative information in graphic format </FONT>"
      ],
      "metadata": {
        "id": "7W64CYScwd13"
      }
    },
    {
      "cell_type": "markdown",
      "source": [
        "><b><FONT size=\"3\" color='DimGray'> Sonification for the accessibility of quantitative information in graphic format is part of the research line in Technology and Care of the Millennium Institute for Care Research ([MICARE](https://www.micare.cl/)). The objective of this project is to implement a tool for the transformation of quantitative information presented in visual form into audio to facilitate access to visually handicapped people, using sonification techniques and image analysis through artificial intelligence. </FONT>"
      ],
      "metadata": {
        "id": "2LSbhuvYwd8m"
      }
    },
    {
      "cell_type": "markdown",
      "source": [
        "><b><FONT size=\"3\" color='DimGray'> This file contains the processing, treatment and tests of a neural network used to filter line chart images. </FONT>"
      ],
      "metadata": {
        "id": "JT4YTrjY5cj8"
      }
    },
    {
      "cell_type": "markdown",
      "source": [
        "><b><FONT size=\"3\" color='SlateGray'> Code edited from an old code made in an iPre. </FONT>"
      ],
      "metadata": {
        "id": "hutlz3dT4NCx"
      }
    },
    {
      "cell_type": "markdown",
      "source": [
        "<b><FONT size=\"5\" color='MidnightBlue '>Connection to Google Drive </FONT>"
      ],
      "metadata": {
        "id": "7_hYGDE_wtAH"
      }
    },
    {
      "cell_type": "code",
      "execution_count": null,
      "metadata": {
        "colab": {
          "base_uri": "https://localhost:8080/"
        },
        "id": "i7OeQ4PzvKQh",
        "outputId": "ef28a621-cda5-45e1-8cbf-ccd264f2043e"
      },
      "outputs": [
        {
          "output_type": "stream",
          "name": "stdout",
          "text": [
            "Drive already mounted at /content/gdrive; to attempt to forcibly remount, call drive.mount(\"/content/gdrive\", force_remount=True).\n",
            "/content/gdrive/.shortcut-targets-by-id/1BQNCMYEG1Xd_TAcD5txHIHbOaJiFKKWE/AudioGraphs/Codigos y BD anteriores/Lineas\n"
          ]
        }
      ],
      "source": [
        "from google.colab import drive\n",
        "drive.mount('/content/gdrive')\n",
        "\n",
        "%cd 'gdrive/MyDrive/AudioGraphs'"
      ]
    },
    {
      "cell_type": "markdown",
      "source": [
        "<b><FONT size=\"4\" color='619b8a'>Path to bar chart images dataset  </FONT>"
      ],
      "metadata": {
        "id": "iCF9jkMaFstr"
      }
    },
    {
      "cell_type": "code",
      "source": [
        "path_line_chart_db = 'Codigos y BD anteriores/Lineas/test_procesado/'"
      ],
      "metadata": {
        "id": "Leej0ZMZFth2"
      },
      "execution_count": null,
      "outputs": []
    },
    {
      "cell_type": "markdown",
      "source": [
        "<b><FONT size=\"5\" color='MidnightBlue '>Import of packages </FONT>\n",
        "\n"
      ],
      "metadata": {
        "id": "J7q5gU9-xX0v"
      }
    },
    {
      "cell_type": "code",
      "source": [
        "import os\n",
        "import sys\n",
        "import io\n",
        "import numpy as np\n",
        "from datetime import datetime\n",
        "from random import shuffle, seed, randint\n",
        "import time\n",
        "\n",
        "# Data processing and visualization\n",
        "import matplotlib.pyplot as plt\n",
        "from PIL import Image, ImageOps\n",
        "import cv2\n",
        "\n",
        "# AI models\n",
        "import tensorflow as tf\n",
        "from keras.utils import Sequence, plot_model\n",
        "from keras.preprocessing import image\n",
        "from keras.layers import Input, Dense, Conv2D, MaxPooling2D, UpSampling2D, Conv2DTranspose\n",
        "from keras.models import Model, load_model\n",
        "from keras.callbacks import EarlyStopping\n",
        "from keras import backend as K\n",
        "\n",
        "seed(420)\n",
        "\n",
        "\n",
        "# from zipfile import ZipFile\n",
        "# %matplotlib inline"
      ],
      "metadata": {
        "id": "svJn-YTaHaA_"
      },
      "execution_count": null,
      "outputs": []
    },
    {
      "cell_type": "code",
      "source": [
        "def BM(dt):\n",
        "    T = np.arange(0,1+dt,dt)\n",
        "    n = len(T)\n",
        "    B = np.ones(n)*0\n",
        "    for i in range(n):\n",
        "        xi = np.sqrt(2)*(np.random.randn())/((i+0.5)*np.pi)\n",
        "        B = B + xi*np.array([np.sin((i+0.5)*np.pi*t) for t in T])\n",
        "    return T, B"
      ],
      "metadata": {
        "id": "xmUyuE5YkrTA"
      },
      "execution_count": null,
      "outputs": []
    },
    {
      "cell_type": "code",
      "source": [
        "#CREAR GRAFICO DE CUALQUIER COSA (?)\n",
        "n_points = 100\n",
        "#y = np.zeros((n_points,1))\n",
        "x = np.arange(0,n_points)\n",
        "#for i in range(n_points):\n",
        "y = BM(1/n_points)[1]\n",
        "y = y[1:]\n",
        "fig = plt.figure()\n",
        "#plt.ylim(-10,10) # FIJAR EL LIMITE\n",
        "plt.title(\"Hola\")\n",
        "plt.xlabel(\"Wena\")\n",
        "plt.grid()\n",
        "plt.xscale(\"log\")\n",
        "n = randint(0,n_points)\n",
        "plt.text(x[n],0,\"Algo\", fontsize = 14)\n",
        "plt.plot(x,y)"
      ],
      "metadata": {
        "id": "Ka18tgHmkrWI"
      },
      "execution_count": null,
      "outputs": []
    },
    {
      "cell_type": "code",
      "source": [
        "#GRAFICAR Y GUARDAR\n",
        "\n",
        "# https://stackoverflow.com/questions/7821518/matplotlib-save-plot-to-numpy-array\n",
        "# define a function which returns an image as numpy array from figure\n",
        "def get_img_from_fig(fig, dpi=180):\n",
        "    buf = io.BytesIO()\n",
        "    fig.savefig(buf, format=\"png\", dpi=dpi)\n",
        "    buf.seek(0)\n",
        "    img_arr = np.frombuffer(buf.getvalue(), dtype=np.uint8)\n",
        "    buf.close()\n",
        "    img = cv2.imdecode(img_arr, 1)\n",
        "    img = cv2.cvtColor(img, cv2.COLOR_BGR2GRAY)\n",
        "    img = cv2.resize(img, (256,256), interpolation = cv2.INTER_AREA)\n",
        "\n",
        "    return img\n",
        "\n",
        "#MOVIMIENTO BROWNIANO\n",
        "#http://cienciactuarial.blogspot.com/2017/12/simulacion-de-movimiento-browniano-con.html\n",
        "\n",
        "def BM(dt):\n",
        "    T = np.arange(0,1+dt,dt)\n",
        "    n = len(T)\n",
        "    B = np.ones(n)*0\n",
        "    for i in range(n):\n",
        "        xi = np.sqrt(2)*(np.random.randn())/((i+0.5)*np.pi)\n",
        "        B = B + xi*np.array([np.sin((i+0.5)*np.pi*t) for t in T])\n",
        "    return T, B"
      ],
      "metadata": {
        "id": "Nopl1AREkrZ2"
      },
      "execution_count": null,
      "outputs": []
    },
    {
      "cell_type": "code",
      "source": [
        "t = time.time()\n",
        "\n",
        "n_points = 100\n",
        "counter = 0\n",
        "x = np.arange(0,n_points)\n",
        "zip_counter = 6\n",
        "estilos = ['-','--', '-.', ':','']\n",
        "locs = ['upper left', 'upper right', 'lower left', 'lower right','upper center', 'lower center', 'center left', 'center right']\n",
        "titulos = [\"Title\", \"Plots\", \"Curves\", \"Experiments\", \"Time vs Something\"]\n",
        "palabras = [\"Experiment\", \"Wrong\", \"Correct\", \"Point\", \"Maximum\", \"Minimum\", \"Incorrect\", \"New Value\", \"Linear Function\", \"Irregular Curve\"]\n",
        "for ii in range(1):\n",
        "    for i in range(1000):#y.shape[1]\n",
        "        log = False\n",
        "        y = BM(1/n_points)[1]\n",
        "        y = y[1:]\n",
        "\n",
        "        # PLOT FIGURA ENTERA\n",
        "        fig = plt.figure()\n",
        "        #plt.ylim(-10,10) # FIJAR EL LIMITE\n",
        "        n1 = randint(0,4) # ESTILO GRILLA\n",
        "        n2 = randint(0,3) # ESTILO LINEA\n",
        "        #n3 = randint(0,1)\n",
        "        n4 = randint(1,2) # ANCHO GRILLA\n",
        "        n5 = randint(1,5) # ANCHO LINEA\n",
        "        #LEYENDA\n",
        "        n6 = randint(0,1) # SI HAY LEYENDA\n",
        "        n7 = randint(0,len(locs)-1) # UBICACION LEYENDA\n",
        "        n8 = randint(0,1) # FRAME LEYENDA\n",
        "        plt.grid(linestyle = estilos[n1], linewidth = n4)\n",
        "        plt.plot(x, y, linestyle = estilos[n2], linewidth=n5, label = 'Curve')\n",
        "        if n6 == 1:\n",
        "            plt.legend(loc = locs[n7], title = \"Legend\", frameon = (n8 == 1) )\n",
        "        if randint(0,1) == 1:\n",
        "            log = True\n",
        "            plt.xscale(\"log\")\n",
        "        plt.title(titulos[randint(0,len(titulos) - 1)] , fontsize = 18)\n",
        "        for k in range(5):\n",
        "            if randint(0,1) == 1:\n",
        "                break\n",
        "            else:\n",
        "                plt.text(x[randint(0,n_points - 10)], y[randint(0, n_points - 1)], palabras[randint(0, len(palabras) - 1)], fontsize = 16)\n",
        "        plt.xlabel(\"XLABEL\", fontsize = 14)\n",
        "        plt.ylabel(\"YLABEL\", fontsize = 14)\n",
        "\n",
        "\n",
        "        img = get_img_from_fig(fig)\n",
        "        plt.close()\n",
        "        dir = f\"/content/graficos-full/grafico-{str(1000*(zip_counter - 1) + i)}.png\"\n",
        "        cv2.imwrite(dir,img)\n",
        "\n",
        "        # PLOT FIGURA AISLADA\n",
        "        fig = plt.figure()\n",
        "        plt.plot(x, y)\n",
        "        plt.axis('off')\n",
        "        if log:\n",
        "            plt.xscale(\"log\")\n",
        "        img = get_img_from_fig(fig)\n",
        "        plt.close()\n",
        "        dir = f\"/content/graficos-solo/grafico-{str(1000*(zip_counter - 1) +  i)}.png\"\n",
        "        cv2.imwrite(dir,img)\n",
        "\n",
        "        counter += 1\n",
        "\n",
        "        if counter == 1000:\n",
        "            zipObj = ZipFile(f'/content/drive/My Drive/iPre_Graficos/graficos-full_zip_{zip_counter}.zip', 'w')\n",
        "            for j in range(1000):\n",
        "                zipObj.write(f'/content/graficos-full/grafico-{str(1000*(zip_counter - 1) + j)}.png')\n",
        "                os.remove(f'/content/graficos-full/grafico-{str(1000*(zip_counter - 1) + j)}.png')\n",
        "            zipObj.close()\n",
        "\n",
        "            zipObj = ZipFile(f'/content/drive/My Drive/iPre_Graficos/graficos-solo_zip_{zip_counter}.zip', 'w')\n",
        "            for j in range(1000):\n",
        "                zipObj.write(f'/content/graficos-solo/grafico-{str(1000*(zip_counter - 1) + j)}.png')\n",
        "                os.remove(f'/content/graficos-solo/grafico-{str(1000*(zip_counter - 1) + j)}.png')\n",
        "            zipObj.close()\n",
        "\n",
        "            zip_counter += 1\n",
        "            counter = 0\n",
        "\n",
        "elapsed = time.time() - t\n",
        "print(f\"Tiempo que se ha demorado: {elapsed} s\")"
      ],
      "metadata": {
        "id": "5DROiBOAkrb5"
      },
      "execution_count": null,
      "outputs": []
    },
    {
      "cell_type": "markdown",
      "source": [
        "# **Definición de la red y entrenamiento**\n",
        "\n",
        "En primer lugar, se cargan datos de gráficos realizados en Python y Matlab de movimiento browniano entre 0 y 1, además de gráficos reales, tanto para el training como el testing de la red.\n",
        "\n",
        "Posterior a esto, se define a una red convolucional-deconvolucional tal como la observada en (*Fully Symmetric Convolutional Network for Effective Image Denoising*), donde se utilizarán las capas convolucionales para extraer las características principales de la imagen ignorando aquellos elementos a eliminar, y las capas deconvolucionales para la reconstrucción de la imagen como tal.\n"
      ],
      "metadata": {
        "id": "Z93jhvnZk-HX"
      }
    },
    {
      "cell_type": "markdown",
      "source": [
        "### Cargado de Datos"
      ],
      "metadata": {
        "id": "c9Upc4wTlBco"
      }
    },
    {
      "cell_type": "code",
      "source": [
        "!unzip '/content/drive/My Drive/iPre_Graficos/Final/graficos_new_4.zip'"
      ],
      "metadata": {
        "id": "ucquN8BzkreY"
      },
      "execution_count": null,
      "outputs": []
    },
    {
      "cell_type": "markdown",
      "source": [
        "### Data Augmentation"
      ],
      "metadata": {
        "id": "NnGafmG5lHsA"
      }
    },
    {
      "cell_type": "code",
      "source": [
        "!unzip train.zip"
      ],
      "metadata": {
        "id": "EbnsKYaekriZ"
      },
      "execution_count": null,
      "outputs": []
    },
    {
      "cell_type": "code",
      "source": [
        "path_full = \"real/train/full/\"\n",
        "path_solo = \"real/train/solo/\"\n",
        "path_full_2 = \"real_new/train/graficos-full/\"\n",
        "path_solo_2 = \"real_new/train/graficos-solo/\"\n",
        "counter = 1\n",
        "counter_2 = 1\n",
        "for i in range(1,40):\n",
        "#PRIMERO\n",
        "  im = Image.open(path_full+str(i)+'.png')\n",
        "  im.save(f\"{path_full_2}grafico-{str(1 + (counter_2 - 1)*6)}.png\", quality=95)\n",
        "  im_solo = Image.open(path_solo+\"grafico-\"+str(1 + (counter_2 - 1)*5)+\".png\")\n",
        "  im_solo.save(f\"{path_solo_2}grafico-{counter}.png\", quality=95)\n",
        "  # ROTATE\n",
        "  counter += 1\n",
        "  ang = randint(1,360)\n",
        "  im_rotate = im.rotate(ang, expand=True)\n",
        "  im_solo_rotate = im_solo.rotate(ang, expand=True)\n",
        "  im_rotate.save(f\"{path_full_2}grafico-{counter}.png\", quality=95)\n",
        "  im_solo_rotate.save(f\"{path_solo_2}grafico-{counter}.png\", quality=95)\n",
        "  counter += 1\n",
        "  # ROTATE\n",
        "  ang = randint(1,360)\n",
        "  im_rotate = im.rotate(ang, expand=True)\n",
        "  im_solo_rotate = im_solo.rotate(ang, expand=True)\n",
        "  im_rotate.save(f\"{path_full_2}grafico-{counter}.png\", quality=95)\n",
        "  im_solo_rotate.save(f\"{path_solo_2}grafico-{counter}.png\", quality=95)\n",
        "  counter += 1\n",
        "  # ROTATE\n",
        "  ang = randint(1,360)\n",
        "  im_rotate = im.rotate(ang, expand=True)\n",
        "  im_solo_rotate = im_solo.rotate(ang, expand=True)\n",
        "  im_rotate.save(f\"{path_full_2}grafico-{counter}.png\", quality=95)\n",
        "  im_solo_rotate.save(f\"{path_solo_2}grafico-{counter}.png\", quality=95)\n",
        "  counter += 1\n",
        "  # FLIP\n",
        "  im_rotate = ImageOps.flip(im)\n",
        "  im_solo_rotate = ImageOps.flip(im_solo)\n",
        "  im_rotate.save(f\"{path_full_2}grafico-{counter}.png\", quality=95)\n",
        "  im_solo_rotate.save(f\"{path_solo_2}grafico-{counter}.png\", quality=95)\n",
        "  counter += 1\n",
        "  # MIRROR\n",
        "  im_rotate = ImageOps.mirror(im)\n",
        "  im_solo_rotate = ImageOps.mirror(im_solo)\n",
        "  im_rotate.save(f\"{path_full_2}grafico-{counter}.png\", quality=95)\n",
        "  im_solo_rotate.save(f\"{path_solo_2}grafico-{counter}.png\", quality=95)\n",
        "  counter += 1\n",
        "  counter_2 += 1\n",
        "\n",
        "path_full = \"real/test/full/\"\n",
        "path_solo = \"real/test/solo/\"\n",
        "path_full_2 = \"real_new/test/graficos-full/\"\n",
        "path_solo_2 = \"real_new/test/graficos-solo/\"\n",
        "counter = 1\n",
        "counter_2 = 1\n",
        "for i in range(40,50):\n",
        "#PRIMERO\n",
        "  im = Image.open(path_full+str(i)+'.png')\n",
        "  im.save(f\"{path_full_2}grafico-{str(1 + (counter_2 - 1)*6)}.png\", quality=95)\n",
        "  im_solo = Image.open(path_solo+str(i)+\".png\")\n",
        "  im_solo.save(f\"{path_solo_2}grafico-{counter}.png\", quality=95)\n",
        "  # ROTATE\n",
        "  counter += 1\n",
        "  ang = randint(1,360)\n",
        "  im_rotate = im.rotate(ang, expand=True)\n",
        "  im_solo_rotate = im_solo.rotate(ang, expand=True)\n",
        "  im_rotate.save(f\"{path_full_2}grafico-{counter}.png\", quality=95)\n",
        "  im_solo_rotate.save(f\"{path_solo_2}grafico-{counter}.png\", quality=95)\n",
        "  counter += 1\n",
        "  # ROTATE\n",
        "  ang = randint(1,360)\n",
        "  im_rotate = im.rotate(ang, expand=True)\n",
        "  im_solo_rotate = im_solo.rotate(ang, expand=True)\n",
        "  im_rotate.save(f\"{path_full_2}grafico-{counter}.png\", quality=95)\n",
        "  im_solo_rotate.save(f\"{path_solo_2}grafico-{counter}.png\", quality=95)\n",
        "  counter += 1\n",
        "  # ROTATE\n",
        "  ang = randint(1,360)\n",
        "  im_rotate = im.rotate(ang, expand=True)\n",
        "  im_solo_rotate = im_solo.rotate(ang, expand=True)\n",
        "  im_rotate.save(f\"{path_full_2}grafico-{counter}.png\", quality=95)\n",
        "  im_solo_rotate.save(f\"{path_solo_2}grafico-{counter}.png\", quality=95)\n",
        "  counter += 1\n",
        "  # FLIP\n",
        "  im_rotate = ImageOps.flip(im)\n",
        "  im_solo_rotate = ImageOps.flip(im_solo)\n",
        "  im_rotate.save(f\"{path_full_2}grafico-{counter}.png\", quality=95)\n",
        "  im_solo_rotate.save(f\"{path_solo_2}grafico-{counter}.png\", quality=95)\n",
        "  counter += 1\n",
        "  # MIRROR\n",
        "  im_rotate = ImageOps.mirror(im)\n",
        "  im_solo_rotate = ImageOps.mirror(im_solo)\n",
        "  im_rotate.save(f\"{path_full_2}grafico-{counter}.png\", quality=95)\n",
        "  im_solo_rotate.save(f\"{path_solo_2}grafico-{counter}.png\", quality=95)\n",
        "  counter += 1\n",
        "  counter_2 += 1"
      ],
      "metadata": {
        "id": "EAPZ2hXvkrlN"
      },
      "execution_count": null,
      "outputs": []
    },
    {
      "cell_type": "code",
      "source": [
        "!zip -r \"/content/drive/My Drive/iPre_Graficos/Final/real_new.zip\" \"/content/real_new/\""
      ],
      "metadata": {
        "id": "Gy7iRRmnkrn1"
      },
      "execution_count": null,
      "outputs": []
    },
    {
      "cell_type": "markdown",
      "source": [
        "### Definición de la red"
      ],
      "metadata": {
        "id": "eDzmTLJFlVvz"
      }
    },
    {
      "cell_type": "code",
      "source": [
        "with tf.device('/device:GPU:0'):\n",
        "  input_layer = Input(shape=(256, 256, 1), name=\"INPUT\")\n",
        "  x = Conv2D(64, (3, 3), activation='relu', padding='same')(input_layer)\n",
        "  x = Conv2DTranspose(64, (3, 3), activation='relu', padding='same')(x)\n",
        "  x = Conv2D(64, (3, 3), activation='relu', padding='same')(x)\n",
        "  x = Conv2DTranspose(64, (3, 3), activation='relu', padding='same')(x)\n",
        "  x = Conv2D(64, (3, 3), activation='relu', padding='same')(x)\n",
        "  x = Conv2DTranspose(64, (3, 3), activation='relu', padding='same')(x)\n",
        "  x = Conv2D(64, (3, 3), activation='relu', padding='same')(x)\n",
        "  x = Conv2DTranspose(64, (3, 3), activation='relu', padding='same')(x)\n",
        "  x = Conv2D(64, (3, 3), activation='relu', padding='same')(x)\n",
        "  x = Conv2DTranspose(64, (3, 3), activation='relu', padding='same')(x)\n",
        "  x = Conv2D(64, (3, 3), activation='relu', padding='same')(x)\n",
        "  x = Conv2DTranspose(64, (3, 3), activation='relu', padding='same')(x)\n",
        "  x = Conv2D(64, (3, 3), activation='relu', padding='same')(x)\n",
        "  x = Conv2DTranspose(64, (3, 3), activation='relu', padding='same')(x)\n",
        "  x = Conv2D(64, (3, 3), activation='relu', padding='same')(x)\n",
        "  x = Conv2DTranspose(64, (3, 3), activation='relu', padding='same')(x)\n",
        "  output_layer = Conv2D(1, (3, 3), padding='same', name=\"OUTPUT\")(x)\n",
        "\n",
        "model = Model(input_layer, output_layer)\n",
        "model.compile(optimizer='adam', loss=\"mse\")\n",
        "model.summary()"
      ],
      "metadata": {
        "id": "c-MQ67dzlSxb"
      },
      "execution_count": null,
      "outputs": []
    },
    {
      "cell_type": "markdown",
      "source": [
        "### Clase del DataGenerator"
      ],
      "metadata": {
        "id": "gZVUWAe2lbA6"
      }
    },
    {
      "cell_type": "code",
      "source": [
        "class DataGenerator(Sequence):\n",
        "    def __init__(self, list_IDs, batch_size=32, dim=(256, 256), n_channels=1, shuffle=True):\n",
        "        self.dim = dim\n",
        "        self.batch_size = batch_size\n",
        "        self.list_IDs = list_IDs\n",
        "        self.n_channels = n_channels\n",
        "        self.shuffle = shuffle\n",
        "        self.on_epoch_end()\n",
        "\n",
        "    def __len__(self):\n",
        "        return int(np.floor(len(self.list_IDs) / self.batch_size))\n",
        "\n",
        "    def __getitem__(self, index):\n",
        "        # Generar índices del batch\n",
        "        indexes = self.indexes[index*self.batch_size:(index+1)*self.batch_size]\n",
        "\n",
        "        # Encontrar lista de IDs\n",
        "        list_IDs_temp = [self.list_IDs[k] for k in indexes]\n",
        "\n",
        "        # Generar Datos\n",
        "        X, y = self.__data_generation(list_IDs_temp)\n",
        "\n",
        "        return X, y\n",
        "\n",
        "    def on_epoch_end(self):\n",
        "        # Actualiza los indices para cada epoch\n",
        "        # Tiene el shuffle en caso de que se active\n",
        "        self.indexes = np.arange(len(self.list_IDs))\n",
        "        if self.shuffle == True:\n",
        "            np.random.shuffle(self.indexes)\n",
        "\n",
        "    def __data_generation(self, list_IDs_temp):\n",
        "        # Inicialización de datos\n",
        "        # X e y son de igual dimensión ya que ambos son imágenes\n",
        "        # X : (n_samples, *dim, n_channels)\n",
        "        X = np.empty((self.batch_size, *self.dim, self.n_channels))\n",
        "        y = np.empty((self.batch_size, *self.dim, self.n_channels))\n",
        "\n",
        "        # Generación de data\n",
        "        for i, ID in enumerate(list_IDs_temp):\n",
        "            # Store sample\n",
        "            img = tf.keras.utils.load_img(ID, target_size=(256, 256), color_mode = \"grayscale\", interpolation=\"bicubic\")\n",
        "\n",
        "            img = tf.keras.utils.img_to_array(img)\n",
        "            X[i,] = (img-img.min())/(img.max() - img.min())\n",
        "\n",
        "            # Store class\n",
        "            new_ID = ID.replace(\"full\",\"solo\")\n",
        "            img = tf.keras.utils.load_img(new_ID, target_size=(256, 256), color_mode = \"grayscale\", interpolation=\"bicubic\")\n",
        "\n",
        "            img = tf.keras.utils.img_to_array(img)\n",
        "\n",
        "            y[i,] = (img-img.min())/(img.max() - img.min())\n",
        "\n",
        "        return X, y"
      ],
      "metadata": {
        "id": "CSN3e3AKlS6T"
      },
      "execution_count": null,
      "outputs": []
    },
    {
      "cell_type": "markdown",
      "source": [
        "### Generación de lista de IDs"
      ],
      "metadata": {
        "id": "l726bdGIlf5a"
      }
    },
    {
      "cell_type": "code",
      "source": [
        "# GENERACION IDS para training y testing\n",
        "IDs_train = []\n",
        "IDs_test = []\n",
        "\n",
        "for op in range(1,2):\n",
        "  if op == 1:\n",
        "    train_full_path = 'python/train/graficos-full/'\n",
        "    test_full_path = 'python/test/graficos-full/'\n",
        "  elif op == 2:\n",
        "    train_full_path = 'matlab/train/graficos-full/'\n",
        "    test_full_path = 'matlab/test/graficos-full/'\n",
        "  elif op == 3:\n",
        "    train_full_path = 'real_new/train/graficos-full/'\n",
        "    test_full_path = 'real_new/test/graficos-full/'\n",
        "\n",
        "  for filename in os.listdir(train_full_path):\n",
        "    IDs_train.append(train_full_path + filename)\n",
        "\n",
        "  for filename in os.listdir(test_full_path):\n",
        "    IDs_test.append(test_full_path + filename)\n",
        "\n"
      ],
      "metadata": {
        "id": "gBf9v80SlS_R"
      },
      "execution_count": null,
      "outputs": []
    },
    {
      "cell_type": "markdown",
      "source": [
        "### Entrenamiento"
      ],
      "metadata": {
        "id": "sBadCepVlkO7"
      }
    },
    {
      "cell_type": "code",
      "source": [
        "# Early Stopping\n",
        "es = EarlyStopping(monitor='loss', mode='min', verbose=1, patience = 15, restore_best_weights = True)\n",
        "\n",
        "# Parameters\n",
        "params = {'dim': (256, 256),\n",
        "          'batch_size': 32,\n",
        "          'n_channels': 1,\n",
        "          'shuffle': True}\n",
        "\n",
        "# Generators\n",
        "training_generator = DataGenerator(IDs_train, **params)\n",
        "test_generator = DataGenerator(IDs_test, **params)\n",
        "\n",
        "with tf.device('/device:GPU:0'):\n",
        "  history = model.fit(training_generator,\n",
        "                  steps_per_epoch=len(training_generator),\n",
        "                  epochs=150,\n",
        "                  shuffle=True, callbacks=[es])\n",
        "  #history = model.fit(X_train, Y_train,\n",
        "  #                batch_size = 32,\n",
        "  #                epochs=30,\n",
        "  #                shuffle=True) # callbacks=[es]\n",
        "\n",
        "loss = history.history['loss']"
      ],
      "metadata": {
        "id": "MHr-M5_3lTDk"
      },
      "execution_count": null,
      "outputs": []
    },
    {
      "cell_type": "code",
      "source": [
        "model.save('/content/drive/My Drive/iPre_Graficos/modelos/final_2.h5')"
      ],
      "metadata": {
        "id": "Bb1qo94KlnFb"
      },
      "execution_count": null,
      "outputs": []
    },
    {
      "cell_type": "code",
      "source": [
        "import matplotlib.pyplot as plt\n",
        "# summarize history for loss\n",
        "plt.plot(loss)\n",
        "plt.title('model loss')\n",
        "plt.ylabel('loss')\n",
        "plt.xlabel('epoch')\n",
        "plt.legend(['train'], loc='upper left')\n",
        "plt.show()"
      ],
      "metadata": {
        "id": "PV7ZX-NnlnIL"
      },
      "execution_count": null,
      "outputs": []
    },
    {
      "cell_type": "code",
      "source": [
        "plot_model(\n",
        "    model,\n",
        "    to_file=\"model.png\",\n",
        "    show_shapes=True,\n",
        "    show_dtype=False,\n",
        "    show_layer_names=True,\n",
        "    rankdir=\"TB\",\n",
        "    expand_nested=False,\n",
        "    dpi=300,\n",
        ")"
      ],
      "metadata": {
        "id": "tytZGpGFlnLP"
      },
      "execution_count": null,
      "outputs": []
    },
    {
      "cell_type": "code",
      "source": [
        "rec_test = model.predict(test_generator)"
      ],
      "metadata": {
        "id": "h7IhRRNLlnOe"
      },
      "execution_count": null,
      "outputs": []
    },
    {
      "cell_type": "markdown",
      "source": [
        "### Test"
      ],
      "metadata": {
        "id": "bbe8kAMJlwHo"
      }
    },
    {
      "cell_type": "code",
      "source": [
        "import matplotlib.pyplot as plt\n",
        "from keras.models import load_model\n",
        "from keras.preprocessing import image\n",
        "import numpy as np\n",
        "import cv2\n",
        "\n",
        "def minmax(img):\n",
        "  img = ((img - img.min())/(img.max() - img.min())) #MIN MAX\n",
        "  return img\n",
        "\n",
        "def onepixel_img(img):\n",
        "  onepix = np.ones(img.shape)\n",
        "  for i in range(img.shape[1]):\n",
        "    positions = np.where(img[:,i] == 1)\n",
        "    if len(positions[0]) >= 1:\n",
        "      onepix[int(np.sum(positions[0])/len(positions[0])), i] = 0\n",
        "  return onepix\n",
        "\n",
        "\n",
        "def show_data(model_path, img_path):\n",
        "  model = load_model(model_path) # CARGADO DEL MODELO\n",
        "  # IMG EN NP ARRAY (1, 256, 256, 1)\n",
        "  full_img = []\n",
        "  img = tf.keras.utils.load_img(img_path, color_mode = \"grayscale\")\n",
        "  img = tf.keras.utils.img_to_array(img)\n",
        "  final_shape = img.shape\n",
        "  img = tf.keras.utils.load_img(img_path, target_size=(256,256), color_mode = \"grayscale\", interpolation=\"bicubic\")\n",
        "  img = tf.keras.utils.img_to_array(img)\n",
        "  img = minmax(img)\n",
        "  full_img.append(img)\n",
        "  full_img = np.array(full_img)\n",
        "  # PREDICCION\n",
        "  pred = model.predict(full_img)\n",
        "  # NORMALIZACIÓN\n",
        "  pred = ((pred - pred.min())/(pred.max() - pred.min()))\n",
        "\n",
        "  # THRESHOLD\n",
        "  _, thresh = cv2.threshold(pred[0,:,:,0], 0.5, 1, cv2.THRESH_BINARY_INV)\n",
        "  #print(thresh.shape)\n",
        "  #thresh = thresh[1].reshape(256,256)\n",
        "\n",
        "  # ERODE-DILATE\n",
        "  kernel = np.ones((3,3), np.uint8)\n",
        "  kernel2 = np.ones((4,4), np.uint8)\n",
        "  erosion = cv2.erode(thresh,kernel,iterations = 1)\n",
        "  dilate = cv2.dilate(erosion, kernel, iterations = 1)\n",
        "  #open = cv2.morphologyEx(thresh, cv2.MORPH_CLOSE, kernel)\n",
        "  open = cv2.erode(thresh, kernel, iterations = 0)\n",
        "  open = cv2.dilate(thresh, kernel, iterations = 1)\n",
        "\n",
        "  full_img = full_img.reshape((256,256))\n",
        "  pred = pred.reshape((256,256))\n",
        "  open = open.reshape((256,256))\n",
        "  thresh = thresh.reshape((256,256))\n",
        "  num_labels, labels_im = cv2.connectedComponents(np.uint8(open), connectivity = 8)\n",
        "  a = np.bincount(labels_im.flatten())[1:]\n",
        "  #print(a)\n",
        "  best_a = [i+1 for i,j in enumerate(a) if j >= 0.1*a.max()]\n",
        "  new = labels_im.copy()\n",
        "  #print(best_a)\n",
        "  for i in best_a:\n",
        "    new[labels_im == i] = 9999\n",
        "  new[new != 9999] = 0\n",
        "  new = new/9999\n",
        "  #new = minmax(new)\n",
        "  #print(np.uint8(open).max())\n",
        "\n",
        "  new = cv2.erode(new, kernel, iterations = 0)\n",
        "\n",
        "  thresh = cv2.resize(thresh, (final_shape[1], final_shape[0]), interpolation = cv2.INTER_NEAREST)\n",
        "  pred = cv2.resize(pred, (final_shape[1], final_shape[0]), interpolation = cv2.INTER_CUBIC)\n",
        "  full_img = cv2.resize(full_img, (final_shape[1], final_shape[0]), interpolation = cv2.INTER_CUBIC)\n",
        "  open = cv2.resize(open, (final_shape[1], final_shape[0]), interpolation = cv2.INTER_CUBIC)\n",
        "  new = cv2.resize(new, (final_shape[1], final_shape[0]), interpolation = cv2.INTER_NEAREST)\n",
        "\n",
        "\n",
        "  #thresh = minmax(thresh)\n",
        "  pred = minmax(pred)\n",
        "  full_img = minmax(full_img)\n",
        "  open = minmax(open)\n",
        "\n",
        "  # ONE PIXEL SOLO IMG\n",
        "  img_solo_path = img_path.replace(\"full\",\"solo\")\n",
        "  img_solo = tf.keras.utils.load_img(img_solo_path, color_mode = \"grayscale\")\n",
        "  img_solo = np.array(img_solo)\n",
        "  img_solo = minmax(img_solo)\n",
        "  _, img_solo = cv2.threshold(img_solo, 0.9, 1, cv2.THRESH_BINARY_INV)\n",
        "\n",
        "  # CALCULAR DIFERENCIA VALORES REAL VS PRED\n",
        "\n",
        "  onepix = onepixel_img(new)\n",
        "  a, b = np.where(onepix == 0)\n",
        "  a = np.take_along_axis(a, np.argsort(b), axis=0)\n",
        "  b = np.take_along_axis(b, np.argsort(b), axis=0)\n",
        "  onepix_copy = onepix.copy()\n",
        "  for i in range(0, len(a) - 1):\n",
        "    dy = a[i+1] - a[i]\n",
        "    dx = b[i+1] - b[i]\n",
        "    if abs(dy) > 1:\n",
        "      delta_y = np.linspace(0,dy,abs(dy), dtype='int16')\n",
        "      if int(dx) == 1:\n",
        "        delta_x = np.linspace(0,1,abs(dy))\n",
        "        for k in range(abs(dy)):\n",
        "          if delta_x[k] < 0.5:\n",
        "            delta_x[k] = 0\n",
        "          else:\n",
        "            delta_x[k] = 1\n",
        "      else:\n",
        "        delta_x = np.linspace(0,dx,abs(dy), dtype = 'int16')\n",
        "      for j in range(1, abs(dy)):\n",
        "        onepix_copy[a[i] + int(delta_y[j]), b[i] + int(delta_x[j])] = 0\n",
        "\n",
        "  #for i in range(0, len(a) - 1):\n",
        "  #  posiciones = np.where(onepix[:,b[i] + 1] == 0)\n",
        "  #  if len(posiciones[0]) == 0:\n",
        "  #    delta_x = b[i+1] - b[i]\n",
        "  #    delta_y = a[i+1] - a[i]\n",
        "  #    delta_y = np.linspace(0,delta_y,delta_x, dtype='int8')\n",
        "      #print(delta_y)\n",
        "      #print(delta_x, delta_y)\n",
        "  #    for j in range(1, delta_x):\n",
        "  #      onepix_copy[a[i] + delta_y[j], b[i] + j] = 0\n",
        "  #DISPLAY\n",
        "  plt.figure(figsize=(15, 15))\n",
        "  plt.gray()\n",
        "  ax = plt.subplot(2,2,1)\n",
        "  plt.imshow(full_img)\n",
        "  ax = plt.subplot(2,2,2)\n",
        "  plt.imshow(1-new)\n",
        "  ax = plt.subplot(2,2,3)\n",
        "  plt.imshow(onepix_copy)\n",
        "  ax = plt.subplot(2,2,4)\n",
        "  plt.imshow(1-img_solo)\n",
        ""
      ],
      "metadata": {
        "id": "9norcRDAlnQ_"
      },
      "execution_count": null,
      "outputs": []
    },
    {
      "cell_type": "code",
      "source": [
        "# model_path = '/content/drive/My Drive/iPre_Graficos/modelos/test_gen_minmax_full_fix_16layer.h5'\n",
        "model_path = '/content/drive/My Drive/iPre_Graficos/modelos/final_1.h5'\n",
        "# model_path = '/content/last.h5'\n",
        "#model_path = '/content/drive/My Drive/iPre_Graficos/modelos/test_gen_minmax_full_fix2.h5'\n",
        "# img_path = \"/content/real_new/test/graficos-full/grafico-1.png\"\n",
        "img_path = \"/content/matlab/test/graficos-full/grafico-4010.png\"\n",
        "#img_path = '/content/descarga.jpg'\n",
        "show_data(model_path, img_path)"
      ],
      "metadata": {
        "id": "fycto0s5lTH4"
      },
      "execution_count": null,
      "outputs": []
    },
    {
      "cell_type": "code",
      "source": [
        "from PIL import Image\n",
        "import os\n",
        "\n",
        "def minmax(img):\n",
        "  img = ((img - img.min())/(img.max() - img.min())) #MIN MAX\n",
        "  return img\n",
        "\n",
        "def onepixel_img(img):\n",
        "  onepix = np.ones(img.shape)\n",
        "  for i in range(img.shape[1]):\n",
        "    positions = np.where(img[:,i] == 1)\n",
        "    if len(positions[0]) >= 1:\n",
        "      onepix[int(np.sum(positions[0])/len(positions[0])), i] = 0\n",
        "  return onepix\n",
        "\n",
        "model_path = '/content/drive/My Drive/iPre_Graficos/modelos/final_1.h5'\n",
        "model = load_model(model_path) # CARGADO DEL MODELO\n",
        "\n",
        "img_path = \"/content/matlab/test/graficos-full/\"\n",
        "\n",
        "for filename in os.listdir(img_path):\n",
        "  # IMG EN NP ARRAY (1, 256, 256, 1)\n",
        "  full_img = []\n",
        "  img = tf.keras.utils.load_img(img_path + filename, color_mode = \"grayscale\")\n",
        "  img = tf.keras.utils.img_to_array(img)\n",
        "  final_shape = img.shape\n",
        "  img = tf.keras.utils.load_img(img_path + filename, target_size=(256,256), color_mode = \"grayscale\", interpolation=\"bicubic\")\n",
        "  img = tf.keras.utils.img_to_array(img)\n",
        "  img = minmax(img)\n",
        "  full_img.append(img)\n",
        "  full_img = np.array(full_img)\n",
        "  # PREDICCION\n",
        "  pred = model.predict(full_img)\n",
        "  # NORMALIZACIÓN\n",
        "  pred = ((pred - pred.min())/(pred.max() - pred.min()))\n",
        "\n",
        "  # THRESHOLD\n",
        "  _, thresh = cv2.threshold(pred[0,:,:,0], 0.5, 1, cv2.THRESH_BINARY_INV)\n",
        "\n",
        "  # ERODE-DILATE\n",
        "  kernel = np.ones((3,3), np.uint8)\n",
        "  open = cv2.dilate(thresh, kernel, iterations = 1)\n",
        "\n",
        "  full_img = full_img.reshape((256,256))\n",
        "  pred = pred.reshape((256,256))\n",
        "  open = open.reshape((256,256))\n",
        "  thresh = thresh.reshape((256,256))\n",
        "  num_labels, labels_im = cv2.connectedComponents(np.uint8(open), connectivity = 8)\n",
        "  a = np.bincount(labels_im.flatten())[1:]\n",
        "  best_a = [i+1 for i,j in enumerate(a) if j >= 0.1*a.max()]\n",
        "  new = labels_im.copy()\n",
        "  for i in best_a:\n",
        "    new[labels_im == i] = 9999\n",
        "  new[new != 9999] = 0\n",
        "  new = new/9999\n",
        "\n",
        "  thresh = cv2.resize(thresh, (final_shape[1], final_shape[0]), interpolation = cv2.INTER_NEAREST)\n",
        "  pred = cv2.resize(pred, (final_shape[1], final_shape[0]), interpolation = cv2.INTER_CUBIC)\n",
        "  full_img = cv2.resize(full_img, (final_shape[1], final_shape[0]), interpolation = cv2.INTER_CUBIC)\n",
        "  open = cv2.resize(open, (final_shape[1], final_shape[0]), interpolation = cv2.INTER_CUBIC)\n",
        "  new = cv2.resize(new, (final_shape[1], final_shape[0]), interpolation = cv2.INTER_NEAREST)\n",
        "\n",
        "  # CALCULAR DIFERENCIA VALORES REAL VS PRED\n",
        "  onepix = onepixel_img(new)\n",
        "  a, b = np.where(onepix == 0)\n",
        "  a = np.take_along_axis(a, np.argsort(b), axis=0)\n",
        "  b = np.take_along_axis(b, np.argsort(b), axis=0)\n",
        "  onepix_copy = onepix.copy()\n",
        "  for i in range(0, len(a) - 1):\n",
        "    dy = a[i+1] - a[i]\n",
        "    dx = b[i+1] - b[i]\n",
        "    if abs(dy) > 1:\n",
        "      delta_y = np.linspace(0,dy,abs(dy), dtype='int16')\n",
        "      if int(dx) == 1:\n",
        "        delta_x = np.linspace(0,1,abs(dy))\n",
        "        for k in range(abs(dy)):\n",
        "          if delta_x[k] < 0.5:\n",
        "            delta_x[k] = 0\n",
        "          else:\n",
        "            delta_x[k] = 1\n",
        "      else:\n",
        "        delta_x = np.linspace(0,dx,abs(dy), dtype = 'int16')\n",
        "      for j in range(1, abs(dy)):\n",
        "        onepix_copy[a[i] + int(delta_y[j]), b[i] + int(delta_x[j])] = 0\n",
        "\n",
        "  # GUARDAR ARCHIVO PRED, OUT, OUT_ONEPIXEL\n",
        "  dir = f\"/content/matlab/pred/{filename}\"\n",
        "  im = Image.fromarray(255*pred)\n",
        "  im = im.convert(\"L\")\n",
        "  im.save(dir)\n",
        "  dir = f\"/content/matlab/out/{filename}\"\n",
        "  im = Image.fromarray(255*(1-new))\n",
        "  im = im.convert(\"L\")\n",
        "  im.save(dir)\n",
        "  dir = f\"/content/matlab/out_onepixel/{filename}\"\n",
        "  im = Image.fromarray(255*onepix_copy)\n",
        "  im = im.convert(\"L\")\n",
        "  im.save(dir)\n",
        "\n",
        ""
      ],
      "metadata": {
        "id": "uoJR4y0dlTLc"
      },
      "execution_count": null,
      "outputs": []
    },
    {
      "cell_type": "code",
      "source": [
        "!zip -r /content/python.zip /content/python"
      ],
      "metadata": {
        "id": "FBLd6-bll47h"
      },
      "execution_count": null,
      "outputs": []
    },
    {
      "cell_type": "code",
      "source": [
        "from google.colab import files\n",
        "files.download(\"/content/python.zip\")"
      ],
      "metadata": {
        "id": "5-ShNHBIl4-v"
      },
      "execution_count": null,
      "outputs": []
    },
    {
      "cell_type": "code",
      "source": [
        "img = tf.keras.utils.load_img(\"/content/matlab/test/graficos-full/grafico-4017.png\", color_mode = \"grayscale\")\n",
        "img2 = tf.keras.utils.load_img(\"/content/matlab/test/graficos-full/grafico-4017.png\", target_size = (256,256), color_mode = \"grayscale\", interpolation = \"bicubic\")\n",
        "shape = np.array(img).shape\n",
        "print(np.array(img2).shape)\n",
        "#img = cv2.resize(np.array(img), (256,256), interpolation = cv2.INTER_CUBIC)\n",
        "img2 = cv2.resize(np.array(img2), (shape[1], shape[0]), interpolation = cv2.INTER_CUBIC)\n",
        "print(img2.shape)\n",
        "plt.imshow(img2)"
      ],
      "metadata": {
        "id": "K1b4pEzNl5BW"
      },
      "execution_count": null,
      "outputs": []
    },
    {
      "cell_type": "markdown",
      "source": [
        "### Capa a Capa"
      ],
      "metadata": {
        "id": "Bf9M4kS8l_LX"
      }
    },
    {
      "cell_type": "code",
      "source": [
        "#REVISAR CADA CAPA\n",
        "\n",
        "img_path = \"/content/python/train/graficos-full/grafico-36.png\"\n",
        "full_img = []\n",
        "img = tf.keras.utils.load_img(img_path, target_size=(256, 256), color_mode = \"grayscale\")\n",
        "img = tf.keras.utils.img_to_array(img)\n",
        "img = ((img - img.min())/(img.max() - img.min())) #MIN MAX\n",
        "full_img.append(img)\n",
        "full_img = np.array(full_img)\n",
        "\n",
        "# N° CAPA\n",
        "n = 10\n",
        "get_layer_output = K.function([model.layers[0].input],\n",
        "                                  [model.layers[n].output])\n",
        "\n",
        "layer_output = get_layer_output([full_img])[0]\n",
        "print(layer_output.shape)\n",
        "plt.figure(figsize = (30,30))\n",
        "plt.gray()\n",
        "if n != 0 and n != 11:\n",
        "  for i in range(64):\n",
        "    plt.subplot(8,8,(i+1))\n",
        "    plt.imshow(layer_output[0,:,:,i])\n",
        "    plt.axis(False)\n",
        "else:\n",
        "  plt.figure(figsize = (10,10))\n",
        "  plt.imshow(layer_output[0,:,:,0])\n",
        "  plt.axis(False)"
      ],
      "metadata": {
        "id": "qbjaL91rl5D7"
      },
      "execution_count": null,
      "outputs": []
    },
    {
      "cell_type": "code",
      "source": [],
      "metadata": {
        "id": "pOuJfTsMl5Gv"
      },
      "execution_count": null,
      "outputs": []
    },
    {
      "cell_type": "code",
      "source": [],
      "metadata": {
        "id": "eN2zueE2l5Jc"
      },
      "execution_count": null,
      "outputs": []
    },
    {
      "cell_type": "code",
      "source": [],
      "metadata": {
        "id": "HeEMHHkCl5Mh"
      },
      "execution_count": null,
      "outputs": []
    }
  ]
}