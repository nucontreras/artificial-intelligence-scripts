{
 "cells": [
  {
   "cell_type": "code",
   "execution_count": 1,
   "id": "feeaa6c8-b58a-4164-b854-886a3cd8c01b",
   "metadata": {},
   "outputs": [],
   "source": [
    "import os\n",
    "import sys\n",
    "import numpy as np\n",
    "\n",
    "import tensorflow as tf\n",
    "from keras.utils import Sequence, plot_model\n",
    "from keras.preprocessing import image\n",
    "from keras.layers import Input, Dense, Conv2D, MaxPooling2D, UpSampling2D, Conv2DTranspose\n",
    "from keras.models import Model, load_model\n",
    "import cv2\n",
    "\n",
    "from random import shuffle, seed\n",
    "import matplotlib.pyplot as plt\n",
    "from datetime import datetime\n",
    "\n",
    "seed(420)"
   ]
  },
  {
   "cell_type": "code",
   "execution_count": null,
   "id": "506436b6-d608-4705-9b9c-288643c1f076",
   "metadata": {},
   "outputs": [],
   "source": [
    "class DataGenerator(Sequence):\n",
    "    def __init__(self, directory, targets_dir, color_mode=\"grayscale\", subdirs=False, batch_size=32, dim=(256, 256), n_channels=1, shuffle=True):\n",
    "        self.x = self.read_directory(directory, subdirs)\n",
    "        self.directory = directory\n",
    "        self.targets_dir = targets_dir        \n",
    "        self.len = len(self.x)\n",
    "        self.batch_size = batch_size\n",
    "        self.dim = dim\n",
    "        self.n_channels = n_channels\n",
    "        self.shuffle = shuffle\n",
    "#         self.on_epoch_end()\n",
    "\n",
    "    def read_directory(self, directory, subdirs):\n",
    "        if not subdirs:\n",
    "            return os.listdir(directory)\n",
    "        raise FileExistsError\n",
    "        \n",
    "    def __len__(self):\n",
    "        return int(self.len // self.batch_size)\n",
    "\n",
    "    def __getitem__(self, index):\n",
    "        batch = self.x[index * self.batch_size : (index + 1) * self.batch_size]\n",
    "        x, y = self.read_images(batch)\n",
    "\n",
    "        return x, y\n",
    "\n",
    "    def on_epoch_end(self):\n",
    "        if self.shuffle == True:\n",
    "            shuffle(self.x)\n",
    "\n",
    "    def read_images(self, batch):\n",
    "        # Inicialización de datos\n",
    "        # X e y son de igual dimensión ya que ambos son imágenes\n",
    "        # X : (n_samples, *dim, n_channels)\n",
    "        x, y = np.empty((self.batch_size, *self.dim, self.n_channels)), np.empty((self.batch_size, *self.dim, self.n_channels))\n",
    "\n",
    "        # Generación de data\n",
    "        for i, name in enumerate(batch):\n",
    "            path = self.directory + \"/\" + name\n",
    "            img = tf.keras.utils.load_img(path, target_size=(256, 256), color_mode = \"grayscale\")\n",
    "            img = tf.keras.utils.img_to_array(img)\n",
    "            x[i] = img / 255\n",
    "            \n",
    "            target_path = self.targets_dir + \"/\" + name\n",
    "            target_img = tf.keras.utils.load_img(target_path, target_size=(256, 256), color_mode = \"grayscale\")\n",
    "            target_img = tf.keras.utils.img_to_array(target_img)\n",
    "            y[i] = target_img / 255\n",
    "\n",
    "        return x, y"
   ]
  }
 ],
 "metadata": {
  "kernelspec": {
   "display_name": "Python 3 (ipykernel)",
   "language": "python",
   "name": "python3"
  },
  "language_info": {
   "codemirror_mode": {
    "name": "ipython",
    "version": 3
   },
   "file_extension": ".py",
   "mimetype": "text/x-python",
   "name": "python",
   "nbconvert_exporter": "python",
   "pygments_lexer": "ipython3",
   "version": "3.10.11"
  }
 },
 "nbformat": 4,
 "nbformat_minor": 5
}
