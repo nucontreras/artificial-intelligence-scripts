{
  "nbformat": 4,
  "nbformat_minor": 0,
  "metadata": {
    "colab": {
      "provenance": [],
      "collapsed_sections": [
        "IB6Hx9VA0ZX_"
      ],
      "include_colab_link": true
    },
    "kernelspec": {
      "name": "python3",
      "display_name": "Python 3"
    },
    "language_info": {
      "name": "python"
    }
  },
  "cells": [
    {
      "cell_type": "markdown",
      "metadata": {
        "id": "view-in-github",
        "colab_type": "text"
      },
      "source": [
        "<a href=\"https://colab.research.google.com/github/nucontreras/artificial-intelligence-scripts/blob/main/FSCN/data_analysis.ipynb\" target=\"_parent\"><img src=\"https://colab.research.google.com/assets/colab-badge.svg\" alt=\"Open In Colab\"/></a>"
      ]
    },
    {
      "cell_type": "markdown",
      "metadata": {
        "id": "7W64CYScwd13"
      },
      "source": [
        "<b><FONT size=\"8\" color='264653'>Audiographics Project: sonification for the accessibility of quantitative information in graphic format </FONT>"
      ]
    },
    {
      "cell_type": "markdown",
      "metadata": {
        "id": "2LSbhuvYwd8m"
      },
      "source": [
        "><b><FONT size=\"3\" color='DimGray'> Sonification for the accessibility of quantitative information in graphic format is part of the research line in Technology and Care of the Millennium Institute for Care Research ([MICARE](https://www.micare.cl/)). The objective of this project is to implement a tool for the transformation of quantitative information presented in visual form into audio to facilitate access to visually handicapped people, using sonification techniques and image analysis through artificial intelligence. </FONT>"
      ]
    },
    {
      "cell_type": "markdown",
      "metadata": {
        "id": "JT4YTrjY5cj8"
      },
      "source": [
        "><b><FONT size=\"3\" color='DimGray'> This file contains the data analysis of the project. </FONT>"
      ]
    },
    {
      "cell_type": "markdown",
      "metadata": {
        "id": "7_hYGDE_wtAH"
      },
      "source": [
        "# <b><FONT size=\"5\" color='MidnightBlue '>Connection to Google Drive </FONT>"
      ]
    },
    {
      "cell_type": "code",
      "execution_count": 12,
      "metadata": {
        "colab": {
          "base_uri": "https://localhost:8080/"
        },
        "id": "i7OeQ4PzvKQh",
        "outputId": "c46e6eda-d601-435c-84e3-057090c69614"
      },
      "outputs": [
        {
          "output_type": "stream",
          "name": "stdout",
          "text": [
            "Drive already mounted at /content/gdrive; to attempt to forcibly remount, call drive.mount(\"/content/gdrive\", force_remount=True).\n",
            "/content/gdrive/MyDrive/AudioGraphs\n"
          ]
        }
      ],
      "source": [
        "from google.colab import drive\n",
        "drive.mount('/content/gdrive')\n",
        "\n",
        "%cd 'gdrive/MyDrive/AudioGraphs'"
      ]
    },
    {
      "cell_type": "markdown",
      "metadata": {
        "id": "J7q5gU9-xX0v"
      },
      "source": [
        "# <b><FONT size=\"5\" color='MidnightBlue '>Import of packages </FONT>\n",
        "\n"
      ]
    },
    {
      "cell_type": "code",
      "execution_count": 82,
      "metadata": {
        "id": "PGt3yRfFxXOo"
      },
      "outputs": [],
      "source": [
        "import os\n",
        "import sys\n",
        "import numpy as np\n",
        "from random import shuffle, sample\n",
        "\n",
        "# Data processing and visualization\n",
        "import pandas as pd\n",
        "import matplotlib.pyplot as plt\n",
        "from matplotlib.gridspec import GridSpec\n",
        "from matplotlib.pyplot import figure, imshow, axis\n",
        "from matplotlib.image import imread\n",
        "import cv2"
      ]
    },
    {
      "cell_type": "markdown",
      "source": [
        "#<b><FONT color='MidnightBlue' size='5'>General Functions</FONT></b>"
      ],
      "metadata": {
        "id": "juCt7SiZ4Fnf"
      }
    },
    {
      "cell_type": "code",
      "source": [
        "def search_imgs(path, n=None):\n",
        "    \"\"\"\n",
        "    Function that receives a path and returns all the images of type jpg,\n",
        "    jpeg or png found in that path as a list.\n",
        "    Solves the problem of automatic synchronization of mac 'dot dash' files.\n",
        "\n",
        "    Parameters\n",
        "    ----------\n",
        "    path : string\n",
        "        Path to the files.\n",
        "\n",
        "    Returns\n",
        "    -------\n",
        "    list\n",
        "        List with the names of all images in 'path'.\n",
        "    \"\"\"\n",
        "    extensions = ('.png', '.jpg', '.jpeg')\n",
        "    # TODO: optimize complexity\n",
        "    imgs_list = list()\n",
        "    imgs_list_tmp = os.listdir(path)\n",
        "    for file in imgs_list_tmp:\n",
        "        if file.endswith(extensions):\n",
        "            imgs_list.append(file)\n",
        "    return imgs_list"
      ],
      "metadata": {
        "id": "Brv7uLhi4E3j"
      },
      "execution_count": 73,
      "outputs": []
    },
    {
      "cell_type": "code",
      "source": [
        "def plot_table(frame, title=None):\n",
        "    fig = plt.figure(figsize=(8, 1))\n",
        "    ax = fig.add_subplot(111)\n",
        "\n",
        "    ax.table(cellText = my_frame.values,\n",
        "            rowLabels = my_frame.index,\n",
        "            colLabels = my_frame.columns,\n",
        "            loc = \"center\"\n",
        "            )\n",
        "    if title:\n",
        "        ax.set_title(title)\n",
        "\n",
        "    ax.axis(\"off\")"
      ],
      "metadata": {
        "id": "4K3oL5kRzfw0"
      },
      "execution_count": 15,
      "outputs": []
    },
    {
      "cell_type": "code",
      "source": [
        "#testing plot_table\n",
        "\n",
        "my_frame = pd.DataFrame(data={'simulation1':[71,4.8,65,4.7],\n",
        "                              'simulation2':[71,4.8,69,4.7],\n",
        "                              'simulation3':[70,3.8,68,4.9],\n",
        "                              'experiment':[70.3,3.5,65,4.4]})\n",
        "title = \"Top 10 Fields of Research by Aggregated Funding Amount\"\n",
        "#my_frame Display pandas table\n",
        "plot_table(my_frame, title= title)\n"
      ],
      "metadata": {
        "colab": {
          "base_uri": "https://localhost:8080/",
          "height": 139
        },
        "id": "E_Y04JZ-x5i7",
        "outputId": "feedbcb4-1465-4ef3-a20f-ec9cc1c2c052"
      },
      "execution_count": 16,
      "outputs": [
        {
          "output_type": "display_data",
          "data": {
            "text/plain": [
              "<Figure size 800x100 with 1 Axes>"
            ],
            "image/png": "[encoded data removed]"
          },
          "metadata": {}
        }
      ]
    },
    {
      "cell_type": "code",
      "source": [
        "# pandas example\n",
        "\n",
        "\n",
        "d = {\n",
        "    'Algothime': ['KNN', 'SVM', 'MLP'],\n",
        "    'Param. 1': ['-', '-', '-'],\n",
        "    'Param. 2': ['-', '-', '-'],\n",
        "    'Plage param. 1': ['-', '-', '-'],\n",
        "    'Plage param. 2': ['-', '-', '-'],\n",
        "}\n",
        "df = pd.DataFrame(data=d)\n",
        "df"
      ],
      "metadata": {
        "colab": {
          "base_uri": "https://localhost:8080/",
          "height": 144
        },
        "id": "BMpZtTxgD0DR",
        "outputId": "40fcf074-c50e-4d28-f2d6-beeb89d71665"
      },
      "execution_count": null,
      "outputs": [
        {
          "output_type": "execute_result",
          "data": {
            "text/plain": [
              "  Algothime Param. 1 Param. 2 Plage param. 1 Plage param. 2\n",
              "0       KNN        -        -              -              -\n",
              "1       SVM        -        -              -              -\n",
              "2       MLP        -        -              -              -"
            ],
            "text/html": [
              "\n",
              "\n",
              "  <div id=\"df-9cfd761a-c7af-4ec0-90fb-9321bce26825\">\n",
              "    <div class=\"colab-df-container\">\n",
              "      <div>\n",
              "<style scoped>\n",
              "    .dataframe tbody tr th:only-of-type {\n",
              "        vertical-align: middle;\n",
              "    }\n",
              "\n",
              "    .dataframe tbody tr th {\n",
              "        vertical-align: top;\n",
              "    }\n",
              "\n",
              "    .dataframe thead th {\n",
              "        text-align: right;\n",
              "    }\n",
              "</style>\n",
              "<table border=\"1\" class=\"dataframe\">\n",
              "  <thead>\n",
              "    <tr style=\"text-align: right;\">\n",
              "      <th></th>\n",
              "      <th>Algothime</th>\n",
              "      <th>Param. 1</th>\n",
              "      <th>Param. 2</th>\n",
              "      <th>Plage param. 1</th>\n",
              "      <th>Plage param. 2</th>\n",
              "    </tr>\n",
              "  </thead>\n",
              "  <tbody>\n",
              "    <tr>\n",
              "      <th>0</th>\n",
              "      <td>KNN</td>\n",
              "      <td>-</td>\n",
              "      <td>-</td>\n",
              "      <td>-</td>\n",
              "      <td>-</td>\n",
              "    </tr>\n",
              "    <tr>\n",
              "      <th>1</th>\n",
              "      <td>SVM</td>\n",
              "      <td>-</td>\n",
              "      <td>-</td>\n",
              "      <td>-</td>\n",
              "      <td>-</td>\n",
              "    </tr>\n",
              "    <tr>\n",
              "      <th>2</th>\n",
              "      <td>MLP</td>\n",
              "      <td>-</td>\n",
              "      <td>-</td>\n",
              "      <td>-</td>\n",
              "      <td>-</td>\n",
              "    </tr>\n",
              "  </tbody>\n",
              "</table>\n",
              "</div>\n",
              "      <button class=\"colab-df-convert\" onclick=\"convertToInteractive('df-9cfd761a-c7af-4ec0-90fb-9321bce26825')\"\n",
              "              title=\"Convert this dataframe to an interactive table.\"\n",
              "              style=\"display:none;\">\n",
              "\n",
              "  <svg xmlns=\"http://www.w3.org/2000/svg\" height=\"24px\"viewBox=\"0 0 24 24\"\n",
              "       width=\"24px\">\n",
              "    <path d=\"M0 0h24v24H0V0z\" fill=\"none\"/>\n",
              "    <path d=\"M18.56 5.44l.94 2.06.94-2.06 2.06-.94-2.06-.94-.94-2.06-.94 2.06-2.06.94zm-11 1L8.5 8.5l.94-2.06 2.06-.94-2.06-.94L8.5 2.5l-.94 2.06-2.06.94zm10 10l.94 2.06.94-2.06 2.06-.94-2.06-.94-.94-2.06-.94 2.06-2.06.94z\"/><path d=\"M17.41 7.96l-1.37-1.37c-.4-.4-.92-.59-1.43-.59-.52 0-1.04.2-1.43.59L10.3 9.45l-7.72 7.72c-.78.78-.78 2.05 0 2.83L4 21.41c.39.39.9.59 1.41.59.51 0 1.02-.2 1.41-.59l7.78-7.78 2.81-2.81c.8-.78.8-2.07 0-2.86zM5.41 20L4 18.59l7.72-7.72 1.47 1.35L5.41 20z\"/>\n",
              "  </svg>\n",
              "      </button>\n",
              "\n",
              "\n",
              "\n",
              "    <div id=\"df-8b46b179-ebdb-4a2c-a100-15802ebe3174\">\n",
              "      <button class=\"colab-df-quickchart\" onclick=\"quickchart('df-8b46b179-ebdb-4a2c-a100-15802ebe3174')\"\n",
              "              title=\"Suggest charts.\"\n",
              "              style=\"display:none;\">\n",
              "\n",
              "<svg xmlns=\"http://www.w3.org/2000/svg\" height=\"24px\"viewBox=\"0 0 24 24\"\n",
              "     width=\"24px\">\n",
              "    <g>\n",
              "        <path d=\"M19 3H5c-1.1 0-2 .9-2 2v14c0 1.1.9 2 2 2h14c1.1 0 2-.9 2-2V5c0-1.1-.9-2-2-2zM9 17H7v-7h2v7zm4 0h-2V7h2v10zm4 0h-2v-4h2v4z\"/>\n",
              "    </g>\n",
              "</svg>\n",
              "      </button>\n",
              "    </div>\n",
              "\n",
              "<style>\n",
              "  .colab-df-quickchart {\n",
              "    background-color: #E8F0FE;\n",
              "    border: none;\n",
              "    border-radius: 50%;\n",
              "    cursor: pointer;\n",
              "    display: none;\n",
              "    fill: #1967D2;\n",
              "    height: 32px;\n",
              "    padding: 0 0 0 0;\n",
              "    width: 32px;\n",
              "  }\n",
              "\n",
              "  .colab-df-quickchart:hover {\n",
              "    background-color: #E2EBFA;\n",
              "    box-shadow: 0px 1px 2px rgba(60, 64, 67, 0.3), 0px 1px 3px 1px rgba(60, 64, 67, 0.15);\n",
              "    fill: #174EA6;\n",
              "  }\n",
              "\n",
              "  [theme=dark] .colab-df-quickchart {\n",
              "    background-color: #3B4455;\n",
              "    fill: #D2E3FC;\n",
              "  }\n",
              "\n",
              "  [theme=dark] .colab-df-quickchart:hover {\n",
              "    background-color: #434B5C;\n",
              "    box-shadow: 0px 1px 3px 1px rgba(0, 0, 0, 0.15);\n",
              "    filter: drop-shadow(0px 1px 2px rgba(0, 0, 0, 0.3));\n",
              "    fill: #FFFFFF;\n",
              "  }\n",
              "</style>\n",
              "\n",
              "    <script>\n",
              "      async function quickchart(key) {\n",
              "        const containerElement = document.querySelector('#' + key);\n",
              "        const charts = await google.colab.kernel.invokeFunction(\n",
              "            'suggestCharts', [key], {});\n",
              "      }\n",
              "    </script>\n",
              "\n",
              "      <script>\n",
              "\n",
              "function displayQuickchartButton(domScope) {\n",
              "  let quickchartButtonEl =\n",
              "    domScope.querySelector('#df-8b46b179-ebdb-4a2c-a100-15802ebe3174 button.colab-df-quickchart');\n",
              "  quickchartButtonEl.style.display =\n",
              "    google.colab.kernel.accessAllowed ? 'block' : 'none';\n",
              "}\n",
              "\n",
              "        displayQuickchartButton(document);\n",
              "      </script>\n",
              "      <style>\n",
              "    .colab-df-container {\n",
              "      display:flex;\n",
              "      flex-wrap:wrap;\n",
              "      gap: 12px;\n",
              "    }\n",
              "\n",
              "    .colab-df-convert {\n",
              "      background-color: #E8F0FE;\n",
              "      border: none;\n",
              "      border-radius: 50%;\n",
              "      cursor: pointer;\n",
              "      display: none;\n",
              "      fill: #1967D2;\n",
              "      height: 32px;\n",
              "      padding: 0 0 0 0;\n",
              "      width: 32px;\n",
              "    }\n",
              "\n",
              "    .colab-df-convert:hover {\n",
              "      background-color: #E2EBFA;\n",
              "      box-shadow: 0px 1px 2px rgba(60, 64, 67, 0.3), 0px 1px 3px 1px rgba(60, 64, 67, 0.15);\n",
              "      fill: #174EA6;\n",
              "    }\n",
              "\n",
              "    [theme=dark] .colab-df-convert {\n",
              "      background-color: #3B4455;\n",
              "      fill: #D2E3FC;\n",
              "    }\n",
              "\n",
              "    [theme=dark] .colab-df-convert:hover {\n",
              "      background-color: #434B5C;\n",
              "      box-shadow: 0px 1px 3px 1px rgba(0, 0, 0, 0.15);\n",
              "      filter: drop-shadow(0px 1px 2px rgba(0, 0, 0, 0.3));\n",
              "      fill: #FFFFFF;\n",
              "    }\n",
              "  </style>\n",
              "\n",
              "      <script>\n",
              "        const buttonEl =\n",
              "          document.querySelector('#df-9cfd761a-c7af-4ec0-90fb-9321bce26825 button.colab-df-convert');\n",
              "        buttonEl.style.display =\n",
              "          google.colab.kernel.accessAllowed ? 'block' : 'none';\n",
              "\n",
              "        async function convertToInteractive(key) {\n",
              "          const element = document.querySelector('#df-9cfd761a-c7af-4ec0-90fb-9321bce26825');\n",
              "          const dataTable =\n",
              "            await google.colab.kernel.invokeFunction('convertToInteractive',\n",
              "                                                     [key], {});\n",
              "          if (!dataTable) return;\n",
              "\n",
              "          const docLinkHtml = 'Like what you see? Visit the ' +\n",
              "            '<a target=\"_blank\" href=https://colab.research.google.com/notebooks/data_table.ipynb>data table notebook</a>'\n",
              "            + ' to learn more about interactive tables.';\n",
              "          element.innerHTML = '';\n",
              "          dataTable['output_type'] = 'display_data';\n",
              "          await google.colab.output.renderOutput(dataTable, element);\n",
              "          const docLink = document.createElement('div');\n",
              "          docLink.innerHTML = docLinkHtml;\n",
              "          element.appendChild(docLink);\n",
              "        }\n",
              "      </script>\n",
              "    </div>\n",
              "  </div>\n"
            ]
          },
          "metadata": {},
          "execution_count": 16
        }
      ]
    },
    {
      "cell_type": "code",
      "source": [
        "data = {'product_name': ['laptop', 'printer', 'tablet', 'desk', 'chair'],\n",
        "        'price': [1200, 150, 300, 450, 200]\n",
        "        }\n",
        "\n",
        "df = pd.DataFrame(data, index=['product_1', 'product_2', 'product_3', 'product_4', 'product_5'])\n",
        "\n",
        "df.style.set_table_attributes(\"style='display:inline'\").set_caption('Caption table')\n",
        "df"
      ],
      "metadata": {
        "colab": {
          "base_uri": "https://localhost:8080/",
          "height": 206
        },
        "id": "S9bfxn1uvtjl",
        "outputId": "72dd72fb-b29b-4584-b792-855494332f9c"
      },
      "execution_count": null,
      "outputs": [
        {
          "output_type": "execute_result",
          "data": {
            "text/plain": [
              "          product_name  price\n",
              "product_1       laptop   1200\n",
              "product_2      printer    150\n",
              "product_3       tablet    300\n",
              "product_4         desk    450\n",
              "product_5        chair    200"
            ],
            "text/html": [
              "\n",
              "\n",
              "  <div id=\"df-d3f30c1f-84a6-4688-886d-73eea0958ea4\">\n",
              "    <div class=\"colab-df-container\">\n",
              "      <div>\n",
              "<style scoped>\n",
              "    .dataframe tbody tr th:only-of-type {\n",
              "        vertical-align: middle;\n",
              "    }\n",
              "\n",
              "    .dataframe tbody tr th {\n",
              "        vertical-align: top;\n",
              "    }\n",
              "\n",
              "    .dataframe thead th {\n",
              "        text-align: right;\n",
              "    }\n",
              "</style>\n",
              "<table border=\"1\" class=\"dataframe\">\n",
              "  <thead>\n",
              "    <tr style=\"text-align: right;\">\n",
              "      <th></th>\n",
              "      <th>product_name</th>\n",
              "      <th>price</th>\n",
              "    </tr>\n",
              "  </thead>\n",
              "  <tbody>\n",
              "    <tr>\n",
              "      <th>product_1</th>\n",
              "      <td>laptop</td>\n",
              "      <td>1200</td>\n",
              "    </tr>\n",
              "    <tr>\n",
              "      <th>product_2</th>\n",
              "      <td>printer</td>\n",
              "      <td>150</td>\n",
              "    </tr>\n",
              "    <tr>\n",
              "      <th>product_3</th>\n",
              "      <td>tablet</td>\n",
              "      <td>300</td>\n",
              "    </tr>\n",
              "    <tr>\n",
              "      <th>product_4</th>\n",
              "      <td>desk</td>\n",
              "      <td>450</td>\n",
              "    </tr>\n",
              "    <tr>\n",
              "      <th>product_5</th>\n",
              "      <td>chair</td>\n",
              "      <td>200</td>\n",
              "    </tr>\n",
              "  </tbody>\n",
              "</table>\n",
              "</div>\n",
              "      <button class=\"colab-df-convert\" onclick=\"convertToInteractive('df-d3f30c1f-84a6-4688-886d-73eea0958ea4')\"\n",
              "              title=\"Convert this dataframe to an interactive table.\"\n",
              "              style=\"display:none;\">\n",
              "\n",
              "  <svg xmlns=\"http://www.w3.org/2000/svg\" height=\"24px\"viewBox=\"0 0 24 24\"\n",
              "       width=\"24px\">\n",
              "    <path d=\"M0 0h24v24H0V0z\" fill=\"none\"/>\n",
              "    <path d=\"M18.56 5.44l.94 2.06.94-2.06 2.06-.94-2.06-.94-.94-2.06-.94 2.06-2.06.94zm-11 1L8.5 8.5l.94-2.06 2.06-.94-2.06-.94L8.5 2.5l-.94 2.06-2.06.94zm10 10l.94 2.06.94-2.06 2.06-.94-2.06-.94-.94-2.06-.94 2.06-2.06.94z\"/><path d=\"M17.41 7.96l-1.37-1.37c-.4-.4-.92-.59-1.43-.59-.52 0-1.04.2-1.43.59L10.3 9.45l-7.72 7.72c-.78.78-.78 2.05 0 2.83L4 21.41c.39.39.9.59 1.41.59.51 0 1.02-.2 1.41-.59l7.78-7.78 2.81-2.81c.8-.78.8-2.07 0-2.86zM5.41 20L4 18.59l7.72-7.72 1.47 1.35L5.41 20z\"/>\n",
              "  </svg>\n",
              "      </button>\n",
              "\n",
              "\n",
              "\n",
              "    <div id=\"df-771d95da-9b26-423b-81a5-a6b9b1cf4a6f\">\n",
              "      <button class=\"colab-df-quickchart\" onclick=\"quickchart('df-771d95da-9b26-423b-81a5-a6b9b1cf4a6f')\"\n",
              "              title=\"Suggest charts.\"\n",
              "              style=\"display:none;\">\n",
              "\n",
              "<svg xmlns=\"http://www.w3.org/2000/svg\" height=\"24px\"viewBox=\"0 0 24 24\"\n",
              "     width=\"24px\">\n",
              "    <g>\n",
              "        <path d=\"M19 3H5c-1.1 0-2 .9-2 2v14c0 1.1.9 2 2 2h14c1.1 0 2-.9 2-2V5c0-1.1-.9-2-2-2zM9 17H7v-7h2v7zm4 0h-2V7h2v10zm4 0h-2v-4h2v4z\"/>\n",
              "    </g>\n",
              "</svg>\n",
              "      </button>\n",
              "    </div>\n",
              "\n",
              "<style>\n",
              "  .colab-df-quickchart {\n",
              "    background-color: #E8F0FE;\n",
              "    border: none;\n",
              "    border-radius: 50%;\n",
              "    cursor: pointer;\n",
              "    display: none;\n",
              "    fill: #1967D2;\n",
              "    height: 32px;\n",
              "    padding: 0 0 0 0;\n",
              "    width: 32px;\n",
              "  }\n",
              "\n",
              "  .colab-df-quickchart:hover {\n",
              "    background-color: #E2EBFA;\n",
              "    box-shadow: 0px 1px 2px rgba(60, 64, 67, 0.3), 0px 1px 3px 1px rgba(60, 64, 67, 0.15);\n",
              "    fill: #174EA6;\n",
              "  }\n",
              "\n",
              "  [theme=dark] .colab-df-quickchart {\n",
              "    background-color: #3B4455;\n",
              "    fill: #D2E3FC;\n",
              "  }\n",
              "\n",
              "  [theme=dark] .colab-df-quickchart:hover {\n",
              "    background-color: #434B5C;\n",
              "    box-shadow: 0px 1px 3px 1px rgba(0, 0, 0, 0.15);\n",
              "    filter: drop-shadow(0px 1px 2px rgba(0, 0, 0, 0.3));\n",
              "    fill: #FFFFFF;\n",
              "  }\n",
              "</style>\n",
              "\n",
              "    <script>\n",
              "      async function quickchart(key) {\n",
              "        const containerElement = document.querySelector('#' + key);\n",
              "        const charts = await google.colab.kernel.invokeFunction(\n",
              "            'suggestCharts', [key], {});\n",
              "      }\n",
              "    </script>\n",
              "\n",
              "      <script>\n",
              "\n",
              "function displayQuickchartButton(domScope) {\n",
              "  let quickchartButtonEl =\n",
              "    domScope.querySelector('#df-771d95da-9b26-423b-81a5-a6b9b1cf4a6f button.colab-df-quickchart');\n",
              "  quickchartButtonEl.style.display =\n",
              "    google.colab.kernel.accessAllowed ? 'block' : 'none';\n",
              "}\n",
              "\n",
              "        displayQuickchartButton(document);\n",
              "      </script>\n",
              "      <style>\n",
              "    .colab-df-container {\n",
              "      display:flex;\n",
              "      flex-wrap:wrap;\n",
              "      gap: 12px;\n",
              "    }\n",
              "\n",
              "    .colab-df-convert {\n",
              "      background-color: #E8F0FE;\n",
              "      border: none;\n",
              "      border-radius: 50%;\n",
              "      cursor: pointer;\n",
              "      display: none;\n",
              "      fill: #1967D2;\n",
              "      height: 32px;\n",
              "      padding: 0 0 0 0;\n",
              "      width: 32px;\n",
              "    }\n",
              "\n",
              "    .colab-df-convert:hover {\n",
              "      background-color: #E2EBFA;\n",
              "      box-shadow: 0px 1px 2px rgba(60, 64, 67, 0.3), 0px 1px 3px 1px rgba(60, 64, 67, 0.15);\n",
              "      fill: #174EA6;\n",
              "    }\n",
              "\n",
              "    [theme=dark] .colab-df-convert {\n",
              "      background-color: #3B4455;\n",
              "      fill: #D2E3FC;\n",
              "    }\n",
              "\n",
              "    [theme=dark] .colab-df-convert:hover {\n",
              "      background-color: #434B5C;\n",
              "      box-shadow: 0px 1px 3px 1px rgba(0, 0, 0, 0.15);\n",
              "      filter: drop-shadow(0px 1px 2px rgba(0, 0, 0, 0.3));\n",
              "      fill: #FFFFFF;\n",
              "    }\n",
              "  </style>\n",
              "\n",
              "      <script>\n",
              "        const buttonEl =\n",
              "          document.querySelector('#df-d3f30c1f-84a6-4688-886d-73eea0958ea4 button.colab-df-convert');\n",
              "        buttonEl.style.display =\n",
              "          google.colab.kernel.accessAllowed ? 'block' : 'none';\n",
              "\n",
              "        async function convertToInteractive(key) {\n",
              "          const element = document.querySelector('#df-d3f30c1f-84a6-4688-886d-73eea0958ea4');\n",
              "          const dataTable =\n",
              "            await google.colab.kernel.invokeFunction('convertToInteractive',\n",
              "                                                     [key], {});\n",
              "          if (!dataTable) return;\n",
              "\n",
              "          const docLinkHtml = 'Like what you see? Visit the ' +\n",
              "            '<a target=\"_blank\" href=https://colab.research.google.com/notebooks/data_table.ipynb>data table notebook</a>'\n",
              "            + ' to learn more about interactive tables.';\n",
              "          element.innerHTML = '';\n",
              "          dataTable['output_type'] = 'display_data';\n",
              "          await google.colab.output.renderOutput(dataTable, element);\n",
              "          const docLink = document.createElement('div');\n",
              "          docLink.innerHTML = docLinkHtml;\n",
              "          element.appendChild(docLink);\n",
              "        }\n",
              "      </script>\n",
              "    </div>\n",
              "  </div>\n"
            ]
          },
          "metadata": {},
          "execution_count": 10
        }
      ]
    },
    {
      "cell_type": "code",
      "source": [
        "def bold(string):\n",
        "    return '\\033[1m' + string + '\\033[0m'"
      ],
      "metadata": {
        "id": "nUvasz-GZXiu"
      },
      "execution_count": 27,
      "outputs": []
    },
    {
      "cell_type": "code",
      "source": [
        "def path_dir_info(path):\n",
        "    imgs_path = search_imgs(path)\n",
        "    if imgs_path:\n",
        "        imgs_path_extension_set = set([img_name.split(\".\")[-1] for img_name in imgs_path])\n",
        "        text = f\"The path {bold(path):110s} have {len(imgs_path)} of {', '.join(set(imgs_path_extension_set))} extension.\"\n",
        "        print(text)"
      ],
      "metadata": {
        "id": "AiYm8ta14E_a"
      },
      "execution_count": 30,
      "outputs": []
    },
    {
      "cell_type": "code",
      "source": [
        "def list_dirs(rootdir):\n",
        "    subdirs = [x[0] for x in os.walk(rootdir)]\n",
        "    return subdirs"
      ],
      "metadata": {
        "id": "1Le-VMn7bThP"
      },
      "execution_count": 23,
      "outputs": []
    },
    {
      "cell_type": "code",
      "source": [
        "fruits = {\"Apple\": 200, \"Orange\": 150, \"Mango\": 196, \"Gauva\": 128 }\n",
        "fruits.items()"
      ],
      "metadata": {
        "colab": {
          "base_uri": "https://localhost:8080/"
        },
        "id": "L5WkvqltDSbh",
        "outputId": "78f439e5-7eef-49aa-b4da-1a765f1a5b47"
      },
      "execution_count": 86,
      "outputs": [
        {
          "output_type": "execute_result",
          "data": {
            "text/plain": [
              "dict_items([('Apple', 200), ('Orange', 150), ('Mango', 196), ('Gauva', 128)])"
            ]
          },
          "metadata": {},
          "execution_count": 86
        }
      ]
    },
    {
      "cell_type": "code",
      "source": [
        "def show_images_horizontally(path, n=6, random=False):\n",
        "    imgs = search_imgs(path)  # all images in the path\n",
        "    imgs_selected = dict()\n",
        "    # Verify if n is less than 12\n",
        "    if n > 12:\n",
        "        print(\"n has to be less than 12.\")\n",
        "        return\n",
        "    # Find images\n",
        "    if random:\n",
        "        ids_random = random.sample(range(len(imgs)), n)\n",
        "\n",
        "        for i in ids_random:\n",
        "            imgs_selected[imgs[i]] = path_ + imgs[i]\n",
        "    else:\n",
        "        path_ = path + \"/\" if path[-1] != \"/\" else path  # adding / if necessary\n",
        "        for i in range(n):\n",
        "            imgs_selected[imgs[i]] = path_ + imgs[i]\n",
        "\n",
        "    title_fontsize = 'x-small'\n",
        "    fig = figure(figsize=(30, 10))\n",
        "\n",
        "    number_of_files = len(imgs_selected.items())\n",
        "    i = 0\n",
        "    for img_name, img_path in imgs_selected.items():\n",
        "        a = fig.add_subplot(1, number_of_files, i+1)\n",
        "        image = imread(img_path)\n",
        "        imshow(image, cmap='Greys_r')\n",
        "        a.set_title(img_name, fontsize=title_fontsize)\n",
        "        axis('off')\n",
        "        i += 1\n",
        "\n",
        "show_images_horizontally(\"Codigos y BD anteriores/Barras/models/dataset/DB graficos internet\", 12)"
      ],
      "metadata": {
        "colab": {
          "base_uri": "https://localhost:8080/",
          "height": 229
        },
        "id": "ZM8TO4O0s0Dn",
        "outputId": "b8e9383a-a17c-4dd1-a133-af084fce71de"
      },
      "execution_count": 88,
      "outputs": [
        {
          "output_type": "display_data",
          "data": {
            "text/plain": [
              "<Figure size 3000x1000 with 12 Axes>"
            ],
            "image/png": "[encoded data removed]"
          },
          "metadata": {}
        }
      ]
    },
    {
      "cell_type": "code",
      "source": [
        "path_test = \"Codigos y BD anteriores/Barras/models/dataset/segmentation-2/test/color\"\n",
        "print_matrix_images(path_test, 6)"
      ],
      "metadata": {
        "id": "Ko5nFXp2gIrV"
      },
      "execution_count": null,
      "outputs": []
    },
    {
      "cell_type": "code",
      "source": [
        "path_testt = \"Codigos y BD anteriores/Barras/models/dataset/DB graficos internet\"\n",
        "files = os.listdir(path_testt)\n",
        "files = [f for f in files if os.path.isfile(path_testt+'/'+f)]  # Filtering only the files.\n",
        "print(*files, sep=\"\\n\")"
      ],
      "metadata": {
        "colab": {
          "base_uri": "https://localhost:8080/"
        },
        "id": "pvl4RERChWYz",
        "outputId": "140d00d0-9f01-40d2-b8ff-4d2898ff609c"
      },
      "execution_count": 37,
      "outputs": [
        {
          "output_type": "stream",
          "name": "stdout",
          "text": [
            "graph_1502.jpg\n",
            "graph_1312.jpg\n",
            "graph_1459.jpg\n",
            "graph_1103.jpg\n",
            "graph_1439.jpg\n",
            "graph_1306.jpg\n",
            "graph_1365.jpg\n",
            "graph_1221.jpg\n",
            "graph_1273.jpg\n",
            "graph_1393.jpg\n",
            "graph_1476.jpg\n",
            "graph_1425.jpg\n",
            "graph_1296.jpg\n",
            "graph_1042.jpg\n",
            "graph_1544.jpg\n",
            "graph_1277.jpg\n",
            "graph_1226.jpg\n",
            "graph_1464.jpg\n",
            "graph_1523.jpg\n",
            "graph_1223.jpg\n",
            "graph_1417.jpg\n",
            "graph_1257.jpg\n",
            "graph_1533.jpg\n",
            "graph_1243.jpg\n",
            "graph_1259.jpg\n",
            "graph_1368.jpg\n",
            "graph_1427.jpg\n",
            "graph_1113.jpg\n",
            "graph_1440.jpg\n",
            "graph_1426.jpg\n",
            "graph_1055.jpg\n",
            "graph_1437.jpg\n",
            "graph_1229.jpg\n",
            "graph_1391.jpg\n",
            "graph_1151.jpg\n",
            "graph_1542.jpg\n",
            "graph_1147.jpg\n",
            "graph_1087.jpg\n",
            "graph_1009.jpg\n",
            "graph_1516.jpg\n",
            "graph_1261.jpg\n",
            "graph_1488.jpg\n",
            "graph_1173.jpg\n",
            "graph_1266.jpg\n",
            "graph_1345.jpg\n",
            "graph_1086.jpg\n",
            "graph_1265.jpg\n",
            "graph_1293.jpg\n",
            "graph_1005.jpg\n",
            "graph_1231.jpg\n",
            "graph_1227.jpg\n",
            "graph_1351.jpg\n",
            "graph_1532.jpg\n",
            "graph_1135.jpg\n",
            "graph_1415.jpg\n",
            "graph_1453.jpg\n",
            "graph_1164.jpg\n",
            "graph_1278.jpg\n",
            "graph_1057.jpg\n",
            "graph_1235.jpg\n",
            "graph_1185.jpg\n",
            "graph_1077.jpg\n",
            "graph_1073.jpg\n",
            "graph_1342.jpg\n",
            "graph_1378.jpg\n",
            "graph_1016.jpg\n",
            "graph_1074.jpg\n",
            "graph_1107.jpg\n",
            "graph_1222.jpg\n",
            "graph_1324.jpg\n",
            "graph_1125.jpg\n",
            "graph_1062.jpg\n",
            "graph_1118.jpg\n",
            "graph_1436.jpg\n",
            "graph_1421.jpg\n",
            "graph_1154.jpg\n",
            "graph_1319.jpg\n",
            "graph_1145.jpg\n",
            "graph_1409.jpg\n",
            "graph_1346.jpg\n",
            "graph_1521.jpg\n",
            "graph_1051.jpg\n",
            "graph_1133.jpg\n",
            "graph_1366.jpg\n",
            "graph_1228.jpg\n",
            "graph_1084.jpg\n",
            "graph_1224.jpg\n",
            "graph_1213.jpg\n",
            "graph_1316.jpg\n",
            "graph_1045.jpg\n",
            "graph_1013.jpg\n",
            "graph_1095.jpg\n",
            "graph_1249.jpg\n",
            "graph_1240.jpg\n",
            "graph_1326.jpg\n",
            "graph_1028.jpg\n",
            "graph_1153.jpg\n",
            "graph_1327.jpg\n",
            "graph_1322.jpg\n",
            "graph_1149.jpg\n",
            "graph_1422.jpg\n",
            "graph_1039.jpg\n",
            "graph_1323.jpg\n",
            "graph_1389.jpg\n",
            "graph_1132.jpg\n",
            "graph_1066.jpg\n",
            "graph_1456.jpg\n",
            "graph_1117.jpg\n",
            "graph_1376.jpg\n",
            "graph_1241.jpg\n",
            "graph_1048.jpg\n",
            "graph_1109.jpg\n",
            "graph_1466.jpg\n",
            "graph_1210.jpg\n",
            "graph_1280.jpg\n",
            "graph_1140.jpg\n",
            "graph_1041.jpg\n",
            "graph_1110.jpg\n",
            "graph_1309.jpg\n",
            "graph_1499.jpg\n",
            "graph_1496.jpg\n",
            "graph_1379.jpg\n",
            "graph_1299.jpg\n",
            "graph_1058.jpg\n",
            "graph_1019.jpg\n",
            "graph_1362.jpg\n",
            "graph_1177.jpg\n",
            "graph_1097.jpg\n",
            "graph_1385.jpg\n",
            "graph_1367.jpg\n",
            "graph_1167.jpg\n",
            "graph_1448.jpg\n",
            "graph_1473.jpg\n",
            "graph_1387.jpg\n",
            "graph_1174.jpg\n",
            "graph_1356.jpg\n",
            "graph_1232.jpg\n",
            "graph_1253.jpg\n",
            "graph_1343.jpg\n",
            "graph_1310.jpg\n",
            "graph_1524.jpg\n",
            "graph_1408.jpg\n",
            "graph_1352.jpg\n",
            "graph_1321.jpg\n",
            "graph_1511.jpg\n",
            "graph_1093.jpg\n",
            "graph_1400.jpg\n",
            "graph_1372.png\n",
            "graph_1295.jpg\n",
            "graph_1220.jpg\n",
            "graph_1443.jpg\n",
            "graph_1037.jpg\n",
            "graph_1029.jpg\n",
            "graph_1101.jpg\n",
            "graph_1420.jpg\n",
            "graph_1119.jpg\n",
            "graph_1159.jpg\n",
            "graph_1236.jpg\n",
            "graph_1033.jpg\n",
            "graph_1455.jpg\n",
            "graph_1047.jpg\n",
            "graph_1412.jpg\n",
            "graph_1175.jpg\n",
            "graph_1000.jpg\n",
            "graph_1080.jpg\n",
            "graph_1358.jpg\n",
            "graph_1406.jpg\n",
            "graph_1026.jpg\n",
            "graph_1452.jpg\n",
            "graph_1541.jpg\n",
            "graph_1344.jpg\n",
            "graph_1424.jpg\n",
            "graph_1134.jpg\n",
            "graph_1505.jpg\n",
            "graph_1017.jpg\n",
            "graph_1444.jpg\n",
            "graph_1381.jpg\n",
            "graph_1446.jpg\n",
            "graph_1355.jpg\n",
            "graph_1543.jpg\n",
            "graph_1158.jpg\n",
            "graph_1428.jpg\n",
            "graph_1390.jpg\n",
            "graph_1489.jpg\n",
            "graph_1411.jpg\n",
            "graph_1430.jpg\n",
            "graph_1301.jpg\n",
            "graph_1171.jpg\n",
            "graph_1349.jpg\n",
            "graph_1100.jpg\n",
            "graph_1472.jpg\n",
            "graph_1246.jpg\n",
            "graph_1329.jpg\n",
            "graph_1186.jpg\n",
            "graph_1217.jpg\n",
            "graph_1479.jpg\n",
            "graph_1061.jpg\n",
            "graficos.xlsx\n",
            "graph_1286.jpg\n",
            "graph_1292.jpg\n",
            "graph_1392.jpg\n",
            "graph_1169.jpg\n",
            "graph_1260.jpg\n",
            "graph_1284.jpg\n",
            "graph_1465.jpg\n",
            "graph_1396.jpg\n",
            "graph_1181.jpg\n",
            "graph_1482.jpg\n",
            "graph_1038.jpg\n",
            "graph_1374.jpg\n",
            "graph_1075.jpg\n",
            "graph_1526.jpg\n",
            "graph_1146.jpg\n",
            "graph_1238.jpg\n",
            "graph_1272.jpg\n",
            "graph_1178.jpg\n",
            "graph_1188.jpg\n",
            "graph_1268.jpg\n",
            "graph_1507.jpg\n",
            "graph_1361.jpg\n",
            "graph_1089.jpg\n",
            "graph_1478.jpg\n",
            "graph_1300.jpg\n",
            "graph_1218.jpg\n",
            "graph_1233.jpg\n",
            "graph_1192.jpg\n",
            "graph_1364.jpg\n",
            "graph_1480.jpg\n",
            "graph_1298.jpg\n",
            "graph_1106.jpg\n",
            "graph_1027.jpg\n",
            "graph_1388.jpg\n",
            "graph_1445.jpg\n",
            "graph_1407.jpg\n",
            "graph_1441.jpg\n",
            "graph_1206.jpg\n",
            "graph_1044.jpg\n",
            "graph_1004.jpg\n",
            "graph_1477.jpg\n",
            "graph_1116.jpg\n",
            "graph_1262.jpg\n",
            "graph_1001.jpg\n",
            "graph_1314.jpg\n",
            "graph_1196.jpg\n",
            "graph_1143.jpg\n",
            "graph_1340.jpg\n",
            "graph_1380.jpg\n",
            "graph_1215.jpg\n",
            "graph_1518.jpg\n",
            "graph_1082.jpg\n",
            "graph_1432.jpg\n",
            "graph_1536.jpg\n",
            "graph_1121.jpg\n",
            "graph_1359.jpg\n",
            "graph_1212.jpg\n",
            "graph_1237.jpg\n",
            "graph_1334.jpg\n",
            "graph_1036.jpg\n",
            "graph_1198.jpg\n",
            "graph_1021.jpg\n",
            "graph_1354.jpg\n",
            "graph_1331.jpg\n",
            "graph_1090.jpg\n",
            "graph_1429.jpg\n",
            "graph_1085.jpg\n",
            "graph_1152.jpg\n",
            "graph_1305.jpg\n",
            "graph_1512.jpg\n",
            "graph_1497.jpg\n",
            "graph_1297.jpg\n",
            "graph_1170.jpg\n",
            "graph_1162.jpg\n",
            "graph_1332.jpg\n",
            "graph_1528.jpg\n",
            "graph_1105.jpg\n",
            "graph_1307.jpg\n",
            "graph_1525.jpg\n",
            "graph_1493.jpg\n",
            "graph_1271.jpg\n",
            "graph_1506.jpg\n",
            "graph_1501.jpg\n",
            "graph_1072.jpg\n",
            "graph_1139.jpg\n",
            "graph_1403.jpg\n",
            "graph_1179.jpg\n",
            "graph_1375.jpg\n",
            "graph_1370.jpg\n",
            "graph_1216.jpg\n",
            "graph_1291.jpg\n",
            "graph_1012.jpg\n",
            "graph_1194.jpg\n",
            "graph_1018.jpg\n",
            "graph_1483.jpg\n",
            "graph_1187.jpg\n",
            "graph_1264.jpg\n",
            "graph_1111.jpg\n",
            "graph_1529.jpg\n",
            "graph_1382.jpg\n",
            "graph_1498.jpg\n",
            "graph_1302.jpg\n",
            "graph_1063.jpg\n",
            "graph_1197.jpg\n",
            "graph_1288.jpg\n",
            "graph_1157.jpg\n",
            "graph_1491.jpg\n",
            "graph_1034.jpg\n",
            "graph_1474.jpg\n",
            "graph_1461.jpg\n",
            "graph_1130.jpg\n",
            "graph_1373.jpg\n",
            "graph_1065.jpg\n",
            "graph_1423.jpg\n",
            "graph_1311.jpg\n",
            "graph_1333.jpg\n",
            "graph_1050.jpg\n",
            "graph_1500.jpg\n",
            "graph_1142.jpg\n",
            "graph_1383.jpg\n",
            "graph_1002.jpg\n",
            "graph_1431.jpg\n",
            "graph_1328.jpg\n",
            "graph_1402.jpg\n",
            "graph_1486.jpg\n",
            "graph_1102.jpg\n",
            "graph_1168.jpg\n",
            "graph_1434.jpg\n",
            "graph_1520.jpg\n",
            "graph_1123.jpg\n",
            "graph_1330.jpg\n",
            "graph_1003.jpg\n",
            "graph_1336.jpg\n",
            "graph_1025.jpg\n",
            "graph_1234.jpg\n",
            "graph_1503.jpg\n",
            "graph_1070.jpg\n",
            "graph_1069.jpg\n",
            "graph_1252.jpg\n",
            "graph_1190.jpg\n",
            "graph_1148.jpg\n",
            "graph_1416.jpg\n",
            "graph_1245.jpg\n",
            "graph_1535.jpg\n",
            "graph_1150.jpg\n",
            "graph_1514.jpg\n",
            "graph_1122.jpg\n",
            "graph_1363.jpg\n",
            "graph_1414.jpg\n",
            "graph_1353.jpg\n",
            "graph_1251.jpg\n",
            "graph_1320.jpg\n",
            "graph_1114.jpg\n",
            "graph_1481.jpg\n",
            "graph_1341.jpg\n",
            "graph_1225.jpg\n",
            "graph_1515.jpg\n",
            "graph_1347.jpg\n",
            "graph_1397.jpg\n",
            "graph_1335.jpg\n",
            "graph_1244.jpg\n",
            "graph_1287.jpg\n",
            "graph_1395.jpg\n",
            "graph_1076.jpg\n",
            "graph_1254.jpg\n",
            "graph_1008.jpg\n",
            "graph_1112.jpg\n",
            "graph_1399.jpg\n",
            "graph_1242.jpg\n",
            "graph_1269.jpg\n",
            "graph_1024.jpg\n",
            "graph_1495.jpg\n",
            "graph_1290.jpg\n",
            "graph_1435.jpg\n",
            "graph_1308.jpg\n",
            "graph_1275.jpg\n",
            "graph_1279.jpg\n",
            "graph_1468.jpg\n",
            "graph_1184.jpg\n",
            "graph_1035.jpg\n",
            "graph_1141.jpg\n",
            "graph_1199.jpg\n",
            "graph_1115.jpg\n",
            "graph_1537.jpg\n",
            "graph_1052.jpg\n",
            "graph_1303.jpg\n",
            "graph_1099.jpg\n",
            "graph_1337.jpg\n",
            "graph_1442.jpg\n",
            "graph_1339.jpg\n",
            "graph_1124.jpg\n",
            "graph_1410.jpg\n",
            "graph_1398.jpg\n",
            "graph_1083.jpg\n",
            "graph_1458.jpg\n",
            "graph_1419.jpg\n",
            "graph_1208.jpg\n",
            "graph_1126.jpg\n",
            "graph_1270.jpg\n",
            "graph_1011.jpg\n",
            "graph_1191.jpg\n",
            "graph_1193.jpg\n",
            "graph_1534.jpg\n",
            "graph_1059.jpg\n",
            "graph_1313.jpg\n",
            "graph_1315.jpg\n",
            "graph_1509.jpg\n",
            "graph_1160.jpg\n",
            "graph_1180.jpg\n",
            "graph_1405.jpg\n",
            "graph_1274.jpg\n",
            "graph_1078.jpg\n",
            "graph_1487.jpg\n",
            "graph_1022.jpg\n",
            "graph_1131.jpg\n",
            "graph_1540.jpg\n",
            "graph_1205.jpg\n",
            "graph_1201.jpg\n",
            "graph_1127.jpg\n",
            "graph_1462.jpg\n",
            "graph_1508.jpg\n",
            "graph_1204.jpg\n",
            "graph_1176.jpg\n",
            "graph_1020.jpg\n",
            "graph_1530.jpg\n",
            "graph_1527.jpg\n",
            "graph_1517.jpg\n",
            "graph_1360.jpg\n",
            "graph_1294.jpg\n",
            "graph_1128.jpg\n",
            "graph_1494.jpg\n",
            "graph_1463.jpg\n",
            "graph_1519.jpg\n",
            "graph_1475.jpg\n",
            "graph_1165.jpg\n",
            "graph_1538.jpg\n",
            "graph_1449.jpg\n",
            "graph_1484.jpg\n",
            "graph_1504.jpg\n",
            "graph_1230.jpg\n",
            "graph_1137.jpg\n",
            "graph_1138.jpg\n",
            "graph_1369.jpg\n",
            "graph_1098.jpg\n",
            "graph_1104.jpg\n",
            "graph_1350.jpg\n",
            "graph_1214.jpg\n",
            "graph_1539.jpg\n",
            "graph_1088.jpg\n",
            "graph_1056.jpg\n",
            "graph_1182.jpg\n",
            "graph_1255.jpg\n",
            "graph_1015.jpg\n",
            "graph_1386.jpg\n",
            "graph_1060.jpg\n",
            "graph_1166.jpg\n",
            "graph_1394.jpg\n",
            "graph_1450.jpg\n",
            "graph_1203.jpg\n",
            "graph_1281.jpg\n",
            "graph_1247.jpg\n",
            "graph_1258.jpg\n",
            "graph_1006.jpg\n",
            "graph_1377.jpg\n",
            "graph_1091.jpg\n",
            "graph_1108.jpg\n",
            "graph_1183.jpg\n",
            "graph_1492.jpg\n",
            "graph_1032.jpg\n",
            "graph_1064.jpg\n",
            "graph_1096.jpg\n",
            "graph_1485.jpg\n",
            "graph_1081.jpg\n",
            "graph_1283.jpg\n",
            "graph_1276.jpg\n",
            "graph_1510.jpg\n",
            "graph_1469.jpg\n",
            "graph_1049.jpg\n",
            "graph_1189.jpg\n",
            "graph_1263.jpg\n",
            "graph_1451.jpg\n",
            "graph_1404.jpg\n",
            "graph_1438.jpg\n",
            "graph_1289.jpg\n",
            "graph_1522.jpg\n",
            "graph_1318.jpg\n",
            "graph_1120.jpg\n",
            "graph_1239.jpg\n",
            "graph_1129.jpg\n",
            "graph_1490.jpg\n",
            "graph_1172.jpg\n",
            "graph_1144.jpg\n",
            "graph_1195.jpg\n",
            "graph_1460.jpg\n",
            "graph_1007.jpg\n",
            "graph_1256.jpg\n",
            "graph_1161.jpg\n",
            "graph_1384.jpg\n",
            "graph_1447.jpg\n",
            "graph_1067.jpg\n",
            "graph_1470.jpg\n",
            "graph_1040.jpg\n",
            "graph_1053.jpg\n",
            "graph_1467.jpg\n",
            "graph_1136.jpg\n",
            "graph_1285.jpg\n",
            "graph_1209.jpg\n",
            "graph_1325.jpg\n",
            "graph_1014.jpg\n",
            "graph_1043.jpg\n",
            "graph_1401.jpg\n",
            "graph_1010.jpg\n",
            "graph_1338.jpg\n",
            "graph_1413.jpg\n",
            "graph_1457.jpg\n",
            "graph_1207.jpg\n",
            "graph_1357.jpg\n",
            "graph_1079.jpg\n",
            "graph_1031.jpg\n",
            "graph_1304.jpg\n",
            "graph_1054.jpg\n",
            "graph_1219.jpg\n",
            "graph_1454.jpg\n",
            "graph_1371.jpg\n",
            "graph_1030.jpg\n",
            "graph_1433.jpg\n",
            "graph_1471.jpg\n",
            "graph_1155.jpg\n",
            "graph_1282.jpg\n",
            "graph_1202.jpg\n",
            "graph_1513.jpg\n",
            "graph_1317.jpg\n",
            "graph_1156.jpg\n",
            "graph_1068.jpg\n",
            "graph_1200.jpg\n",
            "graph_1267.jpg\n",
            "graph_1092.jpg\n",
            "graph_1418.jpg\n",
            "graph_1046.jpg\n",
            "graph_1163.jpg\n",
            "graph_1250.jpg\n",
            "graph_1023.jpg\n",
            "graph_1248.jpg\n",
            "graph_1071.jpg\n",
            "graph_1211.jpg\n",
            "graph_1348.jpg\n",
            "graph_1094.jpg\n",
            "._Barras Verticales\n",
            "._Icon_\n"
          ]
        }
      ]
    },
    {
      "cell_type": "code",
      "source": [],
      "metadata": {
        "id": "iUlS_f2XhZts"
      },
      "execution_count": null,
      "outputs": []
    },
    {
      "cell_type": "markdown",
      "source": [
        "<b></b>"
      ],
      "metadata": {
        "id": "Dgx8CEqXdMt8"
      }
    },
    {
      "cell_type": "markdown",
      "metadata": {
        "id": "nZyNlhEMJNod"
      },
      "source": [
        "# <b><FONT size=\"6\" color='MidnightBlue '>Old Database </FONT>\n"
      ]
    },
    {
      "cell_type": "markdown",
      "source": [
        "## <b><FONT size=\"5\" color='MidnightBlue '>Paths to Bar Charts images</FONT>"
      ],
      "metadata": {
        "id": "6I-jI2_vcEIJ"
      }
    },
    {
      "cell_type": "code",
      "source": [
        "root_dir_bar_charts_old_db = 'Codigos y BD anteriores/Barras'\n",
        "list_dirs_bar_charts_old_db = list_dirs(root_dir_bar_charts_old_db)"
      ],
      "metadata": {
        "id": "1T6IHkLTcIkB"
      },
      "execution_count": 24,
      "outputs": []
    },
    {
      "cell_type": "markdown",
      "source": [
        "## <b><FONT size=\"5\" color='MidnightBlue '>Amount of data </FONT>"
      ],
      "metadata": {
        "id": "4p5DcqiR6cEH"
      }
    },
    {
      "cell_type": "code",
      "source": [
        "for sub_dir in list_dirs_bar_charts_old_db:\n",
        "    path_dir_info(sub_dir)"
      ],
      "metadata": {
        "colab": {
          "base_uri": "https://localhost:8080/"
        },
        "id": "fbeY3mftcfQ6",
        "outputId": "2e352b25-39f6-47ad-d6d9-61bac7b179b9"
      },
      "execution_count": 31,
      "outputs": [
        {
          "output_type": "stream",
          "name": "stdout",
          "text": [
            "The path \u001b[1mCodigos y BD anteriores/Barras/ejemplos/internet/regulares\u001b[0m                                             have 6 of jpg extension.\n",
            "The path \u001b[1mCodigos y BD anteriores/Barras/ejemplos/internet/buenos\u001b[0m                                                have 22 of jpg extension.\n",
            "The path \u001b[1mCodigos y BD anteriores/Barras/ejemplos/internet/malos\u001b[0m                                                 have 14 of jpg extension.\n",
            "The path \u001b[1mCodigos y BD anteriores/Barras/ejemplos/python/buenos\u001b[0m                                                  have 13 of png extension.\n",
            "The path \u001b[1mCodigos y BD anteriores/Barras/ejemplos/python/malos\u001b[0m                                                   have 13 of png extension.\n",
            "The path \u001b[1mCodigos y BD anteriores/Barras/ejemplos/python/regulares\u001b[0m                                               have 6 of png extension.\n",
            "The path \u001b[1mCodigos y BD anteriores/Barras/models/dataset/segmentation-2/test/binarias\u001b[0m                             have 1000 of png extension.\n",
            "The path \u001b[1mCodigos y BD anteriores/Barras/models/dataset/segmentation-2/test/grises\u001b[0m                               have 1000 of png extension.\n",
            "The path \u001b[1mCodigos y BD anteriores/Barras/models/dataset/segmentation-2/test/color\u001b[0m                                have 1010 of png extension.\n",
            "The path \u001b[1mCodigos y BD anteriores/Barras/models/dataset/segmentation-2/test/output/1_grayscale_reshape\u001b[0m           have 1000 of png extension.\n",
            "The path \u001b[1mCodigos y BD anteriores/Barras/models/dataset/segmentation-2/test/output/3_threshold\u001b[0m                   have 1000 of png extension.\n",
            "The path \u001b[1mCodigos y BD anteriores/Barras/models/dataset/segmentation-2/test/output/2_output_red\u001b[0m                  have 1000 of png extension.\n",
            "The path \u001b[1mCodigos y BD anteriores/Barras/models/dataset/segmentation-2/test/output/4_contornos\u001b[0m                   have 1000 of png extension.\n",
            "The path \u001b[1mCodigos y BD anteriores/Barras/models/dataset/segmentation-2/test/output/5_contornos_sobre_original\u001b[0m    have 1000 of png extension.\n",
            "The path \u001b[1mCodigos y BD anteriores/Barras/models/dataset/segmentation-2/test/segmented\u001b[0m                            have 1000 of png extension.\n",
            "The path \u001b[1mCodigos y BD anteriores/Barras/models/dataset/segmentation-2/train/binarias\u001b[0m                            have 5002 of png extension.\n",
            "The path \u001b[1mCodigos y BD anteriores/Barras/models/dataset/segmentation-2/train/color\u001b[0m                               have 5003 of png extension.\n",
            "The path \u001b[1mCodigos y BD anteriores/Barras/models/dataset/segmentation-2/train/segmented\u001b[0m                           have 5000 of png extension.\n",
            "The path \u001b[1mCodigos y BD anteriores/Barras/models/dataset/segmentation-2/train/grises\u001b[0m                              have 5001 of png extension.\n",
            "The path \u001b[1mCodigos y BD anteriores/Barras/models/dataset/internet/0_originales\u001b[0m                                    have 544 of jpg extension.\n",
            "The path \u001b[1mCodigos y BD anteriores/Barras/models/dataset/internet/1_grayscale_reshape\u001b[0m                             have 544 of jpg extension.\n",
            "The path \u001b[1mCodigos y BD anteriores/Barras/models/dataset/internet/2_output_red\u001b[0m                                    have 544 of jpg extension.\n",
            "The path \u001b[1mCodigos y BD anteriores/Barras/models/dataset/internet/3_threshold\u001b[0m                                     have 544 of jpg extension.\n",
            "The path \u001b[1mCodigos y BD anteriores/Barras/models/dataset/internet/5_contornos_sobre_original\u001b[0m                      have 544 of jpg extension.\n",
            "The path \u001b[1mCodigos y BD anteriores/Barras/models/dataset/internet/4_contornos\u001b[0m                                     have 544 of jpg extension.\n",
            "The path \u001b[1mCodigos y BD anteriores/Barras/models/dataset/DB graficos internet\u001b[0m                                     have 544 of jpg, png extension.\n",
            "The path \u001b[1mCodigos y BD anteriores/Barras/models/dataset/DB graficos internet/Barras Verticales\u001b[0m                   have 42 of jpg extension.\n"
          ]
        }
      ]
    },
    {
      "cell_type": "markdown",
      "source": [
        "## <b><FONT size=\"5\" color='MidnightBlue '>Data visualization </FONT>"
      ],
      "metadata": {
        "id": "oH7bEznie85R"
      }
    },
    {
      "cell_type": "code",
      "source": [],
      "metadata": {
        "id": "tPYDSAdge-hD"
      },
      "execution_count": null,
      "outputs": []
    },
    {
      "cell_type": "markdown",
      "source": [
        "## <b><FONT size=\"5\" color='MidnightBlue '>Paths to Line Charts images</FONT>"
      ],
      "metadata": {
        "id": "oC6BNjEZefwE"
      }
    },
    {
      "cell_type": "code",
      "source": [
        "root_dir_line_charts_old_db = 'Codigos y BD anteriores/Lineas/test_procesado'\n",
        "list_dirs_line_charts_old_db = list_dirs(root_dir_line_charts_old_db)"
      ],
      "metadata": {
        "id": "4ISybOHvefwK"
      },
      "execution_count": 32,
      "outputs": []
    },
    {
      "cell_type": "markdown",
      "source": [
        "## <b><FONT size=\"5\" color='MidnightBlue '>Amount of data </FONT>"
      ],
      "metadata": {
        "id": "zmoie0VLefwM"
      }
    },
    {
      "cell_type": "code",
      "source": [
        "for sub_dir in list_dirs_line_charts_old_db:\n",
        "    path_dir_info(sub_dir)"
      ],
      "metadata": {
        "colab": {
          "base_uri": "https://localhost:8080/"
        },
        "outputId": "da432e31-826e-4c19-c086-2776244e9bab",
        "id": "pZixyFBMefwO"
      },
      "execution_count": 33,
      "outputs": [
        {
          "output_type": "stream",
          "name": "stdout",
          "text": [
            "The path \u001b[1mCodigos y BD anteriores/Lineas/test_procesado/matlab/pred\u001b[0m                                              have 1000 of png extension.\n",
            "The path \u001b[1mCodigos y BD anteriores/Lineas/test_procesado/matlab/out_onepixel\u001b[0m                                      have 1000 of png extension.\n",
            "The path \u001b[1mCodigos y BD anteriores/Lineas/test_procesado/matlab/out\u001b[0m                                               have 1000 of png extension.\n",
            "The path \u001b[1mCodigos y BD anteriores/Lineas/test_procesado/matlab/test/graficos-full\u001b[0m                                have 1000 of png extension.\n",
            "The path \u001b[1mCodigos y BD anteriores/Lineas/test_procesado/matlab/test/graficos-solo\u001b[0m                                have 1000 of png extension.\n",
            "The path \u001b[1mCodigos y BD anteriores/Lineas/test_procesado/python/out\u001b[0m                                               have 999 of png extension.\n",
            "The path \u001b[1mCodigos y BD anteriores/Lineas/test_procesado/python/out_onepixel\u001b[0m                                      have 999 of png extension.\n",
            "The path \u001b[1mCodigos y BD anteriores/Lineas/test_procesado/python/pred\u001b[0m                                              have 999 of png extension.\n",
            "The path \u001b[1mCodigos y BD anteriores/Lineas/test_procesado/python/test/graficos-solo\u001b[0m                                have 999 of png extension.\n",
            "The path \u001b[1mCodigos y BD anteriores/Lineas/test_procesado/python/test/graficos-full\u001b[0m                                have 999 of png extension.\n",
            "The path \u001b[1mCodigos y BD anteriores/Lineas/test_procesado/real_new/out_onepixel\u001b[0m                                    have 60 of png extension.\n",
            "The path \u001b[1mCodigos y BD anteriores/Lineas/test_procesado/real_new/pred\u001b[0m                                            have 60 of png extension.\n",
            "The path \u001b[1mCodigos y BD anteriores/Lineas/test_procesado/real_new/test/graficos-full\u001b[0m                              have 60 of png extension.\n",
            "The path \u001b[1mCodigos y BD anteriores/Lineas/test_procesado/real_new/test/graficos-solo\u001b[0m                              have 60 of png extension.\n",
            "The path \u001b[1mCodigos y BD anteriores/Lineas/test_procesado/real_new/out\u001b[0m                                             have 60 of png extension.\n"
          ]
        }
      ]
    },
    {
      "cell_type": "markdown",
      "source": [
        "## <b><FONT size=\"5\" color='MidnightBlue '>Data visualization </FONT>"
      ],
      "metadata": {
        "id": "nWTHFiUie4HA"
      }
    },
    {
      "cell_type": "code",
      "source": [],
      "metadata": {
        "id": "vVkukirle_gP"
      },
      "execution_count": null,
      "outputs": []
    },
    {
      "cell_type": "markdown",
      "source": [
        "<b></b>"
      ],
      "metadata": {
        "id": "f1FqFJQVdFt1"
      }
    },
    {
      "cell_type": "markdown",
      "metadata": {
        "id": "v4bZrERe6vBj"
      },
      "source": [
        "# <b><FONT size=\"6\" color='MidnightBlue '>New Database </FONT>\n"
      ]
    },
    {
      "cell_type": "markdown",
      "source": [
        "## <b><FONT size=\"5\" color='MidnightBlue '>Amount of data </FONT>"
      ],
      "metadata": {
        "id": "He6o4vg36vBl"
      }
    },
    {
      "cell_type": "code",
      "source": [],
      "metadata": {
        "id": "ZjLulpRo6vBm"
      },
      "execution_count": null,
      "outputs": []
    },
    {
      "cell_type": "markdown",
      "metadata": {
        "id": "-KrSFJ9bZDyL"
      },
      "source": [
        "# <b><FONT size=\"6\" color='MidnightBlue '>Annexes </FONT>\n"
      ]
    },
    {
      "cell_type": "markdown",
      "source": [
        "## <b><FONT size=\"5\" color='MidnightBlue '>Paths to images sets - Old Data Base </FONT>"
      ],
      "metadata": {
        "id": "JyqdLa0P_Wmv"
      }
    },
    {
      "cell_type": "markdown",
      "metadata": {
        "id": "McwJccH6b6PQ"
      },
      "source": [
        "### <b><FONT size=\"4\" color='619b8a'>Path to bar chart images old dataset  </FONT>"
      ]
    },
    {
      "cell_type": "code",
      "execution_count": null,
      "metadata": {
        "id": "jWf-E9qRF6sX"
      },
      "outputs": [],
      "source": [
        "path_bar_ex_internet_good_old_db = 'Codigos y BD anteriores/Barras/ejemplos/internet/buenos'\n",
        "path_bar_ex_internet_bad_old_db = 'Codigos y BD anteriores/Barras/ejemplos/internet/malos'\n",
        "path_bar_ex_internet_regular_old_db = 'Codigos y BD anteriores/Barras/ejemplos/internet/regulares'\n",
        "\n",
        "path_bar_ex_python_good_old_db = 'Codigos y BD anteriores/Barras/ejemplos/python/buenos'\n",
        "path_bar_ex_python_bad_old_db = 'Codigos y BD anteriores/Barras/ejemplos/python/malos'\n",
        "path_bar_ex_python_regular_old_db = 'Codigos y BD anteriores/Barras/ejemplos/python/regulares'\n",
        "\n",
        "path_bar_internet_old_db = 'Codigos y BD anteriores/Barras/models/dataset/DB graficos internet'\n",
        "path_bar_internet_vertical_old_db = 'Codigos y BD anteriores/Barras/models/dataset/DB graficos internet/Barras Verticales'\n",
        "path_bar_internet_0_originales_old_db = 'Codigos y BD anteriores/Barras/models/dataset/internet/0_originales'\n",
        "path_bar_internet_1_grayscale_reshape_old_db = 'Codigos y BD anteriores/Barras/models/dataset/internet/1_grayscale_reshape'\n",
        "path_bar_internet_2_output_red_old_db = 'Codigos y BD anteriores/Barras/models/dataset/internet/2_output_red'\n",
        "path_bar_internet_3_threshold_old_db = 'Codigos y BD anteriores/Barras/models/dataset/internet/3_threshold'\n",
        "path_bar_internet_4_contornos_old_db = 'Codigos y BD anteriores/Barras/models/dataset/internet/4_contornos'\n",
        "path_bar_internet_5_contornos_sobre_original_old_db = 'Codigos y BD anteriores/Barras/models/dataset/internet/5_contornos_sobre_original'\n",
        "\n",
        "path_bar_segm_2_train_binarias_old_db = 'Codigos y BD anteriores/Barras/models/dataset/segmentation-2/train/binarias'\n",
        "path_bar_segm_2_train_color_old_db = 'Codigos y BD anteriores/Barras/models/dataset/segmentation-2/train/color'\n",
        "path_bar_segm_2_train_grises_old_db = 'Codigos y BD anteriores/Barras/models/dataset/segmentation-2/train/grises'\n",
        "path_bar_segm_2_train_segmented_old_db = 'Codigos y BD anteriores/Barras/models/dataset/segmentation-2/train/segmented'\n",
        "\n",
        "path_bar_segm_2_test_binarias_old_db = 'Codigos y BD anteriores/Barras/models/dataset/segmentation-2/test/binarias'\n",
        "path_bar_segm_2_test_color_old_db = 'Codigos y BD anteriores/Barras/models/dataset/segmentation-2/test/color'\n",
        "path_bar_segm_2_test_grises_old_db = 'Codigos y BD anteriores/Barras/models/dataset/segmentation-2/test/grises'\n",
        "path_bar_segm_2_test_segmented_old_db = 'Codigos y BD anteriores/Barras/models/dataset/segmentation-2/test/segmented'\n",
        "path_bar_segm_2_test_output_1_grayscale_reshape_old_db = 'Codigos y BD anteriores/Barras/models/dataset/segmentation-2/test/output/1_grayscale_reshape'\n",
        "path_bar_segm_2_test_output_2_output_red_old_db = 'Codigos y BD anteriores/Barras/models/dataset/segmentation-2/test/output/2_output_red'\n",
        "path_bar_segm_2_test_output_3_threshold_old_db = 'Codigos y BD anteriores/Barras/models/dataset/segmentation-2/test/output/3_threshold'\n",
        "path_bar_segm_2_test_output_4_contornos_old_db = 'Codigos y BD anteriores/Barras/models/dataset/segmentation-2/test/output/4_contornos'\n",
        "path_bar_segm_2_test_output_5_contornos_sobre_original_old_db = 'Codigos y BD anteriores/Barras/models/dataset/segmentation-2/test/output/5_contornos_sobre_original'"
      ]
    },
    {
      "cell_type": "markdown",
      "metadata": {
        "id": "JNTUZ8oZ_jlA"
      },
      "source": [
        "### <b><FONT size=\"4\" color='619b8a'>Path to line chart images old dataset  </FONT>"
      ]
    },
    {
      "cell_type": "code",
      "source": [
        "path_line_matlab_out_old_db = 'Codigos y BD anteriores/Lineas/test_procesado/matlab/out'\n",
        "path_line_matlab_out_onepixel_old_db = 'Codigos y BD anteriores/Lineas/test_procesado/matlab/out_onepixel'\n",
        "path_line_matlab_pred_old_db = 'Codigos y BD anteriores/Lineas/test_procesado/matlab/pred'\n",
        "path_line_matlab_test_graficosfull_old_db = 'Codigos y BD anteriores/Lineas/test_procesado/matlab/test/graficos-full'\n",
        "path_line_matlab_test_graficossolo_old_db = 'Codigos y BD anteriores/Lineas/test_procesado/matlab/test/graficos-solo'\n",
        "\n",
        "path_line_python_out_old_db = 'Codigos y BD anteriores/Lineas/test_procesado/python/out'\n",
        "path_line_python_out_onepixel_old_db = 'Codigos y BD anteriores/Lineas/test_procesado/python/out_onepixel'\n",
        "path_line_python_pred_old_db = 'Codigos y BD anteriores/Lineas/test_procesado/python/pred'\n",
        "path_line_python_test_graficos_full_old_db = 'Codigos y BD anteriores/Lineas/test_procesado/python/test/graficos-full'\n",
        "path_line_python_test_graficos_solo_old_db = 'Codigos y BD anteriores/Lineas/test_procesado/python/test/graficos-solo'\n",
        "\n",
        "path_line_realnew_out_old_db = 'Codigos y BD anteriores/Lineas/test_procesado/real_new/out'\n",
        "path_line_realnew_out_onepixel_old_db = 'Codigos y BD anteriores/Lineas/test_procesado/real_new/out_onepixel'\n",
        "path_line_realnew_pred_old_db = 'Codigos y BD anteriores/Lineas/test_procesado/real_new/pred'\n",
        "path_line_realnew_test_graficos_full_old_db = 'Codigos y BD anteriores/Lineas/test_procesado/real_new/test/graficos-full'\n",
        "path_line_realnew_test_graficos_solo_old_db = 'Codigos y BD anteriores/Lineas/test_procesado/real_new/test/graficos-solo'"
      ],
      "metadata": {
        "id": "AirmvLQV_0MO"
      },
      "execution_count": null,
      "outputs": []
    },
    {
      "cell_type": "markdown",
      "source": [
        "## <b><FONT size=\"5\" color='MidnightBlue '>Paths to images sets - New Data Base </FONT>"
      ],
      "metadata": {
        "id": "589T5fPNGj2p"
      }
    },
    {
      "cell_type": "markdown",
      "metadata": {
        "id": "wZyTjk7G_sYG"
      },
      "source": [
        "### <b><FONT size=\"4\" color='619b8a'>Path to bar chart images new dataset  </FONT>"
      ]
    },
    {
      "cell_type": "code",
      "source": [
        "path_bar_aug_new_db = 'Data Base/Augmented/bar_chart'\n",
        "path_bar_orig_new_db = 'Data Base/Originales/original_images_bar_chart'\n",
        "path_bar_cut_h_new_db = 'Data Base/Recortadas/h_bar_chart'\n",
        "path_bar_cut_v_new_db = 'Data Base/Recortadas/v_bar_chart'"
      ],
      "metadata": {
        "id": "tbeZzC4NC_um"
      },
      "execution_count": null,
      "outputs": []
    },
    {
      "cell_type": "markdown",
      "metadata": {
        "id": "CB2tU5tA_ser"
      },
      "source": [
        "### <b><FONT size=\"4\" color='619b8a'>Path to line chart images new dataset  </FONT>"
      ]
    },
    {
      "cell_type": "code",
      "source": [
        "path_line_aug_new_db = 'Data Base/Augmented/line_chart'\n",
        "path_line_orig_new_db = 'Data Base/Originales/original_images_line_chart'\n",
        "path_line_cut_new_db = 'Data Base/Recortadas/line_chart'"
      ],
      "metadata": {
        "id": "kvRBOIUiDAYo"
      },
      "execution_count": null,
      "outputs": []
    },
    {
      "cell_type": "markdown",
      "metadata": {
        "id": "iegwQfiwDHNj"
      },
      "source": [
        "### <b><FONT size=\"4\" color='619b8a'>Path to pie chart images new dataset  </FONT>"
      ]
    },
    {
      "cell_type": "code",
      "source": [
        "path_pie_aug_new_db = 'Data Base/Augmented/pie_chart'\n",
        "path_pie_orig_new_db = 'Data Base/Originales/original_images_pie_chart'\n",
        "path_pie_cut_new_db = 'Data Base/Recortadas/pie_chart'"
      ],
      "metadata": {
        "id": "HwDyLiExDHNs"
      },
      "execution_count": null,
      "outputs": []
    },
    {
      "cell_type": "markdown",
      "metadata": {
        "id": "IB6Hx9VA0ZX_"
      },
      "source": [
        "# <b><FONT size=\"6\" color='MidnightBlue '>Annexes </FONT>\n"
      ]
    },
    {
      "cell_type": "markdown",
      "source": [
        "## <b><FONT size=\"5\" color='MidnightBlue '>Gridspec </FONT>"
      ],
      "metadata": {
        "id": "PsgOlzZD0bSq"
      }
    },
    {
      "cell_type": "code",
      "source": [
        "def print_matrix_images(path, amount, n_row=2, n_col=3, random=True)\n",
        "    description = 'Size: %s, #Samples: %s, Computation Time: %ss'%(25, 13, int(12.5))\n",
        "    title_fontsize = 'x-small'\n",
        "    fig = plt.figure(dpi=300, tight_layout=True)\n",
        "    fig.set_size_inches(8.27, 11.69, forward=True)\n",
        "\n",
        "    plt.figtext(0.02, .99, description, fontsize = 'small')\n",
        "\n",
        "    ax = np.zeros(9, dtype=object)\n",
        "    gs = fig.add_gridspec(5, 3, height_ratios=[3,2,3,2,2])\n",
        "    ax[0] = fig.add_subplot(gs[0, 0])\n",
        "    ax[1] = fig.add_subplot(gs[0, 1])\n",
        "    ax[2] = fig.add_subplot(gs[0, 2])\n",
        "    ax[3] = fig.add_subplot(gs[1, 0])\n",
        "    ax[4] = fig.add_subplot(gs[1, 1])\n",
        "    ax[5] = fig.add_subplot(gs[1, 2])\n",
        "\n",
        "    ax[0].imshow(img)\n",
        "    ax[0].set_title('Slice through Covariance Operator', fontsize = title_fontsize)\n",
        "\n",
        "    ax[1].imshow(img)\n",
        "    ax[1].set_title('Last Sample', fontsize = title_fontsize)\n",
        "\n",
        "    ax[2].imshow(img)\n",
        "    ax[2].set_title('Truth', fontsize = title_fontsize)\n",
        "\n",
        "    ax[3].imshow(img)\n",
        "    ax[3].set_title('Slice through Covariance Operator', fontsize = title_fontsize)\n",
        "\n",
        "    ax[4].imshow(img)\n",
        "    ax[4].set_title('Last Sample', fontsize = title_fontsize)\n",
        "\n",
        "    ax[5].imshow(img)\n",
        "    ax[5].set_title('Truth', fontsize = title_fontsize)\n",
        "\n",
        "    # imgs_to_print =\n",
        "\n",
        "    # stations = x_train_analyse[['SO2_HRI-1', 'SO2_HVH-1', 'SO2_STA-1','SO2_CAU-1','SO2_GOR-1','SO2_HAR-1']]\n",
        "\n",
        "    # gs = GridSpec(2, 3)\n",
        "\n",
        "    # keys = stations.keys()\n",
        "    # fig = plt.figure(figsize=(30, 10))\n",
        "    # ax = [fig.add_subplot(pos) for pos in [gs[0, 0], gs[0, 1], gs[0, 2],\n",
        "    #                                     gs[1, 0], gs[1, 1], gs[1, 2]]]\n",
        "\n",
        "    # i = 0\n",
        "    # x = stations.index\n",
        "    # y_sortie = y_train_analyse[\"SO2_MAS+0\"]\n",
        "\n",
        "    # for k in keys[:6]:\n",
        "    #     y = stations[k]\n",
        "    #     # First subplot\n",
        "    #     ax[i].plot(x, y, color='black', label=k)\n",
        "    #     ax[i].plot(x, y_sortie, color='yellow', alpha=0.7, label=\"SO2_MAS-0\")\n",
        "    #     ax[i].grid()\n",
        "    #     ax[i].set_xlabel(\"temps\")\n",
        "    #     ax[i].set_ylabel(\"μg/m³\")\n",
        "    #     ax[i].set_title(k)\n",
        "    #     ax[i].legend()\n",
        "    #     i += 1"
      ],
      "metadata": {
        "id": "PvzF6f_efsof"
      },
      "execution_count": null,
      "outputs": []
    },
    {
      "cell_type": "code",
      "source": [
        "def show_images_horizontally2(list_of_files):\n",
        "    gs = GridSpec(1, 12)\n",
        "\n",
        "\n",
        "    fig = plt.figure(figsize=(30, 10))\n",
        "    ax = [fig.add_subplot(pos) for pos in [gs[0, 0], gs[0, 1], gs[0, 2],\n",
        "                                        gs[0, 3], gs[0, 4], gs[0, 5], gs[0, 6], gs[0, 7], gs[0, 8],\n",
        "                                        gs[0, 9], gs[0, 10], gs[0, 11]]]\n",
        "\n",
        "    i = 0\n",
        "    # x = stations.index\n",
        "    # y_sortie = y_train_analyse[\"SO2_MAS+0\"]\n",
        "\n",
        "    for k in list_of_files:\n",
        "        image = imread(list_of_files[i])\n",
        "        ax[i].imshow(image,cmap='Greys_r')\n",
        "        ax[i].axis('off')\n",
        "        i += 1\n",
        "\n",
        "img1 = \"Codigos y BD anteriores/Barras/models/dataset/DB graficos internet/graph_1502.jpg\"\n",
        "img2 = \"Codigos y BD anteriores/Barras/models/dataset/DB graficos internet/graph_1312.jpg\"\n",
        "img3 = \"Codigos y BD anteriores/Barras/models/dataset/DB graficos internet/graph_1459.jpg\"\n",
        "img4 = \"Codigos y BD anteriores/Barras/models/dataset/DB graficos internet/graph_1103.jpg\"\n",
        "img5 = \"Codigos y BD anteriores/Barras/models/dataset/DB graficos internet/graph_1439.jpg\"\n",
        "img6 = \"Codigos y BD anteriores/Barras/models/dataset/DB graficos internet/graph_1306.jpg\"\n",
        "lista= [img1,img2,img3,img4,img5,img6,img1,img2,img3,img4,img5,img6]\n",
        "show_images_horizontally2(lista)"
      ],
      "metadata": {
        "colab": {
          "base_uri": "https://localhost:8080/",
          "height": 191
        },
        "id": "m2NtcdIFxfUR",
        "outputId": "363e4176-0d5e-4871-b22f-05e6aa67895e"
      },
      "execution_count": null,
      "outputs": [
        {
          "output_type": "display_data",
          "data": {
            "text/plain": [
              "<Figure size 3000x1000 with 12 Axes>"
            ],
            "image/png": "[encoded data removed]"
          },
          "metadata": {}
        }
      ]
    },
    {
      "cell_type": "code",
      "source": [
        "gs = GridSpec(2, 3)\n",
        "\n",
        "keys = stations.keys()\n",
        "fig = plt.figure(figsize=(30, 10))\n",
        "ax = [fig.add_subplot(pos) for pos in [gs[0, 0], gs[0, 1], gs[0, 2],\n",
        "                                    gs[1, 0], gs[1, 1], gs[1, 2]]]\n",
        "\n",
        "i = 0\n",
        "x = stations.index\n",
        "y_sortie = y_train_analyse[\"SO2_MAS+0\"]\n",
        "\n",
        "for k in keys[:6]:\n",
        "    y = stations[k]\n",
        "    # First subplot\n",
        "    ax[i].plot(x, y, color='black', label=k)\n",
        "    ax[i].plot(x, y_sortie, color='yellow', alpha=0.7, label=\"SO2_MAS-0\")\n",
        "    ax[i].grid()\n",
        "    ax[i].set_xlabel(\"temps\")\n",
        "    ax[i].set_ylabel(\"μg/m³\")\n",
        "    ax[i].set_title(k)\n",
        "    ax[i].legend()\n",
        "    i += 1"
      ],
      "metadata": {
        "id": "nPD3NovqurPu"
      },
      "execution_count": null,
      "outputs": []
    }
  ]
}