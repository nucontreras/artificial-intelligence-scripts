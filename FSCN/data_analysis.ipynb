{
  "nbformat": 4,
  "nbformat_minor": 0,
  "metadata": {
    "colab": {
      "provenance": [],
      "authorship_tag": "ABX9TyN3NNoc+EhADdjmbL+pbh+8",
      "include_colab_link": true
    },
    "kernelspec": {
      "name": "python3",
      "display_name": "Python 3"
    },
    "language_info": {
      "name": "python"
    }
  },
  "cells": [
    {
      "cell_type": "markdown",
      "metadata": {
        "id": "view-in-github",
        "colab_type": "text"
      },
      "source": [
        "<a href=\"https://colab.research.google.com/github/nucontreras/artificial-intelligence-scripts/blob/main/FSCN/data_analysis.ipynb\" target=\"_parent\"><img src=\"https://colab.research.google.com/assets/colab-badge.svg\" alt=\"Open In Colab\"/></a>"
      ]
    },
    {
      "cell_type": "markdown",
      "metadata": {
        "id": "7W64CYScwd13"
      },
      "source": [
        "<b><FONT size=\"8\" color='264653'>Audiographics Project: sonification for the accessibility of quantitative information in graphic format </FONT>"
      ]
    },
    {
      "cell_type": "markdown",
      "metadata": {
        "id": "2LSbhuvYwd8m"
      },
      "source": [
        "><b><FONT size=\"3\" color='DimGray'> Sonification for the accessibility of quantitative information in graphic format is part of the research line in Technology and Care of the Millennium Institute for Care Research ([MICARE](https://www.micare.cl/)). The objective of this project is to implement a tool for the transformation of quantitative information presented in visual form into audio to facilitate access to visually handicapped people, using sonification techniques and image analysis through artificial intelligence. </FONT>"
      ]
    },
    {
      "cell_type": "markdown",
      "metadata": {
        "id": "JT4YTrjY5cj8"
      },
      "source": [
        "><b><FONT size=\"3\" color='DimGray'> This file contains the data analysis of the project. </FONT>"
      ]
    },
    {
      "cell_type": "markdown",
      "metadata": {
        "id": "7_hYGDE_wtAH"
      },
      "source": [
        "# <b><FONT size=\"5\" color='MidnightBlue '>Connection to Google Drive </FONT>"
      ]
    },
    {
      "cell_type": "code",
      "execution_count": 5,
      "metadata": {
        "colab": {
          "base_uri": "https://localhost:8080/"
        },
        "id": "i7OeQ4PzvKQh",
        "outputId": "19c80e78-84ba-4e31-89a4-4f69faebc926"
      },
      "outputs": [
        {
          "output_type": "stream",
          "name": "stdout",
          "text": [
            "Drive already mounted at /content/gdrive; to attempt to forcibly remount, call drive.mount(\"/content/gdrive\", force_remount=True).\n",
            "[Errno 2] No such file or directory: 'gdrive/MyDrive/AudioGraphs'\n",
            "/content/gdrive/.shortcut-targets-by-id/1BQNCMYEG1Xd_TAcD5txHIHbOaJiFKKWE/AudioGraphs\n"
          ]
        }
      ],
      "source": [
        "from google.colab import drive\n",
        "drive.mount('/content/gdrive')\n",
        "\n",
        "%cd 'gdrive/MyDrive/AudioGraphs'"
      ]
    },
    {
      "cell_type": "markdown",
      "metadata": {
        "id": "J7q5gU9-xX0v"
      },
      "source": [
        "# <b><FONT size=\"5\" color='MidnightBlue '>Import of packages </FONT>\n",
        "\n"
      ]
    },
    {
      "cell_type": "code",
      "execution_count": 20,
      "metadata": {
        "id": "PGt3yRfFxXOo"
      },
      "outputs": [],
      "source": [
        "import os\n",
        "import sys\n",
        "import numpy as np\n",
        "from random import shuffle, seed\n",
        "\n",
        "# Data processing and visualization\n",
        "import pandas as pd\n",
        "import matplotlib.pyplot as plt\n",
        "import cv2"
      ]
    },
    {
      "cell_type": "markdown",
      "source": [
        "#<b><FONT color='MidnightBlue' size='5'>General Functions</FONT></b>"
      ],
      "metadata": {
        "id": "juCt7SiZ4Fnf"
      }
    },
    {
      "cell_type": "code",
      "source": [
        "def search_imgs(path):\n",
        "    \"\"\"\n",
        "    Function that receives a path and returns all the images of type jpg,\n",
        "    jpeg or png found in that path as a list.\n",
        "    Solves the problem of automatic synchronization of mac 'dot dash' files.\n",
        "\n",
        "    Parameters\n",
        "    ----------\n",
        "    path : string\n",
        "        Path to the files.\n",
        "\n",
        "    Returns\n",
        "    -------\n",
        "    list\n",
        "        List with the names of all images in 'path'.\n",
        "    \"\"\"\n",
        "    extensions = ('.png', '.jpg', '.jpeg')\n",
        "    # TODO: optimize complexity\n",
        "    imgs_list_tmp = os.listdir(path)\n",
        "    imgs_list = list()\n",
        "    for file in imgs_list_tmp:\n",
        "        if file.endswith(extensions):\n",
        "           imgs_list.append(file)\n",
        "    return imgs_list"
      ],
      "metadata": {
        "id": "Brv7uLhi4E3j"
      },
      "execution_count": 21,
      "outputs": []
    },
    {
      "cell_type": "markdown",
      "metadata": {
        "id": "nZyNlhEMJNod"
      },
      "source": [
        "# <b><FONT size=\"6\" color='MidnightBlue '>Old Database </FONT>\n"
      ]
    },
    {
      "cell_type": "markdown",
      "source": [
        "# <b><FONT size=\"5\" color='MidnightBlue '>Paths to datasets </FONT>"
      ],
      "metadata": {
        "id": "JyqdLa0P_Wmv"
      }
    },
    {
      "cell_type": "markdown",
      "metadata": {
        "id": "SE02A7t4F6kh"
      },
      "source": [
        "<b><FONT size=\"4\" color='619b8a'>Path to bar chart images old dataset  </FONT>"
      ]
    },
    {
      "cell_type": "code",
      "execution_count": null,
      "metadata": {
        "id": "jWf-E9qRF6sX"
      },
      "outputs": [],
      "source": [
        "path_bar_ex_internet_good_old_db = 'Codigos y BD anteriores/Barras/ejemplos/internet/buenos'\n",
        "path_bar_ex_internet_bad_old_db = 'Codigos y BD anteriores/Barras/ejemplos/internet/malos'\n",
        "path_bar_ex_internet_regular_old_db = 'Codigos y BD anteriores/Barras/ejemplos/internet/regulares'\n",
        "\n",
        "path_bar_ex_python_good_old_db = 'Codigos y BD anteriores/Barras/ejemplos/python/buenos'\n",
        "path_bar_ex_python_bad_old_db = 'Codigos y BD anteriores/Barras/ejemplos/python/malos'\n",
        "path_bar_ex_python_regular_old_db = 'Codigos y BD anteriores/Barras/ejemplos/python/regulares'\n",
        "\n",
        "path_bar_internet_old_db = 'Codigos y BD anteriores/Barras/models/dataset/DB graficos internet'\n",
        "path_bar_internet_vertical_old_db = 'Codigos y BD anteriores/Barras/models/dataset/DB graficos internet/Barras Verticales'\n",
        "path_bar_internet_0_originales_old_db = 'Codigos y BD anteriores/Barras/models/dataset/internet/0_originales'\n",
        "path_bar_internet_1_grayscale_reshape_old_db = 'Codigos y BD anteriores/Barras/models/dataset/internet/1_grayscale_reshape'\n",
        "path_bar_internet_2_output_red_old_db = 'Codigos y BD anteriores/Barras/models/dataset/internet/2_output_red'\n",
        "path_bar_internet_3_threshold_old_db = 'Codigos y BD anteriores/Barras/models/dataset/internet/3_threshold'\n",
        "path_bar_internet_4_contornos_old_db = 'Codigos y BD anteriores/Barras/models/dataset/internet/4_contornos'\n",
        "path_bar_internet_5_contornos_sobre_original_old_db = 'Codigos y BD anteriores/Barras/models/dataset/internet/5_contornos_sobre_original'\n",
        "\n",
        "path_bar_segm_2_train_binarias_old_db = 'Codigos y BD anteriores/Barras/models/dataset/segmentation-2/train/binarias'\n",
        "path_bar_segm_2_train_color_old_db = 'Codigos y BD anteriores/Barras/models/dataset/segmentation-2/train/color'\n",
        "path_bar_segm_2_train_grises_old_db = 'Codigos y BD anteriores/Barras/models/dataset/segmentation-2/train/grises'\n",
        "path_bar_segm_2_train_segmented_old_db = 'Codigos y BD anteriores/Barras/models/dataset/segmentation-2/train/segmented'\n",
        "\n",
        "path_bar_segm_2_test_binarias_old_db = 'Codigos y BD anteriores/Barras/models/dataset/segmentation-2/test/binarias'\n",
        "path_bar_segm_2_test_color_old_db = 'Codigos y BD anteriores/Barras/models/dataset/segmentation-2/test/color'\n",
        "path_bar_segm_2_test_grises_old_db = 'Codigos y BD anteriores/Barras/models/dataset/segmentation-2/test/grises'\n",
        "path_bar_segm_2_test_segmented_old_db = 'Codigos y BD anteriores/Barras/models/dataset/segmentation-2/test/segmented'\n",
        "path_bar_segm_2_test_output_1_grayscale_reshape_old_db = 'Codigos y BD anteriores/Barras/models/dataset/segmentation-2/test/output/1_grayscale_reshape'\n",
        "path_bar_segm_2_test_output_2_output_red_old_db = 'Codigos y BD anteriores/Barras/models/dataset/segmentation-2/test/output/2_output_red'\n",
        "path_bar_segm_2_test_output_3_threshold_old_db = 'Codigos y BD anteriores/Barras/models/dataset/segmentation-2/test/output/3_threshold'\n",
        "path_bar_segm_2_test_output_4_contornos_old_db = 'Codigos y BD anteriores/Barras/models/dataset/segmentation-2/test/output/4_contornos'\n",
        "path_bar_segm_2_test_output_5_contornos_sobre_original_old_db = 'Codigos y BD anteriores/Barras/models/dataset/segmentation-2/test/output/5_contornos_sobre_original'"
      ]
    },
    {
      "cell_type": "markdown",
      "metadata": {
        "id": "JNTUZ8oZ_jlA"
      },
      "source": [
        "<b><FONT size=\"4\" color='619b8a'>Path to line chart images old dataset  </FONT>"
      ]
    },
    {
      "cell_type": "code",
      "source": [
        "path_line_matlab_out_old_db = 'Codigos y BD anteriores/Lineas/test_procesado/matlab/out'\n",
        "path_line_matlab_out_onepixel_old_db = 'Codigos y BD anteriores/Lineas/test_procesado/matlab/out_onepixel'\n",
        "path_line_matlab_pred_old_db = 'Codigos y BD anteriores/Lineas/test_procesado/matlab/pred'\n",
        "path_line_matlab_test_graficosfull_old_db = 'Codigos y BD anteriores/Lineas/test_procesado/matlab/test/graficos-full'\n",
        "path_line_matlab_test_graficossolo_old_db = 'Codigos y BD anteriores/Lineas/test_procesado/matlab/test/graficos-solo'\n",
        "\n",
        "path_line_python_out_old_db = 'Codigos y BD anteriores/Lineas/test_procesado/python/out'\n",
        "path_line_python_out_onepixel_old_db = 'Codigos y BD anteriores/Lineas/test_procesado/python/out_onepixel'\n",
        "path_line_python_pred_old_db = 'Codigos y BD anteriores/Lineas/test_procesado/python/pred'\n",
        "path_line_python_test_graficos_full_old_db = 'Codigos y BD anteriores/Lineas/test_procesado/python/test/graficos-full'\n",
        "path_line_python_test_graficos_solo_old_db = 'Codigos y BD anteriores/Lineas/test_procesado/python/test/graficos-solo'\n",
        "\n",
        "path_line_realnew_out_old_db = 'Codigos y BD anteriores/Lineas/test_procesado/real_new/out'\n",
        "path_line_realnew_out_onepixel_old_db = 'Codigos y BD anteriores/Lineas/test_procesado/real_new/out_onepixel'\n",
        "path_line_realnew_pred_old_db = 'Codigos y BD anteriores/Lineas/test_procesado/real_new/pred'\n",
        "path_line_realnew_test_graficos_full_old_db = 'Codigos y BD anteriores/Lineas/test_procesado/real_new/test/graficos-full'\n",
        "path_line_realnew_test_graficos_solo_old_db = 'Codigos y BD anteriores/Lineas/test_procesado/real_new/test/graficos-solo'"
      ],
      "metadata": {
        "id": "AirmvLQV_0MO"
      },
      "execution_count": null,
      "outputs": []
    },
    {
      "cell_type": "markdown",
      "source": [
        "## <b><FONT size=\"5\" color='MidnightBlue '>Amount of data </FONT>"
      ],
      "metadata": {
        "id": "4p5DcqiR6cEH"
      }
    },
    {
      "cell_type": "code",
      "source": [
        "imgs_bar_example = search_imgs(path_bar_chart_examples_db)\n",
        "amount_imgs_bar_example = len(imgs_bar_example)\n",
        "\n",
        "print(amount_imgs_bar_example)"
      ],
      "metadata": {
        "colab": {
          "base_uri": "https://localhost:8080/"
        },
        "id": "EN3Th2Vr5qC9",
        "outputId": "56b86a15-2848-40b1-ad08-f001c052cf1d"
      },
      "execution_count": 9,
      "outputs": [
        {
          "output_type": "stream",
          "name": "stdout",
          "text": [
            "0\n"
          ]
        }
      ]
    },
    {
      "cell_type": "code",
      "source": [
        "# pandas example\n",
        "\n",
        "import pandas as pd\n",
        "d = {\n",
        "    'Algothime': ['KNN', 'SVM', 'MLP'],\n",
        "    'Param. 1': ['-', '-', '-'],\n",
        "    'Param. 2': ['-', '-', '-'],\n",
        "    'Plage param. 1': ['-', '-', '-'],\n",
        "    'Plage param. 2': ['-', '-', '-'],\n",
        "}\n",
        "df = pd.DataFrame(data=d)\n",
        "df"
      ],
      "metadata": {
        "colab": {
          "base_uri": "https://localhost:8080/",
          "height": 144
        },
        "id": "BMpZtTxgD0DR",
        "outputId": "40fcf074-c50e-4d28-f2d6-beeb89d71665"
      },
      "execution_count": 16,
      "outputs": [
        {
          "output_type": "execute_result",
          "data": {
            "text/plain": [
              "  Algothime Param. 1 Param. 2 Plage param. 1 Plage param. 2\n",
              "0       KNN        -        -              -              -\n",
              "1       SVM        -        -              -              -\n",
              "2       MLP        -        -              -              -"
            ],
            "text/html": [
              "\n",
              "\n",
              "  <div id=\"df-9cfd761a-c7af-4ec0-90fb-9321bce26825\">\n",
              "    <div class=\"colab-df-container\">\n",
              "      <div>\n",
              "<style scoped>\n",
              "    .dataframe tbody tr th:only-of-type {\n",
              "        vertical-align: middle;\n",
              "    }\n",
              "\n",
              "    .dataframe tbody tr th {\n",
              "        vertical-align: top;\n",
              "    }\n",
              "\n",
              "    .dataframe thead th {\n",
              "        text-align: right;\n",
              "    }\n",
              "</style>\n",
              "<table border=\"1\" class=\"dataframe\">\n",
              "  <thead>\n",
              "    <tr style=\"text-align: right;\">\n",
              "      <th></th>\n",
              "      <th>Algothime</th>\n",
              "      <th>Param. 1</th>\n",
              "      <th>Param. 2</th>\n",
              "      <th>Plage param. 1</th>\n",
              "      <th>Plage param. 2</th>\n",
              "    </tr>\n",
              "  </thead>\n",
              "  <tbody>\n",
              "    <tr>\n",
              "      <th>0</th>\n",
              "      <td>KNN</td>\n",
              "      <td>-</td>\n",
              "      <td>-</td>\n",
              "      <td>-</td>\n",
              "      <td>-</td>\n",
              "    </tr>\n",
              "    <tr>\n",
              "      <th>1</th>\n",
              "      <td>SVM</td>\n",
              "      <td>-</td>\n",
              "      <td>-</td>\n",
              "      <td>-</td>\n",
              "      <td>-</td>\n",
              "    </tr>\n",
              "    <tr>\n",
              "      <th>2</th>\n",
              "      <td>MLP</td>\n",
              "      <td>-</td>\n",
              "      <td>-</td>\n",
              "      <td>-</td>\n",
              "      <td>-</td>\n",
              "    </tr>\n",
              "  </tbody>\n",
              "</table>\n",
              "</div>\n",
              "      <button class=\"colab-df-convert\" onclick=\"convertToInteractive('df-9cfd761a-c7af-4ec0-90fb-9321bce26825')\"\n",
              "              title=\"Convert this dataframe to an interactive table.\"\n",
              "              style=\"display:none;\">\n",
              "\n",
              "  <svg xmlns=\"http://www.w3.org/2000/svg\" height=\"24px\"viewBox=\"0 0 24 24\"\n",
              "       width=\"24px\">\n",
              "    <path d=\"M0 0h24v24H0V0z\" fill=\"none\"/>\n",
              "    <path d=\"M18.56 5.44l.94 2.06.94-2.06 2.06-.94-2.06-.94-.94-2.06-.94 2.06-2.06.94zm-11 1L8.5 8.5l.94-2.06 2.06-.94-2.06-.94L8.5 2.5l-.94 2.06-2.06.94zm10 10l.94 2.06.94-2.06 2.06-.94-2.06-.94-.94-2.06-.94 2.06-2.06.94z\"/><path d=\"M17.41 7.96l-1.37-1.37c-.4-.4-.92-.59-1.43-.59-.52 0-1.04.2-1.43.59L10.3 9.45l-7.72 7.72c-.78.78-.78 2.05 0 2.83L4 21.41c.39.39.9.59 1.41.59.51 0 1.02-.2 1.41-.59l7.78-7.78 2.81-2.81c.8-.78.8-2.07 0-2.86zM5.41 20L4 18.59l7.72-7.72 1.47 1.35L5.41 20z\"/>\n",
              "  </svg>\n",
              "      </button>\n",
              "\n",
              "\n",
              "\n",
              "    <div id=\"df-8b46b179-ebdb-4a2c-a100-15802ebe3174\">\n",
              "      <button class=\"colab-df-quickchart\" onclick=\"quickchart('df-8b46b179-ebdb-4a2c-a100-15802ebe3174')\"\n",
              "              title=\"Suggest charts.\"\n",
              "              style=\"display:none;\">\n",
              "\n",
              "<svg xmlns=\"http://www.w3.org/2000/svg\" height=\"24px\"viewBox=\"0 0 24 24\"\n",
              "     width=\"24px\">\n",
              "    <g>\n",
              "        <path d=\"M19 3H5c-1.1 0-2 .9-2 2v14c0 1.1.9 2 2 2h14c1.1 0 2-.9 2-2V5c0-1.1-.9-2-2-2zM9 17H7v-7h2v7zm4 0h-2V7h2v10zm4 0h-2v-4h2v4z\"/>\n",
              "    </g>\n",
              "</svg>\n",
              "      </button>\n",
              "    </div>\n",
              "\n",
              "<style>\n",
              "  .colab-df-quickchart {\n",
              "    background-color: #E8F0FE;\n",
              "    border: none;\n",
              "    border-radius: 50%;\n",
              "    cursor: pointer;\n",
              "    display: none;\n",
              "    fill: #1967D2;\n",
              "    height: 32px;\n",
              "    padding: 0 0 0 0;\n",
              "    width: 32px;\n",
              "  }\n",
              "\n",
              "  .colab-df-quickchart:hover {\n",
              "    background-color: #E2EBFA;\n",
              "    box-shadow: 0px 1px 2px rgba(60, 64, 67, 0.3), 0px 1px 3px 1px rgba(60, 64, 67, 0.15);\n",
              "    fill: #174EA6;\n",
              "  }\n",
              "\n",
              "  [theme=dark] .colab-df-quickchart {\n",
              "    background-color: #3B4455;\n",
              "    fill: #D2E3FC;\n",
              "  }\n",
              "\n",
              "  [theme=dark] .colab-df-quickchart:hover {\n",
              "    background-color: #434B5C;\n",
              "    box-shadow: 0px 1px 3px 1px rgba(0, 0, 0, 0.15);\n",
              "    filter: drop-shadow(0px 1px 2px rgba(0, 0, 0, 0.3));\n",
              "    fill: #FFFFFF;\n",
              "  }\n",
              "</style>\n",
              "\n",
              "    <script>\n",
              "      async function quickchart(key) {\n",
              "        const containerElement = document.querySelector('#' + key);\n",
              "        const charts = await google.colab.kernel.invokeFunction(\n",
              "            'suggestCharts', [key], {});\n",
              "      }\n",
              "    </script>\n",
              "\n",
              "      <script>\n",
              "\n",
              "function displayQuickchartButton(domScope) {\n",
              "  let quickchartButtonEl =\n",
              "    domScope.querySelector('#df-8b46b179-ebdb-4a2c-a100-15802ebe3174 button.colab-df-quickchart');\n",
              "  quickchartButtonEl.style.display =\n",
              "    google.colab.kernel.accessAllowed ? 'block' : 'none';\n",
              "}\n",
              "\n",
              "        displayQuickchartButton(document);\n",
              "      </script>\n",
              "      <style>\n",
              "    .colab-df-container {\n",
              "      display:flex;\n",
              "      flex-wrap:wrap;\n",
              "      gap: 12px;\n",
              "    }\n",
              "\n",
              "    .colab-df-convert {\n",
              "      background-color: #E8F0FE;\n",
              "      border: none;\n",
              "      border-radius: 50%;\n",
              "      cursor: pointer;\n",
              "      display: none;\n",
              "      fill: #1967D2;\n",
              "      height: 32px;\n",
              "      padding: 0 0 0 0;\n",
              "      width: 32px;\n",
              "    }\n",
              "\n",
              "    .colab-df-convert:hover {\n",
              "      background-color: #E2EBFA;\n",
              "      box-shadow: 0px 1px 2px rgba(60, 64, 67, 0.3), 0px 1px 3px 1px rgba(60, 64, 67, 0.15);\n",
              "      fill: #174EA6;\n",
              "    }\n",
              "\n",
              "    [theme=dark] .colab-df-convert {\n",
              "      background-color: #3B4455;\n",
              "      fill: #D2E3FC;\n",
              "    }\n",
              "\n",
              "    [theme=dark] .colab-df-convert:hover {\n",
              "      background-color: #434B5C;\n",
              "      box-shadow: 0px 1px 3px 1px rgba(0, 0, 0, 0.15);\n",
              "      filter: drop-shadow(0px 1px 2px rgba(0, 0, 0, 0.3));\n",
              "      fill: #FFFFFF;\n",
              "    }\n",
              "  </style>\n",
              "\n",
              "      <script>\n",
              "        const buttonEl =\n",
              "          document.querySelector('#df-9cfd761a-c7af-4ec0-90fb-9321bce26825 button.colab-df-convert');\n",
              "        buttonEl.style.display =\n",
              "          google.colab.kernel.accessAllowed ? 'block' : 'none';\n",
              "\n",
              "        async function convertToInteractive(key) {\n",
              "          const element = document.querySelector('#df-9cfd761a-c7af-4ec0-90fb-9321bce26825');\n",
              "          const dataTable =\n",
              "            await google.colab.kernel.invokeFunction('convertToInteractive',\n",
              "                                                     [key], {});\n",
              "          if (!dataTable) return;\n",
              "\n",
              "          const docLinkHtml = 'Like what you see? Visit the ' +\n",
              "            '<a target=\"_blank\" href=https://colab.research.google.com/notebooks/data_table.ipynb>data table notebook</a>'\n",
              "            + ' to learn more about interactive tables.';\n",
              "          element.innerHTML = '';\n",
              "          dataTable['output_type'] = 'display_data';\n",
              "          await google.colab.output.renderOutput(dataTable, element);\n",
              "          const docLink = document.createElement('div');\n",
              "          docLink.innerHTML = docLinkHtml;\n",
              "          element.appendChild(docLink);\n",
              "        }\n",
              "      </script>\n",
              "    </div>\n",
              "  </div>\n"
            ]
          },
          "metadata": {},
          "execution_count": 16
        }
      ]
    },
    {
      "cell_type": "markdown",
      "metadata": {
        "id": "v4bZrERe6vBj"
      },
      "source": [
        "# <b><FONT size=\"6\" color='MidnightBlue '>New Database </FONT>\n"
      ]
    },
    {
      "cell_type": "markdown",
      "source": [
        "# <b><FONT size=\"5\" color='MidnightBlue '>Paths to datasets </FONT>"
      ],
      "metadata": {
        "id": "589T5fPNGj2p"
      }
    },
    {
      "cell_type": "markdown",
      "metadata": {
        "id": "wZyTjk7G_sYG"
      },
      "source": [
        "<b><FONT size=\"4\" color='619b8a'>Path to bar chart images new dataset  </FONT>"
      ]
    },
    {
      "cell_type": "code",
      "source": [
        "path_bar_aug_new_db = 'Data Base/Augmented/bar_chart'\n",
        "path_bar_orig_new_db = 'Data Base/Originales/original_images_bar_chart'\n",
        "path_bar_cut_h_new_db = 'Data Base/Recortadas/h_bar_chart'\n",
        "path_bar_cut_v_new_db = 'Data Base/Recortadas/v_bar_chart'"
      ],
      "metadata": {
        "id": "tbeZzC4NC_um"
      },
      "execution_count": null,
      "outputs": []
    },
    {
      "cell_type": "markdown",
      "metadata": {
        "id": "CB2tU5tA_ser"
      },
      "source": [
        "<b><FONT size=\"4\" color='619b8a'>Path to line chart images new dataset  </FONT>"
      ]
    },
    {
      "cell_type": "code",
      "source": [
        "path_line_aug_new_db = 'Data Base/Augmented/line_chart'\n",
        "path_line_orig_new_db = 'Data Base/Originales/original_images_line_chart'\n",
        "path_line_cut_new_db = 'Data Base/Recortadas/line_chart'"
      ],
      "metadata": {
        "id": "kvRBOIUiDAYo"
      },
      "execution_count": null,
      "outputs": []
    },
    {
      "cell_type": "markdown",
      "metadata": {
        "id": "iegwQfiwDHNj"
      },
      "source": [
        "<b><FONT size=\"4\" color='619b8a'>Path to pie chart images new dataset  </FONT>"
      ]
    },
    {
      "cell_type": "code",
      "source": [
        "path_pie_aug_new_db = 'Data Base/Augmented/pie_chart'\n",
        "path_pie_orig_new_db = 'Data Base/Originales/original_images_pie_chart'\n",
        "path_pie_cut_new_db = 'Data Base/Recortadas/pie_chart'"
      ],
      "metadata": {
        "id": "HwDyLiExDHNs"
      },
      "execution_count": null,
      "outputs": []
    },
    {
      "cell_type": "markdown",
      "source": [
        "## <b><FONT size=\"5\" color='MidnightBlue '>Amount of data </FONT>"
      ],
      "metadata": {
        "id": "He6o4vg36vBl"
      }
    },
    {
      "cell_type": "code",
      "source": [],
      "metadata": {
        "id": "ZjLulpRo6vBm"
      },
      "execution_count": null,
      "outputs": []
    }
  ]
}