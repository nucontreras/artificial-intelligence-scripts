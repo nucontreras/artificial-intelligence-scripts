{
  "nbformat": 4,
  "nbformat_minor": 0,
  "metadata": {
    "colab": {
      "provenance": [],
      "authorship_tag": "ABX9TyPcZBO8/Ao6+LzDXLR0famu",
      "include_colab_link": true
    },
    "kernelspec": {
      "name": "python3",
      "display_name": "Python 3"
    },
    "language_info": {
      "name": "python"
    }
  },
  "cells": [
    {
      "cell_type": "markdown",
      "metadata": {
        "id": "view-in-github",
        "colab_type": "text"
      },
      "source": [
        "<a href=\"https://colab.research.google.com/github/nucontreras/artificial-intelligence-scripts/blob/main/FSCN/data_analysis.ipynb\" target=\"_parent\"><img src=\"https://colab.research.google.com/assets/colab-badge.svg\" alt=\"Open In Colab\"/></a>"
      ]
    },
    {
      "cell_type": "markdown",
      "metadata": {
        "id": "7W64CYScwd13"
      },
      "source": [
        "<b><FONT size=\"8\" color='264653'>Audiographics Project: sonification for the accessibility of quantitative information in graphic format </FONT>"
      ]
    },
    {
      "cell_type": "markdown",
      "metadata": {
        "id": "2LSbhuvYwd8m"
      },
      "source": [
        "><b><FONT size=\"3\" color='DimGray'> Sonification for the accessibility of quantitative information in graphic format is part of the research line in Technology and Care of the Millennium Institute for Care Research ([MICARE](https://www.micare.cl/)). The objective of this project is to implement a tool for the transformation of quantitative information presented in visual form into audio to facilitate access to visually handicapped people, using sonification techniques and image analysis through artificial intelligence. </FONT>"
      ]
    },
    {
      "cell_type": "markdown",
      "metadata": {
        "id": "JT4YTrjY5cj8"
      },
      "source": [
        "><b><FONT size=\"3\" color='DimGray'> This file contains the data analysis of the project. </FONT>"
      ]
    },
    {
      "cell_type": "markdown",
      "metadata": {
        "id": "7_hYGDE_wtAH"
      },
      "source": [
        "# <b><FONT size=\"5\" color='MidnightBlue '>Connection to Google Drive </FONT>"
      ]
    },
    {
      "cell_type": "code",
      "execution_count": 5,
      "metadata": {
        "colab": {
          "base_uri": "https://localhost:8080/"
        },
        "id": "i7OeQ4PzvKQh",
        "outputId": "19c80e78-84ba-4e31-89a4-4f69faebc926"
      },
      "outputs": [
        {
          "output_type": "stream",
          "name": "stdout",
          "text": [
            "Drive already mounted at /content/gdrive; to attempt to forcibly remount, call drive.mount(\"/content/gdrive\", force_remount=True).\n",
            "[Errno 2] No such file or directory: 'gdrive/MyDrive/AudioGraphs'\n",
            "/content/gdrive/.shortcut-targets-by-id/1BQNCMYEG1Xd_TAcD5txHIHbOaJiFKKWE/AudioGraphs\n"
          ]
        }
      ],
      "source": [
        "from google.colab import drive\n",
        "drive.mount('/content/gdrive')\n",
        "\n",
        "%cd 'gdrive/MyDrive/AudioGraphs'"
      ]
    },
    {
      "cell_type": "markdown",
      "metadata": {
        "id": "J7q5gU9-xX0v"
      },
      "source": [
        "# <b><FONT size=\"5\" color='MidnightBlue '>Import of packages </FONT>\n",
        "\n"
      ]
    },
    {
      "cell_type": "code",
      "execution_count": null,
      "metadata": {
        "id": "PGt3yRfFxXOo"
      },
      "outputs": [],
      "source": [
        "import os\n",
        "import sys\n",
        "import numpy as np\n",
        "from random import shuffle, seed\n",
        "\n",
        "# Data processing and visualization\n",
        "import pandas as pd\n",
        "import matplotlib.pyplot as plt\n",
        "import cv2"
      ]
    },
    {
      "cell_type": "markdown",
      "source": [
        "# <b><FONT size=\"5\" color='MidnightBlue '>Paths to datasets </FONT>"
      ],
      "metadata": {
        "id": "JyqdLa0P_Wmv"
      }
    },
    {
      "cell_type": "markdown",
      "metadata": {
        "id": "SE02A7t4F6kh"
      },
      "source": [
        "<b><FONT size=\"4\" color='619b8a'>Path to bar chart images old dataset  </FONT>"
      ]
    },
    {
      "cell_type": "code",
      "execution_count": 13,
      "metadata": {
        "id": "jWf-E9qRF6sX"
      },
      "outputs": [],
      "source": [
        "path_bar_chart_examples_good = 'Codigos y BD anteriores/Barras/ejemplos/internet/buenos'\n",
        "path_bar_chart_examples_bad = 'Codigos y BD anteriores/Barras/ejemplos/internet/malos'\n",
        "path_bar_chart_examples_regular = 'Codigos y BD anteriores/Barras/ejemplos/internet/regulares'\n",
        "\n",
        "path_bar_chart_examples_good = 'Codigos y BD anteriores/Barras/ejemplos/python/buenos'\n",
        "path_bar_chart_examples_bad = 'Codigos y BD anteriores/Barras/ejemplos/python/malos'\n",
        "path_bar_chart_examples_regular = 'Codigos y BD anteriores/Barras/ejemplos/python/regulares'\n",
        "\n",
        "path_bar_chart_db = 'Codigos y BD anteriores/Barras/models/dataset/DB graficos internet'\n",
        "path_bar_chart_db = 'Codigos y BD anteriores/Barras/models/dataset/DB graficos internet/Barras Verticales'\n",
        "path_bar_chart_db = 'Codigos y BD anteriores/Barras/models/dataset/internet/0_originales'\n",
        "path_bar_chart_db = 'Codigos y BD anteriores/Barras/models/dataset/internet/1_grayscale_reshape'\n",
        "path_bar_chart_db = 'Codigos y BD anteriores/Barras/models/dataset/internet/2_output_red'\n",
        "path_bar_chart_db = 'Codigos y BD anteriores/Barras/models/dataset/internet/3_threshold'\n",
        "path_bar_chart_db = 'Codigos y BD anteriores/Barras/models/dataset/internet/4_contornos'\n",
        "path_bar_chart_db = 'Codigos y BD anteriores/Barras/models/dataset/internet/5_contornos_sobre_original'\n",
        "\n",
        "path_bar_chart_db = 'Codigos y BD anteriores/Barras/models/dataset/segmentation-2/train/binarias'\n",
        "path_bar_chart_db = 'Codigos y BD anteriores/Barras/models/dataset/segmentation-2/train/color'\n",
        "path_bar_chart_db = 'Codigos y BD anteriores/Barras/models/dataset/segmentation-2/train/grises'\n",
        "path_bar_chart_db = 'Codigos y BD anteriores/Barras/models/dataset/segmentation-2/train/segmented'\n",
        "\n",
        "path_bar_chart_db = 'Codigos y BD anteriores/Barras/models/dataset/segmentation-2/test/binarias'\n",
        "path_bar_chart_db = 'Codigos y BD anteriores/Barras/models/dataset/segmentation-2/test/color'\n",
        "path_bar_chart_db = 'Codigos y BD anteriores/Barras/models/dataset/segmentation-2/test/grises'\n",
        "path_bar_chart_db = 'Codigos y BD anteriores/Barras/models/dataset/segmentation-2/test/segmented'\n",
        "path_bar_chart_db = 'Codigos y BD anteriores/Barras/models/dataset/segmentation-2/test/output/1_grayscale_reshape'\n",
        "path_bar_chart_db = 'Codigos y BD anteriores/Barras/models/dataset/segmentation-2/test/output/2_output_red'\n",
        "path_bar_chart_db = 'Codigos y BD anteriores/Barras/models/dataset/segmentation-2/test/output/3_threshold'\n",
        "path_bar_chart_db = 'Codigos y BD anteriores/Barras/models/dataset/segmentation-2/test/output/4_contornos'\n",
        "path_bar_chart_db = 'Codigos y BD anteriores/Barras/models/dataset/segmentation-2/test/output/5_contornos_sobre_original'\n",
        "\n",
        "\n"
      ]
    },
    {
      "cell_type": "markdown",
      "metadata": {
        "id": "JNTUZ8oZ_jlA"
      },
      "source": [
        "<b><FONT size=\"4\" color='619b8a'>Path to line chart images old dataset  </FONT>"
      ]
    },
    {
      "cell_type": "code",
      "source": [
        "path_line_chart_db = 'Codigos y BD anteriores/Lineas/test_procesado/matlab/out'\n",
        "path_line_chart_db = 'Codigos y BD anteriores/Lineas/test_procesado/matlab/out_onepixel'\n",
        "path_line_chart_db = 'Codigos y BD anteriores/Lineas/test_procesado/matlab/pred'\n",
        "path_line_chart_db = 'Codigos y BD anteriores/Lineas/test_procesado/matlab/test/graficos-full'\n",
        "path_line_chart_db = 'Codigos y BD anteriores/Lineas/test_procesado/matlab/test/graficos-solo'\n",
        "\n",
        "path_line_chart_db = 'Codigos y BD anteriores/Lineas/test_procesado/python/out'\n",
        "path_line_chart_db = 'Codigos y BD anteriores/Lineas/test_procesado/python/out_onepixel'\n",
        "path_line_chart_db = 'Codigos y BD anteriores/Lineas/test_procesado/python/pred'\n",
        "path_line_chart_db = 'Codigos y BD anteriores/Lineas/test_procesado/python/test/graficos-full'\n",
        "path_line_chart_db = 'Codigos y BD anteriores/Lineas/test_procesado/python/test/graficos-solo'\n",
        "\n",
        "path_line_chart_db = 'Codigos y BD anteriores/Lineas/test_procesado/real_new/out'\n",
        "path_line_chart_db = 'Codigos y BD anteriores/Lineas/test_procesado/real_new/out_onepixel'\n",
        "path_line_chart_db = 'Codigos y BD anteriores/Lineas/test_procesado/real_new/pred'\n",
        "path_line_chart_db = 'Codigos y BD anteriores/Lineas/test_procesado/real_new/test/graficos-full'\n",
        "path_line_chart_db = 'Codigos y BD anteriores/Lineas/test_procesado/real_new/test/graficos-solo'"
      ],
      "metadata": {
        "id": "AirmvLQV_0MO"
      },
      "execution_count": null,
      "outputs": []
    },
    {
      "cell_type": "markdown",
      "metadata": {
        "id": "wZyTjk7G_sYG"
      },
      "source": [
        "<b><FONT size=\"4\" color='619b8a'>Path to bar chart images new dataset  </FONT>"
      ]
    },
    {
      "cell_type": "code",
      "source": [],
      "metadata": {
        "id": "tbeZzC4NC_um"
      },
      "execution_count": null,
      "outputs": []
    },
    {
      "cell_type": "markdown",
      "metadata": {
        "id": "CB2tU5tA_ser"
      },
      "source": [
        "<b><FONT size=\"4\" color='619b8a'>Path to line chart images new dataset  </FONT>"
      ]
    },
    {
      "cell_type": "code",
      "source": [],
      "metadata": {
        "id": "kvRBOIUiDAYo"
      },
      "execution_count": null,
      "outputs": []
    },
    {
      "cell_type": "markdown",
      "metadata": {
        "id": "iegwQfiwDHNj"
      },
      "source": [
        "<b><FONT size=\"4\" color='619b8a'>Path to pie chart images new dataset  </FONT>"
      ]
    },
    {
      "cell_type": "code",
      "source": [],
      "metadata": {
        "id": "HwDyLiExDHNs"
      },
      "execution_count": null,
      "outputs": []
    },
    {
      "cell_type": "markdown",
      "source": [
        "#<b><FONT color='MidnightBlue' size='5'>General Functions</FONT></b>"
      ],
      "metadata": {
        "id": "juCt7SiZ4Fnf"
      }
    },
    {
      "cell_type": "code",
      "source": [
        "def search_imgs(path):\n",
        "    \"\"\"\n",
        "    Function that receives a path and returns all the images of type jpg,\n",
        "    jpeg or png found in that path as a list.\n",
        "    Solves the problem of automatic synchronization of mac 'dot dash' files.\n",
        "\n",
        "    Parameters\n",
        "    ----------\n",
        "    path : string\n",
        "        Path to the files.\n",
        "\n",
        "    Returns\n",
        "    -------\n",
        "    list\n",
        "        List with the names of all images in 'path'.\n",
        "    \"\"\"\n",
        "    extensions = ('.png', '.jpg', '.jpeg')\n",
        "    # TODO: optimize complexity\n",
        "    imgs_list_tmp = os.listdir(path)\n",
        "    imgs_list = list()\n",
        "    for file in imgs_list_tmp:\n",
        "        if file.endswith(extensions):\n",
        "           imgs_list.append(file)\n",
        "    return imgs_list"
      ],
      "metadata": {
        "id": "Brv7uLhi4E3j"
      },
      "execution_count": 2,
      "outputs": []
    },
    {
      "cell_type": "markdown",
      "metadata": {
        "id": "nZyNlhEMJNod"
      },
      "source": [
        "# <b><FONT size=\"5\" color='MidnightBlue '>Old Database </FONT>\n"
      ]
    },
    {
      "cell_type": "markdown",
      "source": [
        "## <b><FONT size=\"4\" color='619b8a '>Amount of data </FONT>"
      ],
      "metadata": {
        "id": "4p5DcqiR6cEH"
      }
    },
    {
      "cell_type": "code",
      "source": [
        "imgs_bar_example = search_imgs(path_bar_chart_examples_db)\n",
        "amount_imgs_bar_example = len(imgs_bar_example)\n",
        "\n",
        "print(amount_imgs_bar_example)"
      ],
      "metadata": {
        "colab": {
          "base_uri": "https://localhost:8080/"
        },
        "id": "EN3Th2Vr5qC9",
        "outputId": "56b86a15-2848-40b1-ad08-f001c052cf1d"
      },
      "execution_count": 9,
      "outputs": [
        {
          "output_type": "stream",
          "name": "stdout",
          "text": [
            "0\n"
          ]
        }
      ]
    },
    {
      "cell_type": "code",
      "source": [
        ">>> import pandas as pd\n",
        ">>> d = {\n",
        "...     'Algothime': ['KNN', 'SVM', 'MLP'],\n",
        "...     'Param. 1': ['-', '-', '-'],\n",
        "...     'Param. 2': ['-', '-', '-'],\n",
        "...     'Plage param. 1': ['-', '-', '-'],\n",
        "...     'Plage param. 2': ['-', '-', '-'],\n",
        "... }\n",
        ">>> df = pd.DataFrame(data=d)\n",
        ">>> df\n",
        "  Algothime Param. 1 Param. 2 Plage param. 1 Plage param. 2\n",
        "0       KNN        -        -              -              -\n",
        "1       SVM        -        -              -              -\n",
        "2       MLP        -        -              -              -"
      ],
      "metadata": {
        "id": "BMpZtTxgD0DR"
      },
      "execution_count": null,
      "outputs": []
    },
    {
      "cell_type": "markdown",
      "metadata": {
        "id": "v4bZrERe6vBj"
      },
      "source": [
        "# <b><FONT size=\"5\" color='MidnightBlue '>New Database </FONT>\n"
      ]
    },
    {
      "cell_type": "markdown",
      "source": [
        "## <b><FONT size=\"4\" color='619b8a '>Amount of data </FONT>"
      ],
      "metadata": {
        "id": "He6o4vg36vBl"
      }
    },
    {
      "cell_type": "code",
      "source": [],
      "metadata": {
        "id": "ZjLulpRo6vBm"
      },
      "execution_count": null,
      "outputs": []
    }
  ]
}