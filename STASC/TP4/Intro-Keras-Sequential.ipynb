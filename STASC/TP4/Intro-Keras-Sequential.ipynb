{
 "cells": [
  {
   "cell_type": "markdown",
   "metadata": {},
   "source": [
    "# TP4\n",
    "#### Nicolas CONTRERAS"
   ]
  },
  {
   "cell_type": "markdown",
   "metadata": {},
   "source": [
    "# Introduction à Keras "
   ]
  },
  {
   "cell_type": "markdown",
   "metadata": {},
   "source": [
    "\"\n",
    "Keras is a model-level library, providing high-level building blocks for developing deep learning models. It does not handle itself low-level operations such as tensor products, convolutions and so on. Instead, it relies on a specialized, well-optimized tensor manipulation library to do so, serving as the “backend engine” of Keras.*\n",
    "The Python Keras API uses TensorFlow™ as it’s default tensor backend engine, however it’s possible to use other backends if desired. At this time, Keras has two backend implementations available:\n",
    "-  TensorFlow is an open-source symbolic tensor manipulation framework developed by Google.\n",
    "-  Theano is an open-source symbolic tensor manipulation framework developed by LISA Lab at Université de Montréal.\n",
    "\""
   ]
  },
  {
   "cell_type": "markdown",
   "metadata": {},
   "source": [
    "> Vérifier que la libraire Keras est bien installée.\n",
    "> Dans le cas contraire vous pouvez installer Keras via le [gestionnaire d'environnement d'Anaconda](https://www.logicalfeed.com/posts/1224/install-tensorflow-keras-and-theano-using-anaconda-for-deep-learning), en [ligne de commandes conda](https://anaconda.org/conda-forge/keras) ou encore avec `pip install Keras`."
   ]
  },
  {
   "cell_type": "code",
   "execution_count": 1,
   "metadata": {},
   "outputs": [],
   "source": [
    "import tensorflow as tf\n",
    "from tensorflow import keras"
   ]
  },
  {
   "cell_type": "markdown",
   "metadata": {},
   "source": [
    "## Importation des données"
   ]
  },
  {
   "cell_type": "markdown",
   "metadata": {},
   "source": [
    "Dans ce TP, nous allons illustrer les fonctionnalitées de [Keras](https://keras.io/getting_started/intro_to_keras_for_engineers/) sur la base de données des [handwritten digits](http://scikit-learn.org/stable/modules/generated/sklearn.datasets.load_digits.html#sklearn.datasets.load_digits) de sckit-learn.\n",
    "\n",
    "Il s'agit d'un problème de classification à 10 classes (10 digits). "
   ]
  },
  {
   "cell_type": "code",
   "execution_count": 2,
   "metadata": {},
   "outputs": [],
   "source": [
    "%matplotlib inline \n",
    "import matplotlib.pyplot as plt"
   ]
  },
  {
   "cell_type": "code",
   "execution_count": 3,
   "metadata": {},
   "outputs": [],
   "source": [
    "import numpy as np\n",
    "from sklearn.datasets import load_digits\n",
    "from sklearn import preprocessing \n",
    "from sklearn.model_selection import train_test_split"
   ]
  },
  {
   "cell_type": "code",
   "execution_count": 4,
   "metadata": {},
   "outputs": [],
   "source": [
    "digits = load_digits()"
   ]
  },
  {
   "cell_type": "code",
   "execution_count": 5,
   "metadata": {},
   "outputs": [
    {
     "data": {
      "image/png": "[encoded data removed]",
      "text/plain": [
       "<Figure size 300x300 with 1 Axes>"
      ]
     },
     "metadata": {},
     "output_type": "display_data"
    }
   ],
   "source": [
    "sample_index = 45\n",
    "plt.figure(figsize=(3, 3))\n",
    "plt.imshow(digits.images[sample_index], cmap=plt.cm.gray_r,\n",
    "           interpolation='nearest')\n",
    "plt.title(\"label: %d\" % digits.target[sample_index]);"
   ]
  },
  {
   "cell_type": "markdown",
   "metadata": {},
   "source": [
    "> Normaliser les données avec la fonction `preprocessing.scale()` et séparer celles-ci en deux échantillons d'apprentissage et de test. Afficher la dimension des deux jeux de données."
   ]
  },
  {
   "cell_type": "code",
   "execution_count": 6,
   "metadata": {},
   "outputs": [
    {
     "data": {
      "text/plain": [
       "array([0, 1, 2, ..., 8, 9, 8])"
      ]
     },
     "execution_count": 6,
     "metadata": {},
     "output_type": "execute_result"
    }
   ],
   "source": [
    "digits.target"
   ]
  },
  {
   "cell_type": "code",
   "execution_count": 7,
   "metadata": {},
   "outputs": [],
   "source": [
    "from sklearn.model_selection import train_test_split\n",
    "\n",
    "digits.data_nor = preprocessing.scale(digits.data)\n",
    "X_train_nor, X_test_nor, y_train, y_test = train_test_split(digits.data_nor, digits.target, test_size=0.2)  "
   ]
  },
  {
   "cell_type": "code",
   "execution_count": 8,
   "metadata": {},
   "outputs": [
    {
     "data": {
      "text/plain": [
       "array([[ 0.        , -0.33501649, -0.04308102, ..., -1.14664746,\n",
       "        -0.5056698 , -0.19600752],\n",
       "       [ 0.        , -0.33501649, -1.09493684, ...,  0.54856067,\n",
       "        -0.5056698 , -0.19600752],\n",
       "       [ 0.        , -0.33501649, -1.09493684, ...,  1.56568555,\n",
       "         1.6951369 , -0.19600752],\n",
       "       ...,\n",
       "       [ 0.        , -0.33501649, -0.88456568, ..., -0.12952258,\n",
       "        -0.5056698 , -0.19600752],\n",
       "       [ 0.        , -0.33501649, -0.67419451, ...,  0.8876023 ,\n",
       "        -0.5056698 , -0.19600752],\n",
       "       [ 0.        , -0.33501649,  1.00877481, ...,  0.8876023 ,\n",
       "        -0.26113572, -0.19600752]])"
      ]
     },
     "execution_count": 8,
     "metadata": {},
     "output_type": "execute_result"
    }
   ],
   "source": [
    "digits.data_nor"
   ]
  },
  {
   "cell_type": "markdown",
   "metadata": {},
   "source": [
    "Les dimensions des deux jeux de données:"
   ]
  },
  {
   "cell_type": "code",
   "execution_count": 9,
   "metadata": {},
   "outputs": [
    {
     "name": "stdout",
     "output_type": "stream",
     "text": [
      "(1437, 64) (1437,)\n",
      "(360, 64) (360,)\n"
     ]
    }
   ],
   "source": [
    "print(X_train_nor.shape, y_train.shape)\n",
    "print(X_test_nor.shape, y_test.shape)"
   ]
  },
  {
   "cell_type": "code",
   "execution_count": 10,
   "metadata": {},
   "outputs": [],
   "source": [
    "#digits"
   ]
  },
  {
   "cell_type": "markdown",
   "metadata": {},
   "source": [
    "## Feed Forward Neural Network avec Keras"
   ]
  },
  {
   "cell_type": "markdown",
   "metadata": {},
   "source": [
    "Nous allons maintenant définir et ajuster un modèle à propagation avant (Feed Forward) avec Keras.\n",
    "\n",
    "#### Pre-processing"
   ]
  },
  {
   "cell_type": "markdown",
   "metadata": {},
   "source": [
    "La variable de classe (chiffre correspondant) indique le numéro de la catégorie : "
   ]
  },
  {
   "cell_type": "code",
   "execution_count": 11,
   "metadata": {},
   "outputs": [
    {
     "data": {
      "text/plain": [
       "array([5, 2, 2])"
      ]
     },
     "execution_count": 11,
     "metadata": {},
     "output_type": "execute_result"
    }
   ],
   "source": [
    "y_train[:3]"
   ]
  },
  {
   "cell_type": "markdown",
   "metadata": {},
   "source": [
    "Avec Keras, pour construire un réseau de neurones adapté à ce problème de la classification multiclasses, il faut préalablement transformer la variable de classe sous la forme \"one hot encoding\" i.e. transformer la variable de classe en un vecteur indiquant l'appartenance à chacune des classes sous forme d'indicatrices :"
   ]
  },
  {
   "cell_type": "code",
   "execution_count": 12,
   "metadata": {},
   "outputs": [
    {
     "data": {
      "text/plain": [
       "array([[0., 0., 0., 0., 0., 1., 0., 0., 0., 0.],\n",
       "       [0., 0., 1., 0., 0., 0., 0., 0., 0., 0.],\n",
       "       [0., 0., 1., 0., 0., 0., 0., 0., 0., 0.]], dtype=float32)"
      ]
     },
     "execution_count": 12,
     "metadata": {},
     "output_type": "execute_result"
    }
   ],
   "source": [
    "from keras.utils.np_utils import to_categorical\n",
    "\n",
    "Y_train = to_categorical(y_train)\n",
    "Y_train[:3]"
   ]
  },
  {
   "cell_type": "markdown",
   "metadata": {},
   "source": [
    "#### Definition de l'architecture"
   ]
  },
  {
   "cell_type": "markdown",
   "metadata": {},
   "source": [
    "Nous allons maintenant construire un premier réseau à propagation avant :"
   ]
  },
  {
   "cell_type": "code",
   "execution_count": 13,
   "metadata": {},
   "outputs": [],
   "source": [
    "from keras.models import Sequential"
   ]
  },
  {
   "cell_type": "markdown",
   "metadata": {},
   "source": [
    "On importe les fonctionnalités qui permettent de définir, de façon successive, les différentes couches :\n",
    "- Dense : permet de définir les pré-activations, c'est dans cette couche que se situent les poids et les termes de biais.\n",
    "- Activation :  permet de définir les fonctions d'activation."
   ]
  },
  {
   "cell_type": "code",
   "execution_count": 14,
   "metadata": {},
   "outputs": [],
   "source": [
    "from keras.layers.core import Dense, Activation"
   ]
  },
  {
   "cell_type": "markdown",
   "metadata": {},
   "source": [
    "Les dimensions du modèle : "
   ]
  },
  {
   "cell_type": "code",
   "execution_count": 15,
   "metadata": {},
   "outputs": [
    {
     "data": {
      "text/plain": [
       "64"
      ]
     },
     "execution_count": 15,
     "metadata": {},
     "output_type": "execute_result"
    }
   ],
   "source": [
    "N = X_train_nor.shape[1]  # dimension en entrée\n",
    "N"
   ]
  },
  {
   "cell_type": "code",
   "execution_count": 16,
   "metadata": {},
   "outputs": [],
   "source": [
    "H = 128 # dimension de la couche cachée\n",
    "K = 10  # nombre de classes en sortie (autant que de chiffres ici)"
   ]
  },
  {
   "cell_type": "markdown",
   "metadata": {},
   "source": [
    "On peut maintenant définir l'architecture du réseau :"
   ]
  },
  {
   "cell_type": "code",
   "execution_count": 17,
   "metadata": {},
   "outputs": [],
   "source": [
    "model = Sequential()\n",
    "model.add(Dense(H, input_dim=N))\n",
    "model.add(Activation(\"relu\"))\n",
    "model.add(Dense(K))\n",
    "model.add(Activation(\"softmax\"))"
   ]
  },
  {
   "cell_type": "markdown",
   "metadata": {},
   "source": [
    "Il est possible de résumer l'architecture avec la méthode `summary()`:"
   ]
  },
  {
   "cell_type": "code",
   "execution_count": 18,
   "metadata": {},
   "outputs": [
    {
     "name": "stdout",
     "output_type": "stream",
     "text": [
      "Model: \"sequential\"\n",
      "_________________________________________________________________\n",
      " Layer (type)                Output Shape              Param #   \n",
      "=================================================================\n",
      " dense (Dense)               (None, 128)               8320      \n",
      "                                                                 \n",
      " activation (Activation)     (None, 128)               0         \n",
      "                                                                 \n",
      " dense_1 (Dense)             (None, 10)                1290      \n",
      "                                                                 \n",
      " activation_1 (Activation)   (None, 10)                0         \n",
      "                                                                 \n",
      "=================================================================\n",
      "Total params: 9,610\n",
      "Trainable params: 9,610\n",
      "Non-trainable params: 0\n",
      "_________________________________________________________________\n"
     ]
    }
   ],
   "source": [
    "model.summary()"
   ]
  },
  {
   "cell_type": "markdown",
   "metadata": {},
   "source": [
    "Le nombre de paramètres est indiqué dans la dernière colonne, notez que seules les couches `dense` contiennent ici des paramètres à ajuster.\n",
    "\n",
    "Les dimensions en sortie de chaque couche sont de la forme `(None, ...)`. Lorsque le réseau sera ajusté sur un échantillon, la première dimension indiquera la taille de l'échantillon."
   ]
  },
  {
   "cell_type": "markdown",
   "metadata": {},
   "source": [
    "Vous pouvez visualiser (dans un fichier .png) l'architecture ainsi. Si vous êtes confronté à des problèmes d'installation (librairies `pydot`, `graphviz` ...), ne perdez pas trop de temps sur cette partie."
   ]
  },
  {
   "cell_type": "code",
   "execution_count": 19,
   "metadata": {},
   "outputs": [
    {
     "data": {
      "image/png": "[encoded data removed]",
      "text/plain": [
       "<IPython.core.display.Image object>"
      ]
     },
     "execution_count": 19,
     "metadata": {},
     "output_type": "execute_result"
    }
   ],
   "source": [
    "from keras.utils import plot_model\n",
    "plot_model(model, to_file='model.png')"
   ]
  },
  {
   "cell_type": "markdown",
   "metadata": {},
   "source": [
    "#### Poids du réseau"
   ]
  },
  {
   "cell_type": "markdown",
   "metadata": {},
   "source": [
    "Le contenu (les poids) de chaque couche du réseau est accessible dans la liste `model.layers`. Par exemple pour la premiere couche :"
   ]
  },
  {
   "cell_type": "code",
   "execution_count": 20,
   "metadata": {},
   "outputs": [],
   "source": [
    "my_first_layer = model.layers[0]"
   ]
  },
  {
   "cell_type": "markdown",
   "metadata": {},
   "source": [
    "Le tableau contenant les valeurs des poids et les termes de biais de cette première couche sont accessibles avec la méthode `get_weights()`. La méthode renvoie en fait une liste contenant\n",
    "- le tableau numpy des poids,\n",
    "- le vecteur des termes de biais.\n",
    "\n",
    "> Vérifier que le tableau des poids ainsi que les termes de biais possèdent les dimensions attendues compte tenu de ce que nous avons vu dans le `model.summary()` plus haut. Retrouvez le nombre de paramètres affichés dans le `model.summary()`."
   ]
  },
  {
   "cell_type": "code",
   "execution_count": 21,
   "metadata": {},
   "outputs": [],
   "source": [
    "poids, termes_biais = my_first_layer.get_weights()"
   ]
  },
  {
   "cell_type": "code",
   "execution_count": 22,
   "metadata": {},
   "outputs": [
    {
     "data": {
      "text/plain": [
       "(64, 128)"
      ]
     },
     "execution_count": 22,
     "metadata": {},
     "output_type": "execute_result"
    }
   ],
   "source": [
    "poids.shape"
   ]
  },
  {
   "cell_type": "code",
   "execution_count": 23,
   "metadata": {},
   "outputs": [
    {
     "data": {
      "text/plain": [
       "(128,)"
      ]
     },
     "execution_count": 23,
     "metadata": {},
     "output_type": "execute_result"
    }
   ],
   "source": [
    "termes_biais.shape"
   ]
  },
  {
   "cell_type": "code",
   "execution_count": 24,
   "metadata": {},
   "outputs": [
    {
     "name": "stdout",
     "output_type": "stream",
     "text": [
      "Model: \"sequential\"\n",
      "_________________________________________________________________\n",
      " Layer (type)                Output Shape              Param #   \n",
      "=================================================================\n",
      " dense (Dense)               (None, 128)               8320      \n",
      "                                                                 \n",
      " activation (Activation)     (None, 128)               0         \n",
      "                                                                 \n",
      " dense_1 (Dense)             (None, 10)                1290      \n",
      "                                                                 \n",
      " activation_1 (Activation)   (None, 10)                0         \n",
      "                                                                 \n",
      "=================================================================\n",
      "Total params: 9,610\n",
      "Trainable params: 9,610\n",
      "Non-trainable params: 0\n",
      "_________________________________________________________________\n"
     ]
    }
   ],
   "source": [
    "model.summary()"
   ]
  },
  {
   "cell_type": "code",
   "execution_count": 25,
   "metadata": {},
   "outputs": [
    {
     "data": {
      "text/plain": [
       "8320"
      ]
     },
     "execution_count": 25,
     "metadata": {},
     "output_type": "execute_result"
    }
   ],
   "source": [
    "64 * 128 + 128"
   ]
  },
  {
   "cell_type": "markdown",
   "metadata": {},
   "source": [
    "> Bien que le réseau n'ait pas encore été ajusté sur des données, vérifier que la définition de l'architecture implique une intialisation immédiate des poids du réseau (i.e. les poids prennent des valeurs). \n",
    "> Vérifier aussi que les biais sont initialisés à zéro."
   ]
  },
  {
   "cell_type": "code",
   "execution_count": 26,
   "metadata": {},
   "outputs": [
    {
     "data": {
      "text/plain": [
       "array([[-0.14826894, -0.09531122, -0.11706826, ...,  0.11165635,\n",
       "        -0.01402614,  0.10896228],\n",
       "       [-0.02302246, -0.0935185 ,  0.1309117 , ..., -0.09428667,\n",
       "         0.08507   , -0.155588  ],\n",
       "       [-0.03215568, -0.04543084, -0.17613071, ..., -0.13116348,\n",
       "        -0.12432422,  0.14400099],\n",
       "       ...,\n",
       "       [-0.1032355 ,  0.09518866,  0.03994277, ..., -0.1677096 ,\n",
       "         0.13820787, -0.16644326],\n",
       "       [-0.13215086, -0.00677295,  0.03247377, ...,  0.0438884 ,\n",
       "         0.11155246,  0.06153199],\n",
       "       [ 0.07299526,  0.11948146,  0.05526897, ...,  0.07039616,\n",
       "         0.13654394,  0.0886548 ]], dtype=float32)"
      ]
     },
     "execution_count": 26,
     "metadata": {},
     "output_type": "execute_result"
    }
   ],
   "source": [
    "poids"
   ]
  },
  {
   "cell_type": "code",
   "execution_count": 27,
   "metadata": {},
   "outputs": [
    {
     "data": {
      "text/plain": [
       "array([0., 0., 0., 0., 0., 0., 0., 0., 0., 0., 0., 0., 0., 0., 0., 0., 0.,\n",
       "       0., 0., 0., 0., 0., 0., 0., 0., 0., 0., 0., 0., 0., 0., 0., 0., 0.,\n",
       "       0., 0., 0., 0., 0., 0., 0., 0., 0., 0., 0., 0., 0., 0., 0., 0., 0.,\n",
       "       0., 0., 0., 0., 0., 0., 0., 0., 0., 0., 0., 0., 0., 0., 0., 0., 0.,\n",
       "       0., 0., 0., 0., 0., 0., 0., 0., 0., 0., 0., 0., 0., 0., 0., 0., 0.,\n",
       "       0., 0., 0., 0., 0., 0., 0., 0., 0., 0., 0., 0., 0., 0., 0., 0., 0.,\n",
       "       0., 0., 0., 0., 0., 0., 0., 0., 0., 0., 0., 0., 0., 0., 0., 0., 0.,\n",
       "       0., 0., 0., 0., 0., 0., 0., 0., 0.], dtype=float32)"
      ]
     },
     "execution_count": 27,
     "metadata": {},
     "output_type": "execute_result"
    }
   ],
   "source": [
    "termes_biais"
   ]
  },
  {
   "cell_type": "markdown",
   "metadata": {},
   "source": [
    "### Apprentissage : ajustement des poids du réseau"
   ]
  },
  {
   "cell_type": "markdown",
   "metadata": {},
   "source": [
    "La phase d'apprentissage consiste à estimer le vecteur $\\theta$ (qui contient tous les paramètres du réseau : poids et biais) en cherchant à minimiser en $\\theta$ le risque empirique (ici sans pénalité) \n",
    "$$ \\theta \\mapsto \\frac 1{n} \\sum_{i=1}^n  \\ell( f(X_i , \\theta),Y_i) $$\n",
    "où $f(\\cdot , \\theta)$ est la fonction qui correspond au réseau de neurones et où $\\ell$ est la perte choisie. Pour le problème de classification multiclasses qui nous intéresse ici il s'agit de la cross-entropy.\n",
    "\n",
    "On utilise pour cela une méthode d'optimisation de type descente de gradient stochastique, appliquée au risque empirique pénalisé. Par exemple pour `SGD`, chaque itération effectue un pas de gradient, en calculant ce gradient sur un sous-échantillon des données (échantillon batch):\n",
    "$$ \\theta_b  =   \\theta_{b-1}  - \\varepsilon   \\frac 1{|B|} \\sum_{i \\in B}  \\nabla_\\theta \\ell( f(X_i , \\theta_{b-1}),Y_i)   \n",
    " $$\n",
    "où $\\varepsilon$ est le taux d'apprentissage (learning rate).\n",
    "\n",
    "Le module `optimizers` de Keras permet de choisir la méthode d'optimisation. On utilise ci-dessous l'optimiseur `SGD`, avec l'argument `lr` pour régler le taux d'apprentissage :"
   ]
  },
  {
   "cell_type": "code",
   "execution_count": 28,
   "metadata": {},
   "outputs": [],
   "source": [
    "from keras.optimizers import SGD\n",
    "sgd = SGD(learning_rate=0.1)  #SGD(lr=0.1)"
   ]
  },
  {
   "cell_type": "markdown",
   "metadata": {},
   "source": [
    "Nous allons maintenant ajuster sur les données digits un réseau de neurones à une couche cachée.\n",
    "\n",
    "L'ajustement est effectué en deux temps : compilation puis ajustement sur les données.\n",
    "\n",
    "On spécifie les éléments nécessaires à l'ajustement  avec la méthode  `compile` :\n",
    "- optimiseur,\n",
    "- perte considérée pour la back propagation (dans l'algo de descente de gradient)\n",
    "- \"métriques\" à considérer pour évaluer l'erreur. On pourrait bien sûr évaluer l'erreur uniquement pour la cross-entropy, mais l'erreur pour la perte sèche $\\ell(y,y') = 1_{y \\neq y'}$ est plus facile à interpréter, on choisit donc de suivre  aussi la métrique \"accuracy\" (précision = taux de bien classé) le long de la trajectoire de descente de gradient."
   ]
  },
  {
   "cell_type": "code",
   "execution_count": 29,
   "metadata": {},
   "outputs": [],
   "source": [
    "model.compile(optimizer=sgd,\n",
    "              loss='categorical_crossentropy',\n",
    "              metrics=['accuracy'])"
   ]
  },
  {
   "cell_type": "markdown",
   "metadata": {},
   "source": [
    "Dans les arguments de la méthode `.fit` ci-dessous:\n",
    "- epochs = nombre de passages sur l'ensemble de l'échantillon  ;\n",
    "- batch_size = taille du sous-échantillon extrait (batch) pour le calcul du gradient à chaque itération."
   ]
  },
  {
   "cell_type": "code",
   "execution_count": 30,
   "metadata": {
    "scrolled": true
   },
   "outputs": [
    {
     "name": "stdout",
     "output_type": "stream",
     "text": [
      "Epoch 1/10\n",
      "45/45 [==============================] - 1s 3ms/step - loss: 0.9872 - accuracy: 0.7592\n",
      "Epoch 2/10\n",
      "45/45 [==============================] - 0s 3ms/step - loss: 0.2891 - accuracy: 0.9402\n",
      "Epoch 3/10\n",
      "45/45 [==============================] - 0s 3ms/step - loss: 0.1798 - accuracy: 0.9652\n",
      "Epoch 4/10\n",
      "45/45 [==============================] - 0s 3ms/step - loss: 0.1322 - accuracy: 0.9756\n",
      "Epoch 5/10\n",
      "45/45 [==============================] - 0s 4ms/step - loss: 0.1057 - accuracy: 0.9819\n",
      "Epoch 6/10\n",
      "45/45 [==============================] - 0s 4ms/step - loss: 0.0863 - accuracy: 0.9861\n",
      "Epoch 7/10\n",
      "45/45 [==============================] - 0s 3ms/step - loss: 0.0735 - accuracy: 0.9889\n",
      "Epoch 8/10\n",
      "45/45 [==============================] - 0s 3ms/step - loss: 0.0631 - accuracy: 0.9923\n",
      "Epoch 9/10\n",
      "45/45 [==============================] - 0s 3ms/step - loss: 0.0559 - accuracy: 0.9923\n",
      "Epoch 10/10\n",
      "45/45 [==============================] - 0s 3ms/step - loss: 0.0492 - accuracy: 0.9951\n"
     ]
    },
    {
     "data": {
      "text/plain": [
       "<keras.callbacks.History at 0x24cec20c700>"
      ]
     },
     "execution_count": 30,
     "metadata": {},
     "output_type": "execute_result"
    }
   ],
   "source": [
    "model.fit(X_train_nor, Y_train, epochs=10, batch_size=32)"
   ]
  },
  {
   "cell_type": "markdown",
   "metadata": {},
   "source": [
    "> Chaque ligne correspond à un passage sur l'ensemble des données (= un epoch). Nous avons choisi un batch size de 32 observations. Combien de pas de gradients sont donc effectués par epoch pour ce choix de paramètres ?"
   ]
  },
  {
   "cell_type": "code",
   "execution_count": 31,
   "metadata": {},
   "outputs": [
    {
     "data": {
      "text/plain": [
       "44.90625"
      ]
     },
     "execution_count": 31,
     "metadata": {},
     "output_type": "execute_result"
    }
   ],
   "source": [
    "len(X_train_nor) / 32"
   ]
  },
  {
   "cell_type": "markdown",
   "metadata": {},
   "source": [
    "> La perte cross entropy (ici utilisé pour désigner le risque empirique pour la cross entropy) et la précision (accuracy) s'améliorent-elles le long de la trajectoire de descente de gradient ?"
   ]
  },
  {
   "cell_type": "markdown",
   "metadata": {},
   "source": [
    "Les poids sont enregistrés dans `model.layers`. \n",
    "\n",
    "> Les biais sont ils toujours à zero ?"
   ]
  },
  {
   "cell_type": "code",
   "execution_count": 32,
   "metadata": {},
   "outputs": [
    {
     "data": {
      "text/plain": [
       "[<keras.layers.core.dense.Dense at 0x24cec0a0940>,\n",
       " <keras.layers.core.activation.Activation at 0x24cec0a0f10>,\n",
       " <keras.layers.core.dense.Dense at 0x24cec123af0>,\n",
       " <keras.layers.core.activation.Activation at 0x24cebf92850>]"
      ]
     },
     "execution_count": 32,
     "metadata": {},
     "output_type": "execute_result"
    }
   ],
   "source": [
    "model.layers"
   ]
  },
  {
   "cell_type": "code",
   "execution_count": 33,
   "metadata": {},
   "outputs": [
    {
     "data": {
      "text/plain": [
       "array([ 1.51893115e-02,  6.97185472e-03,  2.81255716e-03,  8.39628875e-02,\n",
       "        5.39592616e-02,  1.83105804e-02,  8.66051018e-02,  5.69905080e-02,\n",
       "       -1.63162649e-02,  8.40967055e-03,  2.13902295e-02,  7.15764910e-02,\n",
       "        5.64980395e-02,  6.43843859e-02,  9.53921527e-02,  9.19589400e-02,\n",
       "        8.32329094e-02,  2.33390536e-02,  5.26640043e-02,  7.50510097e-02,\n",
       "        1.94521174e-02,  5.92294708e-02,  7.17519075e-02,  8.19471478e-02,\n",
       "        4.68026176e-02,  4.15577851e-02,  9.07067955e-02,  3.36081497e-02,\n",
       "        9.26867202e-02,  1.81725442e-01,  1.09486476e-01,  6.41349554e-02,\n",
       "        2.86934897e-02,  2.49406304e-02,  4.39424925e-02, -1.52846100e-02,\n",
       "        3.37508172e-02,  9.54533219e-02,  6.37981072e-02,  1.96176693e-02,\n",
       "        1.24121182e-01,  3.70298512e-02,  3.33256200e-02,  1.57962553e-02,\n",
       "        8.80612954e-02,  5.65704070e-02,  9.26021039e-02,  4.47699241e-02,\n",
       "        3.84331122e-02,  6.49230704e-02,  2.22424958e-02, -4.34817746e-03,\n",
       "        2.54069753e-02,  6.08894825e-02,  3.01379003e-02,  7.30631500e-02,\n",
       "        3.59749570e-02,  7.81803131e-02,  3.57852094e-02,  5.02620339e-02,\n",
       "        3.10895666e-02,  4.12319154e-02,  9.48235579e-03,  3.54143530e-02,\n",
       "        4.67572249e-02,  8.99823382e-02, -1.87448710e-02,  3.79337482e-02,\n",
       "        1.12765424e-01, -3.66471410e-02,  6.64934441e-02,  6.65193498e-02,\n",
       "       -1.95430573e-02,  4.81565446e-02,  7.75818452e-02,  2.44820621e-02,\n",
       "        6.11506850e-02,  1.43360019e-01, -2.01733492e-04,  5.48368469e-02,\n",
       "        7.12720156e-02,  9.39068645e-02,  3.39979790e-02,  4.14360389e-02,\n",
       "        9.31499898e-02,  4.37396113e-03,  5.32061160e-02,  5.74850403e-02,\n",
       "        6.14558496e-02,  2.92086266e-02,  1.20559372e-02,  4.76569012e-02,\n",
       "        9.11258906e-02,  1.09530360e-01,  9.95285511e-02,  3.86333019e-02,\n",
       "        2.61206776e-02,  1.50483679e-02,  6.51434138e-02, -1.39953215e-02,\n",
       "        4.28688759e-03,  2.40194034e-02, -2.85354946e-02,  7.75764585e-02,\n",
       "        9.59458798e-02,  9.52253758e-05,  8.81693289e-02,  2.22665370e-02,\n",
       "        1.31677790e-02,  3.07408497e-02,  5.23490794e-02,  2.58820299e-02,\n",
       "       -6.04903209e-04,  5.45900688e-03, -1.29250512e-02,  3.06445081e-02,\n",
       "        1.71962548e-02,  4.48863246e-02,  3.25157940e-02,  2.84977295e-02,\n",
       "        7.28430673e-02,  5.10310056e-03,  2.79505830e-02,  7.24856555e-02,\n",
       "        2.08504070e-02,  5.75619303e-02,  5.92435785e-02, -3.07885483e-02],\n",
       "      dtype=float32)"
      ]
     },
     "execution_count": 33,
     "metadata": {},
     "output_type": "execute_result"
    }
   ],
   "source": [
    "model.layers[0].get_weights()[1]"
   ]
  },
  {
   "cell_type": "markdown",
   "metadata": {},
   "source": [
    "> En comparant les valeurs de la perte et de l'accuracy, vérifier (sur les sorties) que si l'on effectue l'ajustement une seconde fois, l'état initial pour le second essai correspond à l'état du réseau précédemment ajusté."
   ]
  },
  {
   "cell_type": "code",
   "execution_count": 34,
   "metadata": {},
   "outputs": [
    {
     "name": "stdout",
     "output_type": "stream",
     "text": [
      "Epoch 1/10\n",
      "45/45 [==============================] - 0s 4ms/step - loss: 0.0440 - accuracy: 0.9965\n",
      "Epoch 2/10\n",
      "45/45 [==============================] - 0s 5ms/step - loss: 0.0398 - accuracy: 0.9965\n",
      "Epoch 3/10\n",
      "45/45 [==============================] - 0s 3ms/step - loss: 0.0360 - accuracy: 0.9972\n",
      "Epoch 4/10\n",
      "45/45 [==============================] - 0s 3ms/step - loss: 0.0328 - accuracy: 0.9972\n",
      "Epoch 5/10\n",
      "45/45 [==============================] - 0s 4ms/step - loss: 0.0301 - accuracy: 0.9979\n",
      "Epoch 6/10\n",
      "45/45 [==============================] - 0s 3ms/step - loss: 0.0276 - accuracy: 0.9979\n",
      "Epoch 7/10\n",
      "45/45 [==============================] - 0s 4ms/step - loss: 0.0255 - accuracy: 0.9979\n",
      "Epoch 8/10\n",
      "45/45 [==============================] - 0s 3ms/step - loss: 0.0237 - accuracy: 0.9986\n",
      "Epoch 9/10\n",
      "45/45 [==============================] - 0s 3ms/step - loss: 0.0220 - accuracy: 0.9993\n",
      "Epoch 10/10\n",
      "45/45 [==============================] - 0s 2ms/step - loss: 0.0206 - accuracy: 0.9993\n"
     ]
    },
    {
     "data": {
      "text/plain": [
       "<keras.callbacks.History at 0x24cedf36d00>"
      ]
     },
     "execution_count": 34,
     "metadata": {},
     "output_type": "execute_result"
    }
   ],
   "source": [
    "model.fit(X_train_nor, Y_train, epochs=10, batch_size=32)"
   ]
  },
  {
   "cell_type": "markdown",
   "metadata": {},
   "source": [
    "> Essayer de diminuer encore la perte en augmentant le nombre d'épochs, en diminuant le taux d'apprentissage (par exemple 0.001).   \n",
    "> Remarque : si vous souhaitez réinitialiser les poids, il vous faut \"réinstancier\" le modèle en le redéfinissant totalement. "
   ]
  },
  {
   "cell_type": "code",
   "execution_count": 35,
   "metadata": {
    "tags": []
   },
   "outputs": [
    {
     "name": "stdout",
     "output_type": "stream",
     "text": [
      "Epoch 1/10\n",
      "45/45 [==============================] - 1s 3ms/step - loss: 2.5831 - accuracy: 0.1044\n",
      "Epoch 2/10\n",
      "45/45 [==============================] - 0s 3ms/step - loss: 2.4716 - accuracy: 0.1183\n",
      "Epoch 3/10\n",
      "45/45 [==============================] - 0s 3ms/step - loss: 2.3699 - accuracy: 0.1441\n",
      "Epoch 4/10\n",
      "45/45 [==============================] - 0s 2ms/step - loss: 2.2763 - accuracy: 0.1761\n",
      "Epoch 5/10\n",
      "45/45 [==============================] - 0s 2ms/step - loss: 2.1899 - accuracy: 0.2032\n",
      "Epoch 6/10\n",
      "45/45 [==============================] - 0s 3ms/step - loss: 2.1095 - accuracy: 0.2380\n",
      "Epoch 7/10\n",
      "45/45 [==============================] - 0s 3ms/step - loss: 2.0342 - accuracy: 0.2728\n",
      "Epoch 8/10\n",
      "45/45 [==============================] - 0s 3ms/step - loss: 1.9637 - accuracy: 0.3201\n",
      "Epoch 9/10\n",
      "45/45 [==============================] - 0s 4ms/step - loss: 1.8975 - accuracy: 0.3751\n",
      "Epoch 10/10\n",
      "45/45 [==============================] - 0s 3ms/step - loss: 1.8349 - accuracy: 0.4210\n"
     ]
    },
    {
     "data": {
      "text/plain": [
       "<keras.callbacks.History at 0x24cef002b50>"
      ]
     },
     "execution_count": 35,
     "metadata": {},
     "output_type": "execute_result"
    }
   ],
   "source": [
    "model = Sequential()\n",
    "model.add(Dense(H, input_dim=N))\n",
    "model.add(Activation(\"relu\"))\n",
    "model.add(Dense(K))\n",
    "model.add(Activation(\"softmax\"))\n",
    "\n",
    "sgd = SGD(learning_rate=0.001)\n",
    "model.compile(optimizer=sgd,\n",
    "              loss='categorical_crossentropy',\n",
    "              metrics=['accuracy'])\n",
    "model.fit(X_train_nor, Y_train, epochs=10, batch_size=32)"
   ]
  },
  {
   "cell_type": "markdown",
   "metadata": {},
   "source": [
    "> Que dire de la convergence pour une grande valeur du taux d'apprentissage (par exemple `lr=2`) ?"
   ]
  },
  {
   "cell_type": "code",
   "execution_count": 36,
   "metadata": {},
   "outputs": [
    {
     "name": "stdout",
     "output_type": "stream",
     "text": [
      "Epoch 1/10\n",
      "45/45 [==============================] - 1s 3ms/step - loss: 454.2258 - accuracy: 0.4614\n",
      "Epoch 2/10\n",
      "45/45 [==============================] - 0s 5ms/step - loss: 133779.4375 - accuracy: 0.5992\n",
      "Epoch 3/10\n",
      "45/45 [==============================] - 0s 3ms/step - loss: 50704480.0000 - accuracy: 0.6040\n",
      "Epoch 4/10\n",
      "45/45 [==============================] - 0s 3ms/step - loss: 463584591872.0000 - accuracy: 0.4690\n",
      "Epoch 5/10\n",
      "45/45 [==============================] - 0s 3ms/step - loss: 135528338948096.0000 - accuracy: 0.5734\n",
      "Epoch 6/10\n",
      "45/45 [==============================] - 0s 5ms/step - loss: 35418780666429440.0000 - accuracy: 0.5859\n",
      "Epoch 7/10\n",
      "45/45 [==============================] - 0s 3ms/step - loss: 12211664321242988544.0000 - accuracy: 0.5560\n",
      "Epoch 8/10\n",
      "45/45 [==============================] - 0s 3ms/step - loss: 1078370605225216049152.0000 - accuracy: 0.5908\n",
      "Epoch 9/10\n",
      "45/45 [==============================] - 0s 3ms/step - loss: 1241371768942839289872384.0000 - accuracy: 0.5164\n",
      "Epoch 10/10\n",
      "45/45 [==============================] - 0s 5ms/step - loss: 17341073904047511656464384.0000 - accuracy: 0.6882\n"
     ]
    },
    {
     "data": {
      "text/plain": [
       "<keras.callbacks.History at 0x24cef15a190>"
      ]
     },
     "execution_count": 36,
     "metadata": {},
     "output_type": "execute_result"
    }
   ],
   "source": [
    "sgd = SGD(learning_rate=2) \n",
    "\n",
    "model = Sequential()\n",
    "model.add(Dense(H, input_dim=N))\n",
    "model.add(Activation(\"relu\"))\n",
    "model.add(Dense(K))\n",
    "model.add(Activation(\"softmax\"))\n",
    "\n",
    "model.compile(optimizer=sgd,\n",
    "              loss='categorical_crossentropy',\n",
    "              metrics=['accuracy'])\n",
    "model.fit(X_train_nor, Y_train, epochs=10, batch_size=32)"
   ]
  },
  {
   "cell_type": "markdown",
   "metadata": {},
   "source": [
    "> Essayer aussi d'utiliser une méthode `Momentum-SGD` (argument `momentum= True`).  "
   ]
  },
  {
   "cell_type": "code",
   "execution_count": 37,
   "metadata": {},
   "outputs": [
    {
     "name": "stdout",
     "output_type": "stream",
     "text": [
      "Epoch 1/10\n",
      "45/45 [==============================] - 1s 4ms/step - loss: 6046192500736.0000 - accuracy: 0.4328\n",
      "Epoch 2/10\n",
      "45/45 [==============================] - 0s 4ms/step - loss: 1432820593265108538108149760.0000 - accuracy: 0.4224\n",
      "Epoch 3/10\n",
      "45/45 [==============================] - 0s 5ms/step - loss: nan - accuracy: 0.3319                              \n",
      "Epoch 4/10\n",
      "45/45 [==============================] - 0s 3ms/step - loss: nan - accuracy: 0.0981\n",
      "Epoch 5/10\n",
      "45/45 [==============================] - 0s 3ms/step - loss: nan - accuracy: 0.0981\n",
      "Epoch 6/10\n",
      "45/45 [==============================] - 0s 3ms/step - loss: nan - accuracy: 0.0981\n",
      "Epoch 7/10\n",
      "45/45 [==============================] - 0s 3ms/step - loss: nan - accuracy: 0.0981\n",
      "Epoch 8/10\n",
      "45/45 [==============================] - 0s 3ms/step - loss: nan - accuracy: 0.0981\n",
      "Epoch 9/10\n",
      "45/45 [==============================] - 0s 3ms/step - loss: nan - accuracy: 0.0981\n",
      "Epoch 10/10\n",
      "45/45 [==============================] - 0s 3ms/step - loss: nan - accuracy: 0.0981\n"
     ]
    },
    {
     "data": {
      "text/plain": [
       "<keras.callbacks.History at 0x24cef213eb0>"
      ]
     },
     "execution_count": 37,
     "metadata": {},
     "output_type": "execute_result"
    }
   ],
   "source": [
    "### TO DO ###\n",
    "sgd = SGD(learning_rate=2, momentum=True) \n",
    "\n",
    "model = Sequential()\n",
    "model.add(Dense(H, input_dim=N))\n",
    "model.add(Activation(\"relu\"))\n",
    "model.add(Dense(K))\n",
    "model.add(Activation(\"softmax\"))\n",
    "\n",
    "model.compile(optimizer=sgd,\n",
    "              loss='categorical_crossentropy',\n",
    "              metrics=['accuracy'])\n",
    "model.fit(X_train_nor, Y_train, epochs=10, batch_size=32)"
   ]
  },
  {
   "cell_type": "markdown",
   "metadata": {},
   "source": [
    "### Predictions et erreur de généralisation"
   ]
  },
  {
   "cell_type": "markdown",
   "metadata": {},
   "source": [
    "> Effectuer des prédictions de votre réseau sur l'échantillon test avec la méthode `.predict()`."
   ]
  },
  {
   "cell_type": "code",
   "execution_count": 38,
   "metadata": {},
   "outputs": [
    {
     "name": "stdout",
     "output_type": "stream",
     "text": [
      "Epoch 1/20\n",
      "45/45 [==============================] - 1s 3ms/step - loss: 0.4819 - accuracy: 0.8706\n",
      "Epoch 2/20\n",
      "45/45 [==============================] - 0s 3ms/step - loss: 0.2866 - accuracy: 0.9541\n",
      "Epoch 3/20\n",
      "45/45 [==============================] - 0s 3ms/step - loss: 0.1738 - accuracy: 0.9777\n",
      "Epoch 4/20\n",
      "45/45 [==============================] - 0s 3ms/step - loss: 0.0668 - accuracy: 0.9930\n",
      "Epoch 5/20\n",
      "45/45 [==============================] - 0s 3ms/step - loss: 0.0577 - accuracy: 0.9944\n",
      "Epoch 6/20\n",
      "45/45 [==============================] - 0s 3ms/step - loss: 0.0383 - accuracy: 0.9972\n",
      "Epoch 7/20\n",
      "45/45 [==============================] - 0s 3ms/step - loss: 0.0613 - accuracy: 0.9910\n",
      "Epoch 8/20\n",
      "45/45 [==============================] - 0s 3ms/step - loss: 0.0103 - accuracy: 0.9958\n",
      "Epoch 9/20\n",
      "45/45 [==============================] - 0s 3ms/step - loss: 0.0037 - accuracy: 0.9993\n",
      "Epoch 10/20\n",
      "45/45 [==============================] - 0s 3ms/step - loss: 0.0030 - accuracy: 0.9993\n",
      "Epoch 11/20\n",
      "45/45 [==============================] - 0s 4ms/step - loss: 0.0028 - accuracy: 0.9993\n",
      "Epoch 12/20\n",
      "45/45 [==============================] - 0s 3ms/step - loss: 0.0026 - accuracy: 0.9993\n",
      "Epoch 13/20\n",
      "45/45 [==============================] - 0s 3ms/step - loss: 0.0025 - accuracy: 0.9993\n",
      "Epoch 14/20\n",
      "45/45 [==============================] - 0s 3ms/step - loss: 0.0024 - accuracy: 0.9993\n",
      "Epoch 15/20\n",
      "45/45 [==============================] - 0s 4ms/step - loss: 0.0025 - accuracy: 0.9993\n",
      "Epoch 16/20\n",
      "45/45 [==============================] - 0s 4ms/step - loss: 0.0023 - accuracy: 0.9993\n",
      "Epoch 17/20\n",
      "45/45 [==============================] - 0s 3ms/step - loss: 0.0022 - accuracy: 0.9993\n",
      "Epoch 18/20\n",
      "45/45 [==============================] - 0s 3ms/step - loss: 0.0021 - accuracy: 0.9993\n",
      "Epoch 19/20\n",
      "45/45 [==============================] - 0s 3ms/step - loss: 0.0020 - accuracy: 0.9993\n",
      "Epoch 20/20\n",
      "45/45 [==============================] - 0s 3ms/step - loss: 0.0020 - accuracy: 0.9993\n"
     ]
    },
    {
     "data": {
      "text/plain": [
       "<keras.callbacks.History at 0x24cf08127c0>"
      ]
     },
     "execution_count": 38,
     "metadata": {},
     "output_type": "execute_result"
    }
   ],
   "source": [
    "sgd = SGD(learning_rate=1) \n",
    "\n",
    "model = Sequential()\n",
    "model.add(Dense(H, input_dim=N))\n",
    "model.add(Activation(\"relu\"))\n",
    "model.add(Dense(K))\n",
    "model.add(Activation(\"softmax\"))\n",
    "\n",
    "model.compile(optimizer=sgd,\n",
    "              loss='categorical_crossentropy',\n",
    "              metrics=['accuracy'])\n",
    "model.fit(X_train_nor, Y_train, epochs=20, batch_size=32)"
   ]
  },
  {
   "cell_type": "code",
   "execution_count": 39,
   "metadata": {},
   "outputs": [
    {
     "name": "stdout",
     "output_type": "stream",
     "text": [
      "12/12 [==============================] - 0s 3ms/step\n"
     ]
    },
    {
     "data": {
      "text/plain": [
       "array([[9.99999106e-01, 1.78198758e-11, 1.07828107e-07, ...,\n",
       "        6.63415101e-10, 1.01404263e-09, 4.95762897e-09],\n",
       "       [3.93693699e-06, 6.68537274e-12, 1.01200307e-11, ...,\n",
       "        5.58162085e-08, 1.27149680e-12, 1.11223487e-12],\n",
       "       [2.17709669e-07, 1.62371521e-08, 1.58439661e-06, ...,\n",
       "        2.60988262e-08, 9.99991119e-01, 5.20697040e-06],\n",
       "       ...,\n",
       "       [5.70546854e-09, 9.92694378e-01, 3.11333424e-05, ...,\n",
       "        5.06481456e-06, 7.26881158e-03, 2.40471856e-08],\n",
       "       [3.12187626e-06, 3.18571110e-05, 1.02824815e-08, ...,\n",
       "        2.58232475e-08, 1.29318032e-08, 9.98381913e-01],\n",
       "       [9.99997914e-01, 7.83063631e-12, 1.83949476e-06, ...,\n",
       "        5.20483070e-08, 6.79966916e-11, 1.31503214e-07]], dtype=float32)"
      ]
     },
     "execution_count": 39,
     "metadata": {},
     "output_type": "execute_result"
    }
   ],
   "source": [
    "y_predicted = model.predict(X_test_nor)\n",
    "y_predicted"
   ]
  },
  {
   "cell_type": "code",
   "execution_count": 40,
   "metadata": {},
   "outputs": [
    {
     "data": {
      "text/plain": [
       "True"
      ]
     },
     "execution_count": 40,
     "metadata": {},
     "output_type": "execute_result"
    }
   ],
   "source": [
    "len(y_predicted) == len(X_test_nor)"
   ]
  },
  {
   "cell_type": "markdown",
   "metadata": {},
   "source": [
    "> Pour plusieurs élements de l'échantillon test, renvoyer les probabilités conditionnelles prédites par le réseau (en sortie du Softmax) à l'aide de la méthode `.model.predict()`. La probabilité de la classe choisie est-elle générallement bien supérieure aux probabilités des autres classes ?\n",
    "Calculer le taux de bien classé sur l'échantillon test."
   ]
  },
  {
   "cell_type": "code",
   "execution_count": 41,
   "metadata": {},
   "outputs": [
    {
     "data": {
      "image/png": "[encoded data removed]",
      "text/plain": [
       "<Figure size 640x480 with 1 Axes>"
      ]
     },
     "metadata": {},
     "output_type": "display_data"
    }
   ],
   "source": [
    "sample_idx = 2\n",
    "plt.imshow(X_test_nor[sample_idx].reshape(8, 8),\n",
    "           cmap=plt.cm.gray_r, interpolation='nearest');\n",
    "plt.title(\"predicted label: %d\\n true label: %d\"\n",
    "              % (np.argmax(y_predicted[sample_idx]), y_test[sample_idx]))\n",
    "plt.show()"
   ]
  },
  {
   "cell_type": "code",
   "execution_count": 42,
   "metadata": {},
   "outputs": [
    {
     "data": {
      "text/plain": [
       "array([2.1770967e-07, 1.6237152e-08, 1.5843966e-06, 1.4102319e-08,\n",
       "       7.8985778e-09, 2.7144063e-07, 1.4096352e-06, 2.6098826e-08,\n",
       "       9.9999112e-01, 5.2069704e-06], dtype=float32)"
      ]
     },
     "execution_count": 42,
     "metadata": {},
     "output_type": "execute_result"
    }
   ],
   "source": [
    "probabilities = y_predicted\n",
    "probabilities[sample_idx] "
   ]
  },
  {
   "cell_type": "code",
   "execution_count": 43,
   "metadata": {
    "scrolled": true
   },
   "outputs": [
    {
     "data": {
      "image/png": "[encoded data removed]",
      "text/plain": [
       "<Figure size 1200x900 with 15 Axes>"
      ]
     },
     "metadata": {},
     "output_type": "display_data"
    }
   ],
   "source": [
    "plt.figure(figsize=(12, 9))\n",
    "for i in range(15):\n",
    "    plt.subplot(3, 5, i + 1)\n",
    "    plt.imshow(X_test_nor[i].reshape(8, 8),\n",
    "               cmap=plt.cm.gray_r, interpolation='nearest')\n",
    "    plt.title(\"predicted label: %d\\n true label: %d\"\n",
    "              % (np.argmax(y_predicted[i]), y_test[i]))\n",
    "  "
   ]
  },
  {
   "cell_type": "code",
   "execution_count": 44,
   "metadata": {},
   "outputs": [
    {
     "data": {
      "text/plain": [
       "0.9833333333333333"
      ]
     },
     "execution_count": 44,
     "metadata": {},
     "output_type": "execute_result"
    }
   ],
   "source": [
    "# Taux de bien classé sur l'échantillon test\n",
    "n = len(y_predicted)\n",
    "n_correct = 0\n",
    "for pred_probabilities, real_value in zip(y_predicted, y_test):\n",
    "    if np.argmax(pred_probabilities) == real_value:\n",
    "        n_correct += 1\n",
    "n_correct / n        "
   ]
  },
  {
   "cell_type": "markdown",
   "metadata": {},
   "source": [
    "On rappelle que la perte empirique pour la cross-entropy vaut\n",
    "\\begin{eqnarray*}\n",
    "\\hat{ \\mathcal R}_n (\\theta)  &=&  \\frac 1n  \\sum_{i=1}^n  \\ell( Y_i,  f(X_i , \\theta)) \\\\ \n",
    "& =&   -    \\frac 1n \\sum_{i=1}^n  \\sum_{k = 1}^K  \\mathbb{1}_{Y_i =  k}  \\log (f(X_i , \\theta)_k)  \n",
    "\\end{eqnarray*}\n"
   ]
  },
  {
   "cell_type": "markdown",
   "metadata": {},
   "source": [
    "> Calculer (\"à la main\") le risque empirique (pour la cross entropy) sur l'échantillon test. Le risque était-il plus faible sur l'échantillon d'apprentissage  ?"
   ]
  },
  {
   "cell_type": "code",
   "execution_count": 45,
   "metadata": {},
   "outputs": [
    {
     "data": {
      "text/plain": [
       "array([[9.99999106e-01, 1.78198758e-11, 1.07828107e-07, ...,\n",
       "        6.63415101e-10, 1.01404263e-09, 4.95762897e-09],\n",
       "       [3.93693699e-06, 6.68537274e-12, 1.01200307e-11, ...,\n",
       "        5.58162085e-08, 1.27149680e-12, 1.11223487e-12],\n",
       "       [2.17709669e-07, 1.62371521e-08, 1.58439661e-06, ...,\n",
       "        2.60988262e-08, 9.99991119e-01, 5.20697040e-06],\n",
       "       ...,\n",
       "       [5.70546854e-09, 9.92694378e-01, 3.11333424e-05, ...,\n",
       "        5.06481456e-06, 7.26881158e-03, 2.40471856e-08],\n",
       "       [3.12187626e-06, 3.18571110e-05, 1.02824815e-08, ...,\n",
       "        2.58232475e-08, 1.29318032e-08, 9.98381913e-01],\n",
       "       [9.99997914e-01, 7.83063631e-12, 1.83949476e-06, ...,\n",
       "        5.20483070e-08, 6.79966916e-11, 1.31503214e-07]], dtype=float32)"
      ]
     },
     "execution_count": 45,
     "metadata": {},
     "output_type": "execute_result"
    }
   ],
   "source": [
    "y_predicted"
   ]
  },
  {
   "cell_type": "code",
   "execution_count": 46,
   "metadata": {},
   "outputs": [
    {
     "name": "stdout",
     "output_type": "stream",
     "text": [
      "0.09167672718672895\n"
     ]
    }
   ],
   "source": [
    "from math import log\n",
    "\n",
    "n = 0\n",
    "values_sum = 0\n",
    "for pred_list, real_value in zip(y_predicted, y_test):\n",
    "    idx = real_value\n",
    "    val = pred_list[idx]\n",
    "    if val != 0:\n",
    "        values_sum += log(val)\n",
    "    n += 1\n",
    "print(-(1/n) *  values_sum)"
   ]
  },
  {
   "cell_type": "markdown",
   "metadata": {},
   "source": [
    "> Plus simplement, on peut utiliser la méthode `.evaluate(x,y)`  pour retrouver la perte empirique et l'accuracy. Ce calcul correspond-il à une passe de propagation avant ou bien à un pas de back-propagation ?"
   ]
  },
  {
   "cell_type": "code",
   "execution_count": 47,
   "metadata": {},
   "outputs": [
    {
     "name": "stdout",
     "output_type": "stream",
     "text": [
      "45/45 [==============================] - 1s 3ms/step - loss: 0.0019 - accuracy: 0.9993\n"
     ]
    },
    {
     "data": {
      "text/plain": [
       "[0.0019407877698540688, 0.9993041157722473]"
      ]
     },
     "execution_count": 47,
     "metadata": {},
     "output_type": "execute_result"
    }
   ],
   "source": [
    "model.evaluate(X_train_nor, Y_train)"
   ]
  },
  {
   "cell_type": "markdown",
   "metadata": {},
   "source": [
    "### Impact de l'initialisation\n",
    "\n",
    "Nous allons maintenant étudier l'impact de l'initialisation de la méthode SGD sur la convergence de ce dernier.\n",
    "\n",
    "Dans Keras, par défaut les poids sont initialisés comme suit par l'initialiseur `glorot_uniform` :\n",
    "\n",
    "- chaque poids est tiré uniformément dans $[-scale, scale]$\n",
    "- scale est choisi de l'ordre de $\\frac{1}{\\sqrt{n_{in} + n_{out}}}$\n",
    "\n",
    "Nous allons étudier l'impact de l'initialisation en considérant des initialiseurs Gaussiens en testant plusieurs valeurs pour la variance."
   ]
  },
  {
   "cell_type": "code",
   "execution_count": 48,
   "metadata": {},
   "outputs": [],
   "source": [
    "from keras import initializers\n",
    "mon_init1 = initializers.RandomNormal(mean=0.0, stddev=0.05)"
   ]
  },
  {
   "cell_type": "markdown",
   "metadata": {},
   "source": [
    "> Définir un réseau avec une couche Softmax en sortie et deux couches cachées \"tanh\", avec respectivement H neurones et K neurones. (On utilise ici des activations \"tanh\" pour que le problème soit un peu plus difficile à résoudre pour le réseau ...)\n",
    "> Passer l'initialiseur en argument de `Dense()`, ce qui donne par exemple pour la première couche :   \n",
    "`model.add(Dense(H,input_dim=N,kernel_initializer=mon_init1))`."
   ]
  },
  {
   "cell_type": "code",
   "execution_count": 49,
   "metadata": {
    "tags": []
   },
   "outputs": [],
   "source": [
    "### TO DO ###\n",
    "model = Sequential()\n",
    "\n",
    "model.add(Dense(H,input_dim=N,kernel_initializer=mon_init1))\n",
    "model.add(Activation(\"tanh\"))\n",
    "model.add(Dense(K,kernel_initializer=mon_init1))\n",
    "model.add(Activation(\"tanh\"))\n",
    "model.add(Dense(K,kernel_initializer=mon_init1))\n",
    "model.add(Activation(\"softmax\"))\n",
    "\n",
    "sgd = SGD(learning_rate=1) "
   ]
  },
  {
   "cell_type": "markdown",
   "metadata": {},
   "source": [
    "> Ajuster le réseau et afficher l'évolution de la perte (i.e. risque empirique) sur les données d'apprentissage le long de la trajectoire des epochs."
   ]
  },
  {
   "cell_type": "code",
   "execution_count": 50,
   "metadata": {},
   "outputs": [],
   "source": [
    "model.compile(optimizer=sgd,\n",
    "              loss='categorical_crossentropy',\n",
    "              metrics = ['accuracy'] )\n",
    "\n",
    "history1 = model.fit(X_train_nor, Y_train,epochs=20,\n",
    "                     batch_size=32,verbose=0)"
   ]
  },
  {
   "cell_type": "markdown",
   "metadata": {},
   "source": [
    "On peut afficher l'évolution de la perte sur l'apprentissage comme suit :"
   ]
  },
  {
   "cell_type": "code",
   "execution_count": 51,
   "metadata": {},
   "outputs": [
    {
     "data": {
      "image/png": "[encoded data removed]",
      "text/plain": [
       "<Figure size 640x480 with 1 Axes>"
      ]
     },
     "metadata": {},
     "output_type": "display_data"
    }
   ],
   "source": [
    "plt.plot(history1.history['loss'],label = \"stddev=0.05\")\n",
    "plt.xlabel('# epochs')\n",
    "plt.ylabel('Training loss')\n",
    "#plt.ylim(0, 6)\n",
    "plt.legend(loc='best');"
   ]
  },
  {
   "cell_type": "markdown",
   "metadata": {},
   "source": [
    "> Faire de même avec les initialiseurs suivants :    \n",
    "> `mon_init2 = initializers.RandomNormal(mean=0.0,stddev=10)`   \n",
    "> `mon_init3 = initializers.RandomNormal(mean=0.0,stddev=0.001)` \\\n",
    "> `mon_init4 = initializers.glorot_uniform()`    "
   ]
  },
  {
   "cell_type": "code",
   "execution_count": 52,
   "metadata": {},
   "outputs": [
    {
     "data": {
      "image/png": "[encoded data removed]",
      "text/plain": [
       "<Figure size 640x480 with 1 Axes>"
      ]
     },
     "metadata": {},
     "output_type": "display_data"
    }
   ],
   "source": [
    "model = Sequential()\n",
    "mon_init2 = initializers.RandomNormal(mean=0.0,stddev=10)\n",
    "model.add(Dense(H,input_dim=N,kernel_initializer=mon_init2))\n",
    "model.add(Activation(\"tanh\"))\n",
    "model.add(Dense(K,kernel_initializer=mon_init2))\n",
    "model.add(Activation(\"tanh\"))\n",
    "model.add(Dense(K,kernel_initializer=mon_init2))\n",
    "model.add(Activation(\"softmax\"))\n",
    "\n",
    "sgd = SGD(learning_rate=1) \n",
    "\n",
    "model.compile(optimizer=sgd,\n",
    "              loss='categorical_crossentropy',\n",
    "              metrics = ['accuracy'] )\n",
    "\n",
    "history2 = model.fit(X_train_nor, Y_train, epochs=20,\n",
    "                     batch_size=32, verbose=0)\n",
    "\n",
    "plt.plot(history2.history['loss'], label = \"stddev=0.05\")\n",
    "plt.xlabel('# epochs')\n",
    "plt.ylabel('Training loss')\n",
    "#plt.ylim(0, 6)\n",
    "plt.legend(loc='best');"
   ]
  },
  {
   "cell_type": "code",
   "execution_count": 53,
   "metadata": {},
   "outputs": [
    {
     "data": {
      "image/png": "[encoded data removed]",
      "text/plain": [
       "<Figure size 640x480 with 1 Axes>"
      ]
     },
     "metadata": {},
     "output_type": "display_data"
    }
   ],
   "source": [
    "model = Sequential()\n",
    "mon_init3 = initializers.RandomNormal(mean=0.0,stddev=0.001)\n",
    "model.add(Dense(H,input_dim=N,kernel_initializer=mon_init3))\n",
    "model.add(Activation(\"tanh\"))\n",
    "model.add(Dense(K,kernel_initializer=mon_init3))\n",
    "model.add(Activation(\"tanh\"))\n",
    "model.add(Dense(K,kernel_initializer=mon_init3))\n",
    "model.add(Activation(\"softmax\"))\n",
    "\n",
    "sgd = SGD(learning_rate=1) \n",
    "\n",
    "model.compile(optimizer=sgd,\n",
    "              loss='categorical_crossentropy',\n",
    "              metrics = ['accuracy'] )\n",
    "\n",
    "history3 = model.fit(X_train_nor, Y_train, epochs=20,\n",
    "                     batch_size=32, verbose=0)\n",
    "\n",
    "plt.plot(history3.history['loss'],label = \"stddev=0.05\")\n",
    "plt.xlabel('# epochs')\n",
    "plt.ylabel('Training loss')\n",
    "#plt.ylim(0, 6)\n",
    "plt.legend(loc='best');"
   ]
  },
  {
   "cell_type": "code",
   "execution_count": 54,
   "metadata": {},
   "outputs": [
    {
     "data": {
      "image/png": "[encoded data removed]",
      "text/plain": [
       "<Figure size 640x480 with 1 Axes>"
      ]
     },
     "metadata": {},
     "output_type": "display_data"
    }
   ],
   "source": [
    "model = Sequential()\n",
    "mon_init4 = initializers.glorot_uniform()\n",
    "model.add(Dense(H,input_dim=N,kernel_initializer=mon_init4))\n",
    "model.add(Activation(\"tanh\"))\n",
    "model.add(Dense(K,kernel_initializer=mon_init4))\n",
    "model.add(Activation(\"tanh\"))\n",
    "model.add(Dense(K,kernel_initializer=mon_init4))\n",
    "model.add(Activation(\"softmax\"))\n",
    "\n",
    "sgd = SGD(learning_rate=1) \n",
    "\n",
    "model.compile(optimizer=sgd,\n",
    "              loss='categorical_crossentropy',\n",
    "              metrics = ['accuracy'] )\n",
    "\n",
    "history4 = model.fit(X_train_nor, Y_train, epochs=20,\n",
    "                     batch_size=32, verbose=0)\n",
    "\n",
    "plt.plot(history4.history['loss'], label = \"stddev=0.05\")\n",
    "plt.xlabel('# epochs')\n",
    "plt.ylabel('Training loss')\n",
    "#plt.ylim(0, 6)\n",
    "plt.legend(loc='best');"
   ]
  },
  {
   "cell_type": "markdown",
   "metadata": {},
   "source": [
    "> Comparer les performance des réseaux ajustés avec ces initialiseurs en représentant les \"trajectoires d'apprentissage\"."
   ]
  },
  {
   "cell_type": "code",
   "execution_count": 55,
   "metadata": {},
   "outputs": [
    {
     "data": {
      "image/png": "[encoded data removed]",
      "text/plain": [
       "<Figure size 640x480 with 1 Axes>"
      ]
     },
     "metadata": {},
     "output_type": "display_data"
    }
   ],
   "source": [
    "fig, ax = plt.subplots()\n",
    "ax.plot(history1.history['accuracy'], label=\"mon_init1\")\n",
    "ax.plot(history2.history['accuracy'], label=\"mon_init2\")\n",
    "ax.plot(history3.history['accuracy'], label=\"mon_init3\")\n",
    "ax.plot(history4.history['accuracy'], label=\"mon_init4\")\n",
    "#plt.plot(label = \"stddev=0.05\")\n",
    "ax.grid()\n",
    "ax.set_xlabel(\"# epochs\")\n",
    "ax.set_ylabel(\"Training accuracy\")\n",
    "ax.set_title(\"Trajectoires d'apprentissage\")\n",
    "ax.legend(loc=\"lower left\");\n",
    "#plt.ylim(0, 6)\n",
    "plt.legend(loc='best');"
   ]
  },
  {
   "cell_type": "markdown",
   "metadata": {},
   "source": [
    "Conclusion:\n",
    "- Initialisation trop proche de zero : gradients trop faibles et SGD peine à sortir de cette zone ...\n",
    "- Initialisation avec des amplitudes trop élevées : les couches intermédiaires ont des gradients qui s'annulent et difficile là encore de sortir de cette zone"
   ]
  },
  {
   "cell_type": "markdown",
   "metadata": {},
   "source": [
    "### Early Stopping\n"
   ]
  },
  {
   "cell_type": "markdown",
   "metadata": {},
   "source": [
    "L'argument ` validation_split=0.1` dans la méthode `.fit()` permet d'évaluer la perte sur un échantillon de validation. \n",
    "\n",
    "> Vérifier graphiquement qu'après un certain nombre d'itérations (quelques centaines epochs ici), le risque et la précision sur l'échantillon de validation  finissent par se dégrader. "
   ]
  },
  {
   "cell_type": "code",
   "execution_count": 56,
   "metadata": {},
   "outputs": [
    {
     "data": {
      "image/png": "[encoded data removed]",
      "text/plain": [
       "<Figure size 640x480 with 1 Axes>"
      ]
     },
     "metadata": {},
     "output_type": "display_data"
    }
   ],
   "source": [
    "model = Sequential()\n",
    "mon_init4 = initializers.glorot_uniform()\n",
    "model.add(Dense(H,input_dim=N,kernel_initializer=mon_init4))\n",
    "model.add(Activation(\"tanh\"))\n",
    "model.add(Dense(K,kernel_initializer=mon_init4))\n",
    "model.add(Activation(\"tanh\"))\n",
    "model.add(Dense(K,kernel_initializer=mon_init4))\n",
    "model.add(Activation(\"softmax\"))\n",
    "\n",
    "sgd = SGD(learning_rate=1) \n",
    "\n",
    "model.compile(optimizer=sgd,\n",
    "              loss='categorical_crossentropy',\n",
    "              metrics = ['accuracy'] )\n",
    "\n",
    "history4_ = model.fit(X_train_nor, Y_train, epochs=500,\n",
    "          batch_size=32,verbose=0,\n",
    "          validation_split=0.1)\n",
    "\n",
    "\n",
    "fig, ax = plt.subplots()\n",
    "ax.plot(history4_.history['loss'], label = \"loss\")\n",
    "ax.plot(history4_.history['accuracy'], label=\"accuracy\")\n",
    "#plt.plot(label = \"stddev=0.05\")\n",
    "ax.grid()\n",
    "ax.set_xlabel(\"# epochs\")\n",
    "#ax.set_ylabel(\"Training accuracy\")\n",
    "ax.set_title(\"\")\n",
    "ax.legend(loc=\"lower left\");\n",
    "#plt.ylim(0, 6)\n",
    "plt.legend(loc='best');"
   ]
  },
  {
   "cell_type": "markdown",
   "metadata": {},
   "source": [
    "Les réseaux de neurones, même sans parler des architectures \"profondes\", nécessitent d'ajuster un très grand nombre de paramètres. Il est donc naturel de devoir contrôler la complexité statistique de ces prédicteurs pour en obtenir les meilleurs erreurs de généralisation. \n",
    "\n",
    "A chaque pas de la descente de gradient l'ensemble des poids et des biais du réseau est mis à jour. A chaque pas de la descente correspond donc un prédicteur, et au final on dispose donc d'une suite de prédicteurs. Le prédicteur final (du dernier pas de gradient) est certes celui qui minimise le risque empirique (appelée ici perte) mais cela ne signifie évidemment pas que ce prédicteur a les meilleurs performances sur l'échantillon de validation (ou de test).\n",
    "\n",
    "\n",
    "La méthode classiquement utilisée pour choisir le nombre de pas de gradients est celle du \"early stopping\".  Le principe consiste tout simplement à stopper la descente de gradient stochastique lorsque l'erreur de validation remonte. L'argument `monitor='val_loss'` de la fonction `EarlyStopping` indique que c'est l'erreur de validation calculée pour la perte (ici cross entropy) qui sera surveillée."
   ]
  },
  {
   "cell_type": "code",
   "execution_count": 57,
   "metadata": {},
   "outputs": [],
   "source": [
    "from keras.callbacks import EarlyStopping\n",
    "early_stopping = EarlyStopping(monitor='val_loss', patience=5)"
   ]
  },
  {
   "cell_type": "markdown",
   "metadata": {},
   "source": [
    "Le long d'une trajectoire de descente de gradient, il est possible que la perte remonte ponctuellement sur une itération, avant de redescendre aussitôt. Il est donc préférable de ne prendre la décision d'arrêter la descente de gradient que si cette remontée se confirme sur quelques itérations successives. L'argument `patience=5` impose à la descente de gradient de patienter 5 itérations après une remontée de la perte, avant de prendre la décision d'arrêter  ou non l'algorithme."
   ]
  },
  {
   "cell_type": "code",
   "execution_count": 58,
   "metadata": {},
   "outputs": [],
   "source": [
    "model = Sequential()\n",
    "\n",
    "model.add(Dense(H,input_dim=N, kernel_initializer=mon_init4))\n",
    "model.add(Activation(\"tanh\"))\n",
    "model.add(Dense(K,kernel_initializer=mon_init4))\n",
    "model.add(Activation(\"tanh\"))\n",
    "model.add(Dense(K,kernel_initializer=mon_init4))\n",
    "model.add(Activation(\"softmax\"))\n",
    "sgd = SGD(learning_rate=0.1) \n",
    "\n",
    "model.compile(optimizer=sgd,\n",
    "              loss='categorical_crossentropy',\n",
    "              metrics = ['accuracy'] )\n",
    "\n",
    "history = model.fit(X_train_nor, Y_train,epochs=500,\n",
    "          batch_size=32,verbose=0,\n",
    "          validation_split=0.1,\n",
    "          callbacks=[early_stopping])"
   ]
  },
  {
   "cell_type": "code",
   "execution_count": 59,
   "metadata": {},
   "outputs": [
    {
     "data": {
      "image/png": "[encoded data removed]",
      "text/plain": [
       "<Figure size 640x480 with 1 Axes>"
      ]
     },
     "metadata": {},
     "output_type": "display_data"
    }
   ],
   "source": [
    "plt.plot(history.history['loss'],label =\"train\")\n",
    "plt.plot(history.history['val_loss'],label =\"valid\")\n",
    "plt.xlabel('# epochs')\n",
    "plt.ylabel('Training loss')\n",
    "plt.legend(loc='best');"
   ]
  },
  {
   "cell_type": "markdown",
   "metadata": {},
   "source": [
    "> Donner la prédiction du dernier modèle ajusté (par early stopping) sur l'échantillon test `X_test_nor`. Calculer le risque estimé sur les données de test en utilisant la méthode `.evaluate()`. Calculer enfin le taux de mauvais classement sur l'échantillon test."
   ]
  },
  {
   "cell_type": "code",
   "execution_count": 60,
   "metadata": {},
   "outputs": [
    {
     "name": "stdout",
     "output_type": "stream",
     "text": [
      "12/12 [==============================] - 0s 3ms/step\n"
     ]
    },
    {
     "data": {
      "text/plain": [
       "array([[9.9846774e-01, 1.3903307e-05, 1.1987160e-05, ..., 5.4250163e-04,\n",
       "        7.3466081e-06, 2.0922722e-04],\n",
       "       [2.8003209e-05, 1.3206842e-05, 1.2994874e-05, ..., 7.7912572e-04,\n",
       "        2.0140709e-04, 1.2593215e-05],\n",
       "       [1.9232073e-05, 1.4029759e-04, 1.7168155e-06, ..., 1.6523326e-06,\n",
       "        9.9957508e-01, 9.3565533e-05],\n",
       "       ...,\n",
       "       [4.3325210e-05, 9.8929256e-01, 3.1676460e-05, ..., 2.8607566e-04,\n",
       "        9.0019042e-03, 1.5985790e-04],\n",
       "       [3.0878853e-04, 3.8496187e-04, 2.5456245e-06, ..., 2.0733553e-04,\n",
       "        4.4709514e-04, 9.9825948e-01],\n",
       "       [9.9798650e-01, 1.1976573e-05, 1.4356011e-05, ..., 9.1116055e-04,\n",
       "        1.0548917e-05, 3.0120547e-04]], dtype=float32)"
      ]
     },
     "execution_count": 60,
     "metadata": {},
     "output_type": "execute_result"
    }
   ],
   "source": [
    "y_predicted = model.predict(X_test_nor)\n",
    "y_predicted"
   ]
  },
  {
   "cell_type": "code",
   "execution_count": 61,
   "metadata": {},
   "outputs": [
    {
     "name": "stdout",
     "output_type": "stream",
     "text": [
      "12/12 [==============================] - 0s 3ms/step - loss: 0.1357 - accuracy: 0.9611\n"
     ]
    },
    {
     "data": {
      "text/plain": [
       "[0.1357208788394928, 0.9611111283302307]"
      ]
     },
     "execution_count": 61,
     "metadata": {},
     "output_type": "execute_result"
    }
   ],
   "source": [
    "Y_test = to_categorical(y_test)\n",
    "model.evaluate(X_test_nor, Y_test)"
   ]
  },
  {
   "cell_type": "code",
   "execution_count": 62,
   "metadata": {},
   "outputs": [
    {
     "data": {
      "text/plain": [
       "0.03888888888888889"
      ]
     },
     "execution_count": 62,
     "metadata": {},
     "output_type": "execute_result"
    }
   ],
   "source": [
    "# Taux de mauvais classement sur l'échantillon test\n",
    "n = len(y_predicted)\n",
    "n_correct = 0\n",
    "for pred_probabilities, real_value in zip(y_predicted, y_test):\n",
    "    if np.argmax(pred_probabilities) != real_value:\n",
    "        n_correct += 1\n",
    "n_correct / n  "
   ]
  },
  {
   "cell_type": "markdown",
   "metadata": {},
   "source": [
    "## Application : Données MNIST\n",
    "\n",
    "Charger les données [handwritten digits MNIST](http://yann.lecun.com/exdb/mnist/) :"
   ]
  },
  {
   "cell_type": "code",
   "execution_count": 63,
   "metadata": {},
   "outputs": [],
   "source": [
    "from keras.datasets import mnist # subroutines for fetching the MNIST dataset\n",
    "(X_train, y_train), (X_test, y_test) = mnist.load_data()  \n",
    "\n",
    "height, width, depth = 28, 28, 1 #  28x28 and 1 canal pour le niveau de gris\n",
    "num_classes = 10\n",
    "\n",
    "num_train = 60000 \n",
    "num_test = 10000  \n",
    "\n",
    "X_train = X_train.reshape(num_train, height * width)  # vecteur \n",
    "X_test = X_test.reshape(num_test, height * width) # vecteur \n",
    "\n",
    "X_train = X_train.astype('float32') \n",
    "X_test = X_test.astype('float32')\n",
    "\n",
    "X_train_nor = X_train / 255 # normalisation dans  [0, 1]  \n",
    "X_test_nor = X_test / 255 # normalisation dans  [0, 1]  "
   ]
  },
  {
   "cell_type": "code",
   "execution_count": 64,
   "metadata": {},
   "outputs": [
    {
     "data": {
      "text/plain": [
       "array([[0., 0., 0., ..., 0., 0., 0.],\n",
       "       [0., 0., 0., ..., 0., 0., 0.],\n",
       "       [0., 0., 0., ..., 0., 0., 0.],\n",
       "       ...,\n",
       "       [0., 0., 0., ..., 0., 0., 0.],\n",
       "       [0., 0., 0., ..., 0., 0., 0.],\n",
       "       [0., 0., 0., ..., 0., 0., 0.]], dtype=float32)"
      ]
     },
     "execution_count": 64,
     "metadata": {},
     "output_type": "execute_result"
    }
   ],
   "source": [
    "X_train"
   ]
  },
  {
   "cell_type": "code",
   "execution_count": 65,
   "metadata": {},
   "outputs": [
    {
     "data": {
      "text/plain": [
       "array([5, 0, 4, 1, 9, 2, 1, 3, 1, 4], dtype=uint8)"
      ]
     },
     "execution_count": 65,
     "metadata": {},
     "output_type": "execute_result"
    }
   ],
   "source": [
    "y_train[:10]"
   ]
  },
  {
   "cell_type": "markdown",
   "metadata": {},
   "source": [
    "> Définir et ajuster un réseau de neurones à deux couches cachées. \n",
    "> On pourra dans un premier temps choisir les paramètres ci-dessous. \n",
    "> On pourra aussi utiliser l'optimiseur adagrad :    \n",
    "> `adag = keras.optimizers.Adagrad(lr=0.01)`"
   ]
  },
  {
   "cell_type": "code",
   "execution_count": 66,
   "metadata": {},
   "outputs": [],
   "source": [
    "batch_size = 128  \n",
    "num_epochs = 40  \n",
    "hidden_size = 512  "
   ]
  },
  {
   "cell_type": "code",
   "execution_count": 67,
   "metadata": {},
   "outputs": [],
   "source": [
    "N = X_train_nor.shape[1]  # dimension en entrée : height * width * depth\n",
    "H = hidden_size # dimension de la couche cachée\n",
    "K = num_classes  # nombre de classes en sortie (autant que de chiffres ici)"
   ]
  },
  {
   "cell_type": "code",
   "execution_count": 68,
   "metadata": {},
   "outputs": [],
   "source": [
    "Y_train = to_categorical(y_train)\n",
    "Y_test = to_categorical(y_test)"
   ]
  },
  {
   "cell_type": "code",
   "execution_count": 69,
   "metadata": {},
   "outputs": [],
   "source": [
    "model = Sequential()\n",
    "mon_init = initializers.glorot_uniform()\n",
    "model.add(Dense(H,input_dim=N,kernel_initializer=mon_init))\n",
    "model.add(Activation(\"tanh\"))\n",
    "model.add(Dense(K,kernel_initializer=mon_init))\n",
    "model.add(Activation(\"tanh\"))\n",
    "model.add(Dense(K,kernel_initializer=mon_init))\n",
    "model.add(Activation(\"softmax\"))\n",
    "\n",
    "adag = keras.optimizers.Adagrad(learning_rate=0.01)\n",
    "\n",
    "model.compile(optimizer=adag,\n",
    "              loss='categorical_crossentropy',\n",
    "              metrics = ['accuracy'] )\n",
    "\n",
    "history = model.fit(X_train_nor, Y_train, epochs=num_epochs,\n",
    "          batch_size=batch_size, verbose=0,\n",
    "          validation_split=0.1)"
   ]
  },
  {
   "cell_type": "code",
   "execution_count": 70,
   "metadata": {},
   "outputs": [
    {
     "name": "stdout",
     "output_type": "stream",
     "text": [
      "313/313 [==============================] - 1s 3ms/step\n"
     ]
    },
    {
     "data": {
      "text/plain": [
       "array([[4.0745435e-04, 1.6071857e-04, 3.6122437e-05, ..., 9.9764276e-01,\n",
       "        1.2001799e-04, 4.3776422e-04],\n",
       "       [1.7483458e-03, 1.8032079e-03, 9.8571926e-01, ..., 1.1486594e-05,\n",
       "        1.4790908e-03, 7.0017311e-05],\n",
       "       [1.6247408e-05, 9.8722029e-01, 2.1485137e-03, ..., 1.4148130e-03,\n",
       "        3.8541197e-03, 7.8640046e-04],\n",
       "       ...,\n",
       "       [1.3990173e-04, 3.3664845e-05, 4.9584644e-04, ..., 9.1903226e-04,\n",
       "        2.4331607e-04, 6.7634187e-03],\n",
       "       [4.3880974e-04, 2.6574361e-04, 3.2064534e-05, ..., 2.2675358e-05,\n",
       "        1.8222119e-03, 1.0559527e-03],\n",
       "       [1.2769970e-03, 3.3444160e-04, 4.3516140e-04, ..., 1.5389773e-05,\n",
       "        3.3210348e-05, 1.3480214e-06]], dtype=float32)"
      ]
     },
     "execution_count": 70,
     "metadata": {},
     "output_type": "execute_result"
    }
   ],
   "source": [
    "y_predicted = model.predict(X_test_nor)\n",
    "y_predicted"
   ]
  },
  {
   "cell_type": "code",
   "execution_count": 71,
   "metadata": {},
   "outputs": [
    {
     "name": "stdout",
     "output_type": "stream",
     "text": [
      "313/313 [==============================] - 1s 3ms/step - loss: 0.1275 - accuracy: 0.9659\n"
     ]
    },
    {
     "data": {
      "text/plain": [
       "[0.12750081717967987, 0.9659000039100647]"
      ]
     },
     "execution_count": 71,
     "metadata": {},
     "output_type": "execute_result"
    }
   ],
   "source": [
    "model.evaluate(X_test_nor, Y_test)"
   ]
  },
  {
   "cell_type": "markdown",
   "metadata": {},
   "source": [
    "> En reproduisant les codes proposés sur ce [blog](https://machinelearningmastery.com/use-keras-deep-learning-models-scikit-learn-python/), essayer d'améliorer les performances de votre réseau en choisissant mieux les paramètres par validation croisée à l'aide de la fonction `GridSearchCV` de sckit-learn. Attention, cette validation croisée s'avère très couteuse en temps de calcul..."
   ]
  },
  {
   "cell_type": "code",
   "execution_count": 72,
   "metadata": {},
   "outputs": [],
   "source": [
    "from tensorflow.keras.models import Sequential\n",
    "from tensorflow.keras.layers import Dense\n",
    "from scikeras.wrappers import KerasClassifier\n",
    "from sklearn.model_selection import GridSearchCV\n",
    "import numpy as np\n",
    "\n",
    "# Function to create model, required for KerasClassifier\n",
    "def create_model(optimizer='rmsprop', init='glorot_uniform', activation='tanh'):\n",
    "    # create model\n",
    "    model = Sequential()\n",
    "    model.add(Dense(H, input_dim=N, kernel_initializer=init, activation=activation))\n",
    "    model.add(Dense(K, kernel_initializer=init, activation=activation))\n",
    "    model.add(Dense(K, kernel_initializer=init, activation='softmax'))\n",
    "    # Compile model\n",
    "    model.compile(optimizer=optimizer, loss='binary_crossentropy', metrics=['accuracy'])\n",
    "    return model"
   ]
  },
  {
   "cell_type": "code",
   "execution_count": 76,
   "metadata": {},
   "outputs": [
    {
     "name": "stdout",
     "output_type": "stream",
     "text": [
      "Best: 0.979917 using {'batch_size': 128, 'epochs': 40, 'model__activation': 'relu', 'model__init': 'glorot_uniform', 'optimizer': 'rmsprop'} \n",
      "\n",
      "0.979133 (0.001061) with: {'batch_size': 128, 'epochs': 40, 'model__activation': 'relu', 'model__init': 'glorot_uniform', 'optimizer': 'adagrad'}\n",
      "0.979167 (0.001049) with: {'batch_size': 128, 'epochs': 40, 'model__activation': 'relu', 'model__init': 'glorot_uniform', 'optimizer': 'sgd'}\n",
      "0.979917 (0.001255) with: {'batch_size': 128, 'epochs': 40, 'model__activation': 'relu', 'model__init': 'glorot_uniform', 'optimizer': 'rmsprop'}\n",
      "0.978733 (0.001404) with: {'batch_size': 128, 'epochs': 40, 'model__activation': 'relu', 'model__init': 'glorot_uniform', 'optimizer': 'adam'}\n"
     ]
    }
   ],
   "source": [
    "# The best optimizer\n",
    "\n",
    "model = KerasClassifier(model=create_model, verbose=0)\n",
    "# print(model.get_params().keys())\n",
    "# grid search epochs, batch size and optimizer\n",
    "optimizers = ['adagrad', 'sgd', 'rmsprop', 'adam']\n",
    "init = ['glorot_uniform'] # , 'normal', 'uniform'\n",
    "act = ['relu'] # 'tanh', 'sigmoid'\n",
    "epochs = [40]\n",
    "batches = [128]\n",
    "param_grid = dict(optimizer=optimizers, epochs=epochs, batch_size=batches, model__init=init, model__activation=act)\n",
    "# avec __ on pet acceder aux attributes du model\n",
    "\n",
    "grid = GridSearchCV(estimator=model, param_grid=param_grid, n_jobs=-1)\n",
    "grid_result = grid.fit(X_train_nor, Y_train)\n",
    "\n",
    "# summarize results\n",
    "print(\"Best: %f using %s \\n\" % (grid_result.best_score_, grid_result.best_params_))\n",
    "\n",
    "means = grid_result.cv_results_['mean_test_score']\n",
    "stds = grid_result.cv_results_['std_test_score']\n",
    "params = grid_result.cv_results_['params']\n",
    "for mean, stdev, param in zip(means, stds, params):\n",
    "    print(\"%f (%f) with: %r\" % (mean, stdev, param))"
   ]
  },
  {
   "cell_type": "code",
   "execution_count": 77,
   "metadata": {},
   "outputs": [
    {
     "data": {
      "text/plain": [
       "['rmsprop']"
      ]
     },
     "execution_count": 77,
     "metadata": {},
     "output_type": "execute_result"
    }
   ],
   "source": [
    "optimizer = [grid_result.best_params_['optimizer']]\n",
    "optimizer"
   ]
  },
  {
   "cell_type": "code",
   "execution_count": 78,
   "metadata": {},
   "outputs": [
    {
     "name": "stdout",
     "output_type": "stream",
     "text": [
      "Best: 0.979033 using {'batch_size': 128, 'epochs': 40, 'model__activation': 'relu', 'model__init': 'glorot_uniform', 'optimizer': 'rmsprop'} \n",
      "\n",
      "0.979033 (0.001433) with: {'batch_size': 128, 'epochs': 40, 'model__activation': 'relu', 'model__init': 'glorot_uniform', 'optimizer': 'rmsprop'}\n",
      "0.978783 (0.001760) with: {'batch_size': 128, 'epochs': 40, 'model__activation': 'relu', 'model__init': 'normal', 'optimizer': 'rmsprop'}\n",
      "0.978633 (0.001694) with: {'batch_size': 128, 'epochs': 40, 'model__activation': 'relu', 'model__init': 'uniform', 'optimizer': 'rmsprop'}\n"
     ]
    }
   ],
   "source": [
    "# The best init\n",
    "\n",
    "model = KerasClassifier(model=create_model, verbose=0)\n",
    "# print(model.get_params().keys())\n",
    "\n",
    "# params\n",
    "init = ['glorot_uniform', 'normal', 'uniform']\n",
    "act = ['relu'] # 'tanh', 'sigmoid'\n",
    "epochs = [40]\n",
    "batches = [128]\n",
    "param_grid = dict(optimizer=optimizer, epochs=epochs, batch_size=batches, model__init=init, model__activation=act)\n",
    "# avec __ on pet acceder aux attributes du model\n",
    "\n",
    "grid = GridSearchCV(estimator=model, param_grid=param_grid, n_jobs=-1)\n",
    "grid_result = grid.fit(X_train_nor, Y_train)\n",
    "\n",
    "# summarize results\n",
    "print(\"Best: %f using %s \\n\" % (grid_result.best_score_, grid_result.best_params_))\n",
    "\n",
    "means = grid_result.cv_results_['mean_test_score']\n",
    "stds = grid_result.cv_results_['std_test_score']\n",
    "params = grid_result.cv_results_['params']\n",
    "for mean, stdev, param in zip(means, stds, params):\n",
    "    print(\"%f (%f) with: %r\" % (mean, stdev, param))"
   ]
  },
  {
   "cell_type": "code",
   "execution_count": 79,
   "metadata": {},
   "outputs": [
    {
     "data": {
      "text/plain": [
       "['glorot_uniform']"
      ]
     },
     "execution_count": 79,
     "metadata": {},
     "output_type": "execute_result"
    }
   ],
   "source": [
    "init = [grid_result.best_params_['model__init']]\n",
    "init"
   ]
  },
  {
   "cell_type": "code",
   "execution_count": 80,
   "metadata": {},
   "outputs": [
    {
     "name": "stdout",
     "output_type": "stream",
     "text": [
      "Best: 0.979333 using {'batch_size': 128, 'epochs': 40, 'model__activation': 'relu', 'model__init': 'glorot_uniform', 'optimizer': 'rmsprop'} \n",
      "\n",
      "0.979333 (0.001139) with: {'batch_size': 128, 'epochs': 40, 'model__activation': 'relu', 'model__init': 'glorot_uniform', 'optimizer': 'rmsprop'}\n",
      "0.977017 (0.001325) with: {'batch_size': 128, 'epochs': 40, 'model__activation': 'tanh', 'model__init': 'glorot_uniform', 'optimizer': 'rmsprop'}\n",
      "0.977633 (0.001395) with: {'batch_size': 128, 'epochs': 40, 'model__activation': 'sigmoid', 'model__init': 'glorot_uniform', 'optimizer': 'rmsprop'}\n"
     ]
    }
   ],
   "source": [
    "# The best activation\n",
    "\n",
    "model = KerasClassifier(model=create_model, verbose=0)\n",
    "# print(model.get_params().keys())\n",
    "\n",
    "# params\n",
    "act = ['relu', 'tanh', 'sigmoid']\n",
    "epochs = [40]\n",
    "batches = [128]\n",
    "param_grid = dict(optimizer=optimizer, epochs=epochs, batch_size=batches, model__init=init, model__activation=act)\n",
    "# avec __ on pet acceder aux attributes du model\n",
    "\n",
    "grid = GridSearchCV(estimator=model, param_grid=param_grid, n_jobs=-1)\n",
    "grid_result = grid.fit(X_train_nor, Y_train)\n",
    "\n",
    "# summarize results\n",
    "print(\"Best: %f using %s \\n\" % (grid_result.best_score_, grid_result.best_params_))\n",
    "\n",
    "means = grid_result.cv_results_['mean_test_score']\n",
    "stds = grid_result.cv_results_['std_test_score']\n",
    "params = grid_result.cv_results_['params']\n",
    "for mean, stdev, param in zip(means, stds, params):\n",
    "    print(\"%f (%f) with: %r\" % (mean, stdev, param))"
   ]
  },
  {
   "cell_type": "code",
   "execution_count": 81,
   "metadata": {},
   "outputs": [
    {
     "data": {
      "text/plain": [
       "['relu']"
      ]
     },
     "execution_count": 81,
     "metadata": {},
     "output_type": "execute_result"
    }
   ],
   "source": [
    "act = [grid_result.best_params_['model__activation']]\n",
    "act"
   ]
  },
  {
   "cell_type": "code",
   "execution_count": 82,
   "metadata": {},
   "outputs": [
    {
     "name": "stdout",
     "output_type": "stream",
     "text": [
      "Best: 0.980883 using {'batch_size': 128, 'epochs': 100, 'model__activation': 'relu', 'model__init': 'glorot_uniform', 'optimizer': 'rmsprop'} \n",
      "\n",
      "0.977217 (0.001760) with: {'batch_size': 128, 'epochs': 10, 'model__activation': 'relu', 'model__init': 'glorot_uniform', 'optimizer': 'rmsprop'}\n",
      "0.980483 (0.001638) with: {'batch_size': 128, 'epochs': 40, 'model__activation': 'relu', 'model__init': 'glorot_uniform', 'optimizer': 'rmsprop'}\n",
      "0.980883 (0.001250) with: {'batch_size': 128, 'epochs': 100, 'model__activation': 'relu', 'model__init': 'glorot_uniform', 'optimizer': 'rmsprop'}\n"
     ]
    }
   ],
   "source": [
    "# The best epochs\n",
    "\n",
    "model = KerasClassifier(model=create_model, verbose=0)\n",
    "# print(model.get_params().keys())\n",
    "\n",
    "# params\n",
    "epochs = [10, 40, 100]\n",
    "batches = [128]\n",
    "param_grid = dict(optimizer=optimizer, epochs=epochs, batch_size=batches, model__init=init, model__activation=act)\n",
    "# avec __ on pet acceder aux attributes du model\n",
    "\n",
    "grid = GridSearchCV(estimator=model, param_grid=param_grid, n_jobs=-1)\n",
    "grid_result = grid.fit(X_train_nor, Y_train)\n",
    "\n",
    "# summarize results\n",
    "print(\"Best: %f using %s \\n\" % (grid_result.best_score_, grid_result.best_params_))\n",
    "\n",
    "means = grid_result.cv_results_['mean_test_score']\n",
    "stds = grid_result.cv_results_['std_test_score']\n",
    "params = grid_result.cv_results_['params']\n",
    "for mean, stdev, param in zip(means, stds, params):\n",
    "    print(\"%f (%f) with: %r\" % (mean, stdev, param))"
   ]
  },
  {
   "cell_type": "code",
   "execution_count": 83,
   "metadata": {},
   "outputs": [
    {
     "data": {
      "text/plain": [
       "[100]"
      ]
     },
     "execution_count": 83,
     "metadata": {},
     "output_type": "execute_result"
    }
   ],
   "source": [
    "epochs = [grid_result.best_params_['epochs']]\n",
    "epochs"
   ]
  },
  {
   "cell_type": "code",
   "execution_count": 84,
   "metadata": {},
   "outputs": [
    {
     "name": "stdout",
     "output_type": "stream",
     "text": [
      "Best: 0.980367 using {'batch_size': 128, 'epochs': 100, 'model__activation': 'relu', 'model__init': 'glorot_uniform', 'optimizer': 'rmsprop'} \n",
      "\n",
      "0.950683 (0.033484) with: {'batch_size': 10, 'epochs': 100, 'model__activation': 'relu', 'model__init': 'glorot_uniform', 'optimizer': 'rmsprop'}\n",
      "0.980067 (0.001259) with: {'batch_size': 64, 'epochs': 100, 'model__activation': 'relu', 'model__init': 'glorot_uniform', 'optimizer': 'rmsprop'}\n",
      "0.980367 (0.001583) with: {'batch_size': 128, 'epochs': 100, 'model__activation': 'relu', 'model__init': 'glorot_uniform', 'optimizer': 'rmsprop'}\n",
      "0.980200 (0.001283) with: {'batch_size': 512, 'epochs': 100, 'model__activation': 'relu', 'model__init': 'glorot_uniform', 'optimizer': 'rmsprop'}\n"
     ]
    }
   ],
   "source": [
    "# The best numbers of batches\n",
    "\n",
    "model = KerasClassifier(model=create_model, verbose=0)\n",
    "# print(model.get_params().keys())\n",
    "\n",
    "# params\n",
    "batches = [10, 64, 128, 512]\n",
    "param_grid = dict(optimizer=optimizer, epochs=epochs, batch_size=batches, model__init=init, model__activation=act)\n",
    "# avec __ on pet acceder aux attributes du model\n",
    "\n",
    "grid = GridSearchCV(estimator=model, param_grid=param_grid, n_jobs=-1)\n",
    "grid_result = grid.fit(X_train_nor, Y_train)\n",
    "\n",
    "# summarize results\n",
    "print(\"Best: %f using %s \\n\" % (grid_result.best_score_, grid_result.best_params_))\n",
    "\n",
    "means = grid_result.cv_results_['mean_test_score']\n",
    "stds = grid_result.cv_results_['std_test_score']\n",
    "params = grid_result.cv_results_['params']\n",
    "for mean, stdev, param in zip(means, stds, params):\n",
    "    print(\"%f (%f) with: %r\" % (mean, stdev, param))"
   ]
  },
  {
   "cell_type": "code",
   "execution_count": 85,
   "metadata": {},
   "outputs": [
    {
     "data": {
      "text/plain": [
       "[128]"
      ]
     },
     "execution_count": 85,
     "metadata": {},
     "output_type": "execute_result"
    }
   ],
   "source": [
    "batches = [grid_result.best_params_['batch_size']]\n",
    "batches"
   ]
  },
  {
   "cell_type": "code",
   "execution_count": 86,
   "metadata": {},
   "outputs": [
    {
     "name": "stdout",
     "output_type": "stream",
     "text": [
      "The best optimizer is: rmsprop\n",
      "init: glorot_uniform\n",
      "activation: relu\n",
      "epochs: 100\n",
      "batch_size: 128\n"
     ]
    }
   ],
   "source": [
    "print(f\"The best optimizer is: {optimizer[0]}\")\n",
    "print(f\"init: {init[0]}\")\n",
    "print(f\"activation: {act[0]}\")\n",
    "print(f\"epochs: {epochs[0]}\")\n",
    "print(f\"batch_size: {batches[0]}\")"
   ]
  },
  {
   "cell_type": "markdown",
   "metadata": {},
   "source": [
    "### Autres resultats\n",
    "\n",
    "0.974433 (0.002543) with: {'batch_size': 32, 'epochs': 40, 'model__init': 'glorot_uniform', 'optimizer': <keras.optimizers.optimizer_v2.adagrad.Adagrad object at 0x0000018FE80A8EE0>}\n",
    "\n",
    "0.976567 (0.002624) with: {'batch_size': 128, 'epochs': 40, 'model__init': 'glorot_uniform', 'optimizer': <keras.optimizers.optimizer_v2.adagrad.Adagrad object at 0x0000018FE80A8EE0>}\n",
    "\n",
    "0.975950 (0.000944) with: {'batch_size': 128, 'epochs': 40, 'model__init': 'glorot_uniform', 'optimizer': <keras.optimizers.optimizer_v2.gradient_descent.SGD object at 0x0000018FE7E661C0>}\n",
    "\n",
    "0.977967 (0.001404) with: {'batch_size': 128, 'epochs': 40, 'model__init': 'glorot_uniform', 'optimizer': <keras.optimizers.optimizer_v2.gradient_descent.SGD object at 0x0000018FE13A7E80>}\n",
    "\n",
    "0.977117 (0.001174) with: {'batch_size': 128, 'epochs': 40, 'model__init': 'glorot_uniform', 'optimizer': <keras.optimizers.optimizer_v2.adagrad.Adagrad object at 0x0000018FDE342EE0>}\n",
    "\n",
    "0.977267 (0.001872) with: {'batch_size': 128, 'epochs': 40, 'model__init': 'glorot_uniform', 'optimizer': <keras.optimizers.optimizer_v2.adagrad.Adagrad object at 0x0000018FEF0A6130>}\n",
    "\n",
    "0.976817 (0.001762) with: {'batch_size': 128, 'epochs': 40, 'model__activation': 'tanh', 'model__init': 'glorot_uniform', 'optimizer': <keras.optimizers.optimizer_v2.adagrad.Adagrad object at 0x000001B23627F7F0>}\n",
    "\n",
    "0.979033 (0.002493) with: {'batch_size': 128, 'epochs': 40, 'model__activation': 'relu', 'model__init': 'glorot_uniform', 'optimizer': <keras.optimizers.optimizer_v2.adagrad.Adagrad object at 0x000001B23627F7F0>}\n",
    "\n",
    "0.979850 (0.002265) with: {'batch_size': 128, 'epochs': 40, 'model__activation': 'relu', 'model__init': 'glorot_uniform', 'optimizer': <keras.optimizers.optimizer_v2.adagrad.Adagrad object at 0x000001B2351ABD30>}\n",
    "\n",
    "0.981000 (0.001163) with: {'batch_size': 128, 'epochs': 100, 'model__activation': 'relu', 'model__init': 'glorot_uniform', 'optimizer': <keras.optimizers.optimizer_v2.adagrad.Adagrad object at 0x000001B2351ABD30>}\n",
    "\n",
    "0.979917 (0.001379) with: {'batch_size': 128, 'epochs': 40, 'model__activation': 'relu', 'model__init': 'glorot_uniform', 'optimizer': <keras.optimizers.optimizer_v2.adagrad.Adagrad object at 0x000001B237DE6190>}\n",
    "\n",
    "0.978550 (0.001765) with: {'batch_size': 512, 'epochs': 40, 'model__activation': 'relu', 'model__init': 'glorot_uniform', 'optimizer': <keras.optimizers.optimizer_v2.adagrad.Adagrad object at 0x000001B237DE6190>}\n",
    "\n",
    "0.979567 (0.002377) with: {'batch_size': 128, 'epochs': 40, 'model__activation': 'relu', 'model__init': 'glorot_uniform', 'optimizer': <keras.optimizers.optimizer_v2.gradient_descent.SGD object at 0x000001C0F61C7460>}\n",
    "\n",
    "0.976983 (0.000974) with: {'batch_size': 128, 'epochs': 40, 'model__activation': 'sigmoid', 'model__init': 'glorot_uniform', 'optimizer': <keras.optimizers.optimizer_v2.gradient_descent.SGD object at 0x000001C0F61C7460>}\n",
    "\n",
    "0.979967 (0.001753) with: {'batch_size': 128, 'epochs': 40, 'model__activation': 'relu', 'model__init': 'glorot_uniform', 'optimizer': <keras.optimizers.optimizer_v2.gradient_descent.SGD object at 0x000001C0F8F20C70>}\n",
    "\n",
    "0.978833 (0.001656) with: {'batch_size': 128, 'epochs': 40, 'model__activation': 'relu', 'model__init': 'normal', 'optimizer': <keras.optimizers.optimizer_v2.gradient_descent.SGD object at 0x000001C0F8F20C70>}\n",
    "\n",
    "0.978600 (0.001306) with: {'batch_size': 128, 'epochs': 40, 'model__activation': 'relu', 'model__init': 'uniform', 'optimizer': <keras.optimizers.optimizer_v2.gradient_descent.SGD object at 0x000001C0F8F20C70>}\n",
    "\n",
    "0.980083 (0.001669) with: {'batch_size': 128, 'epochs': 40, 'model__activation': 'relu', 'model__init': 'glorot_uniform', 'optimizer': <keras.optimizers.optimizer_v2.adagrad.Adagrad object at 0x000001C0EFC607F0>}\n",
    "\n",
    "0.979817 (0.001724) with: {'batch_size': 128, 'epochs': 40, 'model__activation': 'relu', 'model__init': 'glorot_uniform', 'optimizer': <keras.optimizers.optimizer_v2.gradient_descent.SGD object at 0x000001C0EFC607C0>}"
   ]
  },
  {
   "cell_type": "markdown",
   "metadata": {},
   "source": [
    "#### En utilisant les paramètres obtenus par validation croisée, on obtient les résultats suivants : "
   ]
  },
  {
   "cell_type": "code",
   "execution_count": 107,
   "metadata": {},
   "outputs": [
    {
     "name": "stdout",
     "output_type": "stream",
     "text": [
      "313/313 [==============================] - 1s 3ms/step - loss: 1.5939 - accuracy: 0.9726\n"
     ]
    },
    {
     "data": {
      "text/plain": [
       "[1.5939123630523682, 0.972599983215332]"
      ]
     },
     "execution_count": 107,
     "metadata": {},
     "output_type": "execute_result"
    }
   ],
   "source": [
    "# Création du modèle choisi\n",
    "model = Sequential()\n",
    "mon_init = initializers.glorot_uniform()\n",
    "model.add(Dense(H,input_dim=N,kernel_initializer=mon_init))\n",
    "model.add(Activation(\"relu\"))\n",
    "model.add(Dense(K,kernel_initializer=mon_init))\n",
    "model.add(Activation(\"relu\"))\n",
    "model.add(Dense(K,kernel_initializer=mon_init))\n",
    "model.add(Activation(\"softmax\"))\n",
    "\n",
    "rmsprop = keras.optimizers.RMSprop(learning_rate=0.01)\n",
    "\n",
    "model.compile(optimizer=rmsprop,\n",
    "              loss='categorical_crossentropy',\n",
    "              metrics = ['accuracy'] )\n",
    "\n",
    "num_epochs = 100\n",
    "batch_size = 128\n",
    "\n",
    "history = model.fit(X_train_nor, Y_train, epochs=num_epochs,\n",
    "          batch_size=batch_size, verbose=0,\n",
    "          validation_split=0.1)\n",
    "model.evaluate(X_test_nor, Y_test)"
   ]
  },
  {
   "cell_type": "markdown",
   "metadata": {},
   "source": [
    "#### Avec quelques modifications des données obtenues et d'autres itérations pour trouver le taux d'apprentissage optimal, le modèle optimal est le suivant :"
   ]
  },
  {
   "cell_type": "code",
   "execution_count": 87,
   "metadata": {},
   "outputs": [],
   "source": [
    "# Création du modèle choisi\n",
    "model = Sequential()\n",
    "mon_init = initializers.glorot_uniform()\n",
    "model.add(Dense(H,input_dim=N,kernel_initializer=mon_init))\n",
    "model.add(Activation(\"relu\"))\n",
    "model.add(Dense(K,kernel_initializer=mon_init))\n",
    "model.add(Activation(\"relu\"))\n",
    "model.add(Dense(K,kernel_initializer=mon_init))\n",
    "model.add(Activation(\"softmax\"))\n",
    "\n",
    "adag = keras.optimizers.Adagrad(learning_rate=0.1)\n",
    "\n",
    "model.compile(optimizer=adag,\n",
    "              loss='categorical_crossentropy',\n",
    "              metrics = ['accuracy'] )\n",
    "\n",
    "num_epochs = 100\n",
    "batch_size = 32\n",
    "\n",
    "history = model.fit(X_train_nor, Y_train, epochs=num_epochs,\n",
    "          batch_size=batch_size, verbose=0,\n",
    "          validation_split=0.1)"
   ]
  },
  {
   "cell_type": "code",
   "execution_count": 88,
   "metadata": {},
   "outputs": [
    {
     "name": "stdout",
     "output_type": "stream",
     "text": [
      "313/313 [==============================] - 1s 3ms/step - loss: 0.0785 - accuracy: 0.9852\n"
     ]
    },
    {
     "data": {
      "text/plain": [
       "[0.07854853570461273, 0.9851999878883362]"
      ]
     },
     "execution_count": 88,
     "metadata": {},
     "output_type": "execute_result"
    }
   ],
   "source": [
    "model.evaluate(X_test_nor, Y_test)"
   ]
  },
  {
   "cell_type": "code",
   "execution_count": 89,
   "metadata": {},
   "outputs": [
    {
     "name": "stdout",
     "output_type": "stream",
     "text": [
      "313/313 [==============================] - 1s 3ms/step\n"
     ]
    },
    {
     "data": {
      "text/plain": [
       "array([[3.61365630e-17, 5.23325686e-13, 6.20931475e-13, ...,\n",
       "        9.99999702e-01, 3.62131827e-15, 8.77903545e-08],\n",
       "       [1.54883684e-14, 5.34803046e-09, 9.99999940e-01, ...,\n",
       "        4.76153060e-16, 9.40961198e-11, 1.17749557e-25],\n",
       "       [1.33964823e-12, 9.99999464e-01, 3.50706819e-09, ...,\n",
       "        3.40238628e-08, 1.10811342e-07, 1.21438192e-13],\n",
       "       ...,\n",
       "       [1.12872175e-23, 8.87620529e-19, 1.24950750e-19, ...,\n",
       "        1.39128238e-13, 1.14590151e-16, 1.72945989e-12],\n",
       "       [7.93224766e-18, 7.65158465e-21, 7.13259821e-23, ...,\n",
       "        1.20498819e-23, 9.42337430e-10, 4.31289033e-16],\n",
       "       [1.44565165e-16, 2.86278033e-20, 6.86450059e-18, ...,\n",
       "        3.61387682e-25, 4.12030310e-17, 1.60912592e-18]], dtype=float32)"
      ]
     },
     "execution_count": 89,
     "metadata": {},
     "output_type": "execute_result"
    }
   ],
   "source": [
    "y_predicted = model.predict(X_test_nor)\n",
    "y_predicted"
   ]
  },
  {
   "cell_type": "code",
   "execution_count": 90,
   "metadata": {},
   "outputs": [
    {
     "data": {
      "image/png": "[encoded data removed]",
      "text/plain": [
       "<Figure size 1200x900 with 15 Axes>"
      ]
     },
     "metadata": {},
     "output_type": "display_data"
    }
   ],
   "source": [
    "# Plots\n",
    "plt.figure(figsize=(12, 9))\n",
    "for i in range(15):\n",
    "    plt.subplot(3, 5, i + 1)\n",
    "    plt.imshow(X_test_nor[i].reshape(28, 28),\n",
    "               cmap=plt.cm.gray_r, interpolation='nearest')\n",
    "    plt.title(\"predicted label: %d\\n true label: %d\"\n",
    "              % (np.argmax(y_predicted[i]), y_test[i]))"
   ]
  },
  {
   "cell_type": "code",
   "execution_count": null,
   "metadata": {},
   "outputs": [],
   "source": []
  }
 ],
 "metadata": {
  "kernelspec": {
   "display_name": "Python 3 (ipykernel)",
   "language": "python",
   "name": "python3"
  },
  "language_info": {
   "codemirror_mode": {
    "name": "ipython",
    "version": 3
   },
   "file_extension": ".py",
   "mimetype": "text/x-python",
   "name": "python",
   "nbconvert_exporter": "python",
   "pygments_lexer": "ipython3",
   "version": "3.9.15"
  }
 },
 "nbformat": 4,
 "nbformat_minor": 4
}
